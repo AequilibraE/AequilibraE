{
 "cells": [
  {
   "cell_type": "code",
   "execution_count": 1,
   "metadata": {
    "execution": {
     "iopub.execute_input": "2020-12-07T12:38:20.436687Z",
     "iopub.status.busy": "2020-12-07T12:38:20.436418Z",
     "iopub.status.idle": "2020-12-07T12:38:20.530310Z",
     "shell.execute_reply": "2020-12-07T12:38:20.529514Z",
     "shell.execute_reply.started": "2020-12-07T12:38:20.436610Z"
    }
   },
   "outputs": [],
   "source": [
    "%load_ext autoreload"
   ]
  },
  {
   "cell_type": "code",
   "execution_count": 2,
   "metadata": {
    "execution": {
     "iopub.execute_input": "2020-12-07T12:38:20.658701Z",
     "iopub.status.busy": "2020-12-07T12:38:20.658444Z",
     "iopub.status.idle": "2020-12-07T12:38:20.663628Z",
     "shell.execute_reply": "2020-12-07T12:38:20.662136Z",
     "shell.execute_reply.started": "2020-12-07T12:38:20.658673Z"
    }
   },
   "outputs": [],
   "source": [
    "%autoreload 2"
   ]
  },
  {
   "cell_type": "code",
   "execution_count": 3,
   "metadata": {
    "execution": {
     "iopub.execute_input": "2020-12-07T12:38:20.849040Z",
     "iopub.status.busy": "2020-12-07T12:38:20.848682Z",
     "iopub.status.idle": "2020-12-07T12:38:23.113809Z",
     "shell.execute_reply": "2020-12-07T12:38:23.112714Z",
     "shell.execute_reply.started": "2020-12-07T12:38:20.849000Z"
    }
   },
   "outputs": [],
   "source": [
    "import os\n",
    "import sys\n",
    "import logging\n",
    "\n",
    "import numpy as np\n",
    "import pandas as pd\n",
    "import seaborn as sns\n",
    "import matplotlib.pyplot as plt\n",
    "plt.style.use('fivethirtyeight')\n",
    "    \n",
    "aequ_dir = \"/mnt/c/Users/jan.zill/code/aequilibrae\"\n",
    "if aequ_dir not in sys.path:\n",
    "    sys.path.append(aequ_dir)\n",
    "\n",
    "from aequilibrae import logger  # noqa: E402\n",
    "stdout_handler = logging.StreamHandler(sys.stdout)\n",
    "logger.addHandler(stdout_handler)\n",
    "\n",
    "import utils\n",
    "\n",
    "\n",
    "from aequilibrae.paths import TrafficAssignment  # noqa: E402\n",
    "from aequilibrae.paths import Graph  # noqa: E402\n",
    "from aequilibrae.paths.traffic_class import TrafficClass  # noqa: E402\n",
    "from aequilibrae.matrix import AequilibraeMatrix, AequilibraeData  # noqa: E402\n",
    "from aequilibrae.paths.path_based import TrafficAssignmentCy"
   ]
  },
  {
   "cell_type": "code",
   "execution_count": 4,
   "metadata": {
    "execution": {
     "iopub.execute_input": "2020-12-07T12:38:23.115525Z",
     "iopub.status.busy": "2020-12-07T12:38:23.115237Z",
     "iopub.status.idle": "2020-12-07T12:38:23.281885Z",
     "shell.execute_reply": "2020-12-07T12:38:23.280809Z",
     "shell.execute_reply.started": "2020-12-07T12:38:23.115484Z"
    }
   },
   "outputs": [],
   "source": [
    "code_dir = \"/mnt/c/Users/jan.zill/code\"\n",
    "tntp_dir = os.path.join(code_dir, \"TransportationNetworks_aequilibrae\")\n",
    "scenario = \"Anaheim\" #\"Berlin-Center\" #\n",
    "folder = os.path.join(tntp_dir, scenario)\n",
    "\n",
    "if scenario == \"Anaheim\":\n",
    "    link_file =  \"Anaheim_net.tntp\"\n",
    "    trip_file =  \"Anaheim_trips.tntp\"\n",
    "elif scenario == \"Berlin-Center\":\n",
    "    link_file =  \"berlin-center_net_clean.tntp\" # DUPLICATE NODES REMOVED  \"berlin-center_net_clean_bpr_altered.tntp\" #\n",
    "    trip_file =  \"berlin-center_trips.tntp\"\n",
    "else:\n",
    "    raise ValueError(f\"Unknown scenario {scenario}\")"
   ]
  },
  {
   "cell_type": "code",
   "execution_count": 7,
   "metadata": {
    "execution": {
     "iopub.execute_input": "2020-12-07T12:38:28.931830Z",
     "iopub.status.busy": "2020-12-07T12:38:28.931584Z",
     "iopub.status.idle": "2020-12-07T12:38:29.403090Z",
     "shell.execute_reply": "2020-12-07T12:38:29.401966Z",
     "shell.execute_reply.started": "2020-12-07T12:38:28.931804Z"
    }
   },
   "outputs": [
    {
     "name": "stdout",
     "output_type": "stream",
     "text": [
      " Initialised data structures, num nodes = 416, num links = 914\n"
     ]
    }
   ],
   "source": [
    "assig = utils.set_up_assignment(tntp_dir, scenario, link_file, \"bush-based\", block_centroids=False, rgap=5*1e-5)\n",
    "\n",
    "assig.assignment.initialise_data_structures()\n",
    "num_links = len(assig.assignment.links)\n",
    "num_nodes = len(assig.assignment.nodes)\n",
    "num_centroids = len(assig.assignment.origins)\n",
    "logger.info(f\" Initialised data structures, num nodes = {num_nodes}, num links = {num_links}\")\n",
    "assig.assignment.t_assignment = TrafficAssignmentCy.TrafficAssignmentCy(assig.assignment.links, num_links, num_nodes, num_centroids)\n",
    "destinations_per_origin = {}\n",
    "for (o, d) in assig.assignment.ods:\n",
    "    assig.assignment.t_assignment.insert_od(o, d, assig.assignment.ods[o, d])\n",
    "    if o not in destinations_per_origin:\n",
    "        destinations_per_origin[o] = 0\n",
    "    destinations_per_origin[o] += 1"
   ]
  },
  {
   "cell_type": "code",
   "execution_count": 6,
   "metadata": {
    "execution": {
     "iopub.execute_input": "2020-12-07T12:38:23.664465Z",
     "iopub.status.busy": "2020-12-07T12:38:23.664265Z",
     "iopub.status.idle": "2020-12-07T12:38:23.859279Z",
     "shell.execute_reply": "2020-12-07T12:38:23.858186Z",
     "shell.execute_reply.started": "2020-12-07T12:38:23.664443Z"
    }
   },
   "outputs": [
    {
     "name": "stdout",
     "output_type": "stream",
     "text": [
      " 0th iteration done, cost = 1264524.25\n"
     ]
    }
   ],
   "source": [
    "assig.assignment.t_assignment.perform_initial_solution()\n",
    "logger.info(f\" 0th iteration done, cost = {assig.assignment.t_assignment.get_objective_function()}\")"
   ]
  },
  {
   "cell_type": "code",
   "execution_count": 8,
   "metadata": {
    "execution": {
     "iopub.execute_input": "2020-12-07T12:40:11.973094Z",
     "iopub.status.busy": "2020-12-07T12:40:11.972729Z",
     "iopub.status.idle": "2020-12-07T12:40:13.206073Z",
     "shell.execute_reply": "2020-12-07T12:40:13.204765Z",
     "shell.execute_reply.started": "2020-12-07T12:40:11.973055Z"
    }
   },
   "outputs": [
    {
     "ename": "AttributeError",
     "evalue": "'TrafficAssignmentCy.TrafficAssignmentCy' object has no attribute 'update_link_flows'",
     "output_type": "error",
     "traceback": [
      "\u001b[0;31m---------------------------------------------------------------------------\u001b[0m",
      "\u001b[0;31mAttributeError\u001b[0m                            Traceback (most recent call last)",
      "\u001b[0;32m<ipython-input-8-68914029c74d>\u001b[0m in \u001b[0;36m<module>\u001b[0;34m\u001b[0m\n\u001b[0;32m----> 1\u001b[0;31m \u001b[0massig\u001b[0m\u001b[0;34m.\u001b[0m\u001b[0massignment\u001b[0m\u001b[0;34m.\u001b[0m\u001b[0minitial_iteration\u001b[0m\u001b[0;34m(\u001b[0m\u001b[0;34m)\u001b[0m\u001b[0;34m\u001b[0m\u001b[0;34m\u001b[0m\u001b[0m\n\u001b[0m",
      "\u001b[0;32m/mnt/c/Users/jan.zill/code/aequilibrae/aequilibrae/paths/path_based_assignment.py\u001b[0m in \u001b[0;36minitial_iteration\u001b[0;34m(self)\u001b[0m\n\u001b[1;32m    168\u001b[0m \u001b[0;34m\u001b[0m\u001b[0m\n\u001b[1;32m    169\u001b[0m         \u001b[0;32mfor\u001b[0m \u001b[0morigin\u001b[0m \u001b[0;32min\u001b[0m \u001b[0mrange\u001b[0m\u001b[0;34m(\u001b[0m\u001b[0mlen\u001b[0m\u001b[0;34m(\u001b[0m\u001b[0mself\u001b[0m\u001b[0;34m.\u001b[0m\u001b[0morigins\u001b[0m\u001b[0;34m)\u001b[0m\u001b[0;34m)\u001b[0m\u001b[0;34m:\u001b[0m\u001b[0;34m\u001b[0m\u001b[0;34m\u001b[0m\u001b[0m\n\u001b[0;32m--> 170\u001b[0;31m             \u001b[0mself\u001b[0m\u001b[0;34m.\u001b[0m\u001b[0mt_assignment\u001b[0m\u001b[0;34m.\u001b[0m\u001b[0mupdate_link_flows\u001b[0m\u001b[0;34m(\u001b[0m\u001b[0morigin\u001b[0m\u001b[0;34m)\u001b[0m\u001b[0;34m\u001b[0m\u001b[0;34m\u001b[0m\u001b[0m\n\u001b[0m\u001b[1;32m    171\u001b[0m \u001b[0;34m\u001b[0m\u001b[0m\n\u001b[1;32m    172\u001b[0m     \u001b[0;32mdef\u001b[0m \u001b[0mdoWork\u001b[0m\u001b[0;34m(\u001b[0m\u001b[0mself\u001b[0m\u001b[0;34m)\u001b[0m\u001b[0;34m:\u001b[0m\u001b[0;34m\u001b[0m\u001b[0;34m\u001b[0m\u001b[0m\n",
      "\u001b[0;31mAttributeError\u001b[0m: 'TrafficAssignmentCy.TrafficAssignmentCy' object has no attribute 'update_link_flows'"
     ]
    }
   ],
   "source": [
    "assig.assignment.initial_iteration()"
   ]
  },
  {
   "cell_type": "code",
   "execution_count": null,
   "metadata": {},
   "outputs": [],
   "source": []
  },
  {
   "cell_type": "code",
   "execution_count": null,
   "metadata": {},
   "outputs": [],
   "source": []
  },
  {
   "cell_type": "code",
   "execution_count": null,
   "metadata": {},
   "outputs": [],
   "source": []
  },
  {
   "cell_type": "code",
   "execution_count": 41,
   "metadata": {
    "execution": {
     "iopub.execute_input": "2020-12-07T12:13:56.642549Z",
     "iopub.status.busy": "2020-12-07T12:13:56.642308Z",
     "iopub.status.idle": "2020-12-07T12:13:56.823743Z",
     "shell.execute_reply": "2020-12-07T12:13:56.822855Z",
     "shell.execute_reply.started": "2020-12-07T12:13:56.642522Z"
    }
   },
   "outputs": [],
   "source": [
    "test_o = 12\n",
    "assig.assignment.t_assignment.compute_shortest_paths(test_o)\n",
    "precedence = assig.assignment.t_assignment.get_precedence()"
   ]
  },
  {
   "cell_type": "code",
   "execution_count": 42,
   "metadata": {
    "execution": {
     "iopub.execute_input": "2020-12-07T12:13:57.615875Z",
     "iopub.status.busy": "2020-12-07T12:13:57.615604Z",
     "iopub.status.idle": "2020-12-07T12:13:57.787522Z",
     "shell.execute_reply": "2020-12-07T12:13:57.786289Z",
     "shell.execute_reply.started": "2020-12-07T12:13:57.615822Z"
    }
   },
   "outputs": [
    {
     "name": "stdout",
     "output_type": "stream",
     "text": [
      "[10, 308, 307, 294, 293, 292, 273, 25, 272, 261, 12]\n"
     ]
    }
   ],
   "source": [
    "test_d = 10\n",
    "next_iter = test_d\n",
    "nodes = []\n",
    "while(next_iter != test_o):\n",
    "    nodes.append(next_iter)\n",
    "    next_iter = precedence[next_iter]\n",
    "nodes.append(next_iter) # if we want the origin node in there\n",
    "print(nodes)"
   ]
  },
  {
   "cell_type": "code",
   "execution_count": 43,
   "metadata": {
    "execution": {
     "iopub.execute_input": "2020-12-07T12:13:59.489470Z",
     "iopub.status.busy": "2020-12-07T12:13:59.489203Z",
     "iopub.status.idle": "2020-12-07T12:13:59.665718Z",
     "shell.execute_reply": "2020-12-07T12:13:59.664514Z",
     "shell.execute_reply.started": "2020-12-07T12:13:59.489439Z"
    }
   },
   "outputs": [],
   "source": [
    "from aequilibrae.paths.multi_threaded_aon import MultiThreadedAoN\n",
    "from aequilibrae.paths.AoN import one_to_all\n",
    "\n",
    "c = assig.assignment.traffic_classes[0]\n",
    "\n",
    "matrix = c.matrix\n",
    "graph = c.graph\n",
    "results = c._aon_results\n",
    "aux_res = MultiThreadedAoN()\n",
    "\n",
    "aux_res.prepare(graph, results)\n",
    "matrix.matrix_view = c.matrix.matrix_view.reshape(\n",
    "    (graph.num_zones, graph.num_zones, results.classes[\"number\"])\n",
    ")\n",
    "\n",
    "th = 0 # th is thread id\n",
    "origin = test_o + 1 # sort out this mess\n",
    "x = one_to_all(origin, matrix, graph, results, aux_res, th)\n",
    "\n",
    "# set precedence to aux_res.predecessors[:,0]"
   ]
  },
  {
   "cell_type": "code",
   "execution_count": 44,
   "metadata": {
    "execution": {
     "iopub.execute_input": "2020-12-07T12:14:00.563454Z",
     "iopub.status.busy": "2020-12-07T12:14:00.563184Z",
     "iopub.status.idle": "2020-12-07T12:14:00.734554Z",
     "shell.execute_reply": "2020-12-07T12:14:00.733430Z",
     "shell.execute_reply.started": "2020-12-07T12:14:00.563417Z"
    }
   },
   "outputs": [
    {
     "data": {
      "text/plain": [
       "array([ 87,  61,  74, 233, 117, 165, 213, 410, 378, 337, 308, 274,  -1,\n",
       "       256, 253, 262, 275, 321, 363, 396, 412, 414, 415, 266, 268, 272,\n",
       "       302, 303, 307, 340, 329, 332, 336, 368, 372, 377, 400, 406, 266,\n",
       "       268, 272, 302, 303, 307, 340, 329, 332, 336, 368, 372, 377, 400,\n",
       "       406,  56, 237,  53, 146, 231, 102, 137, 102,  62, 189,  64,  65,\n",
       "       259,  67, 257,  69, 254,  71, 141,  73,   2,  75,  76,  77, 255,\n",
       "        79, 258,  81,  82,  83,  84, 189,  86,   1,  88, 292,  90,  91,\n",
       "       183,  93, 289,  95, 287,  97, 282,  99, 277, 101,  59, 103, 104,\n",
       "       105, 106, 107, 108, 109, 110, 111, 183, 113, 114, 293, 116,   0,\n",
       "       118, 119, 120, 121, 122, 123, 124, 125, 126, 127, 128, 129, 130,\n",
       "       131, 132, 133, 134, 135, 136, 137, 138, 264, 140,  76, 142, 263,\n",
       "       144, 145,  58, 147, 296, 149, 150, 309, 152, 322, 154, 155, 348,\n",
       "       157, 364, 159, 380, 161, 162, 398, 164,   4, 166, 167, 168, 169,\n",
       "       392, 171, 172, 173, 174, 175, 359, 177, 335, 179, 180, 181, 182,\n",
       "       183, 184, 185, 271, 187, 188,  63, 190, 191, 270, 193, 194, 112,\n",
       "       196, 197, 305, 199, 334, 201, 358, 203, 375, 205, 206, 391, 208,\n",
       "       209, 210, 407, 212,   5, 214, 395, 170, 217, 218, 374, 220, 221,\n",
       "       345, 223, 329, 225, 310, 227, 228, 229,  59, 231, 232,   3, 234,\n",
       "       235, 137, 102, 238, 298, 240, 316, 242, 338, 244, 346, 246, 373,\n",
       "       248, 390, 209, 251, 252,   6, 254, 255, 265, 257, 258, 266, 260,\n",
       "       268,  12, 263, 264, 265,  23, 267,  24, 269, 270, 271, 272, 261,\n",
       "        25, 273, 295, 265, 278, 104, 299, 266, 280, 281, 106, 283, 301,\n",
       "       267, 286, 108, 290, 110, 272, 273, 292, 293, 296, 297, 134, 299,\n",
       "       300, 301,  26,  27, 290, 291, 306, 180, 294, 307, 312, 301, 303,\n",
       "       313, 131, 315, 316, 310, 318, 302, 331, 333, 322, 323, 129, 323,\n",
       "       324, 327, 328,  30, 330, 331,  31, 333, 334, 335, 336,  28, 336,\n",
       "       329, 324, 341, 327, 328, 338, 331, 344, 356, 348, 349, 126, 349,\n",
       "       350, 340, 341, 342, 356, 357, 358, 359, 360,  32, 360, 357, 364,\n",
       "       365, 124, 365, 366, 352, 353, 354, 372, 373, 374, 375, 376, 174,\n",
       "       360, 377, 380, 381, 122, 381, 382,  33, 386, 387, 388,  34, 390,\n",
       "       391, 392, 393,  35, 393, 393, 397, 398, 399, 119, 399,  36, 403,\n",
       "       404, 405,  37, 407, 408, 167, 408, 409, 401, 403, 404, 405, 406])"
      ]
     },
     "execution_count": 44,
     "metadata": {},
     "output_type": "execute_result"
    }
   ],
   "source": [
    "aux_res.predecessors[:,0]"
   ]
  },
  {
   "cell_type": "code",
   "execution_count": 45,
   "metadata": {
    "execution": {
     "iopub.execute_input": "2020-12-07T12:14:18.931871Z",
     "iopub.status.busy": "2020-12-07T12:14:18.931655Z",
     "iopub.status.idle": "2020-12-07T12:14:19.114658Z",
     "shell.execute_reply": "2020-12-07T12:14:19.113191Z",
     "shell.execute_reply.started": "2020-12-07T12:14:18.931846Z"
    }
   },
   "outputs": [
    {
     "data": {
      "text/plain": [
       "array('i', [87, 61, 74, 233, 117, 165, 213, 410, 378, 337, 308, 274, 12, 256, 253, 262, 275, 321, 363, 396, 412, 414, 415, 266, 268, 272, 302, 303, 307, 340, 329, 332, 336, 368, 372, 377, 400, 406, 266, 268, 272, 302, 303, 307, 340, 329, 332, 336, 368, 372, 377, 400, 406, 56, 237, 53, 146, 231, 102, 137, 102, 62, 189, 64, 65, 259, 67, 257, 69, 254, 71, 141, 73, 2, 75, 76, 77, 255, 79, 258, 81, 82, 83, 84, 189, 86, 1, 88, 292, 90, 91, 183, 93, 289, 95, 287, 97, 282, 99, 277, 101, 59, 103, 104, 105, 106, 107, 108, 109, 110, 111, 183, 113, 114, 293, 116, 0, 118, 119, 120, 121, 122, 123, 124, 125, 126, 127, 128, 129, 130, 131, 132, 133, 134, 135, 136, 137, 138, 264, 140, 76, 142, 263, 144, 145, 58, 147, 296, 149, 150, 309, 152, 322, 154, 155, 348, 157, 364, 159, 380, 161, 162, 398, 164, 4, 166, 167, 168, 169, 392, 171, 172, 173, 174, 175, 359, 177, 335, 179, 180, 181, 182, 183, 184, 185, 271, 187, 188, 63, 190, 191, 270, 193, 194, 112, 196, 197, 305, 199, 334, 201, 358, 203, 375, 205, 206, 391, 208, 209, 210, 407, 212, 5, 214, 395, 170, 217, 218, 374, 220, 221, 345, 223, 329, 225, 310, 227, 228, 229, 59, 231, 232, 3, 234, 235, 137, 102, 238, 298, 240, 316, 242, 338, 244, 346, 246, 373, 248, 390, 209, 251, 252, 6, 254, 255, 265, 257, 258, 266, 260, 268, 12, 263, 264, 265, 23, 267, 24, 269, 270, 271, 272, 261, 25, 273, 295, 265, 278, 104, 299, 266, 280, 281, 106, 283, 301, 267, 286, 108, 290, 110, 272, 273, 292, 293, 296, 297, 134, 299, 300, 301, 26, 27, 290, 291, 306, 180, 294, 307, 312, 301, 303, 313, 131, 315, 316, 310, 318, 302, 331, 333, 322, 323, 129, 323, 324, 327, 328, 30, 330, 331, 31, 333, 334, 335, 336, 28, 336, 329, 324, 341, 327, 328, 338, 331, 344, 356, 348, 349, 126, 349, 350, 340, 341, 342, 356, 357, 358, 359, 360, 32, 360, 357, 364, 365, 124, 365, 366, 352, 353, 354, 372, 373, 374, 375, 376, 174, 360, 377, 380, 381, 122, 381, 382, 33, 386, 387, 388, 34, 390, 391, 392, 393, 35, 393, 393, 397, 398, 399, 119, 399, 36, 403, 404, 405, 37, 407, 408, 167, 408, 409, 401, 403, 404, 405, 406])"
      ]
     },
     "execution_count": 45,
     "metadata": {},
     "output_type": "execute_result"
    }
   ],
   "source": [
    "precedence"
   ]
  },
  {
   "cell_type": "code",
   "execution_count": 46,
   "metadata": {
    "execution": {
     "iopub.execute_input": "2020-12-07T12:14:36.338356Z",
     "iopub.status.busy": "2020-12-07T12:14:36.338145Z",
     "iopub.status.idle": "2020-12-07T12:14:36.524145Z",
     "shell.execute_reply": "2020-12-07T12:14:36.522872Z",
     "shell.execute_reply.started": "2020-12-07T12:14:36.338331Z"
    }
   },
   "outputs": [
    {
     "data": {
      "text/plain": [
       "array([ True,  True,  True,  True,  True,  True,  True,  True,  True,\n",
       "        True,  True,  True, False,  True,  True,  True,  True,  True,\n",
       "        True,  True,  True,  True,  True,  True,  True,  True,  True,\n",
       "        True,  True,  True,  True,  True,  True,  True,  True,  True,\n",
       "        True,  True,  True,  True,  True,  True,  True,  True,  True,\n",
       "        True,  True,  True,  True,  True,  True,  True,  True,  True,\n",
       "        True,  True,  True,  True,  True,  True,  True,  True,  True,\n",
       "        True,  True,  True,  True,  True,  True,  True,  True,  True,\n",
       "        True,  True,  True,  True,  True,  True,  True,  True,  True,\n",
       "        True,  True,  True,  True,  True,  True,  True,  True,  True,\n",
       "        True,  True,  True,  True,  True,  True,  True,  True,  True,\n",
       "        True,  True,  True,  True,  True,  True,  True,  True,  True,\n",
       "        True,  True,  True,  True,  True,  True,  True,  True,  True,\n",
       "        True,  True,  True,  True,  True,  True,  True,  True,  True,\n",
       "        True,  True,  True,  True,  True,  True,  True,  True,  True,\n",
       "        True,  True,  True,  True,  True,  True,  True,  True,  True,\n",
       "        True,  True,  True,  True,  True,  True,  True,  True,  True,\n",
       "        True,  True,  True,  True,  True,  True,  True,  True,  True,\n",
       "        True,  True,  True,  True,  True,  True,  True,  True,  True,\n",
       "        True,  True,  True,  True,  True,  True,  True,  True,  True,\n",
       "        True,  True,  True,  True,  True,  True,  True,  True,  True,\n",
       "        True,  True,  True,  True,  True,  True,  True,  True,  True,\n",
       "        True,  True,  True,  True,  True,  True,  True,  True,  True,\n",
       "        True,  True,  True,  True,  True,  True,  True,  True,  True,\n",
       "        True,  True,  True,  True,  True,  True,  True,  True,  True,\n",
       "        True,  True,  True,  True,  True,  True,  True,  True,  True,\n",
       "        True,  True,  True,  True,  True,  True,  True,  True,  True,\n",
       "        True,  True,  True,  True,  True,  True,  True,  True,  True,\n",
       "        True,  True,  True,  True,  True,  True,  True,  True,  True,\n",
       "        True,  True,  True,  True,  True,  True,  True,  True,  True,\n",
       "        True,  True,  True,  True,  True,  True,  True,  True,  True,\n",
       "        True,  True,  True,  True,  True,  True,  True,  True,  True,\n",
       "        True,  True,  True,  True,  True,  True,  True,  True,  True,\n",
       "        True,  True,  True,  True,  True,  True,  True,  True,  True,\n",
       "        True,  True,  True,  True,  True,  True,  True,  True,  True,\n",
       "        True,  True,  True,  True,  True,  True,  True,  True,  True,\n",
       "        True,  True,  True,  True,  True,  True,  True,  True,  True,\n",
       "        True,  True,  True,  True,  True,  True,  True,  True,  True,\n",
       "        True,  True,  True,  True,  True,  True,  True,  True,  True,\n",
       "        True,  True,  True,  True,  True,  True,  True,  True,  True,\n",
       "        True,  True,  True,  True,  True,  True,  True,  True,  True,\n",
       "        True,  True,  True,  True,  True,  True,  True,  True,  True,\n",
       "        True,  True,  True,  True,  True,  True,  True,  True,  True,\n",
       "        True,  True,  True,  True,  True,  True,  True,  True,  True,\n",
       "        True,  True,  True,  True,  True,  True,  True,  True,  True,\n",
       "        True,  True,  True,  True,  True,  True,  True,  True,  True,\n",
       "        True,  True])"
      ]
     },
     "execution_count": 46,
     "metadata": {},
     "output_type": "execute_result"
    }
   ],
   "source": [
    "# so at position test_o, precedence contains test_o, but aux_res.precedence contains -1. in c++ the origin node itself is never used, so should work one-to-one\n",
    "precedence == aux_res.predecessors[:,0]"
   ]
  },
  {
   "cell_type": "code",
   "execution_count": null,
   "metadata": {},
   "outputs": [],
   "source": []
  },
  {
   "cell_type": "code",
   "execution_count": 5,
   "metadata": {
    "execution": {
     "iopub.execute_input": "2020-12-07T07:01:03.074464Z",
     "iopub.status.busy": "2020-12-07T07:01:03.074206Z",
     "iopub.status.idle": "2020-12-07T07:05:58.049708Z",
     "shell.execute_reply": "2020-12-07T07:05:58.047989Z",
     "shell.execute_reply.started": "2020-12-07T07:01:03.074424Z"
    }
   },
   "outputs": [
    {
     "name": "stdout",
     "output_type": "stream",
     "text": [
      "bush-based Assignment STATS\n",
      " Initialised data structures, num nodes = 12981, num links = 28370\n",
      " 0th iteration done, cost = 17175346.0\n",
      "Iteration 1, computed gap: 0.03523369394561715, computed objective: 13572901.0\n",
      "Iteration 2, computed gap: 0.008124234031658073, computed objective: 13446520.0\n",
      "Iteration 3, computed gap: 0.0018462100719774943, computed objective: 13425886.0\n",
      "Iteration 4, computed gap: 0.0005136246907306852, computed objective: 13421236.0\n",
      "Iteration 5, computed gap: 0.00017223551787159952, computed objective: 13420094.0\n",
      "Iteration 6, computed gap: 7.091238174428138e-05, computed objective: 13419739.0\n",
      "bush-based Assignment finished. 6 iterations and 7.091238174428138e-05 final gap\n",
      "CPU times: user 19min 51s, sys: 13min 37s, total: 33min 29s\n",
      "Wall time: 4min 54s\n"
     ]
    }
   ],
   "source": [
    "%%time\n",
    "path_res_ = utils.get_assignment_solution(tntp_dir, scenario, link_file, method=\"bush-based\", block_centroids=False, rgap=5*1e-5)"
   ]
  },
  {
   "cell_type": "code",
   "execution_count": 6,
   "metadata": {
    "execution": {
     "iopub.execute_input": "2020-12-07T07:06:52.364607Z",
     "iopub.status.busy": "2020-12-07T07:06:52.364343Z",
     "iopub.status.idle": "2020-12-07T07:08:16.285085Z",
     "shell.execute_reply": "2020-12-07T07:08:16.279553Z",
     "shell.execute_reply.started": "2020-12-07T07:06:52.364580Z"
    }
   },
   "outputs": [
    {
     "name": "stdout",
     "output_type": "stream",
     "text": [
      "bfw Assignment STATS\n",
      "Iteration, RelativeGap, stepsize\n",
      "1,inf,1.0\n",
      "2,0.3800567793701656,0.5300666634760473\n",
      "3,0.02995166794864988,0.4419368001798535\n",
      "4,0.011215453493207569,0.9740669340921474\n",
      "5,0.018651911495302792,0.207438236660486\n",
      "6,0.005588851085212455,0.23649241559763462\n",
      "7,0.0034952930085653255,0.6993747625312287\n",
      "8,0.006823974042287565,0.14055669550649857\n",
      "9,0.0024604856164390475,0.15286896543449707\n",
      "10,0.002205272541373415,0.293308282199271\n",
      "11,0.0021288156703840886,0.6046893730021614\n",
      "12,0.002492468003123535,0.07319402743157027\n",
      "13,0.00131718613100849,0.08685959866044622\n",
      "14,0.0009672259824663231,0.11058853630707233\n",
      "15,0.001022491311937068,0.2883890249916652\n",
      "16,0.0010965872573139763,0.38329827219457985\n",
      "17,0.0010136654495672723,0.8179597775527969\n",
      "18,0.0011814305462246335,0.041757769616305375\n",
      "19,0.0006496400262115819,0.05098914445432661\n",
      "20,0.0005304649833509292,0.12421073186907841\n",
      "21,0.0006185390637040683,0.1536965273896091\n",
      "22,0.0005388025513493729,0.18786483242656604\n",
      "23,0.0004177885118343967,0.15213705541161163\n",
      "24,0.0003740511889102317,0.2329621163560099\n",
      "25,0.00034188459743115433,0.2995710182172744\n",
      "26,0.0003383510660252218,0.1703174402839155\n",
      "27,0.00027731418545224055,0.2668785752261132\n",
      "28,0.00023328974401035004,0.12337756917236349\n",
      "29,0.00022911658045496745,0.25763223356215886\n",
      "30,0.00022837118735819363,0.236029162157708\n",
      "31,0.0002496377349906197,0.41733860684696916\n",
      "32,0.00025996638987848403,0.8205347805266687\n",
      "33,0.00024221804627373147,0.0128334352706136\n",
      "34,0.00017362546906727423,0.01611341933928768\n",
      "35,0.0001477172586569335,0.024683086360395026\n",
      "36,0.00015310347190341644,0.03762368131409565\n",
      "37,0.00014377749066753185,0.03196044474901493\n",
      "38,0.0001297558257480377,0.02805762958862289\n",
      "39,0.00014083307575084644,0.041077535048773255\n",
      "40,0.00011850963582991433,0.04890211795865105\n",
      "41,0.00013810828202445773,0.06510352563929958\n",
      "42,0.00014944400313047135,0.11788420588766188\n",
      "43,0.00016043174911774323,0.11580156781258728\n",
      "44,0.00012522469958244875,0.09220209604776304\n",
      "45,0.00010979313113191878,0.10464957414423437\n",
      "46,0.00011379054387885891,0.12031203507505013\n",
      "47,0.00010911226491011578,0.06634162425391496\n",
      "48,9.162512103543622e-05,0.11275609187681913\n",
      "49,0.00010922208752875344,0.11246177506532257\n",
      "50,9.588389179074023e-05,0.08889546034926532\n",
      "51,9.081337668711733e-05,0.1110282224941509\n",
      "52,9.070227494316077e-05,0.09994776876302866\n",
      "53,7.258524959960221e-05,0.06823357080163402\n",
      "54,8.670976044246334e-05,0.10299297711775082\n",
      "55,8.535813448649662e-05,0.0820463267755568\n",
      "56,7.896041456148578e-05,0.08891009680383723\n",
      "57,6.768775788194528e-05,0.06566796288806716\n",
      "58,6.878763605530984e-05,0.06337725047311353\n",
      "59,6.202018128089163e-05,0.05348305803879744\n",
      "60,6.442043314878672e-05,0.07721522207712644\n",
      "61,6.948193880333414e-05,0.07127010399802726\n",
      "62,6.574427421806445e-05,0.061713372435837535\n",
      "63,5.241302253726603e-05,0.04004395169006878\n",
      "64,4.995014665785305e-05,0.052582091104074725\n",
      "65,5.0125376107916863e-05,0.049911347506467627\n",
      "66,5.551448075177019e-05,0.058787678671384\n",
      "67,5.3789739700254814e-05,0.057848654154551114\n",
      "68,5.525029739438265e-05,0.05539280435527934\n",
      "69,4.3848980986752636e-05,0.04512006017194969\n",
      "bfw Assignment finished. 69 iterations and 4.3848980986752636e-05 final gap\n",
      "CPU times: user 9min 12s, sys: 6.25 s, total: 9min 18s\n",
      "Wall time: 1min 23s\n"
     ]
    }
   ],
   "source": [
    "%%time\n",
    "bfw_res_ = utils.get_assignment_solution(tntp_dir, scenario, link_file, method=\"bfw\", block_centroids=False, rgap=5*1e-5)"
   ]
  },
  {
   "cell_type": "code",
   "execution_count": 8,
   "metadata": {
    "execution": {
     "iopub.execute_input": "2020-12-07T07:08:22.039610Z",
     "iopub.status.busy": "2020-12-07T07:08:22.039393Z",
     "iopub.status.idle": "2020-12-07T07:08:22.580400Z",
     "shell.execute_reply": "2020-12-07T07:08:22.579062Z",
     "shell.execute_reply.started": "2020-12-07T07:08:22.039584Z"
    }
   },
   "outputs": [
    {
     "data": {
      "image/png": "[encoded data removed]",
      "text/plain": [
       "<Figure size 432x288 with 1 Axes>"
      ]
     },
     "metadata": {},
     "output_type": "display_data"
    },
    {
     "name": "stdout",
     "output_type": "stream",
     "text": [
      "max diff in flow = 1177.696\n",
      "max rel diff in flow = inf%\n"
     ]
    },
    {
     "data": {
      "text/html": [
       "<div>\n",
       "<style scoped>\n",
       "    .dataframe tbody tr th:only-of-type {\n",
       "        vertical-align: middle;\n",
       "    }\n",
       "\n",
       "    .dataframe tbody tr th {\n",
       "        vertical-align: top;\n",
       "    }\n",
       "\n",
       "    .dataframe thead th {\n",
       "        text-align: right;\n",
       "    }\n",
       "</style>\n",
       "<table border=\"1\" class=\"dataframe\">\n",
       "  <thead>\n",
       "    <tr style=\"text-align: right;\">\n",
       "      <th></th>\n",
       "      <th>link_id_bfw</th>\n",
       "      <th>a_node</th>\n",
       "      <th>b_node</th>\n",
       "      <th>capacity_bfw</th>\n",
       "      <th>alpha_bfw</th>\n",
       "      <th>beta_bfw</th>\n",
       "      <th>direction_bfw</th>\n",
       "      <th>flow_bfw</th>\n",
       "      <th>link_id_path</th>\n",
       "      <th>capacity_path</th>\n",
       "      <th>alpha_path</th>\n",
       "      <th>beta_path</th>\n",
       "      <th>direction_path</th>\n",
       "      <th>flow_path</th>\n",
       "      <th>abs_change</th>\n",
       "      <th>rel_change</th>\n",
       "    </tr>\n",
       "  </thead>\n",
       "  <tbody>\n",
       "    <tr>\n",
       "      <th>2092</th>\n",
       "      <td>2092</td>\n",
       "      <td>419</td>\n",
       "      <td>8720</td>\n",
       "      <td>999999.0</td>\n",
       "      <td>0.0</td>\n",
       "      <td>4.0</td>\n",
       "      <td>1</td>\n",
       "      <td>279.816726</td>\n",
       "      <td>2092</td>\n",
       "      <td>999999.0</td>\n",
       "      <td>0.0</td>\n",
       "      <td>4.0</td>\n",
       "      <td>1</td>\n",
       "      <td>1457.512451</td>\n",
       "      <td>1177.695725</td>\n",
       "      <td>4.208811</td>\n",
       "    </tr>\n",
       "    <tr>\n",
       "      <th>19490</th>\n",
       "      <td>19490</td>\n",
       "      <td>8720</td>\n",
       "      <td>413</td>\n",
       "      <td>999999.0</td>\n",
       "      <td>0.0</td>\n",
       "      <td>4.0</td>\n",
       "      <td>1</td>\n",
       "      <td>279.816726</td>\n",
       "      <td>19490</td>\n",
       "      <td>999999.0</td>\n",
       "      <td>0.0</td>\n",
       "      <td>4.0</td>\n",
       "      <td>1</td>\n",
       "      <td>1457.512451</td>\n",
       "      <td>1177.695725</td>\n",
       "      <td>4.208811</td>\n",
       "    </tr>\n",
       "    <tr>\n",
       "      <th>18848</th>\n",
       "      <td>18848</td>\n",
       "      <td>8426</td>\n",
       "      <td>413</td>\n",
       "      <td>999999.0</td>\n",
       "      <td>0.0</td>\n",
       "      <td>4.0</td>\n",
       "      <td>1</td>\n",
       "      <td>1520.377608</td>\n",
       "      <td>18848</td>\n",
       "      <td>999999.0</td>\n",
       "      <td>0.0</td>\n",
       "      <td>4.0</td>\n",
       "      <td>1</td>\n",
       "      <td>343.900146</td>\n",
       "      <td>1176.477461</td>\n",
       "      <td>0.773806</td>\n",
       "    </tr>\n",
       "    <tr>\n",
       "      <th>2090</th>\n",
       "      <td>2090</td>\n",
       "      <td>419</td>\n",
       "      <td>8426</td>\n",
       "      <td>999999.0</td>\n",
       "      <td>0.0</td>\n",
       "      <td>4.0</td>\n",
       "      <td>1</td>\n",
       "      <td>1520.377608</td>\n",
       "      <td>2090</td>\n",
       "      <td>999999.0</td>\n",
       "      <td>0.0</td>\n",
       "      <td>4.0</td>\n",
       "      <td>1</td>\n",
       "      <td>343.900146</td>\n",
       "      <td>1176.477461</td>\n",
       "      <td>0.773806</td>\n",
       "    </tr>\n",
       "    <tr>\n",
       "      <th>2060</th>\n",
       "      <td>2060</td>\n",
       "      <td>413</td>\n",
       "      <td>8426</td>\n",
       "      <td>999999.0</td>\n",
       "      <td>0.0</td>\n",
       "      <td>4.0</td>\n",
       "      <td>1</td>\n",
       "      <td>1660.650390</td>\n",
       "      <td>2060</td>\n",
       "      <td>999999.0</td>\n",
       "      <td>0.0</td>\n",
       "      <td>4.0</td>\n",
       "      <td>1</td>\n",
       "      <td>710.855652</td>\n",
       "      <td>949.794738</td>\n",
       "      <td>0.571941</td>\n",
       "    </tr>\n",
       "    <tr>\n",
       "      <th>18849</th>\n",
       "      <td>18849</td>\n",
       "      <td>8426</td>\n",
       "      <td>419</td>\n",
       "      <td>999999.0</td>\n",
       "      <td>0.0</td>\n",
       "      <td>4.0</td>\n",
       "      <td>1</td>\n",
       "      <td>1660.650390</td>\n",
       "      <td>18849</td>\n",
       "      <td>999999.0</td>\n",
       "      <td>0.0</td>\n",
       "      <td>4.0</td>\n",
       "      <td>1</td>\n",
       "      <td>710.855652</td>\n",
       "      <td>949.794738</td>\n",
       "      <td>0.571941</td>\n",
       "    </tr>\n",
       "    <tr>\n",
       "      <th>19491</th>\n",
       "      <td>19491</td>\n",
       "      <td>8720</td>\n",
       "      <td>419</td>\n",
       "      <td>999999.0</td>\n",
       "      <td>0.0</td>\n",
       "      <td>4.0</td>\n",
       "      <td>1</td>\n",
       "      <td>54.129914</td>\n",
       "      <td>19491</td>\n",
       "      <td>999999.0</td>\n",
       "      <td>0.0</td>\n",
       "      <td>4.0</td>\n",
       "      <td>1</td>\n",
       "      <td>1002.452454</td>\n",
       "      <td>948.322540</td>\n",
       "      <td>17.519380</td>\n",
       "    </tr>\n",
       "    <tr>\n",
       "      <th>2061</th>\n",
       "      <td>2061</td>\n",
       "      <td>413</td>\n",
       "      <td>8720</td>\n",
       "      <td>999999.0</td>\n",
       "      <td>0.0</td>\n",
       "      <td>4.0</td>\n",
       "      <td>1</td>\n",
       "      <td>54.129914</td>\n",
       "      <td>2061</td>\n",
       "      <td>999999.0</td>\n",
       "      <td>0.0</td>\n",
       "      <td>4.0</td>\n",
       "      <td>1</td>\n",
       "      <td>1002.452454</td>\n",
       "      <td>948.322540</td>\n",
       "      <td>17.519380</td>\n",
       "    </tr>\n",
       "    <tr>\n",
       "      <th>418</th>\n",
       "      <td>418</td>\n",
       "      <td>84</td>\n",
       "      <td>10750</td>\n",
       "      <td>999999.0</td>\n",
       "      <td>0.0</td>\n",
       "      <td>4.0</td>\n",
       "      <td>1</td>\n",
       "      <td>1028.536830</td>\n",
       "      <td>418</td>\n",
       "      <td>999999.0</td>\n",
       "      <td>0.0</td>\n",
       "      <td>4.0</td>\n",
       "      <td>1</td>\n",
       "      <td>281.382904</td>\n",
       "      <td>747.153926</td>\n",
       "      <td>0.726424</td>\n",
       "    </tr>\n",
       "    <tr>\n",
       "      <th>22833</th>\n",
       "      <td>22833</td>\n",
       "      <td>10321</td>\n",
       "      <td>84</td>\n",
       "      <td>999999.0</td>\n",
       "      <td>0.0</td>\n",
       "      <td>4.0</td>\n",
       "      <td>1</td>\n",
       "      <td>946.651861</td>\n",
       "      <td>22833</td>\n",
       "      <td>999999.0</td>\n",
       "      <td>0.0</td>\n",
       "      <td>4.0</td>\n",
       "      <td>1</td>\n",
       "      <td>199.497955</td>\n",
       "      <td>747.153906</td>\n",
       "      <td>0.789259</td>\n",
       "    </tr>\n",
       "  </tbody>\n",
       "</table>\n",
       "</div>"
      ],
      "text/plain": [
       "       link_id_bfw  a_node  b_node  capacity_bfw  alpha_bfw  beta_bfw  \\\n",
       "2092          2092     419    8720      999999.0        0.0       4.0   \n",
       "19490        19490    8720     413      999999.0        0.0       4.0   \n",
       "18848        18848    8426     413      999999.0        0.0       4.0   \n",
       "2090          2090     419    8426      999999.0        0.0       4.0   \n",
       "2060          2060     413    8426      999999.0        0.0       4.0   \n",
       "18849        18849    8426     419      999999.0        0.0       4.0   \n",
       "19491        19491    8720     419      999999.0        0.0       4.0   \n",
       "2061          2061     413    8720      999999.0        0.0       4.0   \n",
       "418            418      84   10750      999999.0        0.0       4.0   \n",
       "22833        22833   10321      84      999999.0        0.0       4.0   \n",
       "\n",
       "       direction_bfw     flow_bfw  link_id_path  capacity_path  alpha_path  \\\n",
       "2092               1   279.816726          2092       999999.0         0.0   \n",
       "19490              1   279.816726         19490       999999.0         0.0   \n",
       "18848              1  1520.377608         18848       999999.0         0.0   \n",
       "2090               1  1520.377608          2090       999999.0         0.0   \n",
       "2060               1  1660.650390          2060       999999.0         0.0   \n",
       "18849              1  1660.650390         18849       999999.0         0.0   \n",
       "19491              1    54.129914         19491       999999.0         0.0   \n",
       "2061               1    54.129914          2061       999999.0         0.0   \n",
       "418                1  1028.536830           418       999999.0         0.0   \n",
       "22833              1   946.651861         22833       999999.0         0.0   \n",
       "\n",
       "       beta_path  direction_path    flow_path   abs_change  rel_change  \n",
       "2092         4.0               1  1457.512451  1177.695725    4.208811  \n",
       "19490        4.0               1  1457.512451  1177.695725    4.208811  \n",
       "18848        4.0               1   343.900146  1176.477461    0.773806  \n",
       "2090         4.0               1   343.900146  1176.477461    0.773806  \n",
       "2060         4.0               1   710.855652   949.794738    0.571941  \n",
       "18849        4.0               1   710.855652   949.794738    0.571941  \n",
       "19491        4.0               1  1002.452454   948.322540   17.519380  \n",
       "2061         4.0               1  1002.452454   948.322540   17.519380  \n",
       "418          4.0               1   281.382904   747.153926    0.726424  \n",
       "22833        4.0               1   199.497955   747.153906    0.789259  "
      ]
     },
     "metadata": {},
     "output_type": "display_data"
    }
   ],
   "source": [
    "full_result = bfw_res_.drop(columns=['time']).merge(path_res_.drop(columns=['time']), on=['a_node', 'b_node'], how='outer', suffixes=['_bfw', '_path'])\n",
    "sns.scatterplot(data=full_result, x='flow_bfw', y='flow_path');\n",
    "plt.show();\n",
    "full_result['abs_change'] = np.abs(full_result.flow_bfw - full_result.flow_path)\n",
    "full_result['rel_change'] = full_result['abs_change'] / full_result['flow_bfw']\n",
    "print(f\"max diff in flow = {full_result['abs_change'].max():.3f}\")\n",
    "print(f\"max rel diff in flow = {full_result['rel_change'].abs().max():.3f}%\")\n",
    "display(full_result.sort_values(by=['abs_change'], ascending=False).head(10))"
   ]
  },
  {
   "cell_type": "code",
   "execution_count": null,
   "metadata": {},
   "outputs": [],
   "source": []
  }
 ],
 "metadata": {
  "kernelspec": {
   "display_name": "Python 3",
   "language": "python",
   "name": "python3"
  },
  "language_info": {
   "codemirror_mode": {
    "name": "ipython",
    "version": 3
   },
   "file_extension": ".py",
   "mimetype": "text/x-python",
   "name": "python",
   "nbconvert_exporter": "python",
   "pygments_lexer": "ipython3",
   "version": "3.7.4"
  }
 },
 "nbformat": 4,
 "nbformat_minor": 4
}
