{
 "cells": [
  {
   "cell_type": "code",
   "execution_count": 1,
   "metadata": {
    "execution": {
     "iopub.execute_input": "2020-12-08T04:34:41.192064Z",
     "iopub.status.busy": "2020-12-08T04:34:41.191745Z",
     "iopub.status.idle": "2020-12-08T04:34:41.293167Z",
     "shell.execute_reply": "2020-12-08T04:34:41.292045Z",
     "shell.execute_reply.started": "2020-12-08T04:34:41.192000Z"
    }
   },
   "outputs": [],
   "source": [
    "%load_ext autoreload"
   ]
  },
  {
   "cell_type": "code",
   "execution_count": 2,
   "metadata": {
    "execution": {
     "iopub.execute_input": "2020-12-08T04:34:41.433583Z",
     "iopub.status.busy": "2020-12-08T04:34:41.433315Z",
     "iopub.status.idle": "2020-12-08T04:34:41.438526Z",
     "shell.execute_reply": "2020-12-08T04:34:41.437092Z",
     "shell.execute_reply.started": "2020-12-08T04:34:41.433540Z"
    }
   },
   "outputs": [],
   "source": [
    "%autoreload 2"
   ]
  },
  {
   "cell_type": "code",
   "execution_count": 3,
   "metadata": {
    "execution": {
     "iopub.execute_input": "2020-12-08T04:34:41.639236Z",
     "iopub.status.busy": "2020-12-08T04:34:41.638961Z",
     "iopub.status.idle": "2020-12-08T04:34:43.925772Z",
     "shell.execute_reply": "2020-12-08T04:34:43.924411Z",
     "shell.execute_reply.started": "2020-12-08T04:34:41.639191Z"
    }
   },
   "outputs": [],
   "source": [
    "import os\n",
    "import sys\n",
    "import logging\n",
    "\n",
    "import numpy as np\n",
    "import pandas as pd\n",
    "import seaborn as sns\n",
    "import matplotlib.pyplot as plt\n",
    "plt.style.use('fivethirtyeight')\n",
    "    \n",
    "aequ_dir = \"/mnt/c/Users/jan.zill/code/aequilibrae\"\n",
    "if aequ_dir not in sys.path:\n",
    "    sys.path.append(aequ_dir)\n",
    "\n",
    "from aequilibrae import logger  # noqa: E402\n",
    "\n",
    "import utils"
   ]
  },
  {
   "cell_type": "code",
   "execution_count": 4,
   "metadata": {
    "execution": {
     "iopub.execute_input": "2020-12-08T04:34:43.927503Z",
     "iopub.status.busy": "2020-12-08T04:34:43.927295Z",
     "iopub.status.idle": "2020-12-08T04:34:44.097512Z",
     "shell.execute_reply": "2020-12-08T04:34:44.096339Z",
     "shell.execute_reply.started": "2020-12-08T04:34:43.927466Z"
    }
   },
   "outputs": [],
   "source": [
    "stdout_handler = logging.StreamHandler(sys.stdout)\n",
    "logger.addHandler(stdout_handler)"
   ]
  },
  {
   "cell_type": "code",
   "execution_count": 5,
   "metadata": {
    "execution": {
     "iopub.execute_input": "2020-12-08T04:34:44.099669Z",
     "iopub.status.busy": "2020-12-08T04:34:44.099428Z",
     "iopub.status.idle": "2020-12-08T04:34:44.279247Z",
     "shell.execute_reply": "2020-12-08T04:34:44.278165Z",
     "shell.execute_reply.started": "2020-12-08T04:34:44.099642Z"
    }
   },
   "outputs": [],
   "source": [
    "code_dir = \"/mnt/c/Users/jan.zill/code\"\n",
    "tntp_dir = os.path.join(code_dir, \"TransportationNetworks_aequilibrae\")\n",
    "scenario = \"Anaheim\" #\"Berlin-Center\" #\n",
    "folder = os.path.join(tntp_dir, scenario)\n",
    "\n",
    "if scenario == \"Berlin-Center\":\n",
    "    link_file =  \"berlin-center_net_clean.tntp\" # DUPLICATE NODES REMOVED  \"berlin-center_net_clean_bpr_altered.tntp\" #\n",
    "    trip_file =  \"berlin-center_trips.tntp\"\n",
    "else:\n",
    "    link_file =  f\"{scenario}_net.tntp\"\n",
    "    trip_file =  f\"{scenario}_trips.tntp\"\n",
    "    \n",
    "# best_known_solution = list(filter(lambda x: \"_flow.tntp\" in x, os.listdir(folder)))\n",
    "# if len(best_known_solution) == 1:\n",
    "#     sol_file = best_known_solution[0]\n",
    "# else:\n",
    "#     sol_file = None\n",
    "if scenario == \"Anaheim\":\n",
    "    best_sol = pd.read_csv(os.path.join(folder, f\"{scenario}_flow.tntp\"), sep='\\t', skiprows=5).rename(columns={\"Tail \": \"a_node\", \"Head \": \"b_node\", \"Volume \": \"flow_best\"}).drop(columns=['~ ', ': ', '; ', 'Cost '])"
   ]
  },
  {
   "cell_type": "code",
   "execution_count": 8,
   "metadata": {
    "execution": {
     "iopub.execute_input": "2020-12-08T04:35:11.154295Z",
     "iopub.status.busy": "2020-12-08T04:35:11.154075Z",
     "iopub.status.idle": "2020-12-08T04:35:11.346239Z",
     "shell.execute_reply": "2020-12-08T04:35:11.345165Z",
     "shell.execute_reply.started": "2020-12-08T04:35:11.154270Z"
    }
   },
   "outputs": [],
   "source": [
    "block_centroids = True\n",
    "r_gap = 1*1e-5"
   ]
  },
  {
   "cell_type": "code",
   "execution_count": 9,
   "metadata": {
    "execution": {
     "iopub.execute_input": "2020-12-08T04:35:11.576278Z",
     "iopub.status.busy": "2020-12-08T04:35:11.575857Z",
     "iopub.status.idle": "2020-12-08T04:35:17.041890Z",
     "shell.execute_reply": "2020-12-08T04:35:17.040975Z",
     "shell.execute_reply.started": "2020-12-08T04:35:11.576221Z"
    }
   },
   "outputs": [
    {
     "name": "stdout",
     "output_type": "stream",
     "text": [
      "bush-based-parallel parallel Assignment STATS\n",
      " Initialised data structures, num nodes = 416, num links = 914\n",
      " 0th iteration done, cost = 1296185.75\n",
      "Iteration 1, computed gap: 0.004539900226943727, computed objective: 1291063.0, stepsize: 0.3639256612373998\n",
      "Iteration 2, computed gap: 0.004271904416606742, computed objective: 1290732.625, stepsize: 0.11074628940128983\n",
      "Iteration 3, computed gap: 0.0024690209387799866, computed objective: 1290648.875, stepsize: 0.4039855174804049\n",
      "Iteration 4, computed gap: 0.0015412728313516366, computed objective: 1290611.25, stepsize: 0.3594246880039156\n",
      "Iteration 5, computed gap: 0.001316435755192913, computed objective: 1290609.125, stepsize: 0.1419676461076447\n",
      "Iteration 6, computed gap: 0.0001881720982754853, computed objective: 1290606.125, stepsize: 0.8730572775283294\n",
      "Iteration 7, computed gap: 0.00014893539378368903, computed objective: 1290606.125, stepsize: 0.14790769029427847\n",
      "Iteration 8, computed gap: 5.1594549286826386e-05, computed objective: 1290605.5, stepsize: 0.6749917219861716\n",
      "Iteration 9, computed gap: 4.114577597225111e-05, computed objective: 1290606.25, stepsize: 0.18325730098179294\n",
      "Iteration 10, computed gap: 1.724276089154486e-05, computed objective: 1290605.625, stepsize: 0.6189737885200107\n",
      "Iteration 11, computed gap: 1.3670905747109607e-05, computed objective: 1290605.5, stepsize: 0.17345142289465032\n",
      "Iteration 12, computed gap: 5.454959598361064e-06, computed objective: 1290605.5, stepsize: 0.689935875281881\n",
      "bush-based-parallel Assignment finished. 12 iterations and 5.454959598361064e-06 final gap\n",
      "CPU times: user 21.3 s, sys: 13.3 s, total: 34.7 s\n",
      "Wall time: 5.29 s\n"
     ]
    }
   ],
   "source": [
    "%%time\n",
    "do_parallel = True\n",
    "if do_parallel:\n",
    "    method = \"bush-based-parallel\"\n",
    "else:\n",
    "    method = \"bush-based\"\n",
    "path_res_ = utils.get_assignment_solution(tntp_dir, scenario, link_file, method=method, block_centroids=block_centroids, rgap=r_gap)"
   ]
  },
  {
   "cell_type": "code",
   "execution_count": 10,
   "metadata": {
    "execution": {
     "iopub.execute_input": "2020-12-08T04:30:28.348671Z",
     "iopub.status.busy": "2020-12-08T04:30:28.348298Z",
     "iopub.status.idle": "2020-12-08T04:30:33.251563Z",
     "shell.execute_reply": "2020-12-08T04:30:33.250322Z",
     "shell.execute_reply.started": "2020-12-08T04:30:28.348610Z"
    }
   },
   "outputs": [
    {
     "name": "stdout",
     "output_type": "stream",
     "text": [
      "bfw Assignment STATS\n",
      "Iteration, RelativeGap, stepsize\n",
      "1,inf,1.0\n",
      "2,0.018135363369113977,0.2561015932062772\n",
      "# Alert: Adding 0.3333333333333333 to stepsize to make it non-zero\n",
      "3,0.0036265961074987314,0.3333333333333333\n",
      "# Alert: Adding 0.25 to stepsize to make it non-zero\n",
      "4,0.002300502121447229,0.25\n",
      "# Alert: Adding 0.2 to stepsize to make it non-zero\n",
      "5,0.0016660925434689557,0.2\n",
      "# Alert: Adding 0.16666666666666666 to stepsize to make it non-zero\n",
      "6,0.0013674148395812515,0.16666666666666666\n",
      "# Alert: Adding 0.14285714285714285 to stepsize to make it non-zero\n",
      "7,0.0011521665035996536,0.14285714285714285\n",
      "# Alert: Adding 0.125 to stepsize to make it non-zero\n",
      "8,0.0009970861455203498,0.125\n",
      "# Alert: Adding 0.1111111111111111 to stepsize to make it non-zero\n",
      "9,0.0008651833121821925,0.1111111111111111\n",
      "# Alert: Adding 0.1 to stepsize to make it non-zero\n",
      "10,0.0007703386571853957,0.1\n",
      "# Alert: Adding 0.09090909090909091 to stepsize to make it non-zero\n",
      "11,0.0007020823903876606,0.09090909090909091\n",
      "# Alert: Adding 0.08333333333333333 to stepsize to make it non-zero\n",
      "12,0.000642246162637343,0.08333333333333333\n",
      "# Alert: Adding 0.07692307692307693 to stepsize to make it non-zero\n",
      "13,0.0006030434677604205,0.07692307692307693\n",
      "# Alert: Adding 0.07142857142857142 to stepsize to make it non-zero\n",
      "14,0.0005495796093376509,0.07142857142857142\n",
      "# Alert: Adding 0.06666666666666667 to stepsize to make it non-zero\n",
      "15,0.000508135258280352,0.06666666666666667\n",
      "# Alert: Adding 0.0625 to stepsize to make it non-zero\n",
      "16,0.0004701264942392174,0.0625\n",
      "# Alert: Adding 0.058823529411764705 to stepsize to make it non-zero\n",
      "17,0.0004443697559438923,0.058823529411764705\n",
      "# Alert: Adding 0.05555555555555555 to stepsize to make it non-zero\n",
      "18,0.0004255158056278248,0.05555555555555555\n",
      "# Alert: Adding 0.05263157894736842 to stepsize to make it non-zero\n",
      "19,0.00040691297597438296,0.05263157894736842\n",
      "# Alert: Adding 0.05 to stepsize to make it non-zero\n",
      "20,0.0003860657145175426,0.05\n",
      "# Alert: Adding 0.047619047619047616 to stepsize to make it non-zero\n",
      "21,0.0003637272863349092,0.047619047619047616\n",
      "# Alert: Adding 0.045454545454545456 to stepsize to make it non-zero\n",
      "22,0.00034762466592619715,0.045454545454545456\n",
      "# Alert: Adding 0.043478260869565216 to stepsize to make it non-zero\n",
      "23,0.00033060779275701635,0.043478260869565216\n",
      "24,4.494643338108695e-05,0.8637214703929922\n",
      "25,0.0007679047465918664,0.13725402413456975\n",
      "26,0.00030163657533708113,0.2454647459326722\n",
      "27,0.00014890314439211126,0.3667503783913883\n",
      "28,8.870504187290845e-05,0.17294446263147303\n",
      "29,6.91851680790188e-05,0.8281051129929757\n",
      "30,8.191691257862152e-05,0.11799305672611328\n",
      "31,4.8589928885771e-05,0.07593869328789603\n",
      "bfw Assignment finished. 31 iterations and 4.8589928885771e-05 final gap\n",
      "CPU times: user 10.3 s, sys: 562 ms, total: 10.9 s\n",
      "Wall time: 4.69 s\n"
     ]
    }
   ],
   "source": [
    "%%time\n",
    "bfw_rgap = r_gap #1e-5 #\n",
    "bfw_res_ = utils.get_assignment_solution(tntp_dir, scenario, link_file, method=\"bfw\", block_centroids=block_centroids, rgap=bfw_rgap)"
   ]
  },
  {
   "cell_type": "code",
   "execution_count": 11,
   "metadata": {
    "execution": {
     "iopub.execute_input": "2020-12-08T04:30:34.046312Z",
     "iopub.status.busy": "2020-12-08T04:30:34.046052Z",
     "iopub.status.idle": "2020-12-08T04:30:34.508559Z",
     "shell.execute_reply": "2020-12-08T04:30:34.507182Z",
     "shell.execute_reply.started": "2020-12-08T04:30:34.046284Z"
    }
   },
   "outputs": [
    {
     "data": {
      "image/png": "[encoded data removed]",
      "text/plain": [
       "<Figure size 432x288 with 1 Axes>"
      ]
     },
     "metadata": {},
     "output_type": "display_data"
    },
    {
     "name": "stdout",
     "output_type": "stream",
     "text": [
      "max diff in flow = 1510.039\n",
      "max rel diff in flow = 1653.224%\n"
     ]
    },
    {
     "data": {
      "text/html": [
       "<div>\n",
       "<style scoped>\n",
       "    .dataframe tbody tr th:only-of-type {\n",
       "        vertical-align: middle;\n",
       "    }\n",
       "\n",
       "    .dataframe tbody tr th {\n",
       "        vertical-align: top;\n",
       "    }\n",
       "\n",
       "    .dataframe thead th {\n",
       "        text-align: right;\n",
       "    }\n",
       "</style>\n",
       "<table border=\"1\" class=\"dataframe\">\n",
       "  <thead>\n",
       "    <tr style=\"text-align: right;\">\n",
       "      <th></th>\n",
       "      <th>a_node</th>\n",
       "      <th>b_node</th>\n",
       "      <th>flow_bfw</th>\n",
       "      <th>flow_path</th>\n",
       "      <th>abs_change</th>\n",
       "      <th>rel_change</th>\n",
       "    </tr>\n",
       "  </thead>\n",
       "  <tbody>\n",
       "    <tr>\n",
       "      <th>202</th>\n",
       "      <td>132</td>\n",
       "      <td>131</td>\n",
       "      <td>7411.694466</td>\n",
       "      <td>8921.733398</td>\n",
       "      <td>1510.038932</td>\n",
       "      <td>0.203737</td>\n",
       "    </tr>\n",
       "    <tr>\n",
       "      <th>201</th>\n",
       "      <td>131</td>\n",
       "      <td>130</td>\n",
       "      <td>7748.503715</td>\n",
       "      <td>8998.057617</td>\n",
       "      <td>1249.553902</td>\n",
       "      <td>0.161264</td>\n",
       "    </tr>\n",
       "    <tr>\n",
       "      <th>297</th>\n",
       "      <td>198</td>\n",
       "      <td>197</td>\n",
       "      <td>8832.653569</td>\n",
       "      <td>9930.384766</td>\n",
       "      <td>1097.731197</td>\n",
       "      <td>0.124281</td>\n",
       "    </tr>\n",
       "    <tr>\n",
       "      <th>296</th>\n",
       "      <td>197</td>\n",
       "      <td>196</td>\n",
       "      <td>8832.653569</td>\n",
       "      <td>9930.384766</td>\n",
       "      <td>1097.731197</td>\n",
       "      <td>0.124281</td>\n",
       "    </tr>\n",
       "    <tr>\n",
       "      <th>300</th>\n",
       "      <td>200</td>\n",
       "      <td>199</td>\n",
       "      <td>8702.861494</td>\n",
       "      <td>9599.129883</td>\n",
       "      <td>896.268389</td>\n",
       "      <td>0.102985</td>\n",
       "    </tr>\n",
       "    <tr>\n",
       "      <th>194</th>\n",
       "      <td>126</td>\n",
       "      <td>125</td>\n",
       "      <td>7621.919564</td>\n",
       "      <td>8477.782227</td>\n",
       "      <td>855.862662</td>\n",
       "      <td>0.112290</td>\n",
       "    </tr>\n",
       "    <tr>\n",
       "      <th>298</th>\n",
       "      <td>199</td>\n",
       "      <td>198</td>\n",
       "      <td>8458.218625</td>\n",
       "      <td>9279.220703</td>\n",
       "      <td>821.002078</td>\n",
       "      <td>0.097066</td>\n",
       "    </tr>\n",
       "    <tr>\n",
       "      <th>198</th>\n",
       "      <td>129</td>\n",
       "      <td>128</td>\n",
       "      <td>6984.583893</td>\n",
       "      <td>7781.694824</td>\n",
       "      <td>797.110931</td>\n",
       "      <td>0.114124</td>\n",
       "    </tr>\n",
       "    <tr>\n",
       "      <th>197</th>\n",
       "      <td>128</td>\n",
       "      <td>127</td>\n",
       "      <td>6984.583893</td>\n",
       "      <td>7781.694824</td>\n",
       "      <td>797.110931</td>\n",
       "      <td>0.114124</td>\n",
       "    </tr>\n",
       "    <tr>\n",
       "      <th>195</th>\n",
       "      <td>127</td>\n",
       "      <td>126</td>\n",
       "      <td>6984.583893</td>\n",
       "      <td>7781.694824</td>\n",
       "      <td>797.110931</td>\n",
       "      <td>0.114124</td>\n",
       "    </tr>\n",
       "    <tr>\n",
       "      <th>203</th>\n",
       "      <td>132</td>\n",
       "      <td>314</td>\n",
       "      <td>909.930065</td>\n",
       "      <td>125.839600</td>\n",
       "      <td>784.090466</td>\n",
       "      <td>0.861704</td>\n",
       "    </tr>\n",
       "    <tr>\n",
       "      <th>562</th>\n",
       "      <td>314</td>\n",
       "      <td>313</td>\n",
       "      <td>909.930065</td>\n",
       "      <td>125.839600</td>\n",
       "      <td>784.090466</td>\n",
       "      <td>0.861704</td>\n",
       "    </tr>\n",
       "    <tr>\n",
       "      <th>560</th>\n",
       "      <td>313</td>\n",
       "      <td>325</td>\n",
       "      <td>947.839137</td>\n",
       "      <td>167.477859</td>\n",
       "      <td>780.361278</td>\n",
       "      <td>0.823306</td>\n",
       "    </tr>\n",
       "    <tr>\n",
       "      <th>208</th>\n",
       "      <td>136</td>\n",
       "      <td>135</td>\n",
       "      <td>8571.007247</td>\n",
       "      <td>9322.898438</td>\n",
       "      <td>751.891190</td>\n",
       "      <td>0.087725</td>\n",
       "    </tr>\n",
       "    <tr>\n",
       "      <th>206</th>\n",
       "      <td>135</td>\n",
       "      <td>134</td>\n",
       "      <td>8071.507247</td>\n",
       "      <td>8823.397461</td>\n",
       "      <td>751.890214</td>\n",
       "      <td>0.093154</td>\n",
       "    </tr>\n",
       "  </tbody>\n",
       "</table>\n",
       "</div>"
      ],
      "text/plain": [
       "     a_node  b_node     flow_bfw    flow_path   abs_change  rel_change\n",
       "202     132     131  7411.694466  8921.733398  1510.038932    0.203737\n",
       "201     131     130  7748.503715  8998.057617  1249.553902    0.161264\n",
       "297     198     197  8832.653569  9930.384766  1097.731197    0.124281\n",
       "296     197     196  8832.653569  9930.384766  1097.731197    0.124281\n",
       "300     200     199  8702.861494  9599.129883   896.268389    0.102985\n",
       "194     126     125  7621.919564  8477.782227   855.862662    0.112290\n",
       "298     199     198  8458.218625  9279.220703   821.002078    0.097066\n",
       "198     129     128  6984.583893  7781.694824   797.110931    0.114124\n",
       "197     128     127  6984.583893  7781.694824   797.110931    0.114124\n",
       "195     127     126  6984.583893  7781.694824   797.110931    0.114124\n",
       "203     132     314   909.930065   125.839600   784.090466    0.861704\n",
       "562     314     313   909.930065   125.839600   784.090466    0.861704\n",
       "560     313     325   947.839137   167.477859   780.361278    0.823306\n",
       "208     136     135  8571.007247  9322.898438   751.891190    0.087725\n",
       "206     135     134  8071.507247  8823.397461   751.890214    0.093154"
      ]
     },
     "metadata": {},
     "output_type": "display_data"
    }
   ],
   "source": [
    "full_result = bfw_res_.drop(columns=['time']).merge(path_res_.drop(columns=['time']), on=['a_node', 'b_node'], how='outer', suffixes=['_bfw', '_path'])\n",
    "sns.scatterplot(data=full_result, x='flow_bfw', y='flow_path');\n",
    "\n",
    "#full_result = full_result.merge(best_sol, on=['a_node', 'b_node'], how='outer')\n",
    "#sns.scatterplot(data=full_result, x='flow_best', y='flow_path');\n",
    "\n",
    "plt.show();\n",
    "full_result['abs_change'] = np.abs(full_result.flow_bfw - full_result.flow_path)\n",
    "full_result['rel_change'] = full_result['abs_change'] / full_result['flow_bfw']\n",
    "print(f\"max diff in flow = {full_result['abs_change'].max():.3f}\")\n",
    "print(f\"max rel diff in flow = {full_result['rel_change'].abs().max():.3f}%\")\n",
    "display(full_result[['a_node', 'b_node', 'flow_bfw', 'flow_path', 'abs_change', 'rel_change']].sort_values(by=['abs_change'], ascending=False).head(15))\n",
    "#display(full_result[['a_node', 'b_node', 'flow_bfw', 'flow_path', 'flow_best', 'abs_change', 'rel_change']].sort_values(by=['abs_change'], ascending=False).head(15))"
   ]
  },
  {
   "cell_type": "code",
   "execution_count": null,
   "metadata": {},
   "outputs": [],
   "source": []
  },
  {
   "cell_type": "code",
   "execution_count": null,
   "metadata": {},
   "outputs": [],
   "source": []
  }
 ],
 "metadata": {
  "kernelspec": {
   "display_name": "Python 3",
   "language": "python",
   "name": "python3"
  },
  "language_info": {
   "codemirror_mode": {
    "name": "ipython",
    "version": 3
   },
   "file_extension": ".py",
   "mimetype": "text/x-python",
   "name": "python",
   "nbconvert_exporter": "python",
   "pygments_lexer": "ipython3",
   "version": "3.7.4"
  }
 },
 "nbformat": 4,
 "nbformat_minor": 4
}
