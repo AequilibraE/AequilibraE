{
 "cells": [
  {
   "cell_type": "code",
   "execution_count": 1,
   "metadata": {
    "execution": {
     "iopub.execute_input": "2020-12-07T23:54:24.839393Z",
     "iopub.status.busy": "2020-12-07T23:54:24.839101Z",
     "iopub.status.idle": "2020-12-07T23:54:24.932148Z",
     "shell.execute_reply": "2020-12-07T23:54:24.930551Z",
     "shell.execute_reply.started": "2020-12-07T23:54:24.839313Z"
    }
   },
   "outputs": [],
   "source": [
    "%load_ext autoreload"
   ]
  },
  {
   "cell_type": "code",
   "execution_count": 2,
   "metadata": {
    "execution": {
     "iopub.execute_input": "2020-12-07T23:54:25.259804Z",
     "iopub.status.busy": "2020-12-07T23:54:25.259469Z",
     "iopub.status.idle": "2020-12-07T23:54:25.263970Z",
     "shell.execute_reply": "2020-12-07T23:54:25.262812Z",
     "shell.execute_reply.started": "2020-12-07T23:54:25.259745Z"
    }
   },
   "outputs": [],
   "source": [
    "%autoreload 2"
   ]
  },
  {
   "cell_type": "code",
   "execution_count": 3,
   "metadata": {
    "execution": {
     "iopub.execute_input": "2020-12-07T23:54:31.899955Z",
     "iopub.status.busy": "2020-12-07T23:54:31.899696Z",
     "iopub.status.idle": "2020-12-07T23:54:35.282287Z",
     "shell.execute_reply": "2020-12-07T23:54:35.281209Z",
     "shell.execute_reply.started": "2020-12-07T23:54:31.899925Z"
    }
   },
   "outputs": [],
   "source": [
    "import os\n",
    "import sys\n",
    "import logging\n",
    "\n",
    "import numpy as np\n",
    "import pandas as pd\n",
    "import seaborn as sns\n",
    "import matplotlib.pyplot as plt\n",
    "plt.style.use('fivethirtyeight')\n",
    "    \n",
    "aequ_dir = \"/mnt/c/Users/jan.zill/code/aequilibrae\"\n",
    "if aequ_dir not in sys.path:\n",
    "    sys.path.append(aequ_dir)\n",
    "\n",
    "from aequilibrae import logger  # noqa: E402\n",
    "\n",
    "import utils"
   ]
  },
  {
   "cell_type": "code",
   "execution_count": 4,
   "metadata": {
    "execution": {
     "iopub.execute_input": "2020-12-07T23:54:41.079873Z",
     "iopub.status.busy": "2020-12-07T23:54:41.079590Z",
     "iopub.status.idle": "2020-12-07T23:54:41.271074Z",
     "shell.execute_reply": "2020-12-07T23:54:41.270149Z",
     "shell.execute_reply.started": "2020-12-07T23:54:41.079836Z"
    }
   },
   "outputs": [],
   "source": [
    "stdout_handler = logging.StreamHandler(sys.stdout)\n",
    "logger.addHandler(stdout_handler)"
   ]
  },
  {
   "cell_type": "code",
   "execution_count": 14,
   "metadata": {
    "execution": {
     "iopub.execute_input": "2020-12-08T01:38:21.273051Z",
     "iopub.status.busy": "2020-12-08T01:38:21.272693Z",
     "iopub.status.idle": "2020-12-08T01:38:21.515634Z",
     "shell.execute_reply": "2020-12-08T01:38:21.514680Z",
     "shell.execute_reply.started": "2020-12-08T01:38:21.273011Z"
    }
   },
   "outputs": [],
   "source": [
    "code_dir = \"/mnt/c/Users/jan.zill/code\"\n",
    "tntp_dir = os.path.join(code_dir, \"TransportationNetworks_aequilibrae\")\n",
    "scenario = \"Anaheim\" #\"Berlin-Center\" #\n",
    "folder = os.path.join(tntp_dir, scenario)\n",
    "\n",
    "if scenario == \"Berlin-Center\":\n",
    "    link_file =  \"berlin-center_net_clean.tntp\" # DUPLICATE NODES REMOVED  \"berlin-center_net_clean_bpr_altered.tntp\" #\n",
    "    trip_file =  \"berlin-center_trips.tntp\"\n",
    "else:\n",
    "    link_file =  f\"{scenario}_net.tntp\"\n",
    "    trip_file =  f\"{scenario}_trips.tntp\"\n",
    "    \n",
    "# best_known_solution = list(filter(lambda x: \"_flow.tntp\" in x, os.listdir(folder)))\n",
    "# if len(best_known_solution) == 1:\n",
    "#     sol_file = best_known_solution[0]\n",
    "# else:\n",
    "#     sol_file = None\n",
    "if scenario == \"Anaheim\":\n",
    "    best_sol = pd.read_csv(os.path.join(folder, f\"{scenario}_flow.tntp\"), sep='\\t', skiprows=5).rename(columns={\"Tail \": \"a_node\", \"Head \": \"b_node\", \"Volume \": \"flow_best\"}).drop(columns=['~ ', ': ', '; ', 'Cost '])"
   ]
  },
  {
   "cell_type": "code",
   "execution_count": 19,
   "metadata": {
    "execution": {
     "iopub.execute_input": "2020-12-08T01:39:28.478387Z",
     "iopub.status.busy": "2020-12-08T01:39:28.478129Z",
     "iopub.status.idle": "2020-12-08T01:39:28.662566Z",
     "shell.execute_reply": "2020-12-08T01:39:28.661755Z",
     "shell.execute_reply.started": "2020-12-08T01:39:28.478358Z"
    }
   },
   "outputs": [],
   "source": [
    "block_centroids = True\n",
    "r_gap = 1e-5"
   ]
  },
  {
   "cell_type": "code",
   "execution_count": 20,
   "metadata": {
    "execution": {
     "iopub.execute_input": "2020-12-08T01:39:29.022942Z",
     "iopub.status.busy": "2020-12-08T01:39:29.022680Z",
     "iopub.status.idle": "2020-12-08T01:39:38.043976Z",
     "shell.execute_reply": "2020-12-08T01:39:38.043156Z",
     "shell.execute_reply.started": "2020-12-08T01:39:29.022911Z"
    }
   },
   "outputs": [
    {
     "name": "stdout",
     "output_type": "stream",
     "text": [
      "bush-based parallel Assignment STATS\n",
      " Initialised data structures, num nodes = 416, num links = 914\n",
      " 0th iteration done, cost = 1296185.75\n",
      "Iteration 1, computed gap: 0.004539900226943727, computed objective: 1291063.0, stepsize: 0.3639256612373998\n",
      "Iteration 2, computed gap: 0.004076406980663139, computed objective: 1290323.25, stepsize: 0.22731330551893153\n",
      "Iteration 3, computed gap: 0.0027829722638348375, computed objective: 1290238.75, stepsize: 0.21653805330208006\n",
      "Iteration 4, computed gap: 0.0019026463166040841, computed objective: 1290184.875, stepsize: 0.34174530222797084\n",
      "Iteration 5, computed gap: 0.0012160353756275333, computed objective: 1290168.0, stepsize: 0.3198312615670417\n",
      "Iteration 6, computed gap: 0.0007710481017328963, computed objective: 1290151.75, stepsize: 0.44777249947191017\n",
      "Iteration 7, computed gap: 0.0005577956898813463, computed objective: 1290147.625, stepsize: 0.16160726523964458\n",
      "Iteration 8, computed gap: 0.0004997441015611725, computed objective: 1290146.0, stepsize: 0.15607246312111042\n",
      "Iteration 9, computed gap: 0.0003715691060942605, computed objective: 1290145.5, stepsize: 0.21516893457802538\n",
      "Iteration 10, computed gap: 0.00014547860200075924, computed objective: 1290142.875, stepsize: 0.8792675541954753\n",
      "Iteration 11, computed gap: 4.403033051192384e-05, computed objective: 1290141.375, stepsize: 0.08890993674089566\n",
      "Iteration 12, computed gap: 4.2404807245155496e-05, computed objective: 1290141.875, stepsize: 0.07646552235167299\n",
      "Iteration 13, computed gap: 2.7178281119533132e-05, computed objective: 1290141.5, stepsize: 0.3429027404362691\n",
      "Iteration 14, computed gap: 2.591908942484178e-05, computed objective: 1290141.5, stepsize: 0.08441390606765523\n",
      "Iteration 15, computed gap: 2.1349573355977647e-05, computed objective: 1290141.625, stepsize: 0.13511339282373724\n",
      "Iteration 16, computed gap: 2.048164753731818e-05, computed objective: 1290141.75, stepsize: 0.1470214979385857\n",
      "Iteration 17, computed gap: 1.6328361684636583e-05, computed objective: 1290141.5, stepsize: 0.10667474197604238\n",
      "Iteration 18, computed gap: 1.5635155314219773e-05, computed objective: 1290141.625, stepsize: 0.08243312565649076\n",
      "Iteration 19, computed gap: 1.404070777122346e-05, computed objective: 1290141.75, stepsize: 0.05727603031559747\n",
      "Error finding stepsize: left derivative is -0, right derivative is -0\n",
      "Iteration 20, computed gap: 1.3896750803321645e-05, computed objective: 1290141.5, stepsize: 0.01\n",
      "Iteration 21, computed gap: 3.543555157969891e-06, computed objective: 1290141.375, stepsize: 0.748491902169706\n",
      "bush-based Assignment finished. 21 iterations and 3.543555157969891e-06 final gap\n",
      "CPU times: user 35.5 s, sys: 25.4 s, total: 1min\n",
      "Wall time: 8.85 s\n"
     ]
    }
   ],
   "source": [
    "%%time\n",
    "path_res_ = utils.get_assignment_solution(tntp_dir, scenario, link_file, method=\"bush-based\", block_centroids=block_centroids, rgap=r_gap)"
   ]
  },
  {
   "cell_type": "code",
   "execution_count": 21,
   "metadata": {
    "execution": {
     "iopub.execute_input": "2020-12-08T01:39:45.805224Z",
     "iopub.status.busy": "2020-12-08T01:39:45.805020Z",
     "iopub.status.idle": "2020-12-08T01:39:53.686993Z",
     "shell.execute_reply": "2020-12-08T01:39:53.679993Z",
     "shell.execute_reply.started": "2020-12-08T01:39:45.805198Z"
    }
   },
   "outputs": [
    {
     "name": "stdout",
     "output_type": "stream",
     "text": [
      "bfw Assignment STATS\n",
      "Iteration, RelativeGap, stepsize\n",
      "1,inf,1.0\n",
      "2,0.01813536336911382,0.25610159320627757\n",
      "# Alert: Adding 0.3333333333333333 to stepsize to make it non-zero\n",
      "3,0.0036265961074987314,0.3333333333333333\n",
      "# Alert: Adding 0.25 to stepsize to make it non-zero\n",
      "4,0.002300502121447229,0.25\n",
      "# Alert: Adding 0.2 to stepsize to make it non-zero\n",
      "5,0.0016660925434687926,0.2\n",
      "# Alert: Adding 0.16666666666666666 to stepsize to make it non-zero\n",
      "6,0.0013674148395812515,0.16666666666666666\n",
      "# Alert: Adding 0.14285714285714285 to stepsize to make it non-zero\n",
      "7,0.001152166503599817,0.14285714285714285\n",
      "# Alert: Adding 0.125 to stepsize to make it non-zero\n",
      "8,0.0009970861455201863,0.125\n",
      "# Alert: Adding 0.1111111111111111 to stepsize to make it non-zero\n",
      "9,0.0008651833121821925,0.1111111111111111\n",
      "# Alert: Adding 0.1 to stepsize to make it non-zero\n",
      "10,0.0007703386571853957,0.1\n",
      "# Alert: Adding 0.09090909090909091 to stepsize to make it non-zero\n",
      "11,0.0007020823903876606,0.09090909090909091\n",
      "# Alert: Adding 0.08333333333333333 to stepsize to make it non-zero\n",
      "12,0.0006422461626371793,0.08333333333333333\n",
      "# Alert: Adding 0.07692307692307693 to stepsize to make it non-zero\n",
      "13,0.0006030434677605843,0.07692307692307693\n",
      "# Alert: Adding 0.07142857142857142 to stepsize to make it non-zero\n",
      "14,0.0005495796093376509,0.07142857142857142\n",
      "# Alert: Adding 0.06666666666666667 to stepsize to make it non-zero\n",
      "15,0.0005081352582801882,0.06666666666666667\n",
      "# Alert: Adding 0.0625 to stepsize to make it non-zero\n",
      "16,0.0004701264942392174,0.0625\n",
      "# Alert: Adding 0.058823529411764705 to stepsize to make it non-zero\n",
      "17,0.0004443697559438923,0.058823529411764705\n",
      "# Alert: Adding 0.05555555555555555 to stepsize to make it non-zero\n",
      "18,0.000425515805627661,0.05555555555555555\n",
      "# Alert: Adding 0.05263157894736842 to stepsize to make it non-zero\n",
      "19,0.00040691297597438296,0.05263157894736842\n",
      "# Alert: Adding 0.05 to stepsize to make it non-zero\n",
      "20,0.0003860657145175427,0.05\n",
      "# Alert: Adding 0.047619047619047616 to stepsize to make it non-zero\n",
      "21,0.0003637272863349092,0.047619047619047616\n",
      "# Alert: Adding 0.045454545454545456 to stepsize to make it non-zero\n",
      "22,0.00034762466592619715,0.045454545454545456\n",
      "# Alert: Adding 0.043478260869565216 to stepsize to make it non-zero\n",
      "23,0.00033060779275701635,0.043478260869565216\n",
      "24,4.494643338125088e-05,0.8637214703929273\n",
      "25,0.0007679047465918663,0.13725402413455745\n",
      "26,0.0003016365753372452,0.24546474593269452\n",
      "27,0.00014890314439211123,0.3667503783914301\n",
      "28,8.870504187307238e-05,0.17294446263117583\n",
      "29,6.918516807901876e-05,0.8281051129939263\n",
      "30,8.191691257878547e-05,0.11799305672625619\n",
      "31,4.858992888626275e-05,0.07593869328811799\n",
      "32,4.129098172715539e-05,0.04031882028249851\n",
      "33,2.870770779756986e-05,0.2586594364396028\n",
      "34,2.648758466600017e-05,0.16621961188814874\n",
      "35,5.291088021988313e-05,0.45491666768972766\n",
      "36,4.702002423472101e-05,0.42569062018310383\n",
      "37,3.728018402779809e-05,0.08597025408464878\n",
      "38,2.7626172122147508e-05,0.08649357737197383\n",
      "39,2.384384139961029e-05,0.16501162641968\n",
      "40,2.3753468036528622e-05,0.08492862194200734\n",
      "41,1.4962870955507773e-05,0.8561723542076553\n",
      "42,2.667538437413593e-05,0.04340447171531431\n",
      "43,1.3691320512796164e-05,0.02869528714344119\n",
      "44,7.868417365188242e-06,0.056623888867415144\n",
      "45,5.654620936990713e-06,0.00771879801279185\n",
      "bfw Assignment finished. 45 iterations and 5.654620936990713e-06 final gap\n",
      "CPU times: user 21.1 s, sys: 578 ms, total: 21.7 s\n",
      "Wall time: 7.68 s\n"
     ]
    }
   ],
   "source": [
    "%%time\n",
    "bfw_rgap = r_gap #1e-5\n",
    "bfw_res_ = utils.get_assignment_solution(tntp_dir, scenario, link_file, method=\"bfw\", block_centroids=block_centroids, rgap=bfw_rgap)"
   ]
  },
  {
   "cell_type": "code",
   "execution_count": 22,
   "metadata": {
    "execution": {
     "iopub.execute_input": "2020-12-08T01:39:58.530288Z",
     "iopub.status.busy": "2020-12-08T01:39:58.530043Z",
     "iopub.status.idle": "2020-12-08T01:39:58.980299Z",
     "shell.execute_reply": "2020-12-08T01:39:58.979005Z",
     "shell.execute_reply.started": "2020-12-08T01:39:58.530248Z"
    }
   },
   "outputs": [
    {
     "data": {
      "image/png": "[encoded data removed]",
      "text/plain": [
       "<Figure size 432x288 with 1 Axes>"
      ]
     },
     "metadata": {},
     "output_type": "display_data"
    },
    {
     "name": "stdout",
     "output_type": "stream",
     "text": [
      "max diff in flow = 1590.601\n",
      "max rel diff in flow = 111617.446%\n"
     ]
    },
    {
     "data": {
      "text/html": [
       "<div>\n",
       "<style scoped>\n",
       "    .dataframe tbody tr th:only-of-type {\n",
       "        vertical-align: middle;\n",
       "    }\n",
       "\n",
       "    .dataframe tbody tr th {\n",
       "        vertical-align: top;\n",
       "    }\n",
       "\n",
       "    .dataframe thead th {\n",
       "        text-align: right;\n",
       "    }\n",
       "</style>\n",
       "<table border=\"1\" class=\"dataframe\">\n",
       "  <thead>\n",
       "    <tr style=\"text-align: right;\">\n",
       "      <th></th>\n",
       "      <th>a_node</th>\n",
       "      <th>b_node</th>\n",
       "      <th>flow_bfw</th>\n",
       "      <th>flow_path</th>\n",
       "      <th>abs_change</th>\n",
       "      <th>rel_change</th>\n",
       "    </tr>\n",
       "  </thead>\n",
       "  <tbody>\n",
       "    <tr>\n",
       "      <th>202</th>\n",
       "      <td>132</td>\n",
       "      <td>131</td>\n",
       "      <td>7331.132200</td>\n",
       "      <td>8921.733398</td>\n",
       "      <td>1590.601198</td>\n",
       "      <td>0.216965</td>\n",
       "    </tr>\n",
       "    <tr>\n",
       "      <th>201</th>\n",
       "      <td>131</td>\n",
       "      <td>130</td>\n",
       "      <td>7668.129373</td>\n",
       "      <td>8998.057617</td>\n",
       "      <td>1329.928244</td>\n",
       "      <td>0.173436</td>\n",
       "    </tr>\n",
       "    <tr>\n",
       "      <th>296</th>\n",
       "      <td>197</td>\n",
       "      <td>196</td>\n",
       "      <td>8855.358444</td>\n",
       "      <td>9930.183594</td>\n",
       "      <td>1074.825150</td>\n",
       "      <td>0.121376</td>\n",
       "    </tr>\n",
       "    <tr>\n",
       "      <th>297</th>\n",
       "      <td>198</td>\n",
       "      <td>197</td>\n",
       "      <td>8855.358444</td>\n",
       "      <td>9930.183594</td>\n",
       "      <td>1074.825150</td>\n",
       "      <td>0.121376</td>\n",
       "    </tr>\n",
       "    <tr>\n",
       "      <th>300</th>\n",
       "      <td>200</td>\n",
       "      <td>199</td>\n",
       "      <td>8725.755597</td>\n",
       "      <td>9598.928711</td>\n",
       "      <td>873.173114</td>\n",
       "      <td>0.100068</td>\n",
       "    </tr>\n",
       "    <tr>\n",
       "      <th>203</th>\n",
       "      <td>132</td>\n",
       "      <td>314</td>\n",
       "      <td>987.055452</td>\n",
       "      <td>125.839600</td>\n",
       "      <td>861.215852</td>\n",
       "      <td>0.872510</td>\n",
       "    </tr>\n",
       "    <tr>\n",
       "      <th>562</th>\n",
       "      <td>314</td>\n",
       "      <td>313</td>\n",
       "      <td>987.055452</td>\n",
       "      <td>125.839600</td>\n",
       "      <td>861.215852</td>\n",
       "      <td>0.872510</td>\n",
       "    </tr>\n",
       "    <tr>\n",
       "      <th>194</th>\n",
       "      <td>126</td>\n",
       "      <td>125</td>\n",
       "      <td>7618.290543</td>\n",
       "      <td>8477.782227</td>\n",
       "      <td>859.491684</td>\n",
       "      <td>0.112819</td>\n",
       "    </tr>\n",
       "    <tr>\n",
       "      <th>560</th>\n",
       "      <td>313</td>\n",
       "      <td>325</td>\n",
       "      <td>1024.955586</td>\n",
       "      <td>167.477859</td>\n",
       "      <td>857.477727</td>\n",
       "      <td>0.836600</td>\n",
       "    </tr>\n",
       "    <tr>\n",
       "      <th>208</th>\n",
       "      <td>136</td>\n",
       "      <td>135</td>\n",
       "      <td>8499.694989</td>\n",
       "      <td>9322.898438</td>\n",
       "      <td>823.203448</td>\n",
       "      <td>0.096851</td>\n",
       "    </tr>\n",
       "    <tr>\n",
       "      <th>206</th>\n",
       "      <td>135</td>\n",
       "      <td>134</td>\n",
       "      <td>8000.194989</td>\n",
       "      <td>8823.397461</td>\n",
       "      <td>823.202472</td>\n",
       "      <td>0.102898</td>\n",
       "    </tr>\n",
       "    <tr>\n",
       "      <th>195</th>\n",
       "      <td>127</td>\n",
       "      <td>126</td>\n",
       "      <td>6980.990014</td>\n",
       "      <td>7781.694824</td>\n",
       "      <td>800.704810</td>\n",
       "      <td>0.114698</td>\n",
       "    </tr>\n",
       "    <tr>\n",
       "      <th>198</th>\n",
       "      <td>129</td>\n",
       "      <td>128</td>\n",
       "      <td>6980.990014</td>\n",
       "      <td>7781.694824</td>\n",
       "      <td>800.704810</td>\n",
       "      <td>0.114698</td>\n",
       "    </tr>\n",
       "    <tr>\n",
       "      <th>197</th>\n",
       "      <td>128</td>\n",
       "      <td>127</td>\n",
       "      <td>6980.990014</td>\n",
       "      <td>7781.694824</td>\n",
       "      <td>800.704810</td>\n",
       "      <td>0.114698</td>\n",
       "    </tr>\n",
       "    <tr>\n",
       "      <th>298</th>\n",
       "      <td>199</td>\n",
       "      <td>198</td>\n",
       "      <td>8481.154962</td>\n",
       "      <td>9279.019531</td>\n",
       "      <td>797.864569</td>\n",
       "      <td>0.094075</td>\n",
       "    </tr>\n",
       "  </tbody>\n",
       "</table>\n",
       "</div>"
      ],
      "text/plain": [
       "     a_node  b_node     flow_bfw    flow_path   abs_change  rel_change\n",
       "202     132     131  7331.132200  8921.733398  1590.601198    0.216965\n",
       "201     131     130  7668.129373  8998.057617  1329.928244    0.173436\n",
       "296     197     196  8855.358444  9930.183594  1074.825150    0.121376\n",
       "297     198     197  8855.358444  9930.183594  1074.825150    0.121376\n",
       "300     200     199  8725.755597  9598.928711   873.173114    0.100068\n",
       "203     132     314   987.055452   125.839600   861.215852    0.872510\n",
       "562     314     313   987.055452   125.839600   861.215852    0.872510\n",
       "194     126     125  7618.290543  8477.782227   859.491684    0.112819\n",
       "560     313     325  1024.955586   167.477859   857.477727    0.836600\n",
       "208     136     135  8499.694989  9322.898438   823.203448    0.096851\n",
       "206     135     134  8000.194989  8823.397461   823.202472    0.102898\n",
       "195     127     126  6980.990014  7781.694824   800.704810    0.114698\n",
       "198     129     128  6980.990014  7781.694824   800.704810    0.114698\n",
       "197     128     127  6980.990014  7781.694824   800.704810    0.114698\n",
       "298     199     198  8481.154962  9279.019531   797.864569    0.094075"
      ]
     },
     "metadata": {},
     "output_type": "display_data"
    }
   ],
   "source": [
    "full_result = bfw_res_.drop(columns=['time']).merge(path_res_.drop(columns=['time']), on=['a_node', 'b_node'], how='outer', suffixes=['_bfw', '_path'])\n",
    "sns.scatterplot(data=full_result, x='flow_bfw', y='flow_path');\n",
    "\n",
    "#full_result = full_result.merge(best_sol, on=['a_node', 'b_node'], how='outer')\n",
    "#sns.scatterplot(data=full_result, x='flow_best', y='flow_path');\n",
    "\n",
    "plt.show();\n",
    "full_result['abs_change'] = np.abs(full_result.flow_bfw - full_result.flow_path)\n",
    "full_result['rel_change'] = full_result['abs_change'] / full_result['flow_bfw']\n",
    "print(f\"max diff in flow = {full_result['abs_change'].max():.3f}\")\n",
    "print(f\"max rel diff in flow = {full_result['rel_change'].abs().max():.3f}%\")\n",
    "display(full_result[['a_node', 'b_node', 'flow_bfw', 'flow_path', 'abs_change', 'rel_change']].sort_values(by=['abs_change'], ascending=False).head(15))\n",
    "#display(full_result[['a_node', 'b_node', 'flow_bfw', 'flow_path', 'flow_best', 'abs_change', 'rel_change']].sort_values(by=['abs_change'], ascending=False).head(15))"
   ]
  },
  {
   "cell_type": "code",
   "execution_count": null,
   "metadata": {},
   "outputs": [],
   "source": []
  },
  {
   "cell_type": "code",
   "execution_count": null,
   "metadata": {},
   "outputs": [],
   "source": []
  }
 ],
 "metadata": {
  "kernelspec": {
   "display_name": "Python 3",
   "language": "python",
   "name": "python3"
  },
  "language_info": {
   "codemirror_mode": {
    "name": "ipython",
    "version": 3
   },
   "file_extension": ".py",
   "mimetype": "text/x-python",
   "name": "python",
   "nbconvert_exporter": "python",
   "pygments_lexer": "ipython3",
   "version": "3.7.4"
  }
 },
 "nbformat": 4,
 "nbformat_minor": 4
}
