{
 "cells": [
  {
   "cell_type": "code",
   "execution_count": 1,
   "metadata": {
    "execution": {
     "iopub.execute_input": "2020-12-08T23:10:42.686268Z",
     "iopub.status.busy": "2020-12-08T23:10:42.685952Z",
     "iopub.status.idle": "2020-12-08T23:10:42.787213Z",
     "shell.execute_reply": "2020-12-08T23:10:42.786349Z",
     "shell.execute_reply.started": "2020-12-08T23:10:42.686205Z"
    }
   },
   "outputs": [],
   "source": [
    "%load_ext autoreload"
   ]
  },
  {
   "cell_type": "code",
   "execution_count": 2,
   "metadata": {
    "execution": {
     "iopub.execute_input": "2020-12-08T23:10:43.350640Z",
     "iopub.status.busy": "2020-12-08T23:10:43.350326Z",
     "iopub.status.idle": "2020-12-08T23:10:43.355030Z",
     "shell.execute_reply": "2020-12-08T23:10:43.353922Z",
     "shell.execute_reply.started": "2020-12-08T23:10:43.350601Z"
    }
   },
   "outputs": [],
   "source": [
    "%autoreload 2"
   ]
  },
  {
   "cell_type": "code",
   "execution_count": 3,
   "metadata": {
    "execution": {
     "iopub.execute_input": "2020-12-08T23:10:43.800990Z",
     "iopub.status.busy": "2020-12-08T23:10:43.800722Z",
     "iopub.status.idle": "2020-12-08T23:10:46.229008Z",
     "shell.execute_reply": "2020-12-08T23:10:46.227543Z",
     "shell.execute_reply.started": "2020-12-08T23:10:43.800960Z"
    }
   },
   "outputs": [
    {
     "name": "stderr",
     "output_type": "stream",
     "text": [
      "/mnt/c/Users/jan.zill/code/aequilibrae/aequilibrae/parameters.py:51: UserWarning: No pre-existing parameter file exists for this project. Will use default\n",
      "  warn('No pre-existing parameter file exists for this project. Will use default')\n",
      "/mnt/c/Users/jan.zill/code/aequilibrae/aequilibrae/parameters.py:51: UserWarning: No pre-existing parameter file exists for this project. Will use default\n",
      "  warn('No pre-existing parameter file exists for this project. Will use default')\n"
     ]
    }
   ],
   "source": [
    "import os\n",
    "import sys\n",
    "import logging\n",
    "\n",
    "import numpy as np\n",
    "import pandas as pd\n",
    "import seaborn as sns\n",
    "import matplotlib.pyplot as plt\n",
    "plt.style.use('fivethirtyeight')\n",
    "    \n",
    "aequ_dir = \"/mnt/c/Users/jan.zill/code/aequilibrae\"\n",
    "if aequ_dir not in sys.path:\n",
    "    sys.path.append(aequ_dir)\n",
    "\n",
    "from aequilibrae import logger  # noqa: E402\n",
    "\n",
    "import utils"
   ]
  },
  {
   "cell_type": "code",
   "execution_count": 4,
   "metadata": {
    "execution": {
     "iopub.execute_input": "2020-12-08T23:10:47.253365Z",
     "iopub.status.busy": "2020-12-08T23:10:47.253046Z",
     "iopub.status.idle": "2020-12-08T23:10:47.447623Z",
     "shell.execute_reply": "2020-12-08T23:10:47.446517Z",
     "shell.execute_reply.started": "2020-12-08T23:10:47.253335Z"
    }
   },
   "outputs": [],
   "source": [
    "stdout_handler = logging.StreamHandler(sys.stdout)\n",
    "formatter = logging.Formatter(\"%(asctime)s;%(name)s;%(levelname)s ; %(message)s\")\n",
    "stdout_handler.setFormatter(formatter)\n",
    "logger.addHandler(stdout_handler)"
   ]
  },
  {
   "cell_type": "code",
   "execution_count": 5,
   "metadata": {
    "execution": {
     "iopub.execute_input": "2020-12-08T23:10:53.480131Z",
     "iopub.status.busy": "2020-12-08T23:10:53.479877Z",
     "iopub.status.idle": "2020-12-08T23:10:53.672621Z",
     "shell.execute_reply": "2020-12-08T23:10:53.671795Z",
     "shell.execute_reply.started": "2020-12-08T23:10:53.480108Z"
    }
   },
   "outputs": [],
   "source": [
    "code_dir = \"/mnt/c/Users/jan.zill/code\"\n",
    "tntp_dir = os.path.join(code_dir, \"TransportationNetworks_aequilibrae\")\n",
    "scenario = \"Anaheim\" #\"Berlin-Center\"#\"Barcelona\" #\n",
    "folder = os.path.join(tntp_dir, scenario)\n",
    "\n",
    "if scenario == \"Berlin-Center\":\n",
    "    link_file =  \"berlin-center_net_clean.tntp\" # DUPLICATE NODES REMOVED  \"berlin-center_net_clean_bpr_altered.tntp\" #\n",
    "    trip_file =  \"berlin-center_trips.tntp\"\n",
    "else:\n",
    "    link_file =  f\"{scenario}_net.tntp\"\n",
    "    trip_file =  f\"{scenario}_trips.tntp\"\n",
    "    \n",
    "# best_known_solution = list(filter(lambda x: \"_flow.tntp\" in x, os.listdir(folder)))\n",
    "# if len(best_known_solution) == 1:\n",
    "#     sol_file = best_known_solution[0]\n",
    "# else:\n",
    "#     sol_file = None\n",
    "if scenario == \"Anaheim\":\n",
    "    best_sol = pd.read_csv(os.path.join(folder, f\"{scenario}_flow.tntp\"), sep='\\t', skiprows=5).rename(columns={\"Tail \": \"a_node\", \"Head \": \"b_node\", \"Volume \": \"flow_best\"}).drop(columns=['~ ', ': ', '; ', 'Cost '])\n",
    "    \n",
    "if scenario == \"Barcelona\":\n",
    "     best_sol = pd.read_csv(os.path.join(folder, f\"{scenario}_flow.tntp\"), sep='\\t').rename(columns={\"From \": \"a_node\", \"To \": \"b_node\", \"Volume \": \"flow_best\"}).drop(columns=['Cost '])"
   ]
  },
  {
   "cell_type": "code",
   "execution_count": 7,
   "metadata": {
    "execution": {
     "iopub.execute_input": "2020-12-08T23:10:58.233501Z",
     "iopub.status.busy": "2020-12-08T23:10:58.233294Z",
     "iopub.status.idle": "2020-12-08T23:10:58.419270Z",
     "shell.execute_reply": "2020-12-08T23:10:58.418354Z",
     "shell.execute_reply.started": "2020-12-08T23:10:58.233478Z"
    }
   },
   "outputs": [],
   "source": [
    "block_centroids = True\n",
    "r_gap = 1e-5"
   ]
  },
  {
   "cell_type": "code",
   "execution_count": 8,
   "metadata": {
    "execution": {
     "iopub.execute_input": "2020-12-08T23:10:59.937371Z",
     "iopub.status.busy": "2020-12-08T23:10:59.937129Z",
     "iopub.status.idle": "2020-12-08T23:11:26.457812Z",
     "shell.execute_reply": "2020-12-08T23:11:26.456839Z",
     "shell.execute_reply.started": "2020-12-08T23:10:59.937332Z"
    }
   },
   "outputs": [
    {
     "name": "stdout",
     "output_type": "stream",
     "text": [
      "2020-12-09 09:11:00,292;aequilibrae;INFO ; bush-based sequential Assignment STATS\n"
     ]
    },
    {
     "name": "stderr",
     "output_type": "stream",
     "text": [
      "/mnt/c/Users/jan.zill/code/aequilibrae/aequilibrae/parameters.py:51: UserWarning: No pre-existing parameter file exists for this project. Will use default\n",
      "  warn('No pre-existing parameter file exists for this project. Will use default')\n"
     ]
    },
    {
     "name": "stdout",
     "output_type": "stream",
     "text": [
      "2020-12-09 09:11:00,375;aequilibrae;INFO ;  Initialised data structures, num nodes = 416, num links = 914\n",
      "2020-12-09 09:11:00,450;aequilibrae;INFO ;  0th iteration done, cost = 1296185.75\n",
      "2020-12-09 09:11:02,171;aequilibrae;INFO ; Iteration 1, computed gap: 0.0020655976391339426, computed objective: 1287869.375\n",
      "2020-12-09 09:11:03,916;aequilibrae;INFO ; Iteration 2, computed gap: 0.00010550308297574418, computed objective: 1286209.75\n",
      "2020-12-09 09:11:05,603;aequilibrae;INFO ; Iteration 3, computed gap: 1.4592302448046546e-05, computed objective: 1286160.125\n",
      "2020-12-09 09:11:07,303;aequilibrae;INFO ; Iteration 4, computed gap: 7.937644360911378e-06, computed objective: 1286154.25\n",
      "2020-12-09 09:11:08,993;aequilibrae;INFO ; Iteration 5, computed gap: 3.618895446977355e-06, computed objective: 1286153.625\n",
      "2020-12-09 09:11:10,709;aequilibrae;INFO ; Iteration 6, computed gap: 2.30993420702319e-06, computed objective: 1286153.375\n",
      "2020-12-09 09:11:12,495;aequilibrae;INFO ; Iteration 7, computed gap: 1.4719380965200202e-06, computed objective: 1286153.75\n",
      "2020-12-09 09:11:14,288;aequilibrae;INFO ; Iteration 8, computed gap: 9.565200428385268e-07, computed objective: 1286154.0\n",
      "2020-12-09 09:11:15,973;aequilibrae;INFO ; Iteration 9, computed gap: 6.304278439284161e-07, computed objective: 1286153.625\n",
      "2020-12-09 09:11:17,727;aequilibrae;INFO ; Iteration 10, computed gap: 4.277649955364282e-07, computed objective: 1286154.5\n",
      "2020-12-09 09:11:19,347;aequilibrae;INFO ; Iteration 11, computed gap: 2.9698605652495047e-07, computed objective: 1286153.0\n",
      "2020-12-09 09:11:21,040;aequilibrae;INFO ; Iteration 12, computed gap: 2.1045558495913497e-07, computed objective: 1286154.125\n",
      "2020-12-09 09:11:22,788;aequilibrae;INFO ; Iteration 13, computed gap: 1.524989772239138e-07, computed objective: 1286153.875\n",
      "2020-12-09 09:11:24,786;aequilibrae;INFO ; Iteration 14, computed gap: 1.1402888977496417e-07, computed objective: 1286153.25\n",
      "2020-12-09 09:11:26,440;aequilibrae;INFO ; Iteration 15, computed gap: 9.127390199203944e-08, computed objective: 1286153.875\n",
      "2020-12-09 09:11:26,449;aequilibrae;INFO ; bush-based Assignment finished. 15 iterations and 9.127390199203944e-08 final gap\n",
      "CPU times: user 2min 50s, sys: 22.1 s, total: 3min 12s\n",
      "Wall time: 26.3 s\n"
     ]
    }
   ],
   "source": [
    "%%time\n",
    "do_parallel = False\n",
    "if do_parallel:\n",
    "    method = \"bush-based-parallel\"\n",
    "else:\n",
    "    method = \"bush-based\"\n",
    "path_res_ = utils.get_assignment_solution(tntp_dir, scenario, link_file, method=method, block_centroids=block_centroids, rgap=r_gap)"
   ]
  },
  {
   "cell_type": "code",
   "execution_count": 8,
   "metadata": {
    "execution": {
     "iopub.execute_input": "2020-12-08T06:37:48.467386Z",
     "iopub.status.busy": "2020-12-08T06:37:48.466971Z",
     "iopub.status.idle": "2020-12-08T06:37:57.048608Z",
     "shell.execute_reply": "2020-12-08T06:37:57.047566Z",
     "shell.execute_reply.started": "2020-12-08T06:37:48.467332Z"
    }
   },
   "outputs": [
    {
     "name": "stdout",
     "output_type": "stream",
     "text": [
      "bfw Assignment STATS\n",
      "Iteration, RelativeGap, stepsize\n",
      "1,inf,1.0\n",
      "2,0.01813536336911382,0.25610159320627746\n",
      "# Alert: Adding 0.3333333333333333 to stepsize to make it non-zero\n",
      "3,0.0036265961074987314,0.3333333333333333\n",
      "# Alert: Adding 0.25 to stepsize to make it non-zero\n",
      "4,0.002300502121447229,0.25\n",
      "# Alert: Adding 0.2 to stepsize to make it non-zero\n",
      "5,0.0016660925434689557,0.2\n",
      "# Alert: Adding 0.16666666666666666 to stepsize to make it non-zero\n",
      "6,0.0013674148395812515,0.16666666666666666\n",
      "# Alert: Adding 0.14285714285714285 to stepsize to make it non-zero\n",
      "7,0.001152166503599817,0.14285714285714285\n",
      "# Alert: Adding 0.125 to stepsize to make it non-zero\n",
      "8,0.0009970861455203498,0.125\n",
      "# Alert: Adding 0.1111111111111111 to stepsize to make it non-zero\n",
      "9,0.0008651833121821925,0.1111111111111111\n",
      "# Alert: Adding 0.1 to stepsize to make it non-zero\n",
      "10,0.0007703386571853957,0.1\n",
      "# Alert: Adding 0.09090909090909091 to stepsize to make it non-zero\n",
      "11,0.0007020823903876606,0.09090909090909091\n",
      "# Alert: Adding 0.08333333333333333 to stepsize to make it non-zero\n",
      "12,0.0006422461626371793,0.08333333333333333\n",
      "# Alert: Adding 0.07692307692307693 to stepsize to make it non-zero\n",
      "13,0.0006030434677604205,0.07692307692307693\n",
      "# Alert: Adding 0.07142857142857142 to stepsize to make it non-zero\n",
      "14,0.0005495796093378146,0.07142857142857142\n",
      "# Alert: Adding 0.06666666666666667 to stepsize to make it non-zero\n",
      "15,0.000508135258280352,0.06666666666666667\n",
      "# Alert: Adding 0.0625 to stepsize to make it non-zero\n",
      "16,0.0004701264942392174,0.0625\n",
      "# Alert: Adding 0.058823529411764705 to stepsize to make it non-zero\n",
      "17,0.0004443697559438923,0.058823529411764705\n",
      "# Alert: Adding 0.05555555555555555 to stepsize to make it non-zero\n",
      "18,0.0004255158056278248,0.05555555555555555\n",
      "# Alert: Adding 0.05263157894736842 to stepsize to make it non-zero\n",
      "19,0.00040691297597438296,0.05263157894736842\n",
      "# Alert: Adding 0.05 to stepsize to make it non-zero\n",
      "20,0.0003860657145175426,0.05\n",
      "# Alert: Adding 0.047619047619047616 to stepsize to make it non-zero\n",
      "21,0.0003637272863349092,0.047619047619047616\n",
      "# Alert: Adding 0.045454545454545456 to stepsize to make it non-zero\n",
      "22,0.00034762466592619715,0.045454545454545456\n",
      "# Alert: Adding 0.043478260869565216 to stepsize to make it non-zero\n",
      "23,0.00033060779275701635,0.043478260869565216\n",
      "24,4.494643338108695e-05,0.8637214703930381\n",
      "25,0.0007679047465920304,0.1372540241345758\n",
      "26,0.00030163657533708113,0.24546474593272818\n",
      "27,0.0001489031443924395,0.3667503783916847\n",
      "28,8.870504187307231e-05,0.17294446263192384\n",
      "29,6.918516807901876e-05,0.8281051129983895\n",
      "30,8.19169125787855e-05,0.11799305672637937\n",
      "31,4.858992888577096e-05,0.07593869328776495\n",
      "32,4.129098172699142e-05,0.04031882028205061\n",
      "33,2.8707707797405858e-05,0.2586594364391167\n",
      "34,2.648758466583617e-05,0.16621961188783926\n",
      "35,5.2910880219719114e-05,0.4549166676866388\n",
      "36,4.702002423439301e-05,0.42569062017492454\n",
      "37,3.7280184027142255e-05,0.08597025408379409\n",
      "38,2.7626172122147555e-05,0.0864935773716474\n",
      "39,2.384384139944639e-05,0.16501162639403966\n",
      "40,2.3753468036692476e-05,0.08492862194725632\n",
      "41,1.496287095468803e-05,0.8561723541736491\n",
      "42,2.6675384372168227e-05,0.043404471712273594\n",
      "43,1.369132051263218e-05,0.02869528714293192\n",
      "44,7.868417365024258e-06,0.056623888862226475\n",
      "45,5.654620938138328e-06,0.007718798013136675\n",
      "bfw Assignment finished. 45 iterations and 5.654620938138328e-06 final gap\n",
      "CPU times: user 24.3 s, sys: 641 ms, total: 25 s\n",
      "Wall time: 8.39 s\n"
     ]
    }
   ],
   "source": [
    "%%time\n",
    "bfw_rgap = r_gap #1e-5 #\n",
    "bfw_res_ = utils.get_assignment_solution(tntp_dir, scenario, link_file, method=\"bfw\", block_centroids=block_centroids, rgap=bfw_rgap)"
   ]
  },
  {
   "cell_type": "code",
   "execution_count": 9,
   "metadata": {
    "execution": {
     "iopub.execute_input": "2020-12-08T06:37:57.051998Z",
     "iopub.status.busy": "2020-12-08T06:37:57.051572Z",
     "iopub.status.idle": "2020-12-08T06:37:57.576921Z",
     "shell.execute_reply": "2020-12-08T06:37:57.576034Z",
     "shell.execute_reply.started": "2020-12-08T06:37:57.051946Z"
    }
   },
   "outputs": [
    {
     "data": {
      "image/png": "[encoded data removed]",
      "text/plain": [
       "<Figure size 432x288 with 1 Axes>"
      ]
     },
     "metadata": {},
     "output_type": "display_data"
    },
    {
     "name": "stdout",
     "output_type": "stream",
     "text": [
      "max diff in flow = 123.427\n",
      "max rel diff in flow = 1.016%\n"
     ]
    },
    {
     "data": {
      "text/html": [
       "<div>\n",
       "<style scoped>\n",
       "    .dataframe tbody tr th:only-of-type {\n",
       "        vertical-align: middle;\n",
       "    }\n",
       "\n",
       "    .dataframe tbody tr th {\n",
       "        vertical-align: top;\n",
       "    }\n",
       "\n",
       "    .dataframe thead th {\n",
       "        text-align: right;\n",
       "    }\n",
       "</style>\n",
       "<table border=\"1\" class=\"dataframe\">\n",
       "  <thead>\n",
       "    <tr style=\"text-align: right;\">\n",
       "      <th></th>\n",
       "      <th>a_node</th>\n",
       "      <th>b_node</th>\n",
       "      <th>flow_bfw</th>\n",
       "      <th>flow_path</th>\n",
       "      <th>abs_change</th>\n",
       "      <th>rel_change</th>\n",
       "    </tr>\n",
       "  </thead>\n",
       "  <tbody>\n",
       "    <tr>\n",
       "      <th>607</th>\n",
       "      <td>327</td>\n",
       "      <td>328</td>\n",
       "      <td>750.660952</td>\n",
       "      <td>627.233582</td>\n",
       "      <td>123.427370</td>\n",
       "      <td>0.164425</td>\n",
       "    </tr>\n",
       "    <tr>\n",
       "      <th>669</th>\n",
       "      <td>343</td>\n",
       "      <td>329</td>\n",
       "      <td>1216.344357</td>\n",
       "      <td>1314.427368</td>\n",
       "      <td>98.083011</td>\n",
       "      <td>0.080638</td>\n",
       "    </tr>\n",
       "    <tr>\n",
       "      <th>611</th>\n",
       "      <td>328</td>\n",
       "      <td>329</td>\n",
       "      <td>937.753684</td>\n",
       "      <td>839.672546</td>\n",
       "      <td>98.081137</td>\n",
       "      <td>0.104592</td>\n",
       "    </tr>\n",
       "    <tr>\n",
       "      <th>662</th>\n",
       "      <td>341</td>\n",
       "      <td>327</td>\n",
       "      <td>1049.363347</td>\n",
       "      <td>970.569702</td>\n",
       "      <td>78.793645</td>\n",
       "      <td>0.075087</td>\n",
       "    </tr>\n",
       "    <tr>\n",
       "      <th>663</th>\n",
       "      <td>341</td>\n",
       "      <td>342</td>\n",
       "      <td>614.924917</td>\n",
       "      <td>689.757874</td>\n",
       "      <td>74.832957</td>\n",
       "      <td>0.121694</td>\n",
       "    </tr>\n",
       "    <tr>\n",
       "      <th>667</th>\n",
       "      <td>342</td>\n",
       "      <td>343</td>\n",
       "      <td>434.688057</td>\n",
       "      <td>498.108704</td>\n",
       "      <td>63.420647</td>\n",
       "      <td>0.145899</td>\n",
       "    </tr>\n",
       "    <tr>\n",
       "      <th>503</th>\n",
       "      <td>298</td>\n",
       "      <td>134</td>\n",
       "      <td>317.992663</td>\n",
       "      <td>374.106812</td>\n",
       "      <td>56.114148</td>\n",
       "      <td>0.176464</td>\n",
       "    </tr>\n",
       "    <tr>\n",
       "      <th>508</th>\n",
       "      <td>299</td>\n",
       "      <td>298</td>\n",
       "      <td>630.692798</td>\n",
       "      <td>686.806763</td>\n",
       "      <td>56.113965</td>\n",
       "      <td>0.088972</td>\n",
       "    </tr>\n",
       "    <tr>\n",
       "      <th>515</th>\n",
       "      <td>301</td>\n",
       "      <td>300</td>\n",
       "      <td>372.594141</td>\n",
       "      <td>428.706787</td>\n",
       "      <td>56.112646</td>\n",
       "      <td>0.150600</td>\n",
       "    </tr>\n",
       "    <tr>\n",
       "      <th>520</th>\n",
       "      <td>302</td>\n",
       "      <td>301</td>\n",
       "      <td>372.594141</td>\n",
       "      <td>428.706787</td>\n",
       "      <td>56.112646</td>\n",
       "      <td>0.150600</td>\n",
       "    </tr>\n",
       "    <tr>\n",
       "      <th>524</th>\n",
       "      <td>303</td>\n",
       "      <td>42</td>\n",
       "      <td>353.094161</td>\n",
       "      <td>409.206757</td>\n",
       "      <td>56.112596</td>\n",
       "      <td>0.158917</td>\n",
       "    </tr>\n",
       "    <tr>\n",
       "      <th>65</th>\n",
       "      <td>42</td>\n",
       "      <td>302</td>\n",
       "      <td>353.094161</td>\n",
       "      <td>409.206757</td>\n",
       "      <td>56.112596</td>\n",
       "      <td>0.158917</td>\n",
       "    </tr>\n",
       "    <tr>\n",
       "      <th>526</th>\n",
       "      <td>303</td>\n",
       "      <td>289</td>\n",
       "      <td>2251.703290</td>\n",
       "      <td>2195.593262</td>\n",
       "      <td>56.110028</td>\n",
       "      <td>0.024919</td>\n",
       "    </tr>\n",
       "    <tr>\n",
       "      <th>100</th>\n",
       "      <td>61</td>\n",
       "      <td>136</td>\n",
       "      <td>3058.109862</td>\n",
       "      <td>3006.757324</td>\n",
       "      <td>51.352538</td>\n",
       "      <td>0.016792</td>\n",
       "    </tr>\n",
       "    <tr>\n",
       "      <th>160</th>\n",
       "      <td>103</td>\n",
       "      <td>61</td>\n",
       "      <td>3058.107461</td>\n",
       "      <td>3006.757324</td>\n",
       "      <td>51.350136</td>\n",
       "      <td>0.016791</td>\n",
       "    </tr>\n",
       "  </tbody>\n",
       "</table>\n",
       "</div>"
      ],
      "text/plain": [
       "     a_node  b_node     flow_bfw    flow_path  abs_change  rel_change\n",
       "607     327     328   750.660952   627.233582  123.427370    0.164425\n",
       "669     343     329  1216.344357  1314.427368   98.083011    0.080638\n",
       "611     328     329   937.753684   839.672546   98.081137    0.104592\n",
       "662     341     327  1049.363347   970.569702   78.793645    0.075087\n",
       "663     341     342   614.924917   689.757874   74.832957    0.121694\n",
       "667     342     343   434.688057   498.108704   63.420647    0.145899\n",
       "503     298     134   317.992663   374.106812   56.114148    0.176464\n",
       "508     299     298   630.692798   686.806763   56.113965    0.088972\n",
       "515     301     300   372.594141   428.706787   56.112646    0.150600\n",
       "520     302     301   372.594141   428.706787   56.112646    0.150600\n",
       "524     303      42   353.094161   409.206757   56.112596    0.158917\n",
       "65       42     302   353.094161   409.206757   56.112596    0.158917\n",
       "526     303     289  2251.703290  2195.593262   56.110028    0.024919\n",
       "100      61     136  3058.109862  3006.757324   51.352538    0.016792\n",
       "160     103      61  3058.107461  3006.757324   51.350136    0.016791"
      ]
     },
     "metadata": {},
     "output_type": "display_data"
    }
   ],
   "source": [
    "full_result = bfw_res_.drop(columns=['time']).merge(path_res_.drop(columns=['time']), on=['a_node', 'b_node'], how='outer', suffixes=['_bfw', '_path'])\n",
    "sns.scatterplot(data=full_result, x='flow_bfw', y='flow_path');\n",
    "\n",
    "#full_result = full_result.merge(best_sol, on=['a_node', 'b_node'], how='outer')\n",
    "#sns.scatterplot(data=full_result, x='flow_best', y='flow_path');\n",
    "\n",
    "plt.show();\n",
    "full_result['abs_change'] = np.abs(full_result.flow_bfw - full_result.flow_path)\n",
    "full_result['rel_change'] = full_result['abs_change'] / full_result['flow_bfw']\n",
    "print(f\"max diff in flow = {full_result['abs_change'].max():.3f}\")\n",
    "print(f\"max rel diff in flow = {full_result['rel_change'].abs().max():.3f}%\")\n",
    "display(full_result[['a_node', 'b_node', 'flow_bfw', 'flow_path', 'abs_change', 'rel_change']].sort_values(by=['abs_change'], ascending=False).head(15))\n",
    "#display(full_result[['a_node', 'b_node', 'flow_bfw', 'flow_path', 'flow_best', 'abs_change', 'rel_change']].sort_values(by=['abs_change'], ascending=False).head(15))"
   ]
  },
  {
   "cell_type": "code",
   "execution_count": null,
   "metadata": {},
   "outputs": [],
   "source": []
  },
  {
   "cell_type": "code",
   "execution_count": null,
   "metadata": {},
   "outputs": [],
   "source": []
  }
 ],
 "metadata": {
  "kernelspec": {
   "display_name": "Python 3",
   "language": "python",
   "name": "python3"
  },
  "language_info": {
   "codemirror_mode": {
    "name": "ipython",
    "version": 3
   },
   "file_extension": ".py",
   "mimetype": "text/x-python",
   "name": "python",
   "nbconvert_exporter": "python",
   "pygments_lexer": "ipython3",
   "version": "3.7.4"
  }
 },
 "nbformat": 4,
 "nbformat_minor": 4
}
