{
 "cells": [
  {
   "cell_type": "code",
   "execution_count": 1,
   "metadata": {
    "execution": {
     "iopub.execute_input": "2020-12-07T15:00:27.126799Z",
     "iopub.status.busy": "2020-12-07T15:00:27.126468Z",
     "iopub.status.idle": "2020-12-07T15:00:27.229346Z",
     "shell.execute_reply": "2020-12-07T15:00:27.228099Z",
     "shell.execute_reply.started": "2020-12-07T15:00:27.126729Z"
    }
   },
   "outputs": [],
   "source": [
    "%load_ext autoreload"
   ]
  },
  {
   "cell_type": "code",
   "execution_count": 2,
   "metadata": {
    "execution": {
     "iopub.execute_input": "2020-12-07T15:00:27.343713Z",
     "iopub.status.busy": "2020-12-07T15:00:27.343472Z",
     "iopub.status.idle": "2020-12-07T15:00:27.348252Z",
     "shell.execute_reply": "2020-12-07T15:00:27.347111Z",
     "shell.execute_reply.started": "2020-12-07T15:00:27.343676Z"
    }
   },
   "outputs": [],
   "source": [
    "%autoreload 2"
   ]
  },
  {
   "cell_type": "code",
   "execution_count": 3,
   "metadata": {
    "execution": {
     "iopub.execute_input": "2020-12-07T15:00:27.537016Z",
     "iopub.status.busy": "2020-12-07T15:00:27.536728Z",
     "iopub.status.idle": "2020-12-07T15:00:29.831570Z",
     "shell.execute_reply": "2020-12-07T15:00:29.830496Z",
     "shell.execute_reply.started": "2020-12-07T15:00:27.536990Z"
    }
   },
   "outputs": [],
   "source": [
    "import os\n",
    "import sys\n",
    "import logging\n",
    "\n",
    "import numpy as np\n",
    "import pandas as pd\n",
    "import seaborn as sns\n",
    "import matplotlib.pyplot as plt\n",
    "plt.style.use('fivethirtyeight')\n",
    "    \n",
    "aequ_dir = \"/mnt/c/Users/jan.zill/code/aequilibrae\"\n",
    "if aequ_dir not in sys.path:\n",
    "    sys.path.append(aequ_dir)\n",
    "\n",
    "from aequilibrae import logger  # noqa: E402\n",
    "stdout_handler = logging.StreamHandler(sys.stdout)\n",
    "logger.addHandler(stdout_handler)\n",
    "\n",
    "import utils"
   ]
  },
  {
   "cell_type": "code",
   "execution_count": 4,
   "metadata": {
    "execution": {
     "iopub.execute_input": "2020-12-07T15:00:29.833249Z",
     "iopub.status.busy": "2020-12-07T15:00:29.833013Z",
     "iopub.status.idle": "2020-12-07T15:00:30.034924Z",
     "shell.execute_reply": "2020-12-07T15:00:30.033396Z",
     "shell.execute_reply.started": "2020-12-07T15:00:29.833222Z"
    }
   },
   "outputs": [],
   "source": [
    "code_dir = \"/mnt/c/Users/jan.zill/code\"\n",
    "tntp_dir = os.path.join(code_dir, \"TransportationNetworks_aequilibrae\")\n",
    "scenario = \"Anaheim\" #\"Berlin-Center\" #\n",
    "folder = os.path.join(tntp_dir, scenario)\n",
    "\n",
    "if scenario == \"Berlin-Center\":\n",
    "    link_file =  \"berlin-center_net_clean.tntp\" # DUPLICATE NODES REMOVED  \"berlin-center_net_clean_bpr_altered.tntp\" #\n",
    "    trip_file =  \"berlin-center_trips.tntp\"\n",
    "else:\n",
    "    link_file =  f\"{scenario}_net.tntp\"\n",
    "    trip_file =  f\"{scenario}_trips.tntp\"\n",
    "    \n",
    "# best_known_solution = list(filter(lambda x: \"_flow.tntp\" in x, os.listdir(folder)))\n",
    "# if len(best_known_solution) == 1:\n",
    "#     sol_file = best_known_solution[0]\n",
    "# else:\n",
    "#     sol_file = None\n",
    "if scenario == \"Anaheim\":\n",
    "    best_sol = pd.read_csv(os.path.join(folder, f\"{scenario}_flow.tntp\"), sep='\\t', skiprows=5).rename(columns={\"Tail \": \"a_node\", \"Head \": \"b_node\", \"Volume \": \"flow_best\"}).drop(columns=['~ ', ': ', '; ', 'Cost '])"
   ]
  },
  {
   "cell_type": "code",
   "execution_count": 19,
   "metadata": {
    "execution": {
     "iopub.execute_input": "2020-12-07T15:12:21.090105Z",
     "iopub.status.busy": "2020-12-07T15:12:21.089792Z",
     "iopub.status.idle": "2020-12-07T15:12:21.327660Z",
     "shell.execute_reply": "2020-12-07T15:12:21.326482Z",
     "shell.execute_reply.started": "2020-12-07T15:12:21.090062Z"
    }
   },
   "outputs": [],
   "source": [
    "block_centroids = True\n",
    "r_gap = 1e-6"
   ]
  },
  {
   "cell_type": "code",
   "execution_count": 21,
   "metadata": {
    "execution": {
     "iopub.execute_input": "2020-12-07T15:14:55.516646Z",
     "iopub.status.busy": "2020-12-07T15:14:55.516375Z",
     "iopub.status.idle": "2020-12-07T15:15:10.036183Z",
     "shell.execute_reply": "2020-12-07T15:15:10.035396Z",
     "shell.execute_reply.started": "2020-12-07T15:14:55.516621Z"
    }
   },
   "outputs": [
    {
     "name": "stdout",
     "output_type": "stream",
     "text": [
      "bush-based Assignment STATS\n"
     ]
    },
    {
     "name": "stderr",
     "output_type": "stream",
     "text": [
      "[autoreload of aequilibrae.paths.traffic_assignment failed: Traceback (most recent call last):\n",
      "  File \"/mnt/c/Users/jan.zill/code/aequilibrae/.venv/lib/python3.7/site-packages/IPython/extensions/autoreload.py\", line 245, in check\n",
      "    superreload(m, reload, self.old_objects)\n",
      "  File \"/mnt/c/Users/jan.zill/code/aequilibrae/.venv/lib/python3.7/site-packages/IPython/extensions/autoreload.py\", line 410, in superreload\n",
      "    update_generic(old_obj, new_obj)\n",
      "  File \"/mnt/c/Users/jan.zill/code/aequilibrae/.venv/lib/python3.7/site-packages/IPython/extensions/autoreload.py\", line 347, in update_generic\n",
      "    update(a, b)\n",
      "  File \"/mnt/c/Users/jan.zill/code/aequilibrae/.venv/lib/python3.7/site-packages/IPython/extensions/autoreload.py\", line 317, in update_class\n",
      "    update_instances(old, new)\n",
      "  File \"/mnt/c/Users/jan.zill/code/aequilibrae/.venv/lib/python3.7/site-packages/IPython/extensions/autoreload.py\", line 280, in update_instances\n",
      "    ref.__class__ = new\n",
      "  File \"/mnt/c/Users/jan.zill/code/aequilibrae/aequilibrae/paths/traffic_assignment.py\", line 103, in __setattr__\n",
      "    raise ValueError(message)\n",
      "ValueError: trafficAssignment class does not have property __class__\n",
      "]\n"
     ]
    },
    {
     "name": "stdout",
     "output_type": "stream",
     "text": [
      " Initialised data structures, num nodes = 416, num links = 914\n",
      " 0th iteration done, cost = 1296185.75\n",
      "check convergence: 0.0020655976391339426, want 1e-06, iter max = 250\n",
      "Iteration 1, computed gap: 0.0020655976391339426, computed objective: 1287869.375\n",
      "check convergence: 0.00010550308297574418, want 1e-06, iter max = 250\n",
      "Iteration 2, computed gap: 0.00010550308297574418, computed objective: 1286209.75\n",
      "check convergence: 1.4592302448046546e-05, want 1e-06, iter max = 250\n",
      "Iteration 3, computed gap: 1.4592302448046546e-05, computed objective: 1286160.125\n",
      "check convergence: 7.937644360911378e-06, want 1e-06, iter max = 250\n",
      "Iteration 4, computed gap: 7.937644360911378e-06, computed objective: 1286154.25\n",
      "check convergence: 3.618895446977355e-06, want 1e-06, iter max = 250\n",
      "Iteration 5, computed gap: 3.618895446977355e-06, computed objective: 1286153.625\n",
      "check convergence: 2.30993420702319e-06, want 1e-06, iter max = 250\n",
      "Iteration 6, computed gap: 2.30993420702319e-06, computed objective: 1286153.375\n",
      "check convergence: 1.4719380965200202e-06, want 1e-06, iter max = 250\n",
      "Iteration 7, computed gap: 1.4719380965200202e-06, computed objective: 1286153.75\n",
      "check convergence: 9.565200428385268e-07, want 1e-06, iter max = 250\n",
      "Iteration 8, computed gap: 9.565200428385268e-07, computed objective: 1286154.0\n",
      "bush-based Assignment finished. 8 iterations and 9.565200428385268e-07 final gap\n",
      "CPU times: user 1min 30s, sys: 12.6 s, total: 1min 43s\n",
      "Wall time: 14.3 s\n"
     ]
    }
   ],
   "source": [
    "%%time\n",
    "path_res_ = utils.get_assignment_solution(tntp_dir, scenario, link_file, method=\"bush-based\", block_centroids=block_centroids, rgap=r_gap)"
   ]
  },
  {
   "cell_type": "code",
   "execution_count": 8,
   "metadata": {
    "execution": {
     "iopub.execute_input": "2020-12-07T15:01:00.636355Z",
     "iopub.status.busy": "2020-12-07T15:01:00.635833Z",
     "iopub.status.idle": "2020-12-07T15:01:07.309504Z",
     "shell.execute_reply": "2020-12-07T15:01:07.308229Z",
     "shell.execute_reply.started": "2020-12-07T15:01:00.636300Z"
    }
   },
   "outputs": [
    {
     "name": "stdout",
     "output_type": "stream",
     "text": [
      "bfw Assignment STATS\n",
      "Iteration, RelativeGap, stepsize\n",
      "1,inf,1.0\n",
      "2,0.01813536336911382,0.2561015932062777\n",
      "# Alert: Adding 0.3333333333333333 to stepsize to make it non-zero\n",
      "3,0.0036265961074987314,0.3333333333333333\n",
      "# Alert: Adding 0.25 to stepsize to make it non-zero\n",
      "4,0.0023005021214473923,0.25\n",
      "# Alert: Adding 0.2 to stepsize to make it non-zero\n",
      "5,0.0016660925434687926,0.2\n",
      "# Alert: Adding 0.16666666666666666 to stepsize to make it non-zero\n",
      "6,0.0013674148395810882,0.16666666666666666\n",
      "# Alert: Adding 0.14285714285714285 to stepsize to make it non-zero\n",
      "7,0.0011521665035999808,0.14285714285714285\n",
      "# Alert: Adding 0.125 to stepsize to make it non-zero\n",
      "8,0.0009970861455201863,0.125\n",
      "# Alert: Adding 0.1111111111111111 to stepsize to make it non-zero\n",
      "9,0.0008651833121821925,0.1111111111111111\n",
      "# Alert: Adding 0.1 to stepsize to make it non-zero\n",
      "10,0.0007703386571853957,0.1\n",
      "# Alert: Adding 0.09090909090909091 to stepsize to make it non-zero\n",
      "11,0.0007020823903878244,0.09090909090909091\n",
      "# Alert: Adding 0.08333333333333333 to stepsize to make it non-zero\n",
      "12,0.0006422461626371793,0.08333333333333333\n",
      "# Alert: Adding 0.07692307692307693 to stepsize to make it non-zero\n",
      "13,0.0006030434677605842,0.07692307692307693\n",
      "# Alert: Adding 0.07142857142857142 to stepsize to make it non-zero\n",
      "14,0.0005495796093378146,0.07142857142857142\n",
      "# Alert: Adding 0.06666666666666667 to stepsize to make it non-zero\n",
      "15,0.000508135258280352,0.06666666666666667\n",
      "# Alert: Adding 0.0625 to stepsize to make it non-zero\n",
      "16,0.0004701264942392174,0.0625\n",
      "# Alert: Adding 0.058823529411764705 to stepsize to make it non-zero\n",
      "17,0.0004443697559438923,0.058823529411764705\n",
      "# Alert: Adding 0.05555555555555555 to stepsize to make it non-zero\n",
      "18,0.0004255158056278248,0.05555555555555555\n",
      "# Alert: Adding 0.05263157894736842 to stepsize to make it non-zero\n",
      "19,0.00040691297597438296,0.05263157894736842\n",
      "# Alert: Adding 0.05 to stepsize to make it non-zero\n",
      "20,0.00038606571451770645,0.05\n",
      "# Alert: Adding 0.047619047619047616 to stepsize to make it non-zero\n",
      "21,0.0003637272863349092,0.047619047619047616\n",
      "# Alert: Adding 0.045454545454545456 to stepsize to make it non-zero\n",
      "22,0.00034762466592619715,0.045454545454545456\n",
      "# Alert: Adding 0.043478260869565216 to stepsize to make it non-zero\n",
      "23,0.00033060779275701635,0.043478260869565216\n",
      "24,4.494643338092302e-05,0.8637214703930755\n",
      "25,0.0007679047465920303,0.13725402413458304\n",
      "26,0.00030163657533724533,0.24546474593276027\n",
      "27,0.0001489031443924395,0.36675037839171837\n",
      "28,8.870504187340021e-05,0.1729444626317338\n",
      "29,6.918516807901874e-05,0.8281051129961048\n",
      "30,8.191691257878545e-05,0.11799305672637413\n",
      "31,4.8589928886098795e-05,0.07593869328812988\n",
      "32,4.1290981727155366e-05,0.040318820282307426\n",
      "33,2.8707707797733792e-05,0.2586594364367306\n",
      "34,2.6487584665836174e-05,0.16621961188798298\n",
      "35,5.291088021939118e-05,0.4549166677035019\n",
      "36,4.7020024234393084e-05,0.42569062019110165\n",
      "37,3.728018402829001e-05,0.08597025408582794\n",
      "38,2.7626172122639244e-05,0.0864935773724649\n",
      "39,2.384384139813489e-05,0.1650116264074918\n",
      "40,2.375346803423353e-05,0.0849286219261566\n",
      "41,1.4962870954524056e-05,0.8561723541781285\n",
      "42,2.6675384373152154e-05,0.04340447171389568\n",
      "43,1.3691320512304344e-05,0.028695287142443734\n",
      "44,7.868417365844047e-06,0.05662388886904463\n",
      "45,5.654620935843084e-06,0.007718798010497642\n",
      "bfw Assignment finished. 45 iterations and 5.654620935843084e-06 final gap\n",
      "CPU times: user 13.8 s, sys: 609 ms, total: 14.4 s\n",
      "Wall time: 6.48 s\n"
     ]
    }
   ],
   "source": [
    "%%time\n",
    "bfw_res_ = utils.get_assignment_solution(tntp_dir, scenario, link_file, method=\"bfw\", block_centroids=block_centroids, rgap=r_gap)"
   ]
  },
  {
   "cell_type": "code",
   "execution_count": 22,
   "metadata": {
    "execution": {
     "iopub.execute_input": "2020-12-07T15:15:32.392563Z",
     "iopub.status.busy": "2020-12-07T15:15:32.392315Z",
     "iopub.status.idle": "2020-12-07T15:15:32.929125Z",
     "shell.execute_reply": "2020-12-07T15:15:32.927858Z",
     "shell.execute_reply.started": "2020-12-07T15:15:32.392522Z"
    }
   },
   "outputs": [
    {
     "data": {
      "image/png": "[encoded data removed]",
      "text/plain": [
       "<Figure size 432x288 with 1 Axes>"
      ]
     },
     "metadata": {},
     "output_type": "display_data"
    },
    {
     "name": "stdout",
     "output_type": "stream",
     "text": [
      "max diff in flow = 72.704\n",
      "max rel diff in flow = 1.016%\n"
     ]
    },
    {
     "data": {
      "text/html": [
       "<div>\n",
       "<style scoped>\n",
       "    .dataframe tbody tr th:only-of-type {\n",
       "        vertical-align: middle;\n",
       "    }\n",
       "\n",
       "    .dataframe tbody tr th {\n",
       "        vertical-align: top;\n",
       "    }\n",
       "\n",
       "    .dataframe thead th {\n",
       "        text-align: right;\n",
       "    }\n",
       "</style>\n",
       "<table border=\"1\" class=\"dataframe\">\n",
       "  <thead>\n",
       "    <tr style=\"text-align: right;\">\n",
       "      <th></th>\n",
       "      <th>a_node</th>\n",
       "      <th>b_node</th>\n",
       "      <th>flow_bfw</th>\n",
       "      <th>flow_path</th>\n",
       "      <th>flow_best</th>\n",
       "      <th>abs_change</th>\n",
       "      <th>rel_change</th>\n",
       "    </tr>\n",
       "  </thead>\n",
       "  <tbody>\n",
       "    <tr>\n",
       "      <th>706</th>\n",
       "      <td>355</td>\n",
       "      <td>343</td>\n",
       "      <td>821.095740</td>\n",
       "      <td>893.799866</td>\n",
       "      <td>893.800000</td>\n",
       "      <td>72.704126</td>\n",
       "      <td>0.088545</td>\n",
       "    </tr>\n",
       "    <tr>\n",
       "      <th>708</th>\n",
       "      <td>355</td>\n",
       "      <td>356</td>\n",
       "      <td>363.125583</td>\n",
       "      <td>312.125946</td>\n",
       "      <td>312.232482</td>\n",
       "      <td>50.999637</td>\n",
       "      <td>0.140446</td>\n",
       "    </tr>\n",
       "    <tr>\n",
       "      <th>54</th>\n",
       "      <td>36</td>\n",
       "      <td>394</td>\n",
       "      <td>367.796023</td>\n",
       "      <td>317.200043</td>\n",
       "      <td>317.200000</td>\n",
       "      <td>50.595980</td>\n",
       "      <td>0.137565</td>\n",
       "    </tr>\n",
       "    <tr>\n",
       "      <th>53</th>\n",
       "      <td>36</td>\n",
       "      <td>378</td>\n",
       "      <td>565.003977</td>\n",
       "      <td>615.599854</td>\n",
       "      <td>615.600000</td>\n",
       "      <td>50.595877</td>\n",
       "      <td>0.089550</td>\n",
       "    </tr>\n",
       "    <tr>\n",
       "      <th>503</th>\n",
       "      <td>298</td>\n",
       "      <td>134</td>\n",
       "      <td>317.992663</td>\n",
       "      <td>357.897064</td>\n",
       "      <td>352.705677</td>\n",
       "      <td>39.904401</td>\n",
       "      <td>0.125488</td>\n",
       "    </tr>\n",
       "    <tr>\n",
       "      <th>508</th>\n",
       "      <td>299</td>\n",
       "      <td>298</td>\n",
       "      <td>630.692798</td>\n",
       "      <td>670.597168</td>\n",
       "      <td>665.405677</td>\n",
       "      <td>39.904370</td>\n",
       "      <td>0.063271</td>\n",
       "    </tr>\n",
       "    <tr>\n",
       "      <th>515</th>\n",
       "      <td>301</td>\n",
       "      <td>300</td>\n",
       "      <td>372.594141</td>\n",
       "      <td>412.497101</td>\n",
       "      <td>407.305677</td>\n",
       "      <td>39.902960</td>\n",
       "      <td>0.107095</td>\n",
       "    </tr>\n",
       "    <tr>\n",
       "      <th>520</th>\n",
       "      <td>302</td>\n",
       "      <td>301</td>\n",
       "      <td>372.594141</td>\n",
       "      <td>412.497101</td>\n",
       "      <td>407.305677</td>\n",
       "      <td>39.902960</td>\n",
       "      <td>0.107095</td>\n",
       "    </tr>\n",
       "    <tr>\n",
       "      <th>524</th>\n",
       "      <td>303</td>\n",
       "      <td>42</td>\n",
       "      <td>353.094161</td>\n",
       "      <td>392.997040</td>\n",
       "      <td>387.805677</td>\n",
       "      <td>39.902879</td>\n",
       "      <td>0.113009</td>\n",
       "    </tr>\n",
       "    <tr>\n",
       "      <th>65</th>\n",
       "      <td>42</td>\n",
       "      <td>302</td>\n",
       "      <td>353.094161</td>\n",
       "      <td>392.997040</td>\n",
       "      <td>387.805677</td>\n",
       "      <td>39.902879</td>\n",
       "      <td>0.113009</td>\n",
       "    </tr>\n",
       "    <tr>\n",
       "      <th>526</th>\n",
       "      <td>303</td>\n",
       "      <td>289</td>\n",
       "      <td>2251.703290</td>\n",
       "      <td>2211.803223</td>\n",
       "      <td>2216.994323</td>\n",
       "      <td>39.900067</td>\n",
       "      <td>0.017720</td>\n",
       "    </tr>\n",
       "    <tr>\n",
       "      <th>206</th>\n",
       "      <td>135</td>\n",
       "      <td>134</td>\n",
       "      <td>8000.194989</td>\n",
       "      <td>7960.922852</td>\n",
       "      <td>7965.825590</td>\n",
       "      <td>39.272137</td>\n",
       "      <td>0.004909</td>\n",
       "    </tr>\n",
       "    <tr>\n",
       "      <th>208</th>\n",
       "      <td>136</td>\n",
       "      <td>135</td>\n",
       "      <td>8499.694989</td>\n",
       "      <td>8460.425781</td>\n",
       "      <td>8465.325590</td>\n",
       "      <td>39.269208</td>\n",
       "      <td>0.004620</td>\n",
       "    </tr>\n",
       "    <tr>\n",
       "      <th>607</th>\n",
       "      <td>327</td>\n",
       "      <td>328</td>\n",
       "      <td>750.660952</td>\n",
       "      <td>789.479065</td>\n",
       "      <td>786.585885</td>\n",
       "      <td>38.818113</td>\n",
       "      <td>0.051712</td>\n",
       "    </tr>\n",
       "    <tr>\n",
       "      <th>100</th>\n",
       "      <td>61</td>\n",
       "      <td>136</td>\n",
       "      <td>3058.109862</td>\n",
       "      <td>3020.303223</td>\n",
       "      <td>3020.302248</td>\n",
       "      <td>37.806639</td>\n",
       "      <td>0.012363</td>\n",
       "    </tr>\n",
       "  </tbody>\n",
       "</table>\n",
       "</div>"
      ],
      "text/plain": [
       "     a_node  b_node     flow_bfw    flow_path    flow_best  abs_change  \\\n",
       "706     355     343   821.095740   893.799866   893.800000   72.704126   \n",
       "708     355     356   363.125583   312.125946   312.232482   50.999637   \n",
       "54       36     394   367.796023   317.200043   317.200000   50.595980   \n",
       "53       36     378   565.003977   615.599854   615.600000   50.595877   \n",
       "503     298     134   317.992663   357.897064   352.705677   39.904401   \n",
       "508     299     298   630.692798   670.597168   665.405677   39.904370   \n",
       "515     301     300   372.594141   412.497101   407.305677   39.902960   \n",
       "520     302     301   372.594141   412.497101   407.305677   39.902960   \n",
       "524     303      42   353.094161   392.997040   387.805677   39.902879   \n",
       "65       42     302   353.094161   392.997040   387.805677   39.902879   \n",
       "526     303     289  2251.703290  2211.803223  2216.994323   39.900067   \n",
       "206     135     134  8000.194989  7960.922852  7965.825590   39.272137   \n",
       "208     136     135  8499.694989  8460.425781  8465.325590   39.269208   \n",
       "607     327     328   750.660952   789.479065   786.585885   38.818113   \n",
       "100      61     136  3058.109862  3020.303223  3020.302248   37.806639   \n",
       "\n",
       "     rel_change  \n",
       "706    0.088545  \n",
       "708    0.140446  \n",
       "54     0.137565  \n",
       "53     0.089550  \n",
       "503    0.125488  \n",
       "508    0.063271  \n",
       "515    0.107095  \n",
       "520    0.107095  \n",
       "524    0.113009  \n",
       "65     0.113009  \n",
       "526    0.017720  \n",
       "206    0.004909  \n",
       "208    0.004620  \n",
       "607    0.051712  \n",
       "100    0.012363  "
      ]
     },
     "metadata": {},
     "output_type": "display_data"
    }
   ],
   "source": [
    "full_result = bfw_res_.drop(columns=['time']).merge(path_res_.drop(columns=['time']), on=['a_node', 'b_node'], how='outer', suffixes=['_bfw', '_path']).merge(best_sol, on=['a_node', 'b_node'], how='outer')\n",
    "#sns.scatterplot(data=full_result, x='flow_bfw', y='flow_path');\n",
    "sns.scatterplot(data=full_result, x='flow_best', y='flow_path');\n",
    "plt.show();\n",
    "full_result['abs_change'] = np.abs(full_result.flow_bfw - full_result.flow_path)\n",
    "full_result['rel_change'] = full_result['abs_change'] / full_result['flow_bfw']\n",
    "print(f\"max diff in flow = {full_result['abs_change'].max():.3f}\")\n",
    "print(f\"max rel diff in flow = {full_result['rel_change'].abs().max():.3f}%\")\n",
    "display(full_result[['a_node', 'b_node', 'flow_bfw', 'flow_path', 'flow_best', 'abs_change', 'rel_change']].sort_values(by=['abs_change'], ascending=False).head(15))"
   ]
  },
  {
   "cell_type": "code",
   "execution_count": null,
   "metadata": {},
   "outputs": [],
   "source": []
  },
  {
   "cell_type": "code",
   "execution_count": null,
   "metadata": {},
   "outputs": [],
   "source": []
  }
 ],
 "metadata": {
  "kernelspec": {
   "display_name": "Python 3",
   "language": "python",
   "name": "python3"
  },
  "language_info": {
   "codemirror_mode": {
    "name": "ipython",
    "version": 3
   },
   "file_extension": ".py",
   "mimetype": "text/x-python",
   "name": "python",
   "nbconvert_exporter": "python",
   "pygments_lexer": "ipython3",
   "version": "3.7.4"
  }
 },
 "nbformat": 4,
 "nbformat_minor": 4
}
