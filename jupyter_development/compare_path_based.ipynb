{
 "cells": [
  {
   "cell_type": "code",
   "execution_count": 1,
   "metadata": {
    "execution": {
     "iopub.execute_input": "2020-12-07T23:54:24.839393Z",
     "iopub.status.busy": "2020-12-07T23:54:24.839101Z",
     "iopub.status.idle": "2020-12-07T23:54:24.932148Z",
     "shell.execute_reply": "2020-12-07T23:54:24.930551Z",
     "shell.execute_reply.started": "2020-12-07T23:54:24.839313Z"
    }
   },
   "outputs": [],
   "source": [
    "%load_ext autoreload"
   ]
  },
  {
   "cell_type": "code",
   "execution_count": 2,
   "metadata": {
    "execution": {
     "iopub.execute_input": "2020-12-07T23:54:25.259804Z",
     "iopub.status.busy": "2020-12-07T23:54:25.259469Z",
     "iopub.status.idle": "2020-12-07T23:54:25.263970Z",
     "shell.execute_reply": "2020-12-07T23:54:25.262812Z",
     "shell.execute_reply.started": "2020-12-07T23:54:25.259745Z"
    }
   },
   "outputs": [],
   "source": [
    "%autoreload 2"
   ]
  },
  {
   "cell_type": "code",
   "execution_count": 3,
   "metadata": {
    "execution": {
     "iopub.execute_input": "2020-12-07T23:54:31.899955Z",
     "iopub.status.busy": "2020-12-07T23:54:31.899696Z",
     "iopub.status.idle": "2020-12-07T23:54:35.282287Z",
     "shell.execute_reply": "2020-12-07T23:54:35.281209Z",
     "shell.execute_reply.started": "2020-12-07T23:54:31.899925Z"
    }
   },
   "outputs": [],
   "source": [
    "import os\n",
    "import sys\n",
    "import logging\n",
    "\n",
    "import numpy as np\n",
    "import pandas as pd\n",
    "import seaborn as sns\n",
    "import matplotlib.pyplot as plt\n",
    "plt.style.use('fivethirtyeight')\n",
    "    \n",
    "aequ_dir = \"/mnt/c/Users/jan.zill/code/aequilibrae\"\n",
    "if aequ_dir not in sys.path:\n",
    "    sys.path.append(aequ_dir)\n",
    "\n",
    "from aequilibrae import logger  # noqa: E402\n",
    "\n",
    "import utils"
   ]
  },
  {
   "cell_type": "code",
   "execution_count": 4,
   "metadata": {
    "execution": {
     "iopub.execute_input": "2020-12-07T23:54:41.079873Z",
     "iopub.status.busy": "2020-12-07T23:54:41.079590Z",
     "iopub.status.idle": "2020-12-07T23:54:41.271074Z",
     "shell.execute_reply": "2020-12-07T23:54:41.270149Z",
     "shell.execute_reply.started": "2020-12-07T23:54:41.079836Z"
    }
   },
   "outputs": [],
   "source": [
    "stdout_handler = logging.StreamHandler(sys.stdout)\n",
    "logger.addHandler(stdout_handler)"
   ]
  },
  {
   "cell_type": "code",
   "execution_count": 5,
   "metadata": {
    "execution": {
     "iopub.execute_input": "2020-12-07T23:54:48.651943Z",
     "iopub.status.busy": "2020-12-07T23:54:48.651697Z",
     "iopub.status.idle": "2020-12-07T23:54:48.837419Z",
     "shell.execute_reply": "2020-12-07T23:54:48.836431Z",
     "shell.execute_reply.started": "2020-12-07T23:54:48.651913Z"
    }
   },
   "outputs": [],
   "source": [
    "code_dir = \"/mnt/c/Users/jan.zill/code\"\n",
    "tntp_dir = os.path.join(code_dir, \"TransportationNetworks_aequilibrae\")\n",
    "scenario = \"Berlin-Center\" #\"Anaheim\" #\n",
    "folder = os.path.join(tntp_dir, scenario)\n",
    "\n",
    "if scenario == \"Berlin-Center\":\n",
    "    link_file =  \"berlin-center_net_clean.tntp\" # DUPLICATE NODES REMOVED  \"berlin-center_net_clean_bpr_altered.tntp\" #\n",
    "    trip_file =  \"berlin-center_trips.tntp\"\n",
    "else:\n",
    "    link_file =  f\"{scenario}_net.tntp\"\n",
    "    trip_file =  f\"{scenario}_trips.tntp\"\n",
    "    \n",
    "# best_known_solution = list(filter(lambda x: \"_flow.tntp\" in x, os.listdir(folder)))\n",
    "# if len(best_known_solution) == 1:\n",
    "#     sol_file = best_known_solution[0]\n",
    "# else:\n",
    "#     sol_file = None\n",
    "if scenario == \"Anaheim\":\n",
    "    best_sol = pd.read_csv(os.path.join(folder, f\"{scenario}_flow.tntp\"), sep='\\t', skiprows=5).rename(columns={\"Tail \": \"a_node\", \"Head \": \"b_node\", \"Volume \": \"flow_best\"}).drop(columns=['~ ', ': ', '; ', 'Cost '])"
   ]
  },
  {
   "cell_type": "code",
   "execution_count": 6,
   "metadata": {
    "execution": {
     "iopub.execute_input": "2020-12-07T23:54:50.346397Z",
     "iopub.status.busy": "2020-12-07T23:54:50.346194Z",
     "iopub.status.idle": "2020-12-07T23:54:50.510415Z",
     "shell.execute_reply": "2020-12-07T23:54:50.509492Z",
     "shell.execute_reply.started": "2020-12-07T23:54:50.346372Z"
    }
   },
   "outputs": [],
   "source": [
    "block_centroids = True\n",
    "r_gap = 1e-6"
   ]
  },
  {
   "cell_type": "code",
   "execution_count": 7,
   "metadata": {
    "execution": {
     "iopub.execute_input": "2020-12-07T23:54:54.909035Z",
     "iopub.status.busy": "2020-12-07T23:54:54.908800Z",
     "iopub.status.idle": "2020-12-08T00:09:16.181984Z",
     "shell.execute_reply": "2020-12-08T00:09:16.181025Z",
     "shell.execute_reply.started": "2020-12-07T23:54:54.908995Z"
    }
   },
   "outputs": [
    {
     "name": "stdout",
     "output_type": "stream",
     "text": [
      "bush-based Assignment STATS\n",
      " Initialised data structures, num nodes = 12981, num links = 28370\n",
      " 0th iteration done, cost = 138388592.0\n",
      "Iteration 1, computed gap: 0.040075364192096785, computed objective: 21001144.0\n",
      "Iteration 2, computed gap: 0.007744450036352046, computed objective: 20851174.0\n",
      "Iteration 3, computed gap: 0.0017915056346635705, computed objective: 20825778.0\n",
      "Iteration 4, computed gap: 0.00048045018361675407, computed objective: 20819988.0\n",
      "Iteration 5, computed gap: 0.00014433651679213177, computed objective: 20818556.0\n",
      "Iteration 6, computed gap: 6.0471486488800075e-05, computed objective: 20818150.0\n",
      "Iteration 7, computed gap: 1.5851578964998225e-05, computed objective: 20818042.0\n",
      "Iteration 8, computed gap: 9.22536319258871e-06, computed objective: 20818008.0\n",
      "Iteration 9, computed gap: 6.4285690826171304e-06, computed objective: 20818020.0\n",
      "Iteration 10, computed gap: 2.1443845963364794e-06, computed objective: 20817996.0\n",
      "Iteration 11, computed gap: 5.670692967418844e-07, computed objective: 20817986.0\n",
      "bush-based Assignment finished. 11 iterations and 5.670692967418844e-07 final gap\n",
      "CPU times: user 1h 11min 12s, sys: 19min 3s, total: 1h 30min 15s\n",
      "Wall time: 14min 21s\n"
     ]
    }
   ],
   "source": [
    "%%time\n",
    "path_res_ = utils.get_assignment_solution(tntp_dir, scenario, link_file, method=\"bush-based\", block_centroids=block_centroids, rgap=r_gap)"
   ]
  },
  {
   "cell_type": "code",
   "execution_count": 8,
   "metadata": {
    "execution": {
     "iopub.execute_input": "2020-12-08T00:09:16.183466Z",
     "iopub.status.busy": "2020-12-08T00:09:16.183220Z",
     "iopub.status.idle": "2020-12-08T00:10:26.808532Z",
     "shell.execute_reply": "2020-12-08T00:10:26.807293Z",
     "shell.execute_reply.started": "2020-12-08T00:09:16.183422Z"
    }
   },
   "outputs": [
    {
     "name": "stdout",
     "output_type": "stream",
     "text": [
      "bfw Assignment STATS\n",
      "Iteration, RelativeGap, stepsize\n",
      "1,inf,1.0\n",
      "2,0.8294424966424773,0.8219500681367815\n",
      "3,0.017585239365668037,0.4872589798248247\n",
      "4,0.0033571994793841083,0.4433839240585806\n",
      "5,0.0029840045520197842,0.36243373494524944\n",
      "6,0.0022132660999176594,0.370533415525226\n",
      "7,0.001607904026034061,0.568735148813483\n",
      "8,0.00203334420519815,0.327284356146891\n",
      "9,0.0015531895719378102,0.27444880136032596\n",
      "10,0.0008972887874323961,0.37739922552398686\n",
      "11,0.0006963659391440302,0.32268506396917335\n",
      "12,0.0005348840891890261,0.2567376103299869\n",
      "13,0.0005740686641122526,0.33472109949618345\n",
      "14,0.0005539344003570775,0.2358796809147738\n",
      "15,0.00037796334819539725,0.544416862723352\n",
      "16,0.0005378185807901846,0.10874782005674413\n",
      "17,0.00024992022326366395,0.11473211345934493\n",
      "18,0.0002374098954528657,0.29028235139439684\n",
      "19,0.00020124222417523208,0.26393141152116\n",
      "20,0.0001337274118212947,0.2828425492363143\n",
      "21,0.00012678556078948977,0.43241563433371294\n",
      "22,0.000127734404931889,0.06723920198085898\n",
      "23,8.343373429450407e-05,0.22457236032822048\n",
      "24,9.373975515457329e-05,0.20305895088365464\n",
      "25,8.812095325718637e-05,0.31426946618966\n",
      "26,9.362319541252563e-05,0.7715616356670848\n",
      "27,0.00010277715355377624,0.04423171144111176\n",
      "28,6.508582642034941e-05,0.05795110978536523\n",
      "29,5.344220544485704e-05,0.07495844560772726\n",
      "30,5.5334204901042554e-05,0.10536330103631336\n",
      "31,4.73252116550651e-05,0.14509243299550625\n",
      "32,5.201329685234702e-05,0.1767509552249538\n",
      "33,5.0869816190268356e-05,0.3288563983086004\n",
      "34,4.609231297808463e-05,0.13980048808851533\n",
      "35,3.0242123167887245e-05,0.2973691932347638\n",
      "36,2.8831752412584337e-05,0.1212428610450346\n",
      "37,2.5413923415443162e-05,0.26572175375717705\n",
      "38,2.6290659212755632e-05,0.30065223096747434\n",
      "39,3.0741454023924755e-05,0.3908361984681342\n",
      "40,2.9824897852074712e-05,0.636465262990052\n",
      "41,1.9881681607732653e-05,0.37135418018227195\n",
      "42,1.8094386325523204e-05,0.862728667842193\n",
      "43,1.6128392851882283e-05,0.010377864088450837\n",
      "44,1.1741915927005969e-05,0.01241616676532083\n",
      "45,1.0251347673402873e-05,0.052545134547609236\n",
      "46,1.712155834297514e-05,0.09448855700137626\n",
      "47,1.7477248519735165e-05,0.11452646387361891\n",
      "48,2.1667722110511412e-05,0.2234705655717897\n",
      "49,1.9797162953517718e-05,0.13373529589784774\n",
      "50,1.5618866738240067e-05,0.11959026982323412\n",
      "51,1.1995388068829258e-05,0.051638316059192946\n",
      "52,1.0890724637371523e-05,0.08695488240417731\n",
      "53,1.2955100070937285e-05,0.08359721893795218\n",
      "54,1.3552897449839558e-05,0.15727341475432235\n",
      "55,1.1731485257504232e-05,0.07894279096532993\n",
      "56,1.1357808625061797e-05,0.1187958680500844\n",
      "57,5.720500507637667e-06,0.02448289323884434\n",
      "58,5.122750974903548e-06,0.020183961922002995\n",
      "bfw Assignment finished. 58 iterations and 5.122750974903548e-06 final gap\n",
      "CPU times: user 7min 49s, sys: 5.38 s, total: 7min 54s\n",
      "Wall time: 1min 10s\n"
     ]
    }
   ],
   "source": [
    "%%time\n",
    "bfw_rgap = 1e-5\n",
    "bfw_res_ = utils.get_assignment_solution(tntp_dir, scenario, link_file, method=\"bfw\", block_centroids=block_centroids, rgap=bfw_rgap)"
   ]
  },
  {
   "cell_type": "code",
   "execution_count": 9,
   "metadata": {
    "execution": {
     "iopub.execute_input": "2020-12-08T00:24:10.850430Z",
     "iopub.status.busy": "2020-12-08T00:24:10.850142Z",
     "iopub.status.idle": "2020-12-08T00:24:11.392433Z",
     "shell.execute_reply": "2020-12-08T00:24:11.391153Z",
     "shell.execute_reply.started": "2020-12-08T00:24:10.850387Z"
    }
   },
   "outputs": [
    {
     "data": {
      "image/png": "[encoded data removed]",
      "text/plain": [
       "<Figure size 432x288 with 1 Axes>"
      ]
     },
     "metadata": {},
     "output_type": "display_data"
    },
    {
     "name": "stdout",
     "output_type": "stream",
     "text": [
      "max diff in flow = 11.037\n",
      "max rel diff in flow = 3135.206%\n"
     ]
    },
    {
     "data": {
      "text/html": [
       "<div>\n",
       "<style scoped>\n",
       "    .dataframe tbody tr th:only-of-type {\n",
       "        vertical-align: middle;\n",
       "    }\n",
       "\n",
       "    .dataframe tbody tr th {\n",
       "        vertical-align: top;\n",
       "    }\n",
       "\n",
       "    .dataframe thead th {\n",
       "        text-align: right;\n",
       "    }\n",
       "</style>\n",
       "<table border=\"1\" class=\"dataframe\">\n",
       "  <thead>\n",
       "    <tr style=\"text-align: right;\">\n",
       "      <th></th>\n",
       "      <th>a_node</th>\n",
       "      <th>b_node</th>\n",
       "      <th>flow_bfw</th>\n",
       "      <th>flow_path</th>\n",
       "      <th>abs_change</th>\n",
       "      <th>rel_change</th>\n",
       "    </tr>\n",
       "  </thead>\n",
       "  <tbody>\n",
       "    <tr>\n",
       "      <th>21335</th>\n",
       "      <td>9575</td>\n",
       "      <td>9577</td>\n",
       "      <td>267.870752</td>\n",
       "      <td>256.834167</td>\n",
       "      <td>11.036584</td>\n",
       "      <td>0.041201</td>\n",
       "    </tr>\n",
       "    <tr>\n",
       "      <th>21345</th>\n",
       "      <td>9580</td>\n",
       "      <td>9577</td>\n",
       "      <td>524.367248</td>\n",
       "      <td>535.403748</td>\n",
       "      <td>11.036499</td>\n",
       "      <td>0.021047</td>\n",
       "    </tr>\n",
       "    <tr>\n",
       "      <th>21327</th>\n",
       "      <td>9572</td>\n",
       "      <td>9575</td>\n",
       "      <td>42.653791</td>\n",
       "      <td>33.313732</td>\n",
       "      <td>9.340059</td>\n",
       "      <td>0.218974</td>\n",
       "    </tr>\n",
       "    <tr>\n",
       "      <th>21344</th>\n",
       "      <td>9580</td>\n",
       "      <td>9572</td>\n",
       "      <td>302.768578</td>\n",
       "      <td>293.565704</td>\n",
       "      <td>9.202874</td>\n",
       "      <td>0.030396</td>\n",
       "    </tr>\n",
       "    <tr>\n",
       "      <th>8837</th>\n",
       "      <td>3613</td>\n",
       "      <td>7958</td>\n",
       "      <td>315.128096</td>\n",
       "      <td>306.269104</td>\n",
       "      <td>8.858992</td>\n",
       "      <td>0.028112</td>\n",
       "    </tr>\n",
       "    <tr>\n",
       "      <th>8824</th>\n",
       "      <td>3607</td>\n",
       "      <td>3613</td>\n",
       "      <td>315.128096</td>\n",
       "      <td>306.269104</td>\n",
       "      <td>8.858992</td>\n",
       "      <td>0.028112</td>\n",
       "    </tr>\n",
       "    <tr>\n",
       "      <th>17851</th>\n",
       "      <td>7958</td>\n",
       "      <td>9268</td>\n",
       "      <td>28.110093</td>\n",
       "      <td>19.251133</td>\n",
       "      <td>8.858960</td>\n",
       "      <td>0.315152</td>\n",
       "    </tr>\n",
       "    <tr>\n",
       "      <th>21227</th>\n",
       "      <td>9530</td>\n",
       "      <td>9529</td>\n",
       "      <td>35.005093</td>\n",
       "      <td>26.146133</td>\n",
       "      <td>8.858960</td>\n",
       "      <td>0.253076</td>\n",
       "    </tr>\n",
       "    <tr>\n",
       "      <th>21229</th>\n",
       "      <td>9531</td>\n",
       "      <td>9530</td>\n",
       "      <td>35.005093</td>\n",
       "      <td>26.146133</td>\n",
       "      <td>8.858960</td>\n",
       "      <td>0.253076</td>\n",
       "    </tr>\n",
       "    <tr>\n",
       "      <th>20690</th>\n",
       "      <td>9267</td>\n",
       "      <td>9537</td>\n",
       "      <td>66.083093</td>\n",
       "      <td>57.224140</td>\n",
       "      <td>8.858953</td>\n",
       "      <td>0.134058</td>\n",
       "    </tr>\n",
       "    <tr>\n",
       "      <th>21230</th>\n",
       "      <td>9532</td>\n",
       "      <td>9531</td>\n",
       "      <td>66.083093</td>\n",
       "      <td>57.224140</td>\n",
       "      <td>8.858953</td>\n",
       "      <td>0.134058</td>\n",
       "    </tr>\n",
       "    <tr>\n",
       "      <th>20691</th>\n",
       "      <td>9268</td>\n",
       "      <td>9267</td>\n",
       "      <td>66.083093</td>\n",
       "      <td>57.224140</td>\n",
       "      <td>8.858953</td>\n",
       "      <td>0.134058</td>\n",
       "    </tr>\n",
       "    <tr>\n",
       "      <th>21238</th>\n",
       "      <td>9537</td>\n",
       "      <td>9532</td>\n",
       "      <td>66.083093</td>\n",
       "      <td>57.224140</td>\n",
       "      <td>8.858953</td>\n",
       "      <td>0.134058</td>\n",
       "    </tr>\n",
       "    <tr>\n",
       "      <th>17682</th>\n",
       "      <td>7883</td>\n",
       "      <td>7877</td>\n",
       "      <td>448.601742</td>\n",
       "      <td>456.203979</td>\n",
       "      <td>7.602238</td>\n",
       "      <td>0.016947</td>\n",
       "    </tr>\n",
       "    <tr>\n",
       "      <th>9396</th>\n",
       "      <td>3878</td>\n",
       "      <td>9529</td>\n",
       "      <td>411.198742</td>\n",
       "      <td>418.800964</td>\n",
       "      <td>7.602223</td>\n",
       "      <td>0.018488</td>\n",
       "    </tr>\n",
       "  </tbody>\n",
       "</table>\n",
       "</div>"
      ],
      "text/plain": [
       "       a_node  b_node    flow_bfw   flow_path  abs_change  rel_change\n",
       "21335    9575    9577  267.870752  256.834167   11.036584    0.041201\n",
       "21345    9580    9577  524.367248  535.403748   11.036499    0.021047\n",
       "21327    9572    9575   42.653791   33.313732    9.340059    0.218974\n",
       "21344    9580    9572  302.768578  293.565704    9.202874    0.030396\n",
       "8837     3613    7958  315.128096  306.269104    8.858992    0.028112\n",
       "8824     3607    3613  315.128096  306.269104    8.858992    0.028112\n",
       "17851    7958    9268   28.110093   19.251133    8.858960    0.315152\n",
       "21227    9530    9529   35.005093   26.146133    8.858960    0.253076\n",
       "21229    9531    9530   35.005093   26.146133    8.858960    0.253076\n",
       "20690    9267    9537   66.083093   57.224140    8.858953    0.134058\n",
       "21230    9532    9531   66.083093   57.224140    8.858953    0.134058\n",
       "20691    9268    9267   66.083093   57.224140    8.858953    0.134058\n",
       "21238    9537    9532   66.083093   57.224140    8.858953    0.134058\n",
       "17682    7883    7877  448.601742  456.203979    7.602238    0.016947\n",
       "9396     3878    9529  411.198742  418.800964    7.602223    0.018488"
      ]
     },
     "metadata": {},
     "output_type": "display_data"
    }
   ],
   "source": [
    "full_result = bfw_res_.drop(columns=['time']).merge(path_res_.drop(columns=['time']), on=['a_node', 'b_node'], how='outer', suffixes=['_bfw', '_path'])\n",
    "sns.scatterplot(data=full_result, x='flow_bfw', y='flow_path');\n",
    "\n",
    "#full_result = full_result.merge(best_sol, on=['a_node', 'b_node'], how='outer')\n",
    "#sns.scatterplot(data=full_result, x='flow_best', y='flow_path');\n",
    "\n",
    "plt.show();\n",
    "full_result['abs_change'] = np.abs(full_result.flow_bfw - full_result.flow_path)\n",
    "full_result['rel_change'] = full_result['abs_change'] / full_result['flow_bfw']\n",
    "print(f\"max diff in flow = {full_result['abs_change'].max():.3f}\")\n",
    "print(f\"max rel diff in flow = {full_result['rel_change'].abs().max():.3f}%\")\n",
    "display(full_result[['a_node', 'b_node', 'flow_bfw', 'flow_path', 'abs_change', 'rel_change']].sort_values(by=['abs_change'], ascending=False).head(15))\n",
    "#display(full_result[['a_node', 'b_node', 'flow_bfw', 'flow_path', 'flow_best', 'abs_change', 'rel_change']].sort_values(by=['abs_change'], ascending=False).head(15))"
   ]
  },
  {
   "cell_type": "code",
   "execution_count": null,
   "metadata": {},
   "outputs": [],
   "source": []
  },
  {
   "cell_type": "code",
   "execution_count": null,
   "metadata": {},
   "outputs": [],
   "source": []
  }
 ],
 "metadata": {
  "kernelspec": {
   "display_name": "Python 3",
   "language": "python",
   "name": "python3"
  },
  "language_info": {
   "codemirror_mode": {
    "name": "ipython",
    "version": 3
   },
   "file_extension": ".py",
   "mimetype": "text/x-python",
   "name": "python",
   "nbconvert_exporter": "python",
   "pygments_lexer": "ipython3",
   "version": "3.7.4"
  }
 },
 "nbformat": 4,
 "nbformat_minor": 4
}
