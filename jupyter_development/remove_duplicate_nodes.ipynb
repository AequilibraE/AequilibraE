{
 "cells": [
  {
   "cell_type": "code",
   "execution_count": 1,
   "metadata": {
    "execution": {
     "iopub.execute_input": "2020-12-04T22:09:18.655987Z",
     "iopub.status.busy": "2020-12-04T22:09:18.655682Z",
     "iopub.status.idle": "2020-12-04T22:09:20.096461Z",
     "shell.execute_reply": "2020-12-04T22:09:20.095653Z",
     "shell.execute_reply.started": "2020-12-04T22:09:18.655922Z"
    }
   },
   "outputs": [],
   "source": [
    "import os\n",
    "import sys\n",
    "from datetime import datetime\n",
    "import time\n",
    "\n",
    "import numpy as np\n",
    "import pandas as pd\n",
    "import seaborn as sns\n",
    "import matplotlib.pyplot as plt"
   ]
  },
  {
   "cell_type": "code",
   "execution_count": 2,
   "metadata": {
    "execution": {
     "iopub.execute_input": "2020-12-04T22:09:20.624691Z",
     "iopub.status.busy": "2020-12-04T22:09:20.624433Z",
     "iopub.status.idle": "2020-12-04T22:09:20.629067Z",
     "shell.execute_reply": "2020-12-04T22:09:20.627868Z",
     "shell.execute_reply.started": "2020-12-04T22:09:20.624661Z"
    }
   },
   "outputs": [],
   "source": [
    "code_dir = \"/mnt/c/Users/jan.zill/code\"\n",
    "tntp_dir = os.path.join(code_dir, \"TransportationNetworks_aequilibrae\")"
   ]
  },
  {
   "cell_type": "code",
   "execution_count": 3,
   "metadata": {
    "execution": {
     "iopub.execute_input": "2020-12-04T22:09:22.254389Z",
     "iopub.status.busy": "2020-12-04T22:09:22.254121Z",
     "iopub.status.idle": "2020-12-04T22:09:22.260108Z",
     "shell.execute_reply": "2020-12-04T22:09:22.258981Z",
     "shell.execute_reply.started": "2020-12-04T22:09:22.254358Z"
    }
   },
   "outputs": [],
   "source": [
    "scenario = \"Berlin-Center\" #\"Anaheim\" #\n",
    "\n",
    "folder = os.path.join(tntp_dir, scenario)\n",
    "\n",
    "if scenario == \"Anaheim\":\n",
    "    link_file =  \"Anaheim_net.tntp\"\n",
    "    trip_file =  \"Anaheim_trips.tntp\"\n",
    "elif scenario == \"Berlin-Center\":\n",
    "    link_file =  \"berlin-center_net.tntp\"\n",
    "    trip_file =  \"berlin-center_trips.tntp\"\n",
    "else:\n",
    "    raise ValueError(f\"Unknown scenario {scenario}\")"
   ]
  },
  {
   "cell_type": "code",
   "execution_count": 4,
   "metadata": {
    "execution": {
     "iopub.execute_input": "2020-12-04T22:09:30.275522Z",
     "iopub.status.busy": "2020-12-04T22:09:30.275253Z",
     "iopub.status.idle": "2020-12-04T22:09:30.342111Z",
     "shell.execute_reply": "2020-12-04T22:09:30.341008Z",
     "shell.execute_reply.started": "2020-12-04T22:09:30.275498Z"
    }
   },
   "outputs": [],
   "source": [
    "net = pd.read_csv(os.path.join(folder, link_file), skiprows=8, sep=\"\\t\")"
   ]
  },
  {
   "cell_type": "code",
   "execution_count": 5,
   "metadata": {
    "execution": {
     "iopub.execute_input": "2020-12-04T22:09:30.512518Z",
     "iopub.status.busy": "2020-12-04T22:09:30.512258Z",
     "iopub.status.idle": "2020-12-04T22:09:30.517121Z",
     "shell.execute_reply": "2020-12-04T22:09:30.515271Z",
     "shell.execute_reply.started": "2020-12-04T22:09:30.512487Z"
    }
   },
   "outputs": [],
   "source": [
    "#net.columns = list(map(lambda x: x.strip(), net.columns))\n",
    "#net = net.drop(columns=[\"~\", \";\"])"
   ]
  },
  {
   "cell_type": "code",
   "execution_count": 6,
   "metadata": {
    "execution": {
     "iopub.execute_input": "2020-12-04T22:09:30.742094Z",
     "iopub.status.busy": "2020-12-04T22:09:30.741872Z",
     "iopub.status.idle": "2020-12-04T22:09:30.764706Z",
     "shell.execute_reply": "2020-12-04T22:09:30.763845Z",
     "shell.execute_reply.started": "2020-12-04T22:09:30.742067Z"
    }
   },
   "outputs": [
    {
     "data": {
      "text/html": [
       "<div>\n",
       "<style scoped>\n",
       "    .dataframe tbody tr th:only-of-type {\n",
       "        vertical-align: middle;\n",
       "    }\n",
       "\n",
       "    .dataframe tbody tr th {\n",
       "        vertical-align: top;\n",
       "    }\n",
       "\n",
       "    .dataframe thead th {\n",
       "        text-align: right;\n",
       "    }\n",
       "</style>\n",
       "<table border=\"1\" class=\"dataframe\">\n",
       "  <thead>\n",
       "    <tr style=\"text-align: right;\">\n",
       "      <th></th>\n",
       "      <th>~</th>\n",
       "      <th>Init node</th>\n",
       "      <th>Term node</th>\n",
       "      <th>Capacity</th>\n",
       "      <th>Length</th>\n",
       "      <th>Free Flow Time</th>\n",
       "      <th>B</th>\n",
       "      <th>Power</th>\n",
       "      <th>Speed limit</th>\n",
       "      <th>Toll</th>\n",
       "      <th>Type</th>\n",
       "      <th>;</th>\n",
       "    </tr>\n",
       "  </thead>\n",
       "  <tbody>\n",
       "    <tr>\n",
       "      <th>0</th>\n",
       "      <td></td>\n",
       "      <td>1</td>\n",
       "      <td>11000</td>\n",
       "      <td>999999.0</td>\n",
       "      <td>0.0</td>\n",
       "      <td>0.0</td>\n",
       "      <td>0.0</td>\n",
       "      <td>4.0</td>\n",
       "      <td>0.0</td>\n",
       "      <td>0.0</td>\n",
       "      <td>0</td>\n",
       "      <td>;</td>\n",
       "    </tr>\n",
       "  </tbody>\n",
       "</table>\n",
       "</div>"
      ],
      "text/plain": [
       "  ~   Init node   Term node   Capacity   Length   Free Flow Time    B   \\\n",
       "0              1       11000   999999.0      0.0              0.0  0.0   \n",
       "\n",
       "   Power   Speed limit   Toll   Type   ;   \n",
       "0     4.0           0.0    0.0      0  ;   "
      ]
     },
     "execution_count": 6,
     "metadata": {},
     "output_type": "execute_result"
    }
   ],
   "source": [
    "net.head(1)"
   ]
  },
  {
   "cell_type": "code",
   "execution_count": 7,
   "metadata": {
    "execution": {
     "iopub.execute_input": "2020-12-04T22:09:30.954757Z",
     "iopub.status.busy": "2020-12-04T22:09:30.954485Z",
     "iopub.status.idle": "2020-12-04T22:09:30.997550Z",
     "shell.execute_reply": "2020-12-04T22:09:30.996387Z",
     "shell.execute_reply.started": "2020-12-04T22:09:30.954721Z"
    }
   },
   "outputs": [
    {
     "data": {
      "text/plain": [
       "(28376, 12)"
      ]
     },
     "metadata": {},
     "output_type": "display_data"
    },
    {
     "data": {
      "text/html": [
       "<div>\n",
       "<style scoped>\n",
       "    .dataframe tbody tr th:only-of-type {\n",
       "        vertical-align: middle;\n",
       "    }\n",
       "\n",
       "    .dataframe tbody tr th {\n",
       "        vertical-align: top;\n",
       "    }\n",
       "\n",
       "    .dataframe thead th {\n",
       "        text-align: right;\n",
       "    }\n",
       "</style>\n",
       "<table border=\"1\" class=\"dataframe\">\n",
       "  <thead>\n",
       "    <tr style=\"text-align: right;\">\n",
       "      <th></th>\n",
       "      <th>~</th>\n",
       "      <th>Init node</th>\n",
       "      <th>Term node</th>\n",
       "      <th>Capacity</th>\n",
       "      <th>Length</th>\n",
       "      <th>Free Flow Time</th>\n",
       "      <th>B</th>\n",
       "      <th>Power</th>\n",
       "      <th>Speed limit</th>\n",
       "      <th>Toll</th>\n",
       "      <th>Type</th>\n",
       "      <th>;</th>\n",
       "    </tr>\n",
       "  </thead>\n",
       "  <tbody>\n",
       "    <tr>\n",
       "      <th>4906</th>\n",
       "      <td></td>\n",
       "      <td>1246</td>\n",
       "      <td>1244</td>\n",
       "      <td>2400.0</td>\n",
       "      <td>59.0</td>\n",
       "      <td>2.000000</td>\n",
       "      <td>2.0</td>\n",
       "      <td>4.0</td>\n",
       "      <td>0.0</td>\n",
       "      <td>0.0</td>\n",
       "      <td>1</td>\n",
       "      <td>;</td>\n",
       "    </tr>\n",
       "    <tr>\n",
       "      <th>8901</th>\n",
       "      <td></td>\n",
       "      <td>3644</td>\n",
       "      <td>3643</td>\n",
       "      <td>2400.0</td>\n",
       "      <td>45.0</td>\n",
       "      <td>1.666667</td>\n",
       "      <td>2.0</td>\n",
       "      <td>4.0</td>\n",
       "      <td>0.0</td>\n",
       "      <td>0.0</td>\n",
       "      <td>1</td>\n",
       "      <td>;</td>\n",
       "    </tr>\n",
       "    <tr>\n",
       "      <th>17457</th>\n",
       "      <td></td>\n",
       "      <td>7773</td>\n",
       "      <td>7870</td>\n",
       "      <td>2800.0</td>\n",
       "      <td>198.0</td>\n",
       "      <td>5.333333</td>\n",
       "      <td>2.0</td>\n",
       "      <td>4.0</td>\n",
       "      <td>0.0</td>\n",
       "      <td>0.0</td>\n",
       "      <td>1</td>\n",
       "      <td>;</td>\n",
       "    </tr>\n",
       "    <tr>\n",
       "      <th>17466</th>\n",
       "      <td></td>\n",
       "      <td>7777</td>\n",
       "      <td>7779</td>\n",
       "      <td>2800.0</td>\n",
       "      <td>418.0</td>\n",
       "      <td>10.000000</td>\n",
       "      <td>2.0</td>\n",
       "      <td>4.0</td>\n",
       "      <td>0.0</td>\n",
       "      <td>0.0</td>\n",
       "      <td>1</td>\n",
       "      <td>;</td>\n",
       "    </tr>\n",
       "    <tr>\n",
       "      <th>18945</th>\n",
       "      <td></td>\n",
       "      <td>8468</td>\n",
       "      <td>8472</td>\n",
       "      <td>600.0</td>\n",
       "      <td>49.0</td>\n",
       "      <td>1.333333</td>\n",
       "      <td>2.0</td>\n",
       "      <td>4.0</td>\n",
       "      <td>0.0</td>\n",
       "      <td>0.0</td>\n",
       "      <td>1</td>\n",
       "      <td>;</td>\n",
       "    </tr>\n",
       "    <tr>\n",
       "      <th>18956</th>\n",
       "      <td></td>\n",
       "      <td>8472</td>\n",
       "      <td>8468</td>\n",
       "      <td>600.0</td>\n",
       "      <td>49.0</td>\n",
       "      <td>1.333333</td>\n",
       "      <td>2.0</td>\n",
       "      <td>4.0</td>\n",
       "      <td>0.0</td>\n",
       "      <td>0.0</td>\n",
       "      <td>1</td>\n",
       "      <td>;</td>\n",
       "    </tr>\n",
       "  </tbody>\n",
       "</table>\n",
       "</div>"
      ],
      "text/plain": [
       "      ~   Init node   Term node   Capacity   Length   Free Flow Time    B   \\\n",
       "4906            1246        1244     2400.0     59.0         2.000000  2.0   \n",
       "8901            3644        3643     2400.0     45.0         1.666667  2.0   \n",
       "17457           7773        7870     2800.0    198.0         5.333333  2.0   \n",
       "17466           7777        7779     2800.0    418.0        10.000000  2.0   \n",
       "18945           8468        8472      600.0     49.0         1.333333  2.0   \n",
       "18956           8472        8468      600.0     49.0         1.333333  2.0   \n",
       "\n",
       "       Power   Speed limit   Toll   Type   ;   \n",
       "4906      4.0           0.0    0.0      1  ;   \n",
       "8901      4.0           0.0    0.0      1  ;   \n",
       "17457     4.0           0.0    0.0      1  ;   \n",
       "17466     4.0           0.0    0.0      1  ;   \n",
       "18945     4.0           0.0    0.0      1  ;   \n",
       "18956     4.0           0.0    0.0      1  ;   "
      ]
     },
     "metadata": {},
     "output_type": "display_data"
    },
    {
     "data": {
      "text/plain": [
       "(28370, 12)"
      ]
     },
     "metadata": {},
     "output_type": "display_data"
    }
   ],
   "source": [
    "display(net.shape)\n",
    "display(net.loc[net[['Init node ', 'Term node ']].duplicated()])\n",
    "net_clean = net.loc[~net[['Init node ', 'Term node ']].duplicated()]\n",
    "display(net_clean.shape)"
   ]
  },
  {
   "cell_type": "code",
   "execution_count": 8,
   "metadata": {
    "execution": {
     "iopub.execute_input": "2020-12-04T22:09:31.182890Z",
     "iopub.status.busy": "2020-12-04T22:09:31.182625Z",
     "iopub.status.idle": "2020-12-04T22:09:31.219404Z",
     "shell.execute_reply": "2020-12-04T22:09:31.218381Z",
     "shell.execute_reply.started": "2020-12-04T22:09:31.182845Z"
    }
   },
   "outputs": [
    {
     "data": {
      "text/html": [
       "<div>\n",
       "<style scoped>\n",
       "    .dataframe tbody tr th:only-of-type {\n",
       "        vertical-align: middle;\n",
       "    }\n",
       "\n",
       "    .dataframe tbody tr th {\n",
       "        vertical-align: top;\n",
       "    }\n",
       "\n",
       "    .dataframe thead th {\n",
       "        text-align: right;\n",
       "    }\n",
       "</style>\n",
       "<table border=\"1\" class=\"dataframe\">\n",
       "  <thead>\n",
       "    <tr style=\"text-align: right;\">\n",
       "      <th></th>\n",
       "      <th>~</th>\n",
       "      <th>Init node</th>\n",
       "      <th>Term node</th>\n",
       "      <th>Capacity</th>\n",
       "      <th>Length</th>\n",
       "      <th>Free Flow Time</th>\n",
       "      <th>B</th>\n",
       "      <th>Power</th>\n",
       "      <th>Speed limit</th>\n",
       "      <th>Toll</th>\n",
       "      <th>Type</th>\n",
       "      <th>;</th>\n",
       "    </tr>\n",
       "  </thead>\n",
       "  <tbody>\n",
       "    <tr>\n",
       "      <th>4905</th>\n",
       "      <td></td>\n",
       "      <td>1246</td>\n",
       "      <td>1244</td>\n",
       "      <td>2400.0</td>\n",
       "      <td>76.0</td>\n",
       "      <td>1.666667</td>\n",
       "      <td>2.0</td>\n",
       "      <td>4.0</td>\n",
       "      <td>0.0</td>\n",
       "      <td>0.0</td>\n",
       "      <td>1</td>\n",
       "      <td>;</td>\n",
       "    </tr>\n",
       "  </tbody>\n",
       "</table>\n",
       "</div>"
      ],
      "text/plain": [
       "     ~   Init node   Term node   Capacity   Length   Free Flow Time    B   \\\n",
       "4905           1246        1244     2400.0     76.0         1.666667  2.0   \n",
       "\n",
       "      Power   Speed limit   Toll   Type   ;   \n",
       "4905     4.0           0.0    0.0      1  ;   "
      ]
     },
     "execution_count": 8,
     "metadata": {},
     "output_type": "execute_result"
    }
   ],
   "source": [
    "net_clean.loc[(net_clean['Init node '] == 1246) & (net_clean['Term node '] == 1244)]"
   ]
  },
  {
   "cell_type": "code",
   "execution_count": 32,
   "metadata": {
    "execution": {
     "iopub.execute_input": "2020-12-04T01:51:07.821606Z",
     "iopub.status.busy": "2020-12-04T01:51:07.821309Z",
     "iopub.status.idle": "2020-12-04T01:51:08.021667Z",
     "shell.execute_reply": "2020-12-04T01:51:08.020885Z",
     "shell.execute_reply.started": "2020-12-04T01:51:07.821567Z"
    }
   },
   "outputs": [],
   "source": [
    "net_clean.to_csv(os.path.join(folder, \"berlin-center_net_clean.tntp\"), index=False, sep=\"\\t\")"
   ]
  },
  {
   "cell_type": "markdown",
   "metadata": {},
   "source": [
    "## test with different BPR params\n",
    "\n"
   ]
  },
  {
   "cell_type": "code",
   "execution_count": 16,
   "metadata": {
    "execution": {
     "iopub.execute_input": "2020-12-04T22:11:57.965304Z",
     "iopub.status.busy": "2020-12-04T22:11:57.965101Z",
     "iopub.status.idle": "2020-12-04T22:11:58.011802Z",
     "shell.execute_reply": "2020-12-04T22:11:58.010365Z",
     "shell.execute_reply.started": "2020-12-04T22:11:57.965279Z"
    }
   },
   "outputs": [],
   "source": [
    "n_ = pd.read_csv(os.path.join(folder, \"berlin-center_net_clean.tntp\"), sep=\"\\t\", skiprows=8)"
   ]
  },
  {
   "cell_type": "code",
   "execution_count": 17,
   "metadata": {
    "execution": {
     "iopub.execute_input": "2020-12-04T22:11:58.745486Z",
     "iopub.status.busy": "2020-12-04T22:11:58.745275Z",
     "iopub.status.idle": "2020-12-04T22:11:58.750768Z",
     "shell.execute_reply": "2020-12-04T22:11:58.749273Z",
     "shell.execute_reply.started": "2020-12-04T22:11:58.745461Z"
    }
   },
   "outputs": [],
   "source": [
    "n_['B '] = 0.15"
   ]
  },
  {
   "cell_type": "code",
   "execution_count": 18,
   "metadata": {
    "execution": {
     "iopub.execute_input": "2020-12-04T22:11:59.552609Z",
     "iopub.status.busy": "2020-12-04T22:11:59.552407Z",
     "iopub.status.idle": "2020-12-04T22:11:59.756540Z",
     "shell.execute_reply": "2020-12-04T22:11:59.755535Z",
     "shell.execute_reply.started": "2020-12-04T22:11:59.552584Z"
    }
   },
   "outputs": [],
   "source": [
    "n_.to_csv(os.path.join(folder, \"berlin-center_net_clean_bpr_altered.tntp\"), index=False, sep=\"\\t\")"
   ]
  },
  {
   "cell_type": "code",
   "execution_count": null,
   "metadata": {},
   "outputs": [],
   "source": []
  }
 ],
 "metadata": {
  "kernelspec": {
   "display_name": "Python 3",
   "language": "python",
   "name": "python3"
  },
  "language_info": {
   "codemirror_mode": {
    "name": "ipython",
    "version": 3
   },
   "file_extension": ".py",
   "mimetype": "text/x-python",
   "name": "python",
   "nbconvert_exporter": "python",
   "pygments_lexer": "ipython3",
   "version": "3.7.4"
  }
 },
 "nbformat": 4,
 "nbformat_minor": 4
}
