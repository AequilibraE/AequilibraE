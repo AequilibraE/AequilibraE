{
 "cells": [
  {
   "cell_type": "code",
   "execution_count": 1,
   "metadata": {
    "execution": {
     "iopub.execute_input": "2020-12-07T07:00:56.595223Z",
     "iopub.status.busy": "2020-12-07T07:00:56.594946Z",
     "iopub.status.idle": "2020-12-07T07:00:56.701002Z",
     "shell.execute_reply": "2020-12-07T07:00:56.699687Z",
     "shell.execute_reply.started": "2020-12-07T07:00:56.595153Z"
    }
   },
   "outputs": [],
   "source": [
    "%load_ext autoreload"
   ]
  },
  {
   "cell_type": "code",
   "execution_count": 2,
   "metadata": {
    "execution": {
     "iopub.execute_input": "2020-12-07T07:00:56.869077Z",
     "iopub.status.busy": "2020-12-07T07:00:56.868804Z",
     "iopub.status.idle": "2020-12-07T07:00:56.873668Z",
     "shell.execute_reply": "2020-12-07T07:00:56.872417Z",
     "shell.execute_reply.started": "2020-12-07T07:00:56.869045Z"
    }
   },
   "outputs": [],
   "source": [
    "%autoreload 2"
   ]
  },
  {
   "cell_type": "code",
   "execution_count": 3,
   "metadata": {
    "execution": {
     "iopub.execute_input": "2020-12-07T07:00:57.054774Z",
     "iopub.status.busy": "2020-12-07T07:00:57.054527Z",
     "iopub.status.idle": "2020-12-07T07:00:59.249591Z",
     "shell.execute_reply": "2020-12-07T07:00:59.248795Z",
     "shell.execute_reply.started": "2020-12-07T07:00:57.054734Z"
    }
   },
   "outputs": [],
   "source": [
    "import os\n",
    "import sys\n",
    "import logging\n",
    "\n",
    "import numpy as np\n",
    "import pandas as pd\n",
    "import seaborn as sns\n",
    "import matplotlib.pyplot as plt\n",
    "plt.style.use('fivethirtyeight')\n",
    "    \n",
    "aequ_dir = \"/mnt/c/Users/jan.zill/code/aequilibrae\"\n",
    "sys.path.append(aequ_dir)\n",
    "\n",
    "from aequilibrae import logger  # noqa: E402\n",
    "stdout_handler = logging.StreamHandler(sys.stdout)\n",
    "logger.addHandler(stdout_handler)\n",
    "\n",
    "import utils"
   ]
  },
  {
   "cell_type": "code",
   "execution_count": 4,
   "metadata": {
    "execution": {
     "iopub.execute_input": "2020-12-07T07:00:59.251310Z",
     "iopub.status.busy": "2020-12-07T07:00:59.250970Z",
     "iopub.status.idle": "2020-12-07T07:00:59.417314Z",
     "shell.execute_reply": "2020-12-07T07:00:59.416109Z",
     "shell.execute_reply.started": "2020-12-07T07:00:59.251243Z"
    }
   },
   "outputs": [],
   "source": [
    "code_dir = \"/mnt/c/Users/jan.zill/code\"\n",
    "tntp_dir = os.path.join(code_dir, \"TransportationNetworks_aequilibrae\")\n",
    "scenario = \"Berlin-Center\" #\"Anaheim\" #\n",
    "folder = os.path.join(tntp_dir, scenario)\n",
    "\n",
    "if scenario == \"Anaheim\":\n",
    "    link_file =  \"Anaheim_net.tntp\"\n",
    "    trip_file =  \"Anaheim_trips.tntp\"\n",
    "elif scenario == \"Berlin-Center\":\n",
    "    link_file =  \"berlin-center_net_clean.tntp\" # DUPLICATE NODES REMOVED  \"berlin-center_net_clean_bpr_altered.tntp\" #\n",
    "    trip_file =  \"berlin-center_trips.tntp\"\n",
    "else:\n",
    "    raise ValueError(f\"Unknown scenario {scenario}\")"
   ]
  },
  {
   "cell_type": "code",
   "execution_count": 5,
   "metadata": {
    "execution": {
     "iopub.execute_input": "2020-12-07T07:01:03.074464Z",
     "iopub.status.busy": "2020-12-07T07:01:03.074206Z",
     "iopub.status.idle": "2020-12-07T07:05:58.049708Z",
     "shell.execute_reply": "2020-12-07T07:05:58.047989Z",
     "shell.execute_reply.started": "2020-12-07T07:01:03.074424Z"
    }
   },
   "outputs": [
    {
     "name": "stdout",
     "output_type": "stream",
     "text": [
      "bush-based Assignment STATS\n",
      " Initialised data structures, num nodes = 12981, num links = 28370\n",
      " 0th iteration done, cost = 17175346.0\n",
      "Iteration 1, computed gap: 0.03523369394561715, computed objective: 13572901.0\n",
      "Iteration 2, computed gap: 0.008124234031658073, computed objective: 13446520.0\n",
      "Iteration 3, computed gap: 0.0018462100719774943, computed objective: 13425886.0\n",
      "Iteration 4, computed gap: 0.0005136246907306852, computed objective: 13421236.0\n",
      "Iteration 5, computed gap: 0.00017223551787159952, computed objective: 13420094.0\n",
      "Iteration 6, computed gap: 7.091238174428138e-05, computed objective: 13419739.0\n",
      "bush-based Assignment finished. 6 iterations and 7.091238174428138e-05 final gap\n",
      "CPU times: user 19min 51s, sys: 13min 37s, total: 33min 29s\n",
      "Wall time: 4min 54s\n"
     ]
    }
   ],
   "source": [
    "%%time\n",
    "path_res_ = utils.get_assignment_solution(tntp_dir, scenario, link_file, method=\"bush-based\", block_centroids=False, rgap=5*1e-5)"
   ]
  },
  {
   "cell_type": "code",
   "execution_count": null,
   "metadata": {
    "execution": {
     "iopub.execute_input": "2020-12-07T07:06:52.364607Z",
     "iopub.status.busy": "2020-12-07T07:06:52.364343Z"
    }
   },
   "outputs": [
    {
     "name": "stdout",
     "output_type": "stream",
     "text": [
      "bfw Assignment STATS\n",
      "Iteration, RelativeGap, stepsize\n",
      "1,inf,1.0\n",
      "2,0.3800567793701656,0.5300666634760473\n",
      "3,0.02995166794864988,0.4419368001798535\n",
      "4,0.011215453493207569,0.9740669340921474\n",
      "5,0.018651911495302792,0.207438236660486\n",
      "6,0.005588851085212455,0.23649241559763462\n",
      "7,0.0034952930085653255,0.6993747625312287\n",
      "8,0.006823974042287565,0.14055669550649857\n",
      "9,0.0024604856164390475,0.15286896543449707\n",
      "10,0.002205272541373415,0.293308282199271\n"
     ]
    }
   ],
   "source": [
    "%%time\n",
    "bfw_res_ = utils.get_assignment_solution(tntp_dir, scenario, link_file, method=\"bfw\", block_centroids=False, rgap=5*1e-5)"
   ]
  },
  {
   "cell_type": "code",
   "execution_count": 7,
   "metadata": {
    "execution": {
     "iopub.execute_input": "2020-12-07T07:00:36.258883Z",
     "iopub.status.busy": "2020-12-07T07:00:36.258660Z",
     "iopub.status.idle": "2020-12-07T07:00:36.708831Z",
     "shell.execute_reply": "2020-12-07T07:00:36.707846Z",
     "shell.execute_reply.started": "2020-12-07T07:00:36.258859Z"
    }
   },
   "outputs": [
    {
     "data": {
      "image/png": "[encoded data removed]",
      "text/plain": [
       "<Figure size 432x288 with 1 Axes>"
      ]
     },
     "metadata": {},
     "output_type": "display_data"
    },
    {
     "name": "stdout",
     "output_type": "stream",
     "text": [
      "max diff in flow = 271.364\n",
      "max rel diff in flow = 56.180%\n"
     ]
    },
    {
     "data": {
      "text/html": [
       "<div>\n",
       "<style scoped>\n",
       "    .dataframe tbody tr th:only-of-type {\n",
       "        vertical-align: middle;\n",
       "    }\n",
       "\n",
       "    .dataframe tbody tr th {\n",
       "        vertical-align: top;\n",
       "    }\n",
       "\n",
       "    .dataframe thead th {\n",
       "        text-align: right;\n",
       "    }\n",
       "</style>\n",
       "<table border=\"1\" class=\"dataframe\">\n",
       "  <thead>\n",
       "    <tr style=\"text-align: right;\">\n",
       "      <th></th>\n",
       "      <th>link_id_bfw</th>\n",
       "      <th>a_node</th>\n",
       "      <th>b_node</th>\n",
       "      <th>capacity_bfw</th>\n",
       "      <th>alpha_bfw</th>\n",
       "      <th>beta_bfw</th>\n",
       "      <th>direction_bfw</th>\n",
       "      <th>flow_bfw</th>\n",
       "      <th>link_id_path</th>\n",
       "      <th>capacity_path</th>\n",
       "      <th>alpha_path</th>\n",
       "      <th>beta_path</th>\n",
       "      <th>direction_path</th>\n",
       "      <th>flow_path</th>\n",
       "      <th>abs_change</th>\n",
       "      <th>rel_change</th>\n",
       "    </tr>\n",
       "  </thead>\n",
       "  <tbody>\n",
       "    <tr>\n",
       "      <th>704</th>\n",
       "      <td>704</td>\n",
       "      <td>354</td>\n",
       "      <td>355</td>\n",
       "      <td>5400</td>\n",
       "      <td>0.15</td>\n",
       "      <td>4</td>\n",
       "      <td>1</td>\n",
       "      <td>304.546982</td>\n",
       "      <td>704</td>\n",
       "      <td>5400</td>\n",
       "      <td>0.15</td>\n",
       "      <td>4</td>\n",
       "      <td>1</td>\n",
       "      <td>33.183468</td>\n",
       "      <td>271.363514</td>\n",
       "      <td>0.891040</td>\n",
       "    </tr>\n",
       "    <tr>\n",
       "      <th>667</th>\n",
       "      <td>667</td>\n",
       "      <td>342</td>\n",
       "      <td>343</td>\n",
       "      <td>5400</td>\n",
       "      <td>0.15</td>\n",
       "      <td>4</td>\n",
       "      <td>1</td>\n",
       "      <td>650.530030</td>\n",
       "      <td>667</td>\n",
       "      <td>5400</td>\n",
       "      <td>0.15</td>\n",
       "      <td>4</td>\n",
       "      <td>1</td>\n",
       "      <td>830.113525</td>\n",
       "      <td>179.583495</td>\n",
       "      <td>0.276057</td>\n",
       "    </tr>\n",
       "    <tr>\n",
       "      <th>706</th>\n",
       "      <td>706</td>\n",
       "      <td>355</td>\n",
       "      <td>343</td>\n",
       "      <td>5400</td>\n",
       "      <td>0.15</td>\n",
       "      <td>4</td>\n",
       "      <td>1</td>\n",
       "      <td>1017.598121</td>\n",
       "      <td>706</td>\n",
       "      <td>5400</td>\n",
       "      <td>0.15</td>\n",
       "      <td>4</td>\n",
       "      <td>1</td>\n",
       "      <td>868.244873</td>\n",
       "      <td>149.353248</td>\n",
       "      <td>0.146770</td>\n",
       "    </tr>\n",
       "    <tr>\n",
       "      <th>758</th>\n",
       "      <td>758</td>\n",
       "      <td>370</td>\n",
       "      <td>371</td>\n",
       "      <td>5400</td>\n",
       "      <td>0.15</td>\n",
       "      <td>4</td>\n",
       "      <td>1</td>\n",
       "      <td>925.147365</td>\n",
       "      <td>758</td>\n",
       "      <td>5400</td>\n",
       "      <td>0.15</td>\n",
       "      <td>4</td>\n",
       "      <td>1</td>\n",
       "      <td>1047.161621</td>\n",
       "      <td>122.014256</td>\n",
       "      <td>0.131886</td>\n",
       "    </tr>\n",
       "    <tr>\n",
       "      <th>760</th>\n",
       "      <td>760</td>\n",
       "      <td>371</td>\n",
       "      <td>355</td>\n",
       "      <td>5400</td>\n",
       "      <td>0.15</td>\n",
       "      <td>4</td>\n",
       "      <td>1</td>\n",
       "      <td>713.051139</td>\n",
       "      <td>760</td>\n",
       "      <td>5400</td>\n",
       "      <td>0.15</td>\n",
       "      <td>4</td>\n",
       "      <td>1</td>\n",
       "      <td>835.061462</td>\n",
       "      <td>122.010324</td>\n",
       "      <td>0.171110</td>\n",
       "    </tr>\n",
       "    <tr>\n",
       "      <th>702</th>\n",
       "      <td>702</td>\n",
       "      <td>354</td>\n",
       "      <td>342</td>\n",
       "      <td>5400</td>\n",
       "      <td>0.15</td>\n",
       "      <td>4</td>\n",
       "      <td>1</td>\n",
       "      <td>988.982204</td>\n",
       "      <td>702</td>\n",
       "      <td>5400</td>\n",
       "      <td>0.15</td>\n",
       "      <td>4</td>\n",
       "      <td>1</td>\n",
       "      <td>1093.242554</td>\n",
       "      <td>104.260349</td>\n",
       "      <td>0.105422</td>\n",
       "    </tr>\n",
       "    <tr>\n",
       "      <th>756</th>\n",
       "      <td>756</td>\n",
       "      <td>370</td>\n",
       "      <td>354</td>\n",
       "      <td>5400</td>\n",
       "      <td>0.15</td>\n",
       "      <td>4</td>\n",
       "      <td>1</td>\n",
       "      <td>1121.615256</td>\n",
       "      <td>756</td>\n",
       "      <td>5400</td>\n",
       "      <td>0.15</td>\n",
       "      <td>4</td>\n",
       "      <td>1</td>\n",
       "      <td>1023.477844</td>\n",
       "      <td>98.137412</td>\n",
       "      <td>0.087497</td>\n",
       "    </tr>\n",
       "    <tr>\n",
       "      <th>845</th>\n",
       "      <td>845</td>\n",
       "      <td>394</td>\n",
       "      <td>393</td>\n",
       "      <td>5400</td>\n",
       "      <td>0.15</td>\n",
       "      <td>4</td>\n",
       "      <td>1</td>\n",
       "      <td>3163.161190</td>\n",
       "      <td>845</td>\n",
       "      <td>5400</td>\n",
       "      <td>0.15</td>\n",
       "      <td>4</td>\n",
       "      <td>1</td>\n",
       "      <td>3070.333008</td>\n",
       "      <td>92.828182</td>\n",
       "      <td>0.029347</td>\n",
       "    </tr>\n",
       "    <tr>\n",
       "      <th>838</th>\n",
       "      <td>838</td>\n",
       "      <td>392</td>\n",
       "      <td>391</td>\n",
       "      <td>5400</td>\n",
       "      <td>0.15</td>\n",
       "      <td>4</td>\n",
       "      <td>1</td>\n",
       "      <td>1409.428345</td>\n",
       "      <td>838</td>\n",
       "      <td>5400</td>\n",
       "      <td>0.15</td>\n",
       "      <td>4</td>\n",
       "      <td>1</td>\n",
       "      <td>1326.485229</td>\n",
       "      <td>82.943115</td>\n",
       "      <td>0.058849</td>\n",
       "    </tr>\n",
       "    <tr>\n",
       "      <th>841</th>\n",
       "      <td>841</td>\n",
       "      <td>393</td>\n",
       "      <td>392</td>\n",
       "      <td>5400</td>\n",
       "      <td>0.15</td>\n",
       "      <td>4</td>\n",
       "      <td>1</td>\n",
       "      <td>1409.428345</td>\n",
       "      <td>841</td>\n",
       "      <td>5400</td>\n",
       "      <td>0.15</td>\n",
       "      <td>4</td>\n",
       "      <td>1</td>\n",
       "      <td>1326.485229</td>\n",
       "      <td>82.943115</td>\n",
       "      <td>0.058849</td>\n",
       "    </tr>\n",
       "  </tbody>\n",
       "</table>\n",
       "</div>"
      ],
      "text/plain": [
       "     link_id_bfw  a_node  b_node  capacity_bfw  alpha_bfw  beta_bfw  \\\n",
       "704          704     354     355          5400       0.15         4   \n",
       "667          667     342     343          5400       0.15         4   \n",
       "706          706     355     343          5400       0.15         4   \n",
       "758          758     370     371          5400       0.15         4   \n",
       "760          760     371     355          5400       0.15         4   \n",
       "702          702     354     342          5400       0.15         4   \n",
       "756          756     370     354          5400       0.15         4   \n",
       "845          845     394     393          5400       0.15         4   \n",
       "838          838     392     391          5400       0.15         4   \n",
       "841          841     393     392          5400       0.15         4   \n",
       "\n",
       "     direction_bfw     flow_bfw  link_id_path  capacity_path  alpha_path  \\\n",
       "704              1   304.546982           704           5400        0.15   \n",
       "667              1   650.530030           667           5400        0.15   \n",
       "706              1  1017.598121           706           5400        0.15   \n",
       "758              1   925.147365           758           5400        0.15   \n",
       "760              1   713.051139           760           5400        0.15   \n",
       "702              1   988.982204           702           5400        0.15   \n",
       "756              1  1121.615256           756           5400        0.15   \n",
       "845              1  3163.161190           845           5400        0.15   \n",
       "838              1  1409.428345           838           5400        0.15   \n",
       "841              1  1409.428345           841           5400        0.15   \n",
       "\n",
       "     beta_path  direction_path    flow_path  abs_change  rel_change  \n",
       "704          4               1    33.183468  271.363514    0.891040  \n",
       "667          4               1   830.113525  179.583495    0.276057  \n",
       "706          4               1   868.244873  149.353248    0.146770  \n",
       "758          4               1  1047.161621  122.014256    0.131886  \n",
       "760          4               1   835.061462  122.010324    0.171110  \n",
       "702          4               1  1093.242554  104.260349    0.105422  \n",
       "756          4               1  1023.477844   98.137412    0.087497  \n",
       "845          4               1  3070.333008   92.828182    0.029347  \n",
       "838          4               1  1326.485229   82.943115    0.058849  \n",
       "841          4               1  1326.485229   82.943115    0.058849  "
      ]
     },
     "metadata": {},
     "output_type": "display_data"
    }
   ],
   "source": [
    "full_result = bfw_res_.drop(columns=['time']).merge(path_res_.drop(columns=['time']), on=['a_node', 'b_node'], how='outer', suffixes=['_bfw', '_path'])\n",
    "sns.scatterplot(data=full_result, x='flow_bfw', y='flow_path');\n",
    "plt.show();\n",
    "full_result['abs_change'] = np.abs(full_result.flow_bfw - full_result.flow_path)\n",
    "full_result['rel_change'] = full_result['abs_change'] / full_result['flow_bfw']\n",
    "print(f\"max diff in flow = {full_result['abs_change'].max():.3f}\")\n",
    "print(f\"max rel diff in flow = {full_result['rel_change'].abs().max():.3f}%\")\n",
    "display(full_result.sort_values(by=['abs_change'], ascending=False).head(10))"
   ]
  },
  {
   "cell_type": "code",
   "execution_count": null,
   "metadata": {},
   "outputs": [],
   "source": []
  }
 ],
 "metadata": {
  "kernelspec": {
   "display_name": "Python 3",
   "language": "python",
   "name": "python3"
  },
  "language_info": {
   "codemirror_mode": {
    "name": "ipython",
    "version": 3
   },
   "file_extension": ".py",
   "mimetype": "text/x-python",
   "name": "python",
   "nbconvert_exporter": "python",
   "pygments_lexer": "ipython3",
   "version": "3.7.4"
  }
 },
 "nbformat": 4,
 "nbformat_minor": 4
}
