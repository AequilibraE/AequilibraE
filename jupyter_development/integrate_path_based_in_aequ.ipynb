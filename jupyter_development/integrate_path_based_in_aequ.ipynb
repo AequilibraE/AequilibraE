{
 "cells": [
  {
   "cell_type": "code",
   "execution_count": 1,
   "metadata": {
    "execution": {
     "iopub.execute_input": "2020-12-07T05:04:59.753732Z",
     "iopub.status.busy": "2020-12-07T05:04:59.753376Z",
     "iopub.status.idle": "2020-12-07T05:04:59.845591Z",
     "shell.execute_reply": "2020-12-07T05:04:59.844827Z",
     "shell.execute_reply.started": "2020-12-07T05:04:59.753608Z"
    }
   },
   "outputs": [],
   "source": [
    "%load_ext autoreload"
   ]
  },
  {
   "cell_type": "code",
   "execution_count": 2,
   "metadata": {
    "execution": {
     "iopub.execute_input": "2020-12-07T05:04:59.847828Z",
     "iopub.status.busy": "2020-12-07T05:04:59.847396Z",
     "iopub.status.idle": "2020-12-07T05:04:59.852794Z",
     "shell.execute_reply": "2020-12-07T05:04:59.851403Z",
     "shell.execute_reply.started": "2020-12-07T05:04:59.847800Z"
    }
   },
   "outputs": [],
   "source": [
    "%autoreload 2"
   ]
  },
  {
   "cell_type": "code",
   "execution_count": 25,
   "metadata": {
    "execution": {
     "iopub.execute_input": "2020-12-07T05:16:55.208275Z",
     "iopub.status.busy": "2020-12-07T05:16:55.207989Z",
     "iopub.status.idle": "2020-12-07T05:16:55.389886Z",
     "shell.execute_reply": "2020-12-07T05:16:55.388872Z",
     "shell.execute_reply.started": "2020-12-07T05:16:55.208228Z"
    }
   },
   "outputs": [],
   "source": [
    "import os\n",
    "import sys\n",
    "from datetime import datetime\n",
    "import time\n",
    "\n",
    "import numpy as np\n",
    "import pandas as pd\n",
    "import seaborn as sns\n",
    "import matplotlib.pyplot as plt\n",
    "plt.style.use('fivethirtyeight')\n",
    "import cvxopt\n",
    "import random\n",
    "    \n",
    "aeq_dir = \"/mnt/c/Users/jan.zill/code/aequilibrae\"\n",
    "sys.path.append(aeq_dir)\n",
    "from aequilibrae.paths.path_based.cythoncodetest import OpenBenchmark\n",
    "# import node\n",
    "# import link\n",
    "# #import quadraticassignmentcyt\n",
    "from aequilibrae.paths.path_based import TrafficAssignmentCy\n",
    "aequ_dir = \"/mnt/c/Users/jan.zill/code/aequilibrae\"\n",
    "sys.path.append(aequ_dir)\n",
    "\n",
    "from aequilibrae.paths import TrafficAssignment  # noqa: E402\n",
    "from aequilibrae.paths import Graph  # noqa: E402\n",
    "from aequilibrae.paths.traffic_class import TrafficClass  # noqa: E402\n",
    "from aequilibrae.matrix import AequilibraeMatrix, AequilibraeData  # noqa: E402\n",
    "import matplotlib.pyplot as plt  # noqa: E402\n",
    "\n",
    "from aequilibrae import logger  # noqa: E402\n",
    "import logging  # noqa: E402\n",
    "\n",
    "stdout_handler = logging.StreamHandler(sys.stdout)\n",
    "logger.addHandler(stdout_handler)"
   ]
  },
  {
   "cell_type": "code",
   "execution_count": 4,
   "metadata": {
    "execution": {
     "iopub.execute_input": "2020-12-07T05:05:02.385977Z",
     "iopub.status.busy": "2020-12-07T05:05:02.385780Z",
     "iopub.status.idle": "2020-12-07T05:05:02.556971Z",
     "shell.execute_reply": "2020-12-07T05:05:02.555798Z",
     "shell.execute_reply.started": "2020-12-07T05:05:02.385950Z"
    }
   },
   "outputs": [],
   "source": [
    "code_dir = \"/mnt/c/Users/jan.zill/code\"\n",
    "tntp_dir = os.path.join(code_dir, \"TransportationNetworks_aequilibrae\")\n",
    "scenario = \"Anaheim\"\n",
    "folder = os.path.join(tntp_dir, scenario)\n",
    "link_file =  \"Anaheim_net.tntp\"\n",
    "trip_file =  \"Anaheim_trips.tntp\"\n",
    "\n",
    "block_centroids = False"
   ]
  },
  {
   "cell_type": "code",
   "execution_count": 14,
   "metadata": {
    "execution": {
     "iopub.execute_input": "2020-12-07T05:05:48.080876Z",
     "iopub.status.busy": "2020-12-07T05:05:48.080550Z",
     "iopub.status.idle": "2020-12-07T05:05:48.412403Z",
     "shell.execute_reply": "2020-12-07T05:05:48.411636Z",
     "shell.execute_reply.started": "2020-12-07T05:05:48.080836Z"
    }
   },
   "outputs": [],
   "source": [
    "net = pd.read_csv(os.path.join(tntp_dir, scenario, link_file), skiprows=7, sep=\"\\t\")\n",
    "net = net.reset_index().rename(columns={\"index\": \"link_id\"})\n",
    "\n",
    "if scenario == \"Anaheim\":\n",
    "    cols_ = [\"link_id\", \"Tail\", \"Head\", \"Free Flow Time (min)\", \"Capacity (veh/h)\", \"B\", \"Power\"]\n",
    "    col_names = [\"link_id\", \"a_node\", \"b_node\", \"time\", \"capacity\", \"alpha\", \"beta\"]\n",
    "elif scenario == \"Berlin-Center\":\n",
    "    cols_ = [\"link_id\", \"Init node \", \"Term node \", \"Free Flow Time \", \"Capacity \", \"B \", \"Power \"]\n",
    "    col_names = [\"link_id\", \"a_node\", \"b_node\", \"time\", \"capacity\", \"alpha\", \"beta\"]\n",
    "else:\n",
    "    raise ValueError(f\"Scenario {scenario} needs network column name check\")\n",
    "\n",
    "network = net[cols_]\n",
    "network.columns = col_names\n",
    "network = network.assign(direction=1)\n",
    "\n",
    "g = Graph()\n",
    "g.cost = network[\"time\"].values\n",
    "g.capacity = network[\"capacity\"].values\n",
    "g.free_flow_time = network[\"time\"].values\n",
    "\n",
    "g.network = network.to_records(index=False)\n",
    "g.network_ok = True\n",
    "g.status = \"OK\"\n",
    "\n",
    "# # Loads and prepares the matrix. NOTE: This assumes conversion to aem has been done, Pedro should have a gist online. I also would have that code somewhere.\n",
    "mat = AequilibraeMatrix()\n",
    "mat.load(os.path.join(tntp_dir, scenario, \"demand.aem\"))\n",
    "mat.computational_view([\"matrix\"])\n",
    "zones = mat.zones\n",
    "index = np.arange(zones) + 1\n",
    "\n",
    "g.prepare_graph(index)\n",
    "g.set_graph(\"time\")\n",
    "g.cost = np.array(g.cost, copy=True)\n",
    "g.set_skimming([\"time\"])\n",
    "# this might lead to large diffs:\n",
    "g.set_blocked_centroid_flows(block_centroids)\n",
    "\n",
    "# # Creates the assignment class\n",
    "assigclass = TrafficClass(g, mat)\n",
    "\n",
    "# Instantiates the traffic assignment problem\n",
    "assig = TrafficAssignment()\n",
    "assig.set_classes(assigclass)\n",
    "\n",
    "# configures it properly\n",
    "assig.set_vdf(\"BPR\")\n",
    "#if scenario == \"Anaheim\":\n",
    "#    assig.set_vdf_parameters({\"alpha\": 0.15, \"beta\": 4.0})\n",
    "#elif scenario == \"Berlin-Center\":\n",
    "assig.set_vdf_parameters({\"alpha\": \"alpha\", \"beta\": \"beta\"})\n",
    "#else:\n",
    "#    raise ValueError(f\"Scenario {scenario} needs BPR params\")\n",
    "\n",
    "assig.set_capacity_field(\"capacity\")\n",
    "assig.set_time_field(\"time\")\n",
    "# could be assig.set_algorithm('frank-wolfe')\n",
    "#assig.set_algorithm(\"bfw\")\n",
    "\n",
    "\n",
    "# # Execute the assignment\n",
    "# assig.execute()\n",
    "# # the results are within each traffic class only one, in this case\n",
    "# # assigclass.results.link_loads\n",
    "# solution = pd.DataFrame(assigclass.graph.network)\n",
    "# solution[\"flow\"] = assigclass.results.link_loads\n"
   ]
  },
  {
   "cell_type": "code",
   "execution_count": 6,
   "metadata": {
    "execution": {
     "iopub.execute_input": "2020-12-07T05:05:03.046132Z",
     "iopub.status.busy": "2020-12-07T05:05:03.045871Z",
     "iopub.status.idle": "2020-12-07T05:05:03.224467Z",
     "shell.execute_reply": "2020-12-07T05:05:03.223322Z",
     "shell.execute_reply.started": "2020-12-07T05:05:03.046105Z"
    }
   },
   "outputs": [],
   "source": [
    "net_df = pd.DataFrame(assig.classes[0].graph.network)"
   ]
  },
  {
   "cell_type": "code",
   "execution_count": 7,
   "metadata": {
    "execution": {
     "iopub.execute_input": "2020-12-07T05:05:03.226006Z",
     "iopub.status.busy": "2020-12-07T05:05:03.225800Z",
     "iopub.status.idle": "2020-12-07T05:05:03.406069Z",
     "shell.execute_reply": "2020-12-07T05:05:03.405170Z",
     "shell.execute_reply.started": "2020-12-07T05:05:03.225980Z"
    }
   },
   "outputs": [
    {
     "data": {
      "text/html": [
       "<div>\n",
       "<style scoped>\n",
       "    .dataframe tbody tr th:only-of-type {\n",
       "        vertical-align: middle;\n",
       "    }\n",
       "\n",
       "    .dataframe tbody tr th {\n",
       "        vertical-align: top;\n",
       "    }\n",
       "\n",
       "    .dataframe thead th {\n",
       "        text-align: right;\n",
       "    }\n",
       "</style>\n",
       "<table border=\"1\" class=\"dataframe\">\n",
       "  <thead>\n",
       "    <tr style=\"text-align: right;\">\n",
       "      <th></th>\n",
       "      <th>link_id</th>\n",
       "      <th>a_node</th>\n",
       "      <th>b_node</th>\n",
       "      <th>time</th>\n",
       "      <th>capacity</th>\n",
       "      <th>alpha</th>\n",
       "      <th>beta</th>\n",
       "      <th>direction</th>\n",
       "    </tr>\n",
       "  </thead>\n",
       "  <tbody>\n",
       "    <tr>\n",
       "      <th>0</th>\n",
       "      <td>0</td>\n",
       "      <td>1</td>\n",
       "      <td>117</td>\n",
       "      <td>1.090458</td>\n",
       "      <td>9000</td>\n",
       "      <td>0.15</td>\n",
       "      <td>4</td>\n",
       "      <td>1</td>\n",
       "    </tr>\n",
       "    <tr>\n",
       "      <th>1</th>\n",
       "      <td>1</td>\n",
       "      <td>2</td>\n",
       "      <td>87</td>\n",
       "      <td>1.090458</td>\n",
       "      <td>9000</td>\n",
       "      <td>0.15</td>\n",
       "      <td>4</td>\n",
       "      <td>1</td>\n",
       "    </tr>\n",
       "    <tr>\n",
       "      <th>2</th>\n",
       "      <td>2</td>\n",
       "      <td>3</td>\n",
       "      <td>74</td>\n",
       "      <td>1.090458</td>\n",
       "      <td>9000</td>\n",
       "      <td>0.15</td>\n",
       "      <td>4</td>\n",
       "      <td>1</td>\n",
       "    </tr>\n",
       "  </tbody>\n",
       "</table>\n",
       "</div>"
      ],
      "text/plain": [
       "   link_id  a_node  b_node      time  capacity  alpha  beta  direction\n",
       "0        0       1     117  1.090458      9000   0.15     4          1\n",
       "1        1       2      87  1.090458      9000   0.15     4          1\n",
       "2        2       3      74  1.090458      9000   0.15     4          1"
      ]
     },
     "execution_count": 7,
     "metadata": {},
     "output_type": "execute_result"
    }
   ],
   "source": [
    "net_df.head(3)"
   ]
  },
  {
   "cell_type": "code",
   "execution_count": 8,
   "metadata": {
    "execution": {
     "iopub.execute_input": "2020-12-07T05:05:03.407551Z",
     "iopub.status.busy": "2020-12-07T05:05:03.407385Z",
     "iopub.status.idle": "2020-12-07T05:05:03.581124Z",
     "shell.execute_reply": "2020-12-07T05:05:03.580139Z",
     "shell.execute_reply.started": "2020-12-07T05:05:03.407529Z"
    }
   },
   "outputs": [],
   "source": [
    "#if isinstance(self.vdf_parameters[p1], str):\n",
    "#    array = np.array(self.classes[0].graph.graph[p], copy=True).astype(np.float64)"
   ]
  },
  {
   "cell_type": "code",
   "execution_count": 9,
   "metadata": {
    "execution": {
     "iopub.execute_input": "2020-12-07T05:05:03.582956Z",
     "iopub.status.busy": "2020-12-07T05:05:03.582646Z",
     "iopub.status.idle": "2020-12-07T05:05:03.751111Z",
     "shell.execute_reply": "2020-12-07T05:05:03.750182Z",
     "shell.execute_reply.started": "2020-12-07T05:05:03.582907Z"
    }
   },
   "outputs": [],
   "source": [
    "from aequilibrae.paths.path_based.node import Node\n",
    "from aequilibrae.paths.path_based.link import Link"
   ]
  },
  {
   "cell_type": "code",
   "execution_count": 10,
   "metadata": {
    "execution": {
     "iopub.execute_input": "2020-12-07T05:05:03.776785Z",
     "iopub.status.busy": "2020-12-07T05:05:03.776555Z",
     "iopub.status.idle": "2020-12-07T05:05:03.952114Z",
     "shell.execute_reply": "2020-12-07T05:05:03.951016Z",
     "shell.execute_reply.started": "2020-12-07T05:05:03.776749Z"
    }
   },
   "outputs": [],
   "source": [
    "graph_ = pd.DataFrame(assig.classes[0].graph.graph)"
   ]
  },
  {
   "cell_type": "code",
   "execution_count": null,
   "metadata": {},
   "outputs": [],
   "source": []
  },
  {
   "cell_type": "code",
   "execution_count": null,
   "metadata": {},
   "outputs": [],
   "source": []
  },
  {
   "cell_type": "code",
   "execution_count": 26,
   "metadata": {
    "execution": {
     "iopub.execute_input": "2020-12-07T05:16:59.482260Z",
     "iopub.status.busy": "2020-12-07T05:16:59.482056Z",
     "iopub.status.idle": "2020-12-07T05:16:59.730493Z",
     "shell.execute_reply": "2020-12-07T05:16:59.729272Z",
     "shell.execute_reply.started": "2020-12-07T05:16:59.482237Z"
    }
   },
   "outputs": [
    {
     "name": "stdout",
     "output_type": "stream",
     "text": [
      "bush-based Assignment STATS\n",
      "Iteration, RelativeGap, stepsize\n",
      " Initialised data structures, num nodes = 416, num links = 914\n",
      " 0th iteration done, cost = 1264524.25\n"
     ]
    }
   ],
   "source": [
    "assig.set_algorithm(\"bush-based\")\n",
    "\n",
    "assig.execute()"
   ]
  },
  {
   "cell_type": "code",
   "execution_count": 21,
   "metadata": {
    "execution": {
     "iopub.execute_input": "2020-12-07T05:15:19.613038Z",
     "iopub.status.busy": "2020-12-07T05:15:19.612790Z",
     "iopub.status.idle": "2020-12-07T05:15:19.875433Z",
     "shell.execute_reply": "2020-12-07T05:15:19.873941Z",
     "shell.execute_reply.started": "2020-12-07T05:15:19.613011Z"
    }
   },
   "outputs": [],
   "source": [
    "#assig.assignment.initialise_data_structures()"
   ]
  },
  {
   "cell_type": "code",
   "execution_count": null,
   "metadata": {},
   "outputs": [],
   "source": []
  }
 ],
 "metadata": {
  "kernelspec": {
   "display_name": "Python 3",
   "language": "python",
   "name": "python3"
  },
  "language_info": {
   "codemirror_mode": {
    "name": "ipython",
    "version": 3
   },
   "file_extension": ".py",
   "mimetype": "text/x-python",
   "name": "python",
   "nbconvert_exporter": "python",
   "pygments_lexer": "ipython3",
   "version": "3.7.4"
  }
 },
 "nbformat": 4,
 "nbformat_minor": 4
}
