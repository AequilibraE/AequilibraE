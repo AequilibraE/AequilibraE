{
 "cells": [
  {
   "cell_type": "markdown",
   "metadata": {},
   "source": [
    "# Sioux Falls example"
   ]
  },
  {
   "cell_type": "markdown",
   "metadata": {},
   "source": [
    "## File paths"
   ]
  },
  {
   "cell_type": "code",
   "execution_count": 1,
   "metadata": {
    "pycharm": {
     "is_executing": false
    }
   },
   "outputs": [],
   "source": [
    "fldr = 'D:/release/Sample models/sioux_falls_2020_02_15'\n",
    "proj_name = 'SiouxFalls.sqlite'\n",
    "\n",
    "# remove the comments for the lines below to run the Chicago model example instead\n",
    "# fldr = 'D:/release/Sample models/Chicago_2020_02_15'\n",
    "# proj_name = 'chicagomodel.sqlite'\n",
    "\n",
    "dt_fldr = '0_tntp_data'\n",
    "prj_fldr = '1_project'\n",
    "skm_fldr = '2_skim_results'\n",
    "assg_fldr = '4_assignment_results'\n",
    "dstr_fldr = '5_distribution_results'\n",
    "frcst_fldr = '6_forecast'\n",
    "ftr_fldr = '7_future_year_assignment'"
   ]
  },
  {
   "cell_type": "markdown",
   "metadata": {},
   "source": [
    "## Some logging"
   ]
  },
  {
   "cell_type": "code",
   "execution_count": 2,
   "metadata": {
    "pycharm": {
     "is_executing": false
    }
   },
   "outputs": [],
   "source": [
    "import aequilibrae\n",
    "from os.path import join\n",
    "from aequilibrae import Parameters\n",
    "\n",
    "p = Parameters()\n",
    "p.parameters['system']['logging_directory'] =  fldr\n",
    "p.write_back()"
   ]
  },
  {
   "cell_type": "code",
   "execution_count": 3,
   "metadata": {
    "pycharm": {
     "is_executing": false
    }
   },
   "outputs": [
    {
     "data": {
      "text/plain": "<module 'aequilibrae' from 'D:\\\\src\\\\aequilibrae\\\\aequilibrae\\\\__init__.py'>"
     },
     "metadata": {},
     "output_type": "execute_result",
     "execution_count": 3
    }
   ],
   "source": [
    "# To make sure the logging will go where it should, we reload aequilibrae\n",
    "from importlib import reload\n",
    "reload(aequilibrae)"
   ]
  },
  {
   "cell_type": "markdown",
   "metadata": {},
   "source": [
    "## Opening the project"
   ]
  },
  {
   "cell_type": "code",
   "execution_count": 4,
   "metadata": {
    "pycharm": {
     "is_executing": false
    }
   },
   "outputs": [],
   "source": [
    "# Imports\n",
    "from aequilibrae.project import Project"
   ]
  },
  {
   "cell_type": "code",
   "execution_count": 5,
   "metadata": {
    "pycharm": {
     "is_executing": false
    }
   },
   "outputs": [],
   "source": [
    "project = Project()\n",
    "project.load(join(fldr, prj_fldr, proj_name))"
   ]
  },
  {
   "cell_type": "markdown",
   "metadata": {},
   "source": [
    "## Path computation"
   ]
  },
  {
   "cell_type": "code",
   "execution_count": 6,
   "metadata": {
    "pycharm": {
     "is_executing": false
    }
   },
   "outputs": [],
   "source": [
    "# imports\n",
    "from aequilibrae.paths import PathResults, path_computation"
   ]
  },
  {
   "cell_type": "code",
   "execution_count": 7,
   "metadata": {
    "pycharm": {
     "is_executing": false
    }
   },
   "outputs": [
    {
     "name": "stderr",
     "text": [
      "D:\\src\\aequilibrae\\aequilibrae\\project\\network\\network.py:276: UserWarning: Fields were removed form Graph for being non-numeric: modes,link_type\n",
      "  warn(f'Fields were removed form Graph for being non-numeric: {\",\".join(removed_fields)}')\n",
      "D:\\src\\aequilibrae\\aequilibrae\\paths\\graph.py:351: UserWarning: Field name has at least one NaN value.  Your computation may be compromised\n",
      "  warn(f'Field {i} has at least one NaN value.  Your computation may be compromised')\n",
      "D:\\src\\aequilibrae\\aequilibrae\\paths\\graph.py:351: UserWarning: Field lanes has at least one NaN value.  Your computation may be compromised\n",
      "  warn(f'Field {i} has at least one NaN value.  Your computation may be compromised')\n"
     ],
     "output_type": "stream"
    }
   ],
   "source": [
    "# we build all graphs\n",
    "project.network.build_graphs()\n",
    "# We get warnings that several fields in the project are filled with NaNs.  Which is true, but we won't use those fields"
   ]
  },
  {
   "cell_type": "code",
   "execution_count": 8,
   "metadata": {
    "pycharm": {
     "is_executing": false
    }
   },
   "outputs": [],
   "source": [
    "# we grab the graph for cars\n",
    "graph = project.network.graphs['c']\n",
    "\n",
    "# let's say we want to minimize distance\n",
    "graph.set_graph('distance')\n",
    "\n",
    "# And will skim time and distance while we are at it\n",
    "graph.set_skimming(['free_flow_time', 'distance'])\n",
    "\n",
    "# And we will allow paths to be compute going through other centroids/centroid connectors\n",
    "# required for the Sioux Falls network, as all nodes are centroids\n",
    "graph.set_blocked_centroid_flows(False)\n",
    "\n",
    "# instantiate a path results object and prepare it to work with the graph\n",
    "res = PathResults()\n",
    "res.prepare(graph)\n",
    "\n",
    "# compute a path from node 2 to 13\n",
    "path_computation(2, 13, graph, res)"
   ]
  },
  {
   "cell_type": "code",
   "execution_count": 9,
   "metadata": {
    "pycharm": {
     "is_executing": false
    }
   },
   "outputs": [
    {
     "data": {
      "text/plain": "array([ 2,  1,  3, 12, 13], dtype=int64)"
     },
     "metadata": {},
     "output_type": "execute_result",
     "execution_count": 9
    }
   ],
   "source": [
    "# We can get the sequence of nodes we traverse\n",
    "res.path_nodes"
   ]
  },
  {
   "cell_type": "code",
   "execution_count": 10,
   "metadata": {
    "pycharm": {
     "is_executing": false
    }
   },
   "outputs": [
    {
     "data": {
      "text/plain": "array([ 3,  2,  7, 37], dtype=int64)"
     },
     "metadata": {},
     "output_type": "execute_result",
     "execution_count": 10
    }
   ],
   "source": [
    "# We can get the link sequence we traverse\n",
    "res.path"
   ]
  },
  {
   "cell_type": "code",
   "execution_count": 11,
   "metadata": {
    "pycharm": {
     "is_executing": false
    }
   },
   "outputs": [
    {
     "data": {
      "text/plain": "array([ 0.,  6., 10., 14., 17.])"
     },
     "metadata": {},
     "output_type": "execute_result",
     "execution_count": 11
    }
   ],
   "source": [
    "# We can get the mileposts for our sequence of nodes\n",
    "res.milepost"
   ]
  },
  {
   "cell_type": "code",
   "execution_count": 12,
   "metadata": {
    "scrolled": true,
    "pycharm": {
     "is_executing": false
    }
   },
   "outputs": [
    {
     "data": {
      "text/plain": "array([[ 6.,  6.,  0.],\n       [ 0.,  0.,  0.],\n       [10., 10.,  0.],\n       [11., 11.,  0.],\n       [ 9.,  9.,  0.],\n       [ 5.,  5.,  0.],\n       [10., 10.,  0.],\n       [ 7.,  7.,  0.],\n       [14., 14.,  0.],\n       [16., 16.,  0.],\n       [17., 17.,  0.],\n       [14., 14.,  0.],\n       [17., 17.,  0.],\n       [21., 21.,  0.],\n       [19., 19.,  0.],\n       [12., 12.,  0.],\n       [14., 14.,  0.],\n       [12., 12.,  0.],\n       [16., 16.,  0.],\n       [16., 16.,  0.],\n       [22., 22.,  0.],\n       [21., 21.,  0.],\n       [23., 23.,  0.],\n       [21., 21.,  0.],\n       [ 0.,  0.,  0.]])"
     },
     "metadata": {},
     "output_type": "execute_result",
     "execution_count": 12
    }
   ],
   "source": [
    "# And We can the skims for our tree\n",
    "res.skims"
   ]
  },
  {
   "cell_type": "code",
   "execution_count": 13,
   "metadata": {
    "pycharm": {
     "is_executing": false
    }
   },
   "outputs": [],
   "source": [
    "# If we want to compute the path for a different destination and same origin, we can just do this\n",
    "# It is way faster when you have large networks\n",
    "res.update_trace(4)"
   ]
  },
  {
   "cell_type": "code",
   "execution_count": 14,
   "metadata": {
    "pycharm": {
     "is_executing": false
    }
   },
   "outputs": [
    {
     "data": {
      "text/plain": "array([2, 6, 5, 4], dtype=int64)"
     },
     "metadata": {},
     "output_type": "execute_result",
     "execution_count": 14
    }
   ],
   "source": [
    "res.path_nodes"
   ]
  },
  {
   "cell_type": "markdown",
   "metadata": {},
   "source": [
    "## Skimming"
   ]
  },
  {
   "cell_type": "code",
   "execution_count": 15,
   "metadata": {
    "pycharm": {
     "is_executing": false
    }
   },
   "outputs": [],
   "source": [
    "from aequilibrae.matrix import AequilibraeData, AequilibraeMatrix\n",
    "from aequilibrae.paths import NetworkSkimming, SkimResults"
   ]
  },
  {
   "cell_type": "code",
   "execution_count": 16,
   "metadata": {
    "pycharm": {
     "is_executing": false
    }
   },
   "outputs": [],
   "source": [
    "# from before\n",
    "project = Project()\n",
    "project.load(join(fldr, prj_fldr, proj_name))\n",
    "project.network.build_graphs()\n",
    "\n",
    "graph = project.network.graphs['c'] # we grab the graph for cars\n",
    "graph.set_graph('free_flow_time') # let's say we want to minimize time\n",
    "graph.set_skimming(['free_flow_time', 'distance']) # And will skim time and distance\n",
    "graph = project.network.graphs['c'] # we grab the graph for cars\n",
    "graph.set_blocked_centroid_flows(False)"
   ]
  },
  {
   "cell_type": "code",
   "execution_count": 17,
   "metadata": {
    "pycharm": {
     "is_executing": false
    }
   },
   "outputs": [],
   "source": [
    "# setup the object result\n",
    "res = SkimResults()\n",
    "res.prepare(graph)"
   ]
  },
  {
   "cell_type": "code",
   "execution_count": 18,
   "metadata": {
    "pycharm": {
     "is_executing": false
    }
   },
   "outputs": [],
   "source": [
    "# And run the skimming\n",
    "skm = NetworkSkimming(graph, res)\n",
    "skm.execute()"
   ]
  },
  {
   "cell_type": "code",
   "execution_count": 19,
   "metadata": {
    "pycharm": {
     "is_executing": false
    }
   },
   "outputs": [],
   "source": [
    "# The result is an AequilibraEMatrix object\n",
    "skims = res.skims\n",
    "\n",
    "# We can export to AEM and OMX\n",
    "skims.export(join(fldr, skm_fldr, 'skimming_on_time.aem'))\n",
    "skims.export(join(fldr, skm_fldr, 'skimming_on_time.omx'))"
   ]
  },
  {
   "cell_type": "markdown",
   "metadata": {},
   "source": [
    "# Traffic assignment with skimming"
   ]
  },
  {
   "cell_type": "code",
   "execution_count": 20,
   "metadata": {
    "pycharm": {
     "is_executing": false
    }
   },
   "outputs": [],
   "source": [
    "from aequilibrae.matrix import AequilibraeMatrix\n",
    "from aequilibrae.paths import TrafficAssignment, TrafficClass\n",
    "from aequilibrae import logger\n",
    "import logging"
   ]
  },
  {
   "cell_type": "code",
   "execution_count": 21,
   "metadata": {
    "pycharm": {
     "is_executing": false
    }
   },
   "outputs": [],
   "source": [
    "# from before\n",
    "project = Project()\n",
    "project.load(join(fldr, prj_fldr, proj_name))\n",
    "project.network.build_graphs()\n",
    "\n",
    "graph = project.network.graphs['c'] # we grab the graph for cars\n",
    "graph.set_graph('free_flow_time') # let's say we want to minimize time\n",
    "graph.set_skimming(['free_flow_time', 'distance']) # And will skim time and distance\n",
    "graph.set_blocked_centroid_flows(False)"
   ]
  },
  {
   "cell_type": "code",
   "execution_count": 22,
   "metadata": {
    "pycharm": {
     "is_executing": false
    }
   },
   "outputs": [],
   "source": [
    "import sys\n",
    "# Because assignment takes a long time, we want the log to be shown here\n",
    "stdout_handler = logging.StreamHandler(sys.stdout)\n",
    "formatter = logging.Formatter(\"%(asctime)s;%(name)s;%(levelname)s ; %(message)s\")\n",
    "stdout_handler.setFormatter(formatter)\n",
    "logger.addHandler(stdout_handler)"
   ]
  },
  {
   "cell_type": "code",
   "execution_count": 23,
   "metadata": {
    "scrolled": true,
    "pycharm": {
     "is_executing": false
    }
   },
   "outputs": [
    {
     "name": "stdout",
     "text": [
      "2020-04-06 19:17:14,857;aequilibrae;INFO ; bfw Assignment STATS\n",
      "2020-04-06 19:17:14,858;aequilibrae;INFO ; Iteration, RelativeGap, stepsize\n",
      "2020-04-06 19:17:14,966;aequilibrae;INFO ; 1,inf,1.0\n",
      "2020-04-06 19:17:15,075;aequilibrae;INFO ; 2,0.8485503509703024,0.36497345609427145\n",
      "2020-04-06 19:17:15,198;aequilibrae;INFO ; 3,0.3813926225800203,0.2298356924660528\n",
      "2020-04-06 19:17:15,311;aequilibrae;INFO ; 4,0.19621277462606984,0.18591312145268074\n",
      "2020-04-06 19:17:15,420;aequilibrae;INFO ; 5,0.09069073200924213,0.7090816523174254\n",
      "2020-04-06 19:17:15,540;aequilibrae;INFO ; 6,0.20600048221061426,0.1229016022154401\n",
      "2020-04-06 19:17:15,686;aequilibrae;INFO ; 7,0.06710568925282254,0.38638656717489844\n",
      "2020-04-06 19:17:15,798;aequilibrae;INFO ; 8,0.10307514154369488,0.1093055036410267\n",
      "2020-04-06 19:17:15,940;aequilibrae;INFO ; 9,0.04222147191362779,0.2487805192125393\n",
      "2020-04-06 19:17:16,097;aequilibrae;INFO ; 10,0.05926435464772421,0.15904810628271004\n",
      "2020-04-06 19:17:16,206;aequilibrae;INFO ; 11,0.03453951151333739,0.5180973804491722\n",
      "2020-04-06 19:17:16,326;aequilibrae;INFO ; 12,0.059426517206032654,0.10197123112986584\n",
      "2020-04-06 19:17:16,439;aequilibrae;INFO ; 13,0.023239895792359067,0.1780595483940025\n",
      "2020-04-06 19:17:16,549;aequilibrae;INFO ; 14,0.017873783562205998,0.9787872930853664\n",
      "2020-04-06 19:17:16,664;aequilibrae;INFO ; 15,0.049661371545771556,0.08320656307451389\n",
      "2020-04-06 19:17:16,775;aequilibrae;INFO ; 16,0.021382882276233087,0.11517403065013918\n",
      "2020-04-06 19:17:16,885;aequilibrae;INFO ; 17,0.013141542820482906,0.10640369388111594\n",
      "2020-04-06 19:17:17,008;aequilibrae;INFO ; 18,0.009902228209039313,0.10710395766777006\n",
      "2020-04-06 19:17:17,119;aequilibrae;INFO ; 19,0.008834657139075773,0.2524678977926848\n",
      "2020-04-06 19:17:17,229;aequilibrae;INFO ; 20,0.01037104162273405,0.672783938935575\n",
      "2020-04-06 19:17:17,390;aequilibrae;INFO ; 21,0.011090096306112919,0.07468060074370476\n",
      "2020-04-06 19:17:17,501;aequilibrae;INFO ; 22,0.006512685266481604,0.1248501762466173\n",
      "2020-04-06 19:17:17,612;aequilibrae;INFO ; 23,0.005238884615251675,0.06316016574610296\n",
      "2020-04-06 19:17:17,735;aequilibrae;INFO ; 24,0.003949529236289729,0.09717896243713699\n",
      "2020-04-06 19:17:17,846;aequilibrae;INFO ; 25,0.003282221301580675,0.15775901718805277\n",
      "2020-04-06 19:17:17,956;aequilibrae;INFO ; 26,0.00579283245286733,0.4524765669952469\n",
      "2020-04-06 19:17:18,087;aequilibrae;INFO ; 27,0.0066823585472093215,0.7851865570320201\n",
      "2020-04-06 19:17:18,198;aequilibrae;INFO ; 28,0.005992619218872507,0.03909810047560597\n",
      "2020-04-06 19:17:18,309;aequilibrae;INFO ; 29,0.004031364688023943,0.04253018777365569\n",
      "2020-04-06 19:17:18,493;aequilibrae;INFO ; 30,0.0027696521195961455,0.022512872266870154\n",
      "2020-04-06 19:17:18,606;aequilibrae;INFO ; 31,0.0024846461521886723,0.045801692933289694\n",
      "2020-04-06 19:17:18,717;aequilibrae;INFO ; 32,0.0016385526468737244,0.03429583308495096\n",
      "2020-04-06 19:17:18,838;aequilibrae;INFO ; 33,0.001495691114378677,0.03539200254744609\n",
      "2020-04-06 19:17:18,950;aequilibrae;INFO ; 34,0.0011355392148559484,0.05358983822739106\n",
      "2020-04-06 19:17:19,061;aequilibrae;INFO ; 35,0.0012151973759488516,0.04757130468757175\n",
      "2020-04-06 19:17:19,173;aequilibrae;INFO ; 36,0.001239365147986654,0.06536473861280115\n",
      "2020-04-06 19:17:19,284;aequilibrae;INFO ; 37,0.0010684962819843323,0.10703952287420007\n",
      "2020-04-06 19:17:19,394;aequilibrae;INFO ; 38,0.0010899690080066334,0.09864062409431697\n",
      "2020-04-06 19:17:19,518;aequilibrae;INFO ; 39,0.0009886948497176082,0.060276239115439986\n",
      "2020-04-06 19:17:19,629;aequilibrae;INFO ; 40,0.001263208691216004,0.22288089471463618\n",
      "2020-04-06 19:17:19,740;aequilibrae;INFO ; 41,0.0011655716534080074,0.19775964941930804\n",
      "2020-04-06 19:17:19,856;aequilibrae;INFO ; 42,0.0012299958308279288,0.3170348486818246\n",
      "2020-04-06 19:17:19,967;aequilibrae;INFO ; 43,0.0012902531663784,0.3422879827724445\n",
      "2020-04-06 19:17:20,078;aequilibrae;INFO ; 44,0.000997953108759,0.733206097427319\n",
      "2020-04-06 19:17:20,310;aequilibrae;INFO ; 45,0.0010315523927453892,0.013815368592925968\n",
      "2020-04-06 19:17:20,423;aequilibrae;INFO ; 46,0.0010265363162056328,0.018092240160008002\n",
      "2020-04-06 19:17:20,533;aequilibrae;INFO ; 47,0.0012456421811254195,0.02078052954713987\n",
      "2020-04-06 19:17:20,744;aequilibrae;INFO ; 48,0.001005083891816712,0.03525586966244429\n",
      "2020-04-06 19:17:20,855;aequilibrae;INFO ; 49,0.0008051129479338171,0.047366093308982796\n",
      "2020-04-06 19:17:20,964;aequilibrae;INFO ; 50,0.0007820896246018318,0.019670751403805597\n",
      "2020-04-06 19:17:21,187;aequilibrae;INFO ; 51,0.0007415443779388085,0.051697291225227815\n",
      "2020-04-06 19:17:21,299;aequilibrae;INFO ; 52,0.0006642290713654327,0.016424071475225455\n",
      "2020-04-06 19:17:21,412;aequilibrae;INFO ; 53,0.0005602266700071361,0.030148236950834257\n",
      "2020-04-06 19:17:21,615;aequilibrae;INFO ; 54,0.0007119399366944584,0.04057283830698149\n",
      "2020-04-06 19:17:21,733;aequilibrae;INFO ; 55,0.0007151186725332827,0.03481548398769799\n",
      "2020-04-06 19:17:21,843;aequilibrae;INFO ; 56,0.0007312339846604824,0.03519693476388438\n",
      "2020-04-06 19:17:21,976;aequilibrae;INFO ; 57,0.0006253995809723564,0.04128940830560773\n",
      "2020-04-06 19:17:22,087;aequilibrae;INFO ; 58,0.0006611243487227674,0.05627424684655026\n",
      "2020-04-06 19:17:22,198;aequilibrae;INFO ; 59,0.0005118879407791966,0.03551126601331105\n",
      "2020-04-06 19:17:22,420;aequilibrae;INFO ; 60,0.0004164956744013628,0.03359472849736475\n",
      "2020-04-06 19:17:22,555;aequilibrae;INFO ; 61,0.000527605666848948,0.034597199499350244\n",
      "2020-04-06 19:17:22,666;aequilibrae;INFO ; 62,0.00045432737916147764,0.027378780559522975\n",
      "2020-04-06 19:17:22,889;aequilibrae;INFO ; 63,0.00027615861217107716,0.02165026123847052\n",
      "2020-04-06 19:17:23,002;aequilibrae;INFO ; 64,0.00033940086074215004,0.032560377179207366\n",
      "2020-04-06 19:17:23,111;aequilibrae;INFO ; 65,0.0002976939889610538,0.020112800180175954\n",
      "2020-04-06 19:17:23,332;aequilibrae;INFO ; 66,0.00025092551331835737,0.022756081313451495\n",
      "2020-04-06 19:17:23,445;aequilibrae;INFO ; 67,0.00033171534275531806,0.03884336156009286\n",
      "2020-04-06 19:17:23,556;aequilibrae;INFO ; 68,0.00041143125401788325,0.06605248533419403\n",
      "2020-04-06 19:17:23,673;aequilibrae;INFO ; 69,0.0004193609016155712,0.09900297545823974\n",
      "2020-04-06 19:17:23,789;aequilibrae;INFO ; 70,0.0003999709880225251,0.04120195662887241\n",
      "2020-04-06 19:17:23,901;aequilibrae;INFO ; 71,0.00033001142993807257,0.05508415364976502\n",
      "2020-04-06 19:17:24,016;aequilibrae;INFO ; 72,0.0003767596211834213,0.06937522965911334\n",
      "2020-04-06 19:17:24,127;aequilibrae;INFO ; 73,0.00044879327261706717,0.12227813840990995\n",
      "2020-04-06 19:17:24,237;aequilibrae;INFO ; 74,0.0003214075324097083,0.07367413436521633\n",
      "2020-04-06 19:17:24,352;aequilibrae;INFO ; 75,0.00031102525541516134,0.05277520662164742\n",
      "2020-04-06 19:17:24,463;aequilibrae;INFO ; 76,0.00024068035481812487,0.055186335960761605\n",
      "2020-04-06 19:17:24,574;aequilibrae;INFO ; 77,0.0002556425135299896,0.050126304099834824\n",
      "2020-04-06 19:17:24,694;aequilibrae;INFO ; 78,0.0002484402000855699,0.04635133100577828\n",
      "2020-04-06 19:17:24,806;aequilibrae;INFO ; 79,0.00023149445589136915,0.035281275702692926\n",
      "2020-04-06 19:17:24,917;aequilibrae;INFO ; 80,0.00017558345047149934,0.019635617481470777\n",
      "2020-04-06 19:17:25,032;aequilibrae;INFO ; 81,0.00011664045061971004,0.009672413038184148\n",
      "2020-04-06 19:17:25,141;aequilibrae;INFO ; 82,0.00012562689066628537,0.012887464328717856\n",
      "2020-04-06 19:17:25,251;aequilibrae;INFO ; 83,7.278672731289484e-05,0.008858017305279013\n",
      "2020-04-06 19:17:25,381;aequilibrae;INFO ; 84,9.793807403721995e-05,0.01036522363770003\n",
      "2020-04-06 19:17:25,542;aequilibrae;INFO ; 85,0.00011666509012666509,0.01795837298973198\n",
      "2020-04-06 19:17:25,653;aequilibrae;INFO ; 86,0.00014585681048632373,0.038453570486798115\n",
      "2020-04-06 19:17:25,770;aequilibrae;INFO ; 87,0.0002376244175495725,0.1134345681023814\n",
      "2020-04-06 19:17:25,882;aequilibrae;INFO ; 88,0.00027958610926191025,0.10613546428760115\n",
      "2020-04-06 19:17:25,993;aequilibrae;INFO ; 89,0.0002760965178313697,0.15221748864681628\n",
      "2020-04-06 19:17:26,108;aequilibrae;INFO ; 90,0.00020673161136193158,0.05792997017294242\n",
      "2020-04-06 19:17:26,219;aequilibrae;INFO ; 91,0.00018376373611542947,0.05858281314866264\n",
      "2020-04-06 19:17:26,330;aequilibrae;INFO ; 92,0.00025188846379619326,0.07856390068367715\n",
      "2020-04-06 19:17:26,445;aequilibrae;INFO ; 93,0.00018403865328386565,0.052919629433988126\n",
      "2020-04-06 19:17:26,556;aequilibrae;INFO ; 94,0.00017727194611586025,0.03132264383228683\n",
      "2020-04-06 19:17:26,667;aequilibrae;INFO ; 95,0.0001664761597243509,0.049833775983910804\n",
      "2020-04-06 19:17:26,783;aequilibrae;INFO ; 96,0.0001692731271229568,0.06659231095798239\n",
      "2020-04-06 19:17:26,894;aequilibrae;INFO ; 97,0.00015764866892025727,0.031049549955547255\n",
      "2020-04-06 19:17:27,006;aequilibrae;INFO ; 98,0.0001135318565071912,0.021508488894180413\n",
      "2020-04-06 19:17:27,134;aequilibrae;INFO ; 99,0.0001077685722655955,0.007782447434077397\n",
      "2020-04-06 19:17:27,245;aequilibrae;INFO ; 100,8.290129821257425e-05,0.01366691486783534\n",
      "2020-04-06 19:17:27,356;aequilibrae;INFO ; 101,8.787072133174371e-05,0.0075506375487620035\n",
      "2020-04-06 19:17:27,469;aequilibrae;INFO ; 102,6.16112824906764e-05,0.0034698935639905543\n",
      "2020-04-06 19:17:27,580;aequilibrae;INFO ; 103,6.65724106364306e-05,0.012297490026251615\n",
      "2020-04-06 19:17:27,691;aequilibrae;INFO ; 104,8.167044070100085e-05,0.034649572513791485\n",
      "2020-04-06 19:17:27,837;aequilibrae;INFO ; 105,0.00014145763740933194,0.03008569999783731\n",
      "2020-04-06 19:17:28,000;aequilibrae;INFO ; 106,0.00012121757398835041,0.02863049041444687\n",
      "2020-04-06 19:17:28,111;aequilibrae;INFO ; 107,0.00011704430132214402,0.020532797406517034\n",
      "2020-04-06 19:17:28,227;aequilibrae;INFO ; 108,9.038254132496336e-05,0.016431715797289873\n",
      "2020-04-06 19:17:28,339;aequilibrae;INFO ; 109,8.387666014181897e-05,0.009313769399861954\n",
      "2020-04-06 19:17:28,449;aequilibrae;INFO ; 110,7.179219523232126e-05,0.012667315989267533\n",
      "2020-04-06 19:17:28,561;aequilibrae;INFO ; 111,7.448436904912057e-05,0.020824803368458652\n",
      "2020-04-06 19:17:28,673;aequilibrae;INFO ; 112,7.979989740412056e-05,0.01350429462621538\n",
      "2020-04-06 19:17:28,783;aequilibrae;INFO ; 113,5.897483887553869e-05,0.005681743865309464\n",
      "2020-04-06 19:17:28,900;aequilibrae;INFO ; 114,4.732322978891796e-05,0.003394766466037069\n",
      "2020-04-06 19:17:29,019;aequilibrae;INFO ; 115,4.842939727134413e-05,0.003146775537133194\n",
      "2020-04-06 19:17:29,130;aequilibrae;INFO ; 116,4.563154195005107e-05,0.003548909183312385\n",
      "2020-04-06 19:17:29,306;aequilibrae;INFO ; 117,5.0599606034503906e-05,0.003905355495996715\n",
      "2020-04-06 19:17:29,420;aequilibrae;INFO ; 118,5.8215557650753195e-05,0.008433289711441043\n",
      "2020-04-06 19:17:29,529;aequilibrae;INFO ; 119,4.734061248269072e-05,0.006424271038207442\n",
      "2020-04-06 19:17:29,663;aequilibrae;INFO ; 120,4.151285332127579e-05,0.0038911295908744792\n",
      "2020-04-06 19:17:29,782;aequilibrae;INFO ; 121,6.895367888025907e-05,0.006366486296729996\n",
      "2020-04-06 19:17:29,893;aequilibrae;INFO ; 122,4.943347899628273e-05,0.0036001745428485125\n",
      "2020-04-06 19:17:30,015;aequilibrae;INFO ; 123,4.47014922808554e-05,0.002931474976076315\n",
      "2020-04-06 19:17:30,126;aequilibrae;INFO ; 124,4.2977297957641665e-05,0.004372143750036361\n",
      "2020-04-06 19:17:30,236;aequilibrae;INFO ; 125,4.934015458373498e-05,0.003937575765726345\n",
      "2020-04-06 19:17:30,362;aequilibrae;INFO ; 126,4.49313619675145e-05,0.005201571048438978\n",
      "2020-04-06 19:17:30,475;aequilibrae;INFO ; 127,5.911070077129277e-05,0.004625089222434666\n",
      "2020-04-06 19:17:30,587;aequilibrae;INFO ; 128,5.349002801973538e-05,0.006201142476750885\n",
      "2020-04-06 19:17:30,711;aequilibrae;INFO ; 129,5.066022086996491e-05,0.003932581426772636\n",
      "2020-04-06 19:17:30,824;aequilibrae;INFO ; 130,4.689190681554633e-05,0.0036530846135687757\n",
      "2020-04-06 19:17:30,935;aequilibrae;INFO ; 131,4.401634387996839e-05,0.005555564359183399\n",
      "2020-04-06 19:17:31,087;aequilibrae;INFO ; 132,4.9174695178500926e-05,0.004923202285201141\n",
      "2020-04-06 19:17:31,199;aequilibrae;INFO ; 133,5.454615795648578e-05,0.006761357674664874\n",
      "2020-04-06 19:17:31,310;aequilibrae;INFO ; 134,5.575021437457335e-05,0.004405657888502469\n",
      "2020-04-06 19:17:31,425;aequilibrae;INFO ; 135,4.423021688255e-05,0.009432207562449524\n",
      "2020-04-06 19:17:31,540;aequilibrae;INFO ; 136,5.585917618227602e-05,0.006151534848712988\n",
      "2020-04-06 19:17:31,651;aequilibrae;INFO ; 137,3.7844448441490626e-05,0.004172526322896007\n",
      "2020-04-06 19:17:31,769;aequilibrae;INFO ; 138,4.53533012796568e-05,0.0028363078801965187\n",
      "2020-04-06 19:17:31,894;aequilibrae;INFO ; 139,3.7309227115299405e-05,0.004509664553326974\n",
      "2020-04-06 19:17:32,004;aequilibrae;INFO ; 140,4.2524097721738126e-05,0.003471238206908126\n",
      "2020-04-06 19:17:32,129;aequilibrae;INFO ; 141,3.7879454046309266e-05,0.0026586780067624546\n",
      "2020-04-06 19:17:32,241;aequilibrae;INFO ; 142,4.209572014324319e-05,0.004200780733725077\n",
      "2020-04-06 19:17:32,352;aequilibrae;INFO ; 143,3.139173464064745e-05,0.003019098895601931\n",
      "2020-04-06 19:17:32,480;aequilibrae;INFO ; 144,3.060795765448472e-05,0.00491556840028179\n",
      "2020-04-06 19:17:32,591;aequilibrae;INFO ; 145,4.3983972459368594e-05,0.009686231996320953\n",
      "2020-04-06 19:17:32,701;aequilibrae;INFO ; 146,5.351903625619115e-05,0.01335369668566752\n",
      "2020-04-06 19:17:32,847;aequilibrae;INFO ; 147,4.8810315823322994e-05,0.008309043770751243\n",
      "2020-04-06 19:17:32,960;aequilibrae;INFO ; 148,5.2076797849935866e-05,0.011647370192933043\n",
      "2020-04-06 19:17:33,071;aequilibrae;INFO ; 149,4.8864532118267145e-05,0.011233207712924489\n",
      "2020-04-06 19:17:33,185;aequilibrae;INFO ; 150,6.484308408930381e-05,0.027885095871002387\n",
      "2020-04-06 19:17:33,297;aequilibrae;INFO ; 151,0.00010421522296915867,0.03222101875101249\n",
      "2020-04-06 19:17:33,406;aequilibrae;INFO ; 152,8.739676387751861e-05,0.03513924539973442\n",
      "2020-04-06 19:17:33,519;aequilibrae;INFO ; 153,7.588710308543899e-05,0.009391543255945062\n",
      "2020-04-06 19:17:33,632;aequilibrae;INFO ; 154,5.4043121287057245e-05,0.029211732751750225\n",
      "2020-04-06 19:17:33,743;aequilibrae;INFO ; 155,5.8551960140389526e-05,0.024091340021681555\n",
      "2020-04-06 19:17:33,862;aequilibrae;INFO ; 156,6.824395524822926e-05,0.025758091859687537\n",
      "2020-04-06 19:17:33,978;aequilibrae;INFO ; 157,6.636433111137592e-05,0.03139224706329975\n",
      "2020-04-06 19:17:34,090;aequilibrae;INFO ; 158,5.179924566273807e-05,0.012450901378705873\n",
      "2020-04-06 19:17:34,204;aequilibrae;INFO ; 159,5.02841012748333e-05,0.006634678867097069\n",
      "2020-04-06 19:17:34,315;aequilibrae;INFO ; 160,4.2153620653612666e-05,0.008319395336490036\n",
      "2020-04-06 19:17:34,429;aequilibrae;INFO ; 161,4.702981319357048e-05,0.010235952183951373\n",
      "2020-04-06 19:17:34,542;aequilibrae;INFO ; 162,4.859484050511033e-05,0.007270890809485364\n",
      "2020-04-06 19:17:34,654;aequilibrae;INFO ; 163,6.217446792419356e-05,0.007762342706646805\n",
      "2020-04-06 19:17:34,765;aequilibrae;INFO ; 164,4.430261932138433e-05,0.0056982782442399705\n",
      "2020-04-06 19:17:34,876;aequilibrae;INFO ; 165,3.6481494123821915e-05,0.0019992573714901992\n",
      "2020-04-06 19:17:34,988;aequilibrae;INFO ; 166,3.601298162910287e-05,0.00409508127851611\n",
      "2020-04-06 19:17:35,100;aequilibrae;INFO ; 167,3.9283658657739396e-05,0.005546604961637469\n",
      "2020-04-06 19:17:35,214;aequilibrae;INFO ; 168,5.1075916764107365e-05,0.005767082460778641\n",
      "2020-04-06 19:17:35,327;aequilibrae;INFO ; 169,3.704079416058081e-05,0.0063478649078448895\n",
      "2020-04-06 19:17:35,441;aequilibrae;INFO ; 170,4.900138805469552e-05,0.006970838727651122\n",
      "2020-04-06 19:17:35,552;aequilibrae;INFO ; 171,4.912389218183788e-05,0.00700019766091602\n",
      "2020-04-06 19:17:35,665;aequilibrae;INFO ; 172,4.248346387718048e-05,0.004434353295555015\n",
      "2020-04-06 19:17:35,775;aequilibrae;INFO ; 173,4.1289505301600574e-05,0.006207794879708459\n",
      "2020-04-06 19:17:35,887;aequilibrae;INFO ; 174,5.395758767164038e-05,0.010674300559965476\n",
      "2020-04-06 19:17:36,000;aequilibrae;INFO ; 175,5.571272855046446e-05,0.008833602599850417\n",
      "2020-04-06 19:17:36,111;aequilibrae;INFO ; 176,5.430930068621859e-05,0.013346136515133899\n",
      "2020-04-06 19:17:36,229;aequilibrae;INFO ; 177,4.514839573912685e-05,0.01039296371872169\n",
      "2020-04-06 19:17:36,343;aequilibrae;INFO ; 178,3.112722241866533e-05,0.00368166065118696\n",
      "2020-04-06 19:17:36,457;aequilibrae;INFO ; 179,3.246509973117057e-05,0.004290107722470619\n",
      "2020-04-06 19:17:36,568;aequilibrae;INFO ; 180,3.6838486225133685e-05,0.0046064974228579\n",
      "2020-04-06 19:17:36,679;aequilibrae;INFO ; 181,3.983920843535353e-05,0.005702591399462159\n",
      "2020-04-06 19:17:36,791;aequilibrae;INFO ; 182,3.649938421458564e-05,0.004849960605114549\n",
      "2020-04-06 19:17:36,902;aequilibrae;INFO ; 183,3.681782307247241e-05,0.004947580722403867\n",
      "2020-04-06 19:17:37,014;aequilibrae;INFO ; 184,2.7609561580000434e-05,0.0041880610850917\n",
      "2020-04-06 19:17:37,125;aequilibrae;INFO ; 185,3.194718136240245e-05,0.005232177893009318\n",
      "2020-04-06 19:17:37,234;aequilibrae;INFO ; 186,3.0908964399667644e-05,0.008306024722527084\n",
      "2020-04-06 19:17:37,345;aequilibrae;INFO ; 187,2.727458210453611e-05,0.0034304427934778625\n",
      "2020-04-06 19:17:37,455;aequilibrae;INFO ; 188,3.0282048857534825e-05,0.007586471933419625\n",
      "2020-04-06 19:17:37,566;aequilibrae;INFO ; 189,3.4105261643333985e-05,0.0055630217239686156\n",
      "2020-04-06 19:17:37,678;aequilibrae;INFO ; 190,3.76170925459217e-05,0.013324019262225633\n",
      "2020-04-06 19:17:37,789;aequilibrae;INFO ; 191,3.513728657415341e-05,0.006990286931611444\n",
      "2020-04-06 19:17:37,900;aequilibrae;INFO ; 192,3.228912413486425e-05,0.003975918567292393\n",
      "2020-04-06 19:17:38,012;aequilibrae;INFO ; 193,2.5549106690392105e-05,0.0026115101863781803\n",
      "2020-04-06 19:17:38,123;aequilibrae;INFO ; 194,2.8737964569587102e-05,0.004594607608557626\n",
      "2020-04-06 19:17:38,234;aequilibrae;INFO ; 195,2.4882750573396658e-05,0.002898956457771794\n",
      "2020-04-06 19:17:38,345;aequilibrae;INFO ; 196,1.641015869425133e-05,0.0008352344591935562\n",
      "2020-04-06 19:17:38,457;aequilibrae;INFO ; 197,3.0994336741638624e-05,0.0018034405693276407\n",
      "2020-04-06 19:17:38,567;aequilibrae;INFO ; 198,1.986995685694245e-05,0.0008629022549404467\n",
      "2020-04-06 19:17:38,679;aequilibrae;INFO ; 199,1.8360910097038693e-05,0.0008803986548546783\n",
      "2020-04-06 19:17:38,790;aequilibrae;INFO ; 200,1.5455637331316425e-05,0.001180101851680151\n",
      "2020-04-06 19:17:38,900;aequilibrae;INFO ; 201,1.6828865189643557e-05,0.0007032428693221257\n",
      "2020-04-06 19:17:39,011;aequilibrae;INFO ; 202,1.7164282659673334e-05,0.0006350153270045592\n",
      "2020-04-06 19:17:39,124;aequilibrae;INFO ; 203,1.496769539407244e-05,0.0008245871365404766\n",
      "2020-04-06 19:17:39,234;aequilibrae;INFO ; 204,1.2734048780662493e-05,0.000641666121072626\n",
      "2020-04-06 19:17:39,351;aequilibrae;INFO ; 205,1.706907411690864e-05,0.0006836899347018424\n",
      "2020-04-06 19:17:39,464;aequilibrae;INFO ; 206,1.8992471681871283e-05,0.0008905070631669141\n",
      "2020-04-06 19:17:39,575;aequilibrae;INFO ; 207,1.3941365895534541e-05,0.0005761425363254962\n",
      "2020-04-06 19:17:39,687;aequilibrae;INFO ; 208,1.223392759911128e-05,0.0005628603475831474\n",
      "2020-04-06 19:17:39,798;aequilibrae;INFO ; 209,1.1624271414610256e-05,0.0010702646704931838\n",
      "2020-04-06 19:17:39,910;aequilibrae;INFO ; 210,1.3136078516111164e-05,0.000755329235290921\n",
      "2020-04-06 19:17:40,032;aequilibrae;INFO ; 211,1.1599674742790558e-05,0.0008233241077942268\n",
      "2020-04-06 19:17:40,144;aequilibrae;INFO ; 212,1.7758021976185816e-05,0.0013479247957106295\n",
      "2020-04-06 19:17:40,257;aequilibrae;INFO ; 213,2.094994124153389e-05,0.002976275896270836\n",
      "2020-04-06 19:17:40,369;aequilibrae;INFO ; 214,1.895766030766986e-05,0.001870668206004526\n",
      "2020-04-06 19:17:40,482;aequilibrae;INFO ; 215,1.9094315238690102e-05,0.0028701659076411897\n",
      "2020-04-06 19:17:40,593;aequilibrae;INFO ; 216,1.7364944111480883e-05,0.002295977416445971\n",
      "2020-04-06 19:17:40,705;aequilibrae;INFO ; 217,1.274801228658377e-05,0.0023781057267050812\n",
      "2020-04-06 19:17:40,817;aequilibrae;INFO ; 218,2.0761398332417008e-05,0.0032018820155672797\n",
      "2020-04-06 19:17:40,928;aequilibrae;INFO ; 219,1.8569794222512682e-05,0.0035186402455419166\n",
      "2020-04-06 19:17:41,039;aequilibrae;INFO ; 220,1.8158960224581513e-05,0.0032842646098746858\n",
      "2020-04-06 19:17:41,153;aequilibrae;INFO ; 221,1.2544421383769653e-05,0.0018340663416386612\n",
      "2020-04-06 19:17:41,265;aequilibrae;INFO ; 222,1.6296317568258522e-05,0.004293440747582981\n",
      "2020-04-06 19:17:41,376;aequilibrae;INFO ; 223,2.0797474556631592e-05,0.0045699488493146385\n",
      "2020-04-06 19:17:41,487;aequilibrae;INFO ; 224,2.359339112511813e-05,0.0075368859132908484\n",
      "2020-04-06 19:17:41,599;aequilibrae;INFO ; 225,2.6861182419975954e-05,0.009087686489861425\n",
      "2020-04-06 19:17:41,713;aequilibrae;INFO ; 226,3.40469901456116e-05,0.007821626027478117\n",
      "2020-04-06 19:17:41,825;aequilibrae;INFO ; 227,3.60991940338743e-05,0.009448025335791272\n",
      "2020-04-06 19:17:41,936;aequilibrae;INFO ; 228,3.032397439573457e-05,0.004984036847383954\n",
      "2020-04-06 19:17:42,047;aequilibrae;INFO ; 229,1.5271828990322155e-05,0.002660840791249056\n",
      "2020-04-06 19:17:42,158;aequilibrae;INFO ; 230,1.4621090867371415e-05,0.0022949577346449367\n",
      "2020-04-06 19:17:42,269;aequilibrae;INFO ; 231,1.8074324224968508e-05,0.006293387555761947\n",
      "2020-04-06 19:17:42,383;aequilibrae;INFO ; 232,1.84534496853686e-05,0.004794502735019302\n",
      "2020-04-06 19:17:42,495;aequilibrae;INFO ; 233,1.6799951635102062e-05,0.0037418327560209985\n",
      "2020-04-06 19:17:42,605;aequilibrae;INFO ; 234,1.6141781690551772e-05,0.004769012853491499\n",
      "2020-04-06 19:17:42,717;aequilibrae;INFO ; 235,2.0333219687760127e-05,0.004173641981313826\n",
      "2020-04-06 19:17:42,827;aequilibrae;INFO ; 236,1.844865881436828e-05,0.004289536634952036\n",
      "2020-04-06 19:17:42,937;aequilibrae;INFO ; 237,1.7876783784726706e-05,0.0026356215866338967\n",
      "2020-04-06 19:17:43,048;aequilibrae;INFO ; 238,1.557893304393383e-05,0.004627833952834271\n",
      "2020-04-06 19:17:43,159;aequilibrae;INFO ; 239,1.7275666927205393e-05,0.0040058135971191835\n",
      "2020-04-06 19:17:43,269;aequilibrae;INFO ; 240,1.7645564073264603e-05,0.002678248044037512\n",
      "2020-04-06 19:17:43,381;aequilibrae;INFO ; 241,1.4819755258786531e-05,0.007572622519949687\n",
      "2020-04-06 19:17:43,492;aequilibrae;INFO ; 242,2.731367933616017e-05,0.010743372653882805\n",
      "2020-04-06 19:17:43,602;aequilibrae;INFO ; 243,2.3354920734083103e-05,0.008337393722254748\n",
      "2020-04-06 19:17:43,714;aequilibrae;INFO ; 244,2.4608534861708765e-05,0.00477645022075158\n",
      "2020-04-06 19:17:43,826;aequilibrae;INFO ; 245,2.4823615137906855e-05,0.009054573247986026\n",
      "2020-04-06 19:17:43,935;aequilibrae;INFO ; 246,3.48946422844646e-05,0.007191705780562002\n",
      "2020-04-06 19:17:44,047;aequilibrae;INFO ; 247,3.1936158899847585e-05,0.004649715790851255\n",
      "2020-04-06 19:17:44,157;aequilibrae;INFO ; 248,2.2221354145314568e-05,0.004982310143778382\n",
      "2020-04-06 19:17:44,268;aequilibrae;INFO ; 249,2.4145315351165903e-05,0.0034787924744056928\n",
      "2020-04-06 19:17:44,380;aequilibrae;INFO ; 250,2.7254927503912524e-05,0.009350931043805511\n",
      "2020-04-06 19:17:44,491;aequilibrae;INFO ; 251,3.9970734914166956e-05,0.011101416173517635\n",
      "2020-04-06 19:17:44,602;aequilibrae;INFO ; 252,4.4828373053820316e-05,0.010447648343614283\n",
      "2020-04-06 19:17:44,713;aequilibrae;INFO ; 253,4.5991047920315686e-05,0.015800725739401035\n",
      "2020-04-06 19:17:44,825;aequilibrae;INFO ; 254,5.0797666912449414e-05,0.01165174310419582\n",
      "2020-04-06 19:17:44,935;aequilibrae;INFO ; 255,4.530877317900006e-05,0.006374701923439389\n",
      "2020-04-06 19:17:45,047;aequilibrae;INFO ; 256,3.206140523435979e-05,0.003936417430363178\n",
      "2020-04-06 19:17:45,157;aequilibrae;INFO ; 257,3.290976510998117e-05,0.002941159514393975\n",
      "2020-04-06 19:17:45,267;aequilibrae;INFO ; 258,2.31711266067297e-05,0.003096312093825098\n",
      "2020-04-06 19:17:45,382;aequilibrae;INFO ; 259,2.8119267872226384e-05,0.0024994637771077136\n",
      "2020-04-06 19:17:45,493;aequilibrae;INFO ; 260,2.3210355036652306e-05,0.0023183871109596927\n",
      "2020-04-06 19:17:45,604;aequilibrae;INFO ; 261,2.4290030874340014e-05,0.0015843560888490482\n",
      "2020-04-06 19:17:45,717;aequilibrae;INFO ; 262,2.1325586714226265e-05,0.0012565950222696773\n",
      "2020-04-06 19:17:45,828;aequilibrae;INFO ; 263,1.5346855586150544e-05,0.001074578784097602\n",
      "2020-04-06 19:17:45,938;aequilibrae;INFO ; 264,1.2467581607892472e-05,0.0006009418977312283\n",
      "2020-04-06 19:17:46,050;aequilibrae;INFO ; 265,1.1247013274887175e-05,0.0011687220623385736\n",
      "2020-04-06 19:17:46,162;aequilibrae;INFO ; 266,9.350257952753543e-06,0.000891552783170238\n",
      "2020-04-06 19:17:46,273;aequilibrae;INFO ; 267,1.1369767846601622e-05,0.0015511662615704522\n",
      "2020-04-06 19:17:46,384;aequilibrae;INFO ; 268,1.0297895811710331e-05,0.0016899113913971585\n",
      "2020-04-06 19:17:46,496;aequilibrae;INFO ; 269,1.0079497758154367e-05,0.0018423538505981862\n",
      "2020-04-06 19:17:46,606;aequilibrae;INFO ; 270,1.1914936137900593e-05,0.0012905260420259365\n",
      "2020-04-06 19:17:46,717;aequilibrae;INFO ; 271,1.2884355784778142e-05,0.002960217493359604\n",
      "2020-04-06 19:17:46,828;aequilibrae;INFO ; 272,1.5122745710328374e-05,0.004943594689862434\n",
      "2020-04-06 19:17:46,938;aequilibrae;INFO ; 273,2.0430848099795442e-05,0.006420450685511714\n",
      "2020-04-06 19:17:47,050;aequilibrae;INFO ; 274,2.1352824451165336e-05,0.008222113477019347\n",
      "2020-04-06 19:17:47,161;aequilibrae;INFO ; 275,2.4652094165868425e-05,0.0063910061007633814\n",
      "2020-04-06 19:17:47,272;aequilibrae;INFO ; 276,2.659971881297053e-05,0.014128787030034956\n",
      "2020-04-06 19:17:47,384;aequilibrae;INFO ; 277,3.200210552842516e-05,0.008530562394303947\n",
      "2020-04-06 19:17:47,494;aequilibrae;INFO ; 278,2.7238985098102726e-05,0.012258118564887937\n",
      "2020-04-06 19:17:47,604;aequilibrae;INFO ; 279,3.6571012303559246e-05,0.008064526100895444\n",
      "2020-04-06 19:17:47,716;aequilibrae;INFO ; 280,2.2844065794152627e-05,0.006072934310064843\n",
      "2020-04-06 19:17:47,827;aequilibrae;INFO ; 281,3.184913251206354e-05,0.010622883910686528\n",
      "2020-04-06 19:17:47,937;aequilibrae;INFO ; 282,2.8243211982561876e-05,0.004427433900138527\n",
      "2020-04-06 19:17:48,048;aequilibrae;INFO ; 283,1.9940668521708557e-05,0.0011182423478797497\n",
      "2020-04-06 19:17:48,158;aequilibrae;INFO ; 284,1.3806474301942554e-05,0.0014475876293135177\n",
      "2020-04-06 19:17:48,269;aequilibrae;INFO ; 285,1.6563360533712152e-05,0.0013555496628258716\n",
      "2020-04-06 19:17:48,387;aequilibrae;INFO ; 286,1.7073492514882865e-05,0.001705845894916874\n",
      "2020-04-06 19:17:48,498;aequilibrae;INFO ; 287,1.5857603526657884e-05,0.0009286806374553355\n",
      "2020-04-06 19:17:48,607;aequilibrae;INFO ; 288,1.0463571067477953e-05,0.0012775211941235332\n",
      "2020-04-06 19:17:48,718;aequilibrae;INFO ; 289,1.5254407231385003e-05,0.0010732858718974427\n",
      "2020-04-06 19:17:48,828;aequilibrae;INFO ; 290,1.2928682948194744e-05,0.0008334532523010528\n",
      "2020-04-06 19:17:48,938;aequilibrae;INFO ; 291,1.2247050967589258e-05,0.0006847182479514144\n",
      "2020-04-06 19:17:49,050;aequilibrae;INFO ; 292,1.0248416974388973e-05,0.0009507117669871057\n",
      "2020-04-06 19:17:49,162;aequilibrae;INFO ; 293,1.3411311656664039e-05,0.002045810357055668\n",
      "2020-04-06 19:17:49,273;aequilibrae;INFO ; 294,1.2766508313788113e-05,0.0009442388243916544\n",
      "2020-04-06 19:17:49,383;aequilibrae;INFO ; 295,1.2064118332208214e-05,0.0010658528692080416\n",
      "2020-04-06 19:17:49,493;aequilibrae;INFO ; 296,1.0114132194795258e-05,0.0006716078224832066\n",
      "2020-04-06 19:17:49,603;aequilibrae;INFO ; 297,1.2930512692688276e-05,0.0017853228593253526\n",
      "2020-04-06 19:17:49,714;aequilibrae;INFO ; 298,1.3514335196619372e-05,0.001265822478348136\n",
      "2020-04-06 19:17:49,825;aequilibrae;INFO ; 299,1.2837006903494031e-05,0.0015043776206546749\n",
      "2020-04-06 19:17:49,936;aequilibrae;INFO ; 300,1.3382823368645598e-05,0.0009267920059887699\n",
      "2020-04-06 19:17:50,047;aequilibrae;INFO ; 301,9.443762334065815e-06,0.0006959754717300176\n",
      "2020-04-06 19:17:50,048;aequilibrae;INFO ; bfw Assignment finished. 301 iterations and 9.443762334065815e-06 final gap\n"
     ],
     "output_type": "stream"
    }
   ],
   "source": [
    "demand = AequilibraeMatrix()\n",
    "demand.load(join(fldr, dt_fldr, 'demand.omx'))\n",
    "demand.computational_view(['matrix']) # We will only assign one user class stored as 'matrix' inside the OMX file\n",
    "\n",
    "assig = TrafficAssignment()\n",
    "\n",
    "# Creates the assignment class\n",
    "assigclass = TrafficClass(graph, demand)\n",
    "\n",
    "\n",
    "# The first thing to do is to add at list of traffic classes to be assigned\n",
    "assig.set_classes([assigclass])\n",
    "\n",
    "assig.set_vdf(\"BPR\")  # This is not case-sensitive # Then we set the volume delay function\n",
    "\n",
    "assig.set_vdf_parameters({\"alpha\": \"b\", \"beta\": \"power\"}) # And its parameters\n",
    "\n",
    "assig.set_capacity_field(\"capacity\") # The capacity and free flow travel times as they exist in the graph\n",
    "assig.set_time_field(\"free_flow_time\")\n",
    "\n",
    "# And the algorithm we want to use to assign\n",
    "assig.set_algorithm('bfw')\n",
    "\n",
    "# since I haven't checked the parameters file, let's make sure convergence criteria is good\n",
    "assig.max_iter = 1000\n",
    "assig.rgap_target = 0.00001\n",
    "\n",
    "assig.execute() # we then execute the assignment"
   ]
  },
  {
   "cell_type": "markdown",
   "metadata": {},
   "source": [
    "### Save outputs\n"
   ]
  },
  {
   "cell_type": "code",
   "execution_count": 24,
   "outputs": [
    {
     "data": {
      "text/plain": "   iteration      rgap     alpha warnings     beta0     beta1     beta2\n0          1       inf  1.000000           1.000000  0.000000  0.000000\n1          2  0.848550  0.364973           1.000000  0.000000  0.000000\n2          3  0.381393  0.229836           1.000000  0.000000  0.000000\n3          4  0.196213  0.185913           0.959771  0.040229  0.000000\n4          5  0.090691  0.709082           0.687640  0.286705  0.025654",
      "text/html": "<div>\n<style scoped>\n    .dataframe tbody tr th:only-of-type {\n        vertical-align: middle;\n    }\n\n    .dataframe tbody tr th {\n        vertical-align: top;\n    }\n\n    .dataframe thead th {\n        text-align: right;\n    }\n</style>\n<table border=\"1\" class=\"dataframe\">\n  <thead>\n    <tr style=\"text-align: right;\">\n      <th></th>\n      <th>iteration</th>\n      <th>rgap</th>\n      <th>alpha</th>\n      <th>warnings</th>\n      <th>beta0</th>\n      <th>beta1</th>\n      <th>beta2</th>\n    </tr>\n  </thead>\n  <tbody>\n    <tr>\n      <th>0</th>\n      <td>1</td>\n      <td>inf</td>\n      <td>1.000000</td>\n      <td></td>\n      <td>1.000000</td>\n      <td>0.000000</td>\n      <td>0.000000</td>\n    </tr>\n    <tr>\n      <th>1</th>\n      <td>2</td>\n      <td>0.848550</td>\n      <td>0.364973</td>\n      <td></td>\n      <td>1.000000</td>\n      <td>0.000000</td>\n      <td>0.000000</td>\n    </tr>\n    <tr>\n      <th>2</th>\n      <td>3</td>\n      <td>0.381393</td>\n      <td>0.229836</td>\n      <td></td>\n      <td>1.000000</td>\n      <td>0.000000</td>\n      <td>0.000000</td>\n    </tr>\n    <tr>\n      <th>3</th>\n      <td>4</td>\n      <td>0.196213</td>\n      <td>0.185913</td>\n      <td></td>\n      <td>0.959771</td>\n      <td>0.040229</td>\n      <td>0.000000</td>\n    </tr>\n    <tr>\n      <th>4</th>\n      <td>5</td>\n      <td>0.090691</td>\n      <td>0.709082</td>\n      <td></td>\n      <td>0.687640</td>\n      <td>0.286705</td>\n      <td>0.025654</td>\n    </tr>\n  </tbody>\n</table>\n</div>"
     },
     "metadata": {},
     "output_type": "execute_result",
     "execution_count": 24
    }
   ],
   "source": [
    "# Convergence report is easy to see\n",
    "import pandas as pd\n",
    "convergence_report = pd.DataFrame(assig.assignment.convergence_report)\n",
    "convergence_report.head()"
   ],
   "metadata": {
    "collapsed": false,
    "pycharm": {
     "name": "#%%\n",
     "is_executing": false
    }
   }
  },
  {
   "cell_type": "code",
   "execution_count": 25,
   "metadata": {
    "pycharm": {
     "is_executing": false
    }
   },
   "outputs": [],
   "source": [
    "# The link flows are easy to export.\n",
    "# we do so for csv and AequilibraEData\n",
    "assigclass.results.save_to_disk(join(fldr, assg_fldr, 'link_flows_c.csv'), output=\"loads\")\n",
    "assigclass.results.save_to_disk(join(fldr, assg_fldr, 'link_flows_c.aed'), output=\"loads\")"
   ]
  },
  {
   "cell_type": "code",
   "execution_count": 26,
   "metadata": {
    "pycharm": {
     "is_executing": false
    }
   },
   "outputs": [],
   "source": [
    "# the skims are easy to get.\n",
    "\n",
    "# The blended one are here\n",
    "avg_skims = assigclass.results.skims\n",
    "\n",
    "# The ones for the last iteration are here\n",
    "last_skims = assigclass._aon_results.skims\n",
    "\n",
    "# Assembling a single final skim file can be done like this\n",
    "# We will want only the time for the last iteration and the distance averaged out for all iterations\n",
    "kwargs = {'file_name': join(fldr,assg_fldr, 'skims.aem'),\n",
    "          'zones': graph.num_zones,\n",
    "          'matrix_names': ['time_final', 'distance_blended']}\n",
    "\n",
    "# Create the matrix file\n",
    "out_skims = AequilibraeMatrix()\n",
    "out_skims.create_empty(**kwargs)\n",
    "out_skims.index[:] = avg_skims.index[:]\n",
    "\n",
    "# Transfer the data\n",
    " # The names of the skims are the name of the fields\n",
    "out_skims.matrix['time_final'][:,:] = last_skims.matrix['free_flow_time'][:,:]\n",
    "# It is CRITICAL to assign the matrix values using the [:,:]\n",
    "out_skims.matrix['distance_blended'][:,:] = avg_skims.matrix['distance'][:,:]\n",
    "\n",
    "out_skims.matrices.flush() # Make sure that all data went to the disk\n",
    "\n",
    "# Export to OMX as well\n",
    "out_skims.export(join(fldr,assg_fldr, 'skims.omx'))\n",
    "\n",
    "    "
   ]
  },
  {
   "cell_type": "markdown",
   "metadata": {},
   "source": [
    "# Trip distribution"
   ]
  },
  {
   "cell_type": "markdown",
   "metadata": {},
   "source": [
    "### Calibration\n",
    "\n",
    "We will calibrate synthetic gravity models using the skims for TIME that we just generated"
   ]
  },
  {
   "cell_type": "code",
   "execution_count": 27,
   "metadata": {
    "pycharm": {
     "is_executing": false
    }
   },
   "outputs": [],
   "source": [
    "import numpy as np\n",
    "from aequilibrae.distribution import GravityCalibration\n",
    "from aequilibrae.matrix import AequilibraeMatrix"
   ]
  },
  {
   "cell_type": "code",
   "execution_count": 28,
   "metadata": {
    "pycharm": {
     "is_executing": false
    }
   },
   "outputs": [],
   "source": [
    "# We need the demand\n",
    "demand = AequilibraeMatrix()\n",
    "demand.load(join(fldr, dt_fldr, 'demand.omx'))\n",
    "\n",
    "# And the skims\n",
    "imped = AequilibraeMatrix()\n",
    "imped.load(join(fldr,assg_fldr, 'skims.aem'))"
   ]
  },
  {
   "cell_type": "code",
   "execution_count": 29,
   "metadata": {
    "pycharm": {
     "is_executing": false
    }
   },
   "outputs": [],
   "source": [
    "# But before using the data, let's get some impedance for the intrazonals\n",
    "# Let's assume it is 75% of the closest zone\n",
    "\n",
    "# If we run the code below more than once, we will be overwriting the diagonal values with non-sensical data\n",
    "# so let's zero it first\n",
    "np.fill_diagonal(imped.matrix['time_final'], 0)\n",
    "\n",
    "# We compute it with a little bit of NumPy magic\n",
    "intrazonals = np.amin(imped.matrix['time_final'], where=imped.matrix['time_final']>0, initial=imped.matrix['time_final'].max(), axis=1)\n",
    "intrazonals *= 0.75\n",
    "\n",
    "# Then we fill in the impedance matrix\n",
    "np.fill_diagonal(imped.matrix['time_final'], intrazonals)\n"
   ]
  },
  {
   "cell_type": "code",
   "execution_count": 30,
   "metadata": {
    "pycharm": {
     "is_executing": false
    }
   },
   "outputs": [],
   "source": [
    "# We set the matrices forbeing used in computation\n",
    "imped.computational_view(['time_final'])\n",
    "demand.computational_view(['matrix'])"
   ]
  },
  {
   "cell_type": "code",
   "execution_count": 31,
   "metadata": {
    "pycharm": {
     "is_executing": false
    }
   },
   "outputs": [],
   "source": [
    "from math import log10, floor\n",
    "def plot_tlfd(demand, skim, name):\n",
    "    import matplotlib.pyplot as plt\n",
    "    b = floor(log10(skim.shape[0]) * 10)\n",
    "    n, bins, patches = plt.hist(np.nan_to_num(skim.flatten(),0), bins = b, weights=np.nan_to_num(demand.flatten()), density=False, facecolor='g', alpha=0.75)\n",
    "\n",
    "    plt.xlabel('Trip length')\n",
    "    plt.ylabel('Probability')\n",
    "    plt.title('Trip-length frequency distribution')\n",
    "    plt.savefig(name, format=\"png\")\n",
    "    plt.clf()"
   ]
  },
  {
   "cell_type": "code",
   "execution_count": 32,
   "metadata": {
    "scrolled": true,
    "pycharm": {
     "is_executing": false
    }
   },
   "outputs": [
    {
     "data": {
      "text/plain": "<Figure size 432x288 with 0 Axes>"
     },
     "metadata": {},
     "output_type": "display_data"
    }
   ],
   "source": [
    "for function in ['power', 'expo']:\n",
    "    model = GravityCalibration(matrix=demand, impedance=imped, function=function, nan_as_zero=True)\n",
    "    model.calibrate()\n",
    "    \n",
    "    # we save the model\n",
    "    model.model.save(join(fldr, dstr_fldr, f'{function}_model.mod'))\n",
    "    \n",
    "    # We save a trip length frequency distribution image\n",
    "    plot_tlfd(model.result_matrix.matrix_view, imped.matrix_view,join(fldr, dstr_fldr, f'{function}_tfld.png') )\n",
    "    \n",
    "    # We can save the result of applying the model as well\n",
    "    # we can also save the calibration report\n",
    "    with open(join(fldr, dstr_fldr, f'{function}_convergence.log'), 'w') as otp:\n",
    "        for r in  model.report:\n",
    "            otp.write(r+'\\n')"
   ]
  },
  {
   "cell_type": "code",
   "execution_count": 33,
   "metadata": {
    "pycharm": {
     "is_executing": false
    }
   },
   "outputs": [
    {
     "data": {
      "text/plain": "<Figure size 432x288 with 0 Axes>"
     },
     "metadata": {},
     "output_type": "display_data"
    }
   ],
   "source": [
    "# We save a trip length frequency distribution image\n",
    "plot_tlfd(demand.matrix_view, imped.matrix_view,join(fldr, dstr_fldr, 'demand_tfld.png') )"
   ]
  },
  {
   "cell_type": "markdown",
   "metadata": {},
   "source": [
    "# Forecast\n",
    "\n",
    "* We create a set of *'future'* vectors using some random growth factors\n",
    "* We apply the model for inverse power, as the TFLD seems to be a better fit for the actual one"
   ]
  },
  {
   "cell_type": "code",
   "execution_count": 34,
   "metadata": {
    "pycharm": {
     "is_executing": false
    }
   },
   "outputs": [],
   "source": [
    "from aequilibrae.distribution import Ipf, GravityApplication, SyntheticGravityModel, Ipf\n",
    "from aequilibrae.matrix import AequilibraeData, AequilibraeMatrix\n",
    "import numpy as np"
   ]
  },
  {
   "cell_type": "code",
   "execution_count": 35,
   "metadata": {
    "pycharm": {
     "is_executing": false
    }
   },
   "outputs": [],
   "source": [
    "# We compute the vectors from our matrix\n",
    "mat = AequilibraeMatrix()\n",
    "\n",
    "mat.load(join(fldr, dt_fldr, 'demand.omx'))\n",
    "mat.computational_view()\n",
    "origins = np.sum(mat.matrix_view, axis=1)\n",
    "destinations = np.sum(mat.matrix_view, axis=0)\n",
    "\n",
    "args = {'file_path':join(fldr,  frcst_fldr, 'synthetic_future_vector.aed'),\n",
    "        \"entries\": mat.zones, \n",
    "        \"field_names\": [\"origins\", \"destinations\"],\n",
    "    \"data_types\": [np.float64, np.float64], \n",
    "        \"memory_mode\": False}\n",
    "\n",
    "vectors = AequilibraeData()\n",
    "vectors.create_empty(**args)\n",
    "\n",
    "vectors.index[:] =mat.index[:]\n",
    "\n",
    "# Then grow them with some random growth between 0 and 10% - Plus balance them\n",
    "vectors.origins[:] = origins * (1+ np.random.rand(vectors.entries)/10)\n",
    "vectors.destinations[:] = destinations * (1+ np.random.rand(vectors.entries)/10)\n",
    "vectors.destinations *= vectors.origins.sum()/vectors.destinations.sum()"
   ]
  },
  {
   "cell_type": "code",
   "execution_count": 36,
   "metadata": {
    "pycharm": {
     "is_executing": false
    }
   },
   "outputs": [],
   "source": [
    "# Impedance \n",
    "imped = AequilibraeMatrix()\n",
    "imped.load(join(fldr,assg_fldr, 'skims.aem'))\n",
    "imped.computational_view(['time_final'])\n",
    "\n",
    "# We want the main diagonal to be zero\n",
    "np.fill_diagonal(imped.matrix_view, np.nan)"
   ]
  },
  {
   "cell_type": "code",
   "execution_count": 37,
   "metadata": {
    "pycharm": {
     "is_executing": false
    }
   },
   "outputs": [],
   "source": [
    "for function in ['power', 'expo']:\n",
    "    model = SyntheticGravityModel()\n",
    "    model.load(join(fldr, dstr_fldr, f'{function}_model.mod'))\n",
    "\n",
    "    outmatrix = join(fldr,frcst_fldr, f'demand_{function}_model.aem') \n",
    "    apply = GravityApplication()\n",
    "    args = {\"impedance\": imped,\n",
    "            \"rows\": vectors,\n",
    "            \"row_field\": \"origins\",\n",
    "            \"model\": model,\n",
    "            \"columns\": vectors,\n",
    "            \"column_field\": \"destinations\",\n",
    "            \"output\": outmatrix,\n",
    "            \"nan_as_zero\":True\n",
    "            }\n",
    "\n",
    "    gravity = GravityApplication(**args)\n",
    "    gravity.apply()\n",
    "\n",
    "    #We get the output matrix and save it to OMX too\n",
    "    resm = AequilibraeMatrix()\n",
    "    resm.load(outmatrix)\n",
    "    resm.export(join(fldr,frcst_fldr, f'demand_{function}_model.omx'))"
   ]
  },
  {
   "cell_type": "markdown",
   "metadata": {},
   "source": [
    "### We now run IPF for the future vectors"
   ]
  },
  {
   "cell_type": "code",
   "execution_count": 38,
   "metadata": {
    "pycharm": {
     "is_executing": false
    }
   },
   "outputs": [],
   "source": [
    "demand = AequilibraeMatrix()\n",
    "demand.load(join(fldr, dt_fldr, 'demand.omx'))\n",
    "demand.computational_view()\n",
    "\n",
    "args = {'matrix': demand,\n",
    "        'rows': vectors,\n",
    "        'columns': vectors,\n",
    "        'column_field': \"destinations\",\n",
    "        'row_field': \"origins\",\n",
    "        'nan_as_zero': True}\n",
    "\n",
    "ipf = Ipf(**args)\n",
    "ipf.fit()\n",
    "\n",
    "output = AequilibraeMatrix()\n",
    "output.load(ipf.output.file_path)\n",
    "\n",
    "output.export(join(fldr,frcst_fldr, 'demand_ipf.aem'))\n",
    "output.export(join(fldr,frcst_fldr, 'demand_ipf.omx'))\n"
   ]
  },
  {
   "cell_type": "markdown",
   "metadata": {},
   "source": [
    "# Future traffic assignment"
   ]
  },
  {
   "cell_type": "code",
   "execution_count": 39,
   "metadata": {
    "pycharm": {
     "is_executing": false
    }
   },
   "outputs": [],
   "source": [
    "from aequilibrae.matrix import AequilibraeMatrix\n",
    "from aequilibrae.paths import TrafficAssignment, TrafficClass\n",
    "from aequilibrae import logger\n",
    "import logging"
   ]
  },
  {
   "cell_type": "code",
   "execution_count": 40,
   "metadata": {
    "pycharm": {
     "is_executing": false
    }
   },
   "outputs": [
    {
     "name": "stdout",
     "text": [
      "2020-04-06 19:17:51,944;aequilibrae;INFO ; \n",
      "\n",
      "\n",
      " TRAFFIC ASSIGNMENT FOR FUTURE YEAR\n"
     ],
     "output_type": "stream"
    }
   ],
   "source": [
    "logger.info('\\n\\n\\n TRAFFIC ASSIGNMENT FOR FUTURE YEAR')"
   ]
  },
  {
   "cell_type": "code",
   "execution_count": 41,
   "metadata": {
    "pycharm": {
     "is_executing": false
    }
   },
   "outputs": [
    {
     "name": "stderr",
     "text": [
      "D:\\src\\aequilibrae\\aequilibrae\\project\\network\\network.py:276: UserWarning: Fields were removed form Graph for being non-numeric: modes,link_type\n",
      "  warn(f'Fields were removed form Graph for being non-numeric: {\",\".join(removed_fields)}')\n",
      "D:\\src\\aequilibrae\\aequilibrae\\paths\\graph.py:351: UserWarning: Field name has at least one NaN value.  Your computation may be compromised\n",
      "  warn(f'Field {i} has at least one NaN value.  Your computation may be compromised')\n",
      "D:\\src\\aequilibrae\\aequilibrae\\paths\\graph.py:351: UserWarning: Field lanes has at least one NaN value.  Your computation may be compromised\n",
      "  warn(f'Field {i} has at least one NaN value.  Your computation may be compromised')\n"
     ],
     "output_type": "stream"
    }
   ],
   "source": [
    "# from before\n",
    "project = Project()\n",
    "project.load(join(fldr, prj_fldr, proj_name))\n",
    "project.network.build_graphs()\n",
    "\n",
    "graph = project.network.graphs['c'] # we grab the graph for cars\n",
    "graph.set_graph('free_flow_time') # let's say we want to minimize time\n",
    "graph.set_skimming(['free_flow_time', 'distance']) # And will skim time and distance\n",
    "graph.set_blocked_centroid_flows(False)"
   ]
  },
  {
   "cell_type": "code",
   "execution_count": 42,
   "metadata": {
    "scrolled": true,
    "pycharm": {
     "is_executing": false
    }
   },
   "outputs": [
    {
     "name": "stdout",
     "text": [
      "2020-04-06 19:17:52,305;aequilibrae;INFO ; bfw Assignment STATS\n",
      "2020-04-06 19:17:52,306;aequilibrae;INFO ; Iteration, RelativeGap, stepsize\n",
      "2020-04-06 19:17:52,412;aequilibrae;INFO ; 1,inf,1.0\n",
      "2020-04-06 19:17:52,523;aequilibrae;INFO ; 2,0.8621636013061809,0.35637756328056774\n",
      "2020-04-06 19:17:52,634;aequilibrae;INFO ; 3,0.4178112735175096,0.1905118959633645\n",
      "2020-04-06 19:17:52,745;aequilibrae;INFO ; 4,0.2207501654669293,0.2517357451991883\n",
      "2020-04-06 19:17:52,856;aequilibrae;INFO ; 5,0.11092078855747255,0.7928883486959472\n",
      "2020-04-06 19:17:52,969;aequilibrae;INFO ; 6,0.20789256138537235,0.1250370481076385\n",
      "2020-04-06 19:17:53,081;aequilibrae;INFO ; 7,0.07198179367868165,0.2565052923285979\n",
      "2020-04-06 19:17:53,192;aequilibrae;INFO ; 8,0.07585645172316004,0.8046536807023875\n",
      "2020-04-06 19:17:53,305;aequilibrae;INFO ; 9,0.09157482037405977,0.09627048336694917\n",
      "2020-04-06 19:17:53,416;aequilibrae;INFO ; 10,0.04910608978442712,0.17207964718492155\n",
      "2020-04-06 19:17:53,528;aequilibrae;INFO ; 11,0.036494289232662895,0.46896857398799857\n",
      "2020-04-06 19:17:53,662;aequilibrae;INFO ; 12,0.0444702199336247,0.13281845364895933\n",
      "2020-04-06 19:17:53,775;aequilibrae;INFO ; 13,0.029347490855909278,0.2228371832725886\n",
      "2020-04-06 19:17:53,886;aequilibrae;INFO ; 14,0.029352285607896742,0.498232841908726\n",
      "2020-04-06 19:17:54,133;aequilibrae;INFO ; 15,0.03812710758496976,0.1056510045775202\n",
      "2020-04-06 19:17:54,244;aequilibrae;INFO ; 16,0.015806007129760682,0.13884457734599484\n",
      "2020-04-06 19:17:54,355;aequilibrae;INFO ; 17,0.01677902253601732,0.3568955267112651\n",
      "2020-04-06 19:17:54,473;aequilibrae;INFO ; 18,0.020819117601968692,0.9346757704851845\n",
      "2020-04-06 19:17:54,586;aequilibrae;INFO ; 19,0.02423153408153111,0.09023207487358947\n",
      "2020-04-06 19:17:54,698;aequilibrae;INFO ; 20,0.015852245943829973,0.11419946884405341\n",
      "2020-04-06 19:17:54,818;aequilibrae;INFO ; 21,0.009459810514454242,0.16132448163231738\n",
      "2020-04-06 19:17:54,949;aequilibrae;INFO ; 22,0.010252431058856315,0.1871436016248118\n",
      "2020-04-06 19:17:55,060;aequilibrae;INFO ; 23,0.009424980654863704,0.4113240351189007\n",
      "2020-04-06 19:17:55,288;aequilibrae;INFO ; 24,0.008576094511684326,0.42002603361174967\n",
      "2020-04-06 19:17:55,401;aequilibrae;INFO ; 25,0.006919562933680944,0.04869840537869643\n",
      "2020-04-06 19:17:55,512;aequilibrae;INFO ; 26,0.005308343793952893,0.05810997426973915\n",
      "2020-04-06 19:17:55,731;aequilibrae;INFO ; 27,0.005081463516433284,0.06685727722079451\n",
      "2020-04-06 19:17:55,843;aequilibrae;INFO ; 28,0.004075106431985702,0.09824124768172549\n",
      "2020-04-06 19:17:55,955;aequilibrae;INFO ; 29,0.004509271915130214,0.14391091628630973\n",
      "2020-04-06 19:17:56,086;aequilibrae;INFO ; 30,0.0046088868091364735,0.531450691466742\n",
      "2020-04-06 19:17:56,208;aequilibrae;INFO ; 31,0.005924651117569534,0.7817088791826486\n",
      "2020-04-06 19:17:56,321;aequilibrae;INFO ; 32,0.005970660719673374,0.021434051463079477\n",
      "2020-04-06 19:17:56,474;aequilibrae;INFO ; 33,0.004313839988770693,0.05584966914260616\n",
      "2020-04-06 19:17:56,630;aequilibrae;INFO ; 34,0.0038984637019169968,0.05960820779079816\n",
      "2020-04-06 19:17:56,743;aequilibrae;INFO ; 35,0.003662775313298432,0.09210800370433837\n",
      "2020-04-06 19:17:56,854;aequilibrae;INFO ; 36,0.0031954330597483657,0.08578257732258944\n",
      "2020-04-06 19:17:56,965;aequilibrae;INFO ; 37,0.00267247855470855,0.05780448833745769\n",
      "2020-04-06 19:17:57,076;aequilibrae;INFO ; 38,0.002230547407495715,0.08606506787853542\n",
      "2020-04-06 19:17:57,186;aequilibrae;INFO ; 39,0.0018550262624753213,0.06447642919114073\n",
      "2020-04-06 19:17:57,296;aequilibrae;INFO ; 40,0.002007633070703925,0.08213329983911884\n",
      "2020-04-06 19:17:57,406;aequilibrae;INFO ; 41,0.0018710837877975153,0.10240939657022055\n",
      "2020-04-06 19:17:57,527;aequilibrae;INFO ; 42,0.0012975828503985047,0.05583851602031593\n",
      "2020-04-06 19:17:57,639;aequilibrae;INFO ; 43,0.001262972228013629,0.05758168042469209\n",
      "2020-04-06 19:17:57,749;aequilibrae;INFO ; 44,0.001240582368554935,0.052576490059612166\n",
      "2020-04-06 19:17:57,945;aequilibrae;INFO ; 45,0.0013640132004255638,0.08993402966962649\n",
      "2020-04-06 19:17:58,059;aequilibrae;INFO ; 46,0.0013923300863422723,0.1650466328120517\n",
      "2020-04-06 19:17:58,169;aequilibrae;INFO ; 47,0.0012316071848478573,0.15231353356033953\n",
      "2020-04-06 19:17:58,418;aequilibrae;INFO ; 48,0.0012328321114825158,0.1722190366747639\n",
      "2020-04-06 19:17:58,530;aequilibrae;INFO ; 49,0.0014290919619662004,0.2783659838285247\n",
      "2020-04-06 19:17:58,641;aequilibrae;INFO ; 50,0.0014151212033596552,0.33805425613242124\n",
      "2020-04-06 19:17:58,867;aequilibrae;INFO ; 51,0.0012196879099472127,0.30013055923715415\n",
      "2020-04-06 19:17:58,997;aequilibrae;INFO ; 52,0.0013820692462875829,0.8746620927682176\n",
      "2020-04-06 19:17:59,110;aequilibrae;INFO ; 53,0.0010904407050366556,0.010759465527608463\n",
      "2020-04-06 19:17:59,249;aequilibrae;INFO ; 54,0.0007474539985314348,0.007572168772460819\n",
      "2020-04-06 19:17:59,362;aequilibrae;INFO ; 55,0.0005966628336115013,0.008969717445016826\n",
      "2020-04-06 19:17:59,475;aequilibrae;INFO ; 56,0.0005583271678149753,0.013818754066218436\n",
      "2020-04-06 19:17:59,708;aequilibrae;INFO ; 57,0.0005283172245777139,0.013057644725343105\n",
      "2020-04-06 19:17:59,820;aequilibrae;INFO ; 58,0.000612869129482107,0.014097827126909693\n",
      "2020-04-06 19:17:59,932;aequilibrae;INFO ; 59,0.0004884322921910014,0.014450592401184471\n",
      "2020-04-06 19:18:00,165;aequilibrae;INFO ; 60,0.0004971614673546649,0.015717703612079904\n",
      "2020-04-06 19:18:00,277;aequilibrae;INFO ; 61,0.0003995862542856881,0.013675982368782796\n",
      "2020-04-06 19:18:00,388;aequilibrae;INFO ; 62,0.0002989597508707151,0.013336993971146863\n",
      "2020-04-06 19:18:00,511;aequilibrae;INFO ; 63,0.00026741642297822236,0.010611696313637379\n",
      "2020-04-06 19:18:00,631;aequilibrae;INFO ; 64,0.00023781460330428444,0.011629760113940426\n",
      "2020-04-06 19:18:00,743;aequilibrae;INFO ; 65,0.00022988259553004492,0.009923339675101494\n",
      "2020-04-06 19:18:00,955;aequilibrae;INFO ; 66,0.00018940152410650474,0.008294282651422617\n",
      "2020-04-06 19:18:01,067;aequilibrae;INFO ; 67,0.00018884622776274513,0.018599515350617483\n",
      "2020-04-06 19:18:01,180;aequilibrae;INFO ; 68,0.0001951467481567476,0.013781262107302883\n",
      "2020-04-06 19:18:01,295;aequilibrae;INFO ; 69,0.00015155611440321787,0.010637902868227932\n",
      "2020-04-06 19:18:01,406;aequilibrae;INFO ; 70,0.0001629868796352478,0.009984104769802665\n",
      "2020-04-06 19:18:01,517;aequilibrae;INFO ; 71,0.00020674668726162045,0.016734806800621487\n",
      "2020-04-06 19:18:01,630;aequilibrae;INFO ; 72,0.0002011780533227151,0.009396666061787344\n",
      "2020-04-06 19:18:01,743;aequilibrae;INFO ; 73,0.00016886545700779262,0.013412723253456387\n",
      "2020-04-06 19:18:01,855;aequilibrae;INFO ; 74,0.0001841355895787616,0.012171178275389829\n",
      "2020-04-06 19:18:01,968;aequilibrae;INFO ; 75,0.00017347268829835807,0.0083068602805058\n",
      "2020-04-06 19:18:02,079;aequilibrae;INFO ; 76,0.00014349886511209818,0.015113397689847454\n",
      "2020-04-06 19:18:02,189;aequilibrae;INFO ; 77,0.0001504231555150815,0.03702719917326544\n",
      "2020-04-06 19:18:02,299;aequilibrae;INFO ; 78,0.00023786328531073524,0.035018148962806105\n",
      "2020-04-06 19:18:02,411;aequilibrae;INFO ; 79,0.0002114615187429949,0.05521735988376304\n",
      "2020-04-06 19:18:02,523;aequilibrae;INFO ; 80,0.00023481483071730204,0.028950675528032203\n",
      "2020-04-06 19:18:02,634;aequilibrae;INFO ; 81,0.00023816456419500662,0.034763273468869184\n",
      "2020-04-06 19:18:02,745;aequilibrae;INFO ; 82,0.00022683396057534343,0.05747292037009399\n",
      "2020-04-06 19:18:02,856;aequilibrae;INFO ; 83,0.00033578550013686276,0.064650042285142\n",
      "2020-04-06 19:18:02,967;aequilibrae;INFO ; 84,0.0003611642666737157,0.09459519463243819\n",
      "2020-04-06 19:18:03,077;aequilibrae;INFO ; 85,0.00035124640602395826,0.19077479202688807\n",
      "2020-04-06 19:18:03,187;aequilibrae;INFO ; 86,0.00047609828429188354,0.16158337801540737\n",
      "2020-04-06 19:18:03,307;aequilibrae;INFO ; 87,0.0003849655717174025,0.23233549188045086\n",
      "2020-04-06 19:18:03,418;aequilibrae;INFO ; 88,0.0004007726950359997,0.152088224607475\n",
      "2020-04-06 19:18:03,528;aequilibrae;INFO ; 89,0.0003142322791403907,0.16830232268657147\n",
      "2020-04-06 19:18:03,639;aequilibrae;INFO ; 90,0.0002767572393354855,0.06725558581903987\n",
      "2020-04-06 19:18:03,750;aequilibrae;INFO ; 91,0.0002578790402510221,0.16774921874403279\n",
      "2020-04-06 19:18:03,861;aequilibrae;INFO ; 92,0.00028641447572759016,0.13224730627120956\n",
      "2020-04-06 19:18:03,973;aequilibrae;INFO ; 93,0.0002864475675189069,0.15909260463373756\n",
      "2020-04-06 19:18:04,084;aequilibrae;INFO ; 94,0.00027561731515789753,0.11353899659769623\n",
      "2020-04-06 19:18:04,195;aequilibrae;INFO ; 95,0.00026643536750856615,0.12063657187232975\n",
      "2020-04-06 19:18:04,315;aequilibrae;INFO ; 96,0.00021760037647097094,0.15044051962427557\n",
      "2020-04-06 19:18:04,428;aequilibrae;INFO ; 97,0.00021864941622271405,0.17788412756997318\n",
      "2020-04-06 19:18:04,539;aequilibrae;INFO ; 98,0.00020651307767132013,0.10135664977103599\n",
      "2020-04-06 19:18:04,651;aequilibrae;INFO ; 99,0.00019045588526177672,0.11238196236750275\n",
      "2020-04-06 19:18:04,762;aequilibrae;INFO ; 100,0.00012849063002786035,0.048230725913838556\n",
      "2020-04-06 19:18:04,872;aequilibrae;INFO ; 101,0.00012273996866806445,0.03667822949026929\n",
      "2020-04-06 19:18:04,984;aequilibrae;INFO ; 102,8.81867854969668e-05,0.019353248097853867\n",
      "2020-04-06 19:18:05,094;aequilibrae;INFO ; 103,0.00010627434140945882,0.017978935549925565\n",
      "2020-04-06 19:18:05,203;aequilibrae;INFO ; 104,8.233095078952467e-05,0.008590917627717316\n",
      "2020-04-06 19:18:05,315;aequilibrae;INFO ; 105,7.004236220846074e-05,0.002302218037801793\n",
      "2020-04-06 19:18:05,427;aequilibrae;INFO ; 106,7.809995992735683e-05,0.005725885187045831\n",
      "2020-04-06 19:18:05,538;aequilibrae;INFO ; 107,6.946784626073712e-05,0.004730960559140939\n",
      "2020-04-06 19:18:05,650;aequilibrae;INFO ; 108,6.985949193292739e-05,0.010313859304251752\n",
      "2020-04-06 19:18:05,760;aequilibrae;INFO ; 109,5.776423186978591e-05,0.003762911857194208\n",
      "2020-04-06 19:18:05,870;aequilibrae;INFO ; 110,5.6685859510997874e-05,0.004724108039346138\n",
      "2020-04-06 19:18:05,983;aequilibrae;INFO ; 111,5.5774488565426056e-05,0.0036961386047465634\n",
      "2020-04-06 19:18:06,094;aequilibrae;INFO ; 112,4.4106326082524956e-05,0.004893684754768235\n",
      "2020-04-06 19:18:06,204;aequilibrae;INFO ; 113,5.430886577929186e-05,0.005034388735810165\n",
      "2020-04-06 19:18:06,315;aequilibrae;INFO ; 114,4.372776593976766e-05,0.00431816763234466\n",
      "2020-04-06 19:18:06,427;aequilibrae;INFO ; 115,4.237419723622937e-05,0.002619393102860034\n",
      "2020-04-06 19:18:06,538;aequilibrae;INFO ; 116,3.2923791850802474e-05,0.001517217764334351\n",
      "2020-04-06 19:18:06,650;aequilibrae;INFO ; 117,3.5266075867235634e-05,0.001543460077379433\n",
      "2020-04-06 19:18:06,762;aequilibrae;INFO ; 118,3.724693051704371e-05,0.002016454390656286\n",
      "2020-04-06 19:18:06,873;aequilibrae;INFO ; 119,3.860934390556259e-05,0.0009949425342352964\n",
      "2020-04-06 19:18:06,985;aequilibrae;INFO ; 120,2.3846668498804854e-05,0.0014342290657565968\n",
      "2020-04-06 19:18:07,095;aequilibrae;INFO ; 121,2.7855763033965466e-05,0.0011504915228255335\n",
      "2020-04-06 19:18:07,205;aequilibrae;INFO ; 122,2.1778858948637383e-05,0.001022990981438479\n",
      "2020-04-06 19:18:07,317;aequilibrae;INFO ; 123,2.1496764638106113e-05,0.001024650656227015\n",
      "2020-04-06 19:18:07,429;aequilibrae;INFO ; 124,2.0392463009447803e-05,0.000995931996479288\n",
      "2020-04-06 19:18:07,539;aequilibrae;INFO ; 125,1.9183485964850472e-05,0.0009572636446448802\n",
      "2020-04-06 19:18:07,652;aequilibrae;INFO ; 126,1.844841981353124e-05,0.0019568715018269687\n",
      "2020-04-06 19:18:07,763;aequilibrae;INFO ; 127,2.242575937904174e-05,0.0018550782175433685\n",
      "2020-04-06 19:18:07,873;aequilibrae;INFO ; 128,2.2487562373309382e-05,0.000961379153756103\n",
      "2020-04-06 19:18:07,985;aequilibrae;INFO ; 129,1.924711863978628e-05,0.0015243183897200208\n",
      "2020-04-06 19:18:08,095;aequilibrae;INFO ; 130,1.8434521242779364e-05,0.0020351112653860465\n",
      "2020-04-06 19:18:08,205;aequilibrae;INFO ; 131,2.1846359487203284e-05,0.0015024861241046462\n",
      "2020-04-06 19:18:08,317;aequilibrae;INFO ; 132,1.646786784227362e-05,0.0015190842049274383\n",
      "2020-04-06 19:18:08,428;aequilibrae;INFO ; 133,1.4580653286430912e-05,0.0006386555394922149\n",
      "2020-04-06 19:18:08,540;aequilibrae;INFO ; 134,1.4671301114319353e-05,0.0016353741580904227\n",
      "2020-04-06 19:18:08,651;aequilibrae;INFO ; 135,1.7942383592063473e-05,0.00245110554749595\n",
      "2020-04-06 19:18:08,763;aequilibrae;INFO ; 136,1.963582488480679e-05,0.001802803082822339\n",
      "2020-04-06 19:18:08,872;aequilibrae;INFO ; 137,1.782715358923342e-05,0.001384680986135057\n",
      "2020-04-06 19:18:08,982;aequilibrae;INFO ; 138,1.6582439751795306e-05,0.0010862445733668751\n",
      "2020-04-06 19:18:09,092;aequilibrae;INFO ; 139,1.9762451813687874e-05,0.0018946663455539072\n",
      "2020-04-06 19:18:09,203;aequilibrae;INFO ; 140,1.8614503933849736e-05,0.0008407600711409697\n",
      "2020-04-06 19:18:09,318;aequilibrae;INFO ; 141,1.3999146372399426e-05,0.0017883392949854437\n",
      "2020-04-06 19:18:09,430;aequilibrae;INFO ; 142,1.4963372851624589e-05,0.002430394158007241\n",
      "2020-04-06 19:18:09,541;aequilibrae;INFO ; 143,1.7720373678217207e-05,0.001813508049893894\n",
      "2020-04-06 19:18:09,651;aequilibrae;INFO ; 144,1.7251985060164123e-05,0.0026598767105755605\n",
      "2020-04-06 19:18:09,763;aequilibrae;INFO ; 145,2.3152245152108633e-05,0.0021599032614601998\n",
      "2020-04-06 19:18:09,873;aequilibrae;INFO ; 146,2.0453858356318242e-05,0.0023411115737856847\n",
      "2020-04-06 19:18:09,985;aequilibrae;INFO ; 147,1.8003745275254132e-05,0.0011067265742870653\n",
      "2020-04-06 19:18:10,096;aequilibrae;INFO ; 148,1.5052861631739865e-05,0.0018570975344866531\n",
      "2020-04-06 19:18:10,206;aequilibrae;INFO ; 149,2.4071977326529168e-05,0.0039928173177395335\n",
      "2020-04-06 19:18:10,319;aequilibrae;INFO ; 150,2.0680787116249232e-05,0.0029102162308028076\n",
      "2020-04-06 19:18:10,431;aequilibrae;INFO ; 151,2.144680765634331e-05,0.0024994433849299816\n",
      "2020-04-06 19:18:10,543;aequilibrae;INFO ; 152,2.3002540766926122e-05,0.004982192494940867\n",
      "2020-04-06 19:18:10,654;aequilibrae;INFO ; 153,2.2541111969799873e-05,0.0042452678492753085\n",
      "2020-04-06 19:18:10,766;aequilibrae;INFO ; 154,3.011552016526939e-05,0.007829411110456836\n",
      "2020-04-06 19:18:10,878;aequilibrae;INFO ; 155,3.171896756899278e-05,0.00889503677254558\n",
      "2020-04-06 19:18:10,990;aequilibrae;INFO ; 156,3.821206778052708e-05,0.010126411104648847\n",
      "2020-04-06 19:18:11,102;aequilibrae;INFO ; 157,2.4445174623142996e-05,0.005829009063223742\n",
      "2020-04-06 19:18:11,213;aequilibrae;INFO ; 158,2.712441806299667e-05,0.005039391426751938\n",
      "2020-04-06 19:18:11,323;aequilibrae;INFO ; 159,2.8364613746956697e-05,0.005785912675857946\n",
      "2020-04-06 19:18:11,434;aequilibrae;INFO ; 160,2.877304066247552e-05,0.00864370840290487\n",
      "2020-04-06 19:18:11,543;aequilibrae;INFO ; 161,2.9904902352303284e-05,0.005998300382480267\n",
      "2020-04-06 19:18:11,655;aequilibrae;INFO ; 162,2.2084046590478292e-05,0.003259816892099722\n",
      "2020-04-06 19:18:11,765;aequilibrae;INFO ; 163,2.564345155012899e-05,0.005514064293285583\n",
      "2020-04-06 19:18:11,875;aequilibrae;INFO ; 164,2.8893924857065833e-05,0.006583461879716863\n",
      "2020-04-06 19:18:11,987;aequilibrae;INFO ; 165,3.3263374932830466e-05,0.008811410275341743\n",
      "2020-04-06 19:18:12,098;aequilibrae;INFO ; 166,3.185218266426396e-05,0.009470030144699472\n",
      "2020-04-06 19:18:12,209;aequilibrae;INFO ; 167,2.7967824678229112e-05,0.003538255059352846\n",
      "2020-04-06 19:18:12,321;aequilibrae;INFO ; 168,2.4792637215349397e-05,0.003376986642199546\n",
      "2020-04-06 19:18:12,432;aequilibrae;INFO ; 169,2.5450879236424737e-05,0.004002279186060716\n",
      "2020-04-06 19:18:12,541;aequilibrae;INFO ; 170,2.5181182697252643e-05,0.004505543976272042\n",
      "2020-04-06 19:18:12,653;aequilibrae;INFO ; 171,3.5545877485332564e-05,0.005185913359255034\n",
      "2020-04-06 19:18:12,764;aequilibrae;INFO ; 172,3.193775644176192e-05,0.004735363537452695\n",
      "2020-04-06 19:18:12,873;aequilibrae;INFO ; 173,3.4496765038447356e-05,0.0052096073013169234\n",
      "2020-04-06 19:18:12,984;aequilibrae;INFO ; 174,3.3274617769355054e-05,0.005093225647964986\n",
      "2020-04-06 19:18:13,095;aequilibrae;INFO ; 175,2.6908465709045716e-05,0.003397088562579356\n",
      "2020-04-06 19:18:13,204;aequilibrae;INFO ; 176,2.4501472522961597e-05,0.0017380590944508728\n",
      "2020-04-06 19:18:13,318;aequilibrae;INFO ; 177,1.558386179813067e-05,0.0014387757255525232\n",
      "2020-04-06 19:18:13,429;aequilibrae;INFO ; 178,1.9441561272280384e-05,0.0021517954094139938\n",
      "2020-04-06 19:18:13,540;aequilibrae;INFO ; 179,2.0213915661736556e-05,0.0015820907599338632\n",
      "2020-04-06 19:18:13,652;aequilibrae;INFO ; 180,2.048681306865594e-05,0.002225910989304189\n",
      "2020-04-06 19:18:13,762;aequilibrae;INFO ; 181,2.0181138284182647e-05,0.002230502284136712\n",
      "2020-04-06 19:18:13,872;aequilibrae;INFO ; 182,2.2748230814525902e-05,0.0012901917761330153\n",
      "2020-04-06 19:18:13,984;aequilibrae;INFO ; 183,2.135843884323384e-05,0.001193573206418656\n",
      "2020-04-06 19:18:14,096;aequilibrae;INFO ; 184,1.872479320142386e-05,0.0014691256339909042\n",
      "2020-04-06 19:18:14,206;aequilibrae;INFO ; 185,1.5351988136869603e-05,0.001176203339317349\n",
      "2020-04-06 19:18:14,318;aequilibrae;INFO ; 186,1.4880422935935092e-05,0.0007376259248547946\n",
      "2020-04-06 19:18:14,428;aequilibrae;INFO ; 187,1.2680881232966175e-05,0.0011655290071061288\n",
      "2020-04-06 19:18:14,539;aequilibrae;INFO ; 188,1.3209341717911114e-05,0.000637266134344488\n",
      "2020-04-06 19:18:14,650;aequilibrae;INFO ; 189,1.2422597208915773e-05,0.0013837790292044673\n",
      "2020-04-06 19:18:14,763;aequilibrae;INFO ; 190,1.6809296984768542e-05,0.0010225092737931177\n",
      "2020-04-06 19:18:14,873;aequilibrae;INFO ; 191,1.9364976157648305e-05,0.003226943792126155\n",
      "2020-04-06 19:18:14,985;aequilibrae;INFO ; 192,2.459353798214514e-05,0.0019082221562454942\n",
      "2020-04-06 19:18:15,097;aequilibrae;INFO ; 193,1.5546355153936835e-05,0.0019958273008268503\n",
      "2020-04-06 19:18:15,208;aequilibrae;INFO ; 194,1.778999470898699e-05,0.0014686620982135629\n",
      "2020-04-06 19:18:15,319;aequilibrae;INFO ; 195,1.5202696699301682e-05,0.002089184111524478\n",
      "2020-04-06 19:18:15,431;aequilibrae;INFO ; 196,1.1008677484457412e-05,0.0009572930224636901\n",
      "2020-04-06 19:18:15,542;aequilibrae;INFO ; 197,8.516502633640463e-06,0.0004882814192480003\n",
      "2020-04-06 19:18:15,653;aequilibrae;INFO ; 198,7.976986666772352e-06,0.00046917840652611225\n",
      "2020-04-06 19:18:15,655;aequilibrae;INFO ; bfw Assignment finished. 198 iterations and 7.976986666772352e-06 final gap\n"
     ],
     "output_type": "stream"
    }
   ],
   "source": [
    "# Let's use the IPF matrix\n",
    "demand = AequilibraeMatrix()\n",
    "demand.load(join(fldr, frcst_fldr, 'demand_ipf.omx'))\n",
    "demand.computational_view() # There is only one matrix there, so don;t even worry about its core name\n",
    "\n",
    "assig = TrafficAssignment()\n",
    "\n",
    "# Creates the assignment class\n",
    "assigclass = TrafficClass(graph, demand)\n",
    "\n",
    "# The first thing to do is to add at list of traffic classes to be assigned\n",
    "assig.set_classes([assigclass])\n",
    "\n",
    "assig.set_vdf(\"BPR\")  # This is not case-sensitive # Then we set the volume delay function\n",
    "\n",
    "assig.set_vdf_parameters({\"alpha\": \"b\", \"beta\": \"power\"}) # And its parameters\n",
    "\n",
    "assig.set_capacity_field(\"capacity\") # The capacity and free flow travel times as they exist in the graph\n",
    "assig.set_time_field(\"free_flow_time\")\n",
    "\n",
    "# And the algorithm we want to use to assign\n",
    "assig.set_algorithm('bfw')\n",
    "\n",
    "# since I haven't checked the parameters file, let's make sure convergence criteria is good\n",
    "assig.max_iter = 1000\n",
    "assig.rgap_target = 0.00001\n",
    "\n",
    "assig.execute() # we then execute the assignment"
   ]
  },
  {
   "cell_type": "code",
   "execution_count": 43,
   "metadata": {
    "pycharm": {
     "is_executing": false
    }
   },
   "outputs": [],
   "source": [
    "\n",
    "# The link flows are easy to export.\n",
    "# we do so for csv and AequilibraEData\n",
    "assigclass.results.save_to_disk(join(fldr, ftr_fldr, 'future_link_flows_c.csv'), output=\"loads\")\n",
    "assigclass.results.save_to_disk(join(fldr, ftr_fldr, 'future_link_flows_c.aed'), output=\"loads\")\n",
    "\n",
    "# the skims are easy to get.\n",
    "\n",
    "# The blended one are here\n",
    "avg_skims = assigclass.results.skims\n",
    "\n",
    "# The ones for the last iteration are here\n",
    "last_skims = assigclass._aon_results.skims\n",
    "\n",
    "# Assembling a single final skim file can be done like this\n",
    "# We will want only the time for the last iteration and the distance averaged out for all iterations\n",
    "kwargs = {'file_name': join(fldr,ftr_fldr, 'future_skims.aem'),\n",
    "          'zones': graph.num_zones,\n",
    "          'matrix_names': ['time_final', 'distance_blended']}\n",
    "\n",
    "# Create the matrix file\n",
    "out_skims = AequilibraeMatrix()\n",
    "out_skims.create_empty(**kwargs)\n",
    "out_skims.index[:] = avg_skims.index[:]\n",
    "\n",
    "# Transfer the data\n",
    " # The names of the skims are the name of the fields\n",
    "out_skims.matrix['time_final'][:,:] = last_skims.matrix['free_flow_time'][:,:]\n",
    "# It is CRITICAL to assign the matrix values using the [:,:]\n",
    "out_skims.matrix['distance_blended'][:,:] = avg_skims.matrix['distance'][:,:]\n",
    "\n",
    "out_skims.matrices.flush() # Make sure that all data went to the disk\n",
    "\n",
    "# Export to OMX as well\n",
    "out_skims.export(join(fldr,ftr_fldr, 'future_skims.omx'))\n"
   ]
  }
 ],
 "metadata": {
  "kernelspec": {
   "display_name": "Python 3",
   "language": "python",
   "name": "python3"
  },
  "language_info": {
   "codemirror_mode": {
    "name": "ipython",
    "version": 3
   },
   "file_extension": ".py",
   "mimetype": "text/x-python",
   "name": "python",
   "nbconvert_exporter": "python",
   "pygments_lexer": "ipython3",
   "version": "3.7.4"
  },
  "pycharm": {
   "stem_cell": {
    "cell_type": "raw",
    "source": [],
    "metadata": {
     "collapsed": false
    }
   }
  }
 },
 "nbformat": 4,
 "nbformat_minor": 4
}