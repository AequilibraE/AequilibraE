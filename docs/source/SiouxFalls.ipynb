{
 "cells": [
  {
   "cell_type": "markdown",
   "metadata": {},
   "source": [
    "# Sioux Falls example"
   ]
  },
  {
   "cell_type": "code",
   "execution_count": 1,
   "metadata": {},
   "outputs": [],
   "source": [
    "import sys\n",
    "sys.path.append('../..')"
   ]
  },
  {
   "cell_type": "markdown",
   "metadata": {},
   "source": [
    "## File paths"
   ]
  },
  {
   "cell_type": "code",
   "execution_count": 2,
   "metadata": {
    "pycharm": {
     "is_executing": false
    }
   },
   "outputs": [],
   "source": [
    "fldr = 'D:/release/Sample models/sioux_falls_2020_02_15'\n",
    "\n",
    "# remove the comments for the lines below to run the Chicago model example instead\n",
    "# fldr = 'D:/release/Sample models/Chicago_2020_02_15'\n",
    "# proj_name = 'chicagomodel.sqlite'\n",
    "\n",
    "dt_fldr = '0_tntp_data'\n",
    "prj_fldr = '1_project'\n",
    "new_proj_folder = '1_project_temp'\n",
    "\n",
    "skm_fldr = '2_skim_results'\n",
    "assg_fldr = '4_assignment_results'\n",
    "dstr_fldr = '5_distribution_results'\n",
    "frcst_fldr = '6_forecast'\n",
    "ftr_fldr = '7_future_year_assignment'"
   ]
  },
  {
   "cell_type": "markdown",
   "metadata": {},
   "source": [
    "## We copy the project to a different folder so we don't overwrite things like the matrix table"
   ]
  },
  {
   "cell_type": "code",
   "execution_count": 3,
   "metadata": {},
   "outputs": [
    {
     "data": {
      "text/plain": [
       "'D:/release/Sample models/sioux_falls_2020_02_15\\\\1_project_temp'"
      ]
     },
     "execution_count": 3,
     "metadata": {},
     "output_type": "execute_result"
    }
   ],
   "source": [
    "from shutil import copytree, rmtree\n",
    "from os.path import isfile, isdir, join\n",
    "\n",
    "if isdir(join(fldr, new_proj_folder)):\n",
    "    rmtree(join(fldr, new_proj_folder))\n",
    "\n",
    "copytree(join(fldr, prj_fldr), join(fldr, new_proj_folder))"
   ]
  },
  {
   "cell_type": "markdown",
   "metadata": {},
   "source": [
    "## Opening the project"
   ]
  },
  {
   "cell_type": "code",
   "execution_count": 4,
   "metadata": {
    "pycharm": {
     "is_executing": false
    }
   },
   "outputs": [],
   "source": [
    "# Imports\n",
    "from aequilibrae.project import Project\n",
    "from os.path import join\n",
    "from aequilibrae import logger\n",
    "import logging"
   ]
  },
  {
   "cell_type": "code",
   "execution_count": 5,
   "metadata": {
    "pycharm": {
     "is_executing": false
    }
   },
   "outputs": [],
   "source": [
    "project = Project()\n",
    "project.load(join(fldr, new_proj_folder))"
   ]
  },
  {
   "cell_type": "markdown",
   "metadata": {},
   "source": [
    "#### We will make sure log comes to the terminal as well"
   ]
  },
  {
   "cell_type": "code",
   "execution_count": 6,
   "metadata": {
    "pycharm": {
     "is_executing": false
    }
   },
   "outputs": [],
   "source": [
    "import sys\n",
    "# Because assignment takes a long time, we want the log to be shown here\n",
    "stdout_handler = logging.StreamHandler(sys.stdout)\n",
    "formatter = logging.Formatter(\"%(asctime)s;%(name)s;%(levelname)s ; %(message)s\")\n",
    "stdout_handler.setFormatter(formatter)\n",
    "logger.addHandler(stdout_handler)"
   ]
  },
  {
   "cell_type": "markdown",
   "metadata": {},
   "source": [
    "## Path computation"
   ]
  },
  {
   "cell_type": "code",
   "execution_count": 7,
   "metadata": {
    "pycharm": {
     "is_executing": false
    }
   },
   "outputs": [],
   "source": [
    "# imports\n",
    "from aequilibrae.paths import PathResults, path_computation"
   ]
  },
  {
   "cell_type": "code",
   "execution_count": 8,
   "metadata": {
    "pycharm": {
     "is_executing": false
    }
   },
   "outputs": [
    {
     "name": "stdout",
     "output_type": "stream",
     "text": [
      "2020-11-24 22:28:51,138;aequilibrae;WARNING ; Fields were removed from Graph for being non-numeric: modes,link_type\n",
      "2020-11-24 22:28:51,142;aequilibrae;WARNING ; Field(s) name,lanes has(ve) at least one NaN value. Check your computations\n",
      "2020-11-24 22:28:51,144;aequilibrae;WARNING ; Field(s) name,lanes has(ve) at least one NaN value. Check your computations\n",
      "2020-11-24 22:28:51,147;aequilibrae;WARNING ; Field(s) name,lanes has(ve) at least one NaN value. Check your computations\n",
      "2020-11-24 22:28:51,149;aequilibrae;WARNING ; Field(s) name,lanes has(ve) at least one NaN value. Check your computations\n"
     ]
    }
   ],
   "source": [
    "# we build all graphs\n",
    "project.network.build_graphs()\n",
    "# We get warnings that several fields in the project are filled with NaNs.  Which is true, but we won't use those fields"
   ]
  },
  {
   "cell_type": "code",
   "execution_count": 9,
   "metadata": {
    "pycharm": {
     "is_executing": false
    }
   },
   "outputs": [],
   "source": [
    "# we grab the graph for cars\n",
    "graph = project.network.graphs['c']\n",
    "\n",
    "# let's say we want to minimize distance\n",
    "graph.set_graph('distance')\n",
    "\n",
    "# And will skim time and distance while we are at it\n",
    "graph.set_skimming(['free_flow_time', 'distance'])\n",
    "\n",
    "# And we will allow paths to be compute going through other centroids/centroid connectors\n",
    "# required for the Sioux Falls network, as all nodes are centroids\n",
    "graph.set_blocked_centroid_flows(False)\n",
    "\n",
    "# instantiate a path results object and prepare it to work with the graph\n",
    "res = PathResults()\n",
    "res.prepare(graph)\n",
    "\n",
    "# compute a path from node 2 to 13\n",
    "path_computation(2, 13, graph, res)"
   ]
  },
  {
   "cell_type": "code",
   "execution_count": null,
   "metadata": {
    "pycharm": {
     "is_executing": false
    }
   },
   "outputs": [],
   "source": [
    "# We can get the sequence of nodes we traverse\n",
    "res.path_nodes"
   ]
  },
  {
   "cell_type": "code",
   "execution_count": null,
   "metadata": {
    "pycharm": {
     "is_executing": false
    }
   },
   "outputs": [],
   "source": [
    "# We can get the link sequence we traverse\n",
    "res.path"
   ]
  },
  {
   "cell_type": "code",
   "execution_count": null,
   "metadata": {
    "pycharm": {
     "is_executing": false
    }
   },
   "outputs": [],
   "source": [
    "# We can get the mileposts for our sequence of nodes\n",
    "res.milepost"
   ]
  },
  {
   "cell_type": "code",
   "execution_count": null,
   "metadata": {
    "pycharm": {
     "is_executing": false
    }
   },
   "outputs": [],
   "source": [
    "# If we want to compute the path for a different destination and same origin, we can just do this\n",
    "# It is way faster when you have large networks\n",
    "res.update_trace(4)"
   ]
  },
  {
   "cell_type": "code",
   "execution_count": null,
   "metadata": {
    "pycharm": {
     "is_executing": false
    }
   },
   "outputs": [],
   "source": [
    "res.path_nodes"
   ]
  },
  {
   "cell_type": "markdown",
   "metadata": {},
   "source": [
    "## Skimming"
   ]
  },
  {
   "cell_type": "code",
   "execution_count": null,
   "metadata": {
    "pycharm": {
     "is_executing": false
    }
   },
   "outputs": [],
   "source": [
    "from aequilibrae.matrix import AequilibraeData, AequilibraeMatrix\n",
    "from aequilibrae.paths import NetworkSkimming, SkimResults"
   ]
  },
  {
   "cell_type": "code",
   "execution_count": null,
   "metadata": {
    "pycharm": {
     "is_executing": false
    }
   },
   "outputs": [],
   "source": [
    "# from before\n",
    "graph = project.network.graphs['c'] # we grab the graph for cars\n",
    "graph.set_graph('free_flow_time') # let's say we want to minimize time\n",
    "graph.set_skimming(['free_flow_time', 'distance']) # And will skim time and distance\n",
    "graph = project.network.graphs['c'] # we grab the graph for cars\n",
    "graph.set_blocked_centroid_flows(False)"
   ]
  },
  {
   "cell_type": "code",
   "execution_count": null,
   "metadata": {
    "pycharm": {
     "is_executing": false
    }
   },
   "outputs": [],
   "source": [
    "# And run the skimming\n",
    "skm = NetworkSkimming(graph)\n",
    "skm.execute()"
   ]
  },
  {
   "cell_type": "code",
   "execution_count": null,
   "metadata": {
    "pycharm": {
     "is_executing": false
    },
    "scrolled": true
   },
   "outputs": [],
   "source": [
    "# The result is an AequilibraEMatrix object\n",
    "skims = skm.results.skims\n",
    "\n",
    "# Which we can manipute directly from its temp file, if we wish\n",
    "skims.matrices"
   ]
  },
  {
   "cell_type": "code",
   "execution_count": null,
   "metadata": {
    "scrolled": true
   },
   "outputs": [],
   "source": [
    "# Ore access each matrix\n",
    "skims.free_flow_time"
   ]
  },
  {
   "cell_type": "code",
   "execution_count": null,
   "metadata": {},
   "outputs": [],
   "source": [
    "# We can save it to the project if we want\n",
    "skm.save_to_project('base_skims')\n",
    "\n",
    "# We can also retrieve this skim record to write something to its description\n",
    "matrices = project.matrices\n",
    "mat_record = matrices.get_record('base_skims')\n",
    "mat_record.description = 'minimized FF travel time while also skimming distance'\n",
    "mat_record.save()"
   ]
  },
  {
   "cell_type": "markdown",
   "metadata": {},
   "source": [
    "# Traffic assignment with skimming"
   ]
  },
  {
   "cell_type": "code",
   "execution_count": 10,
   "metadata": {
    "pycharm": {
     "is_executing": false
    }
   },
   "outputs": [],
   "source": [
    "from aequilibrae.matrix import AequilibraeMatrix\n",
    "from aequilibrae.paths import TrafficAssignment, TrafficClass"
   ]
  },
  {
   "cell_type": "code",
   "execution_count": 11,
   "metadata": {
    "pycharm": {
     "is_executing": false
    }
   },
   "outputs": [],
   "source": [
    "# We use the exact same graph we had above"
   ]
  },
  {
   "cell_type": "code",
   "execution_count": 12,
   "metadata": {
    "pycharm": {
     "is_executing": false
    },
    "scrolled": true
   },
   "outputs": [
    {
     "data": {
      "text/html": [
       "<div>\n",
       "<style scoped>\n",
       "    .dataframe tbody tr th:only-of-type {\n",
       "        vertical-align: middle;\n",
       "    }\n",
       "\n",
       "    .dataframe tbody tr th {\n",
       "        vertical-align: top;\n",
       "    }\n",
       "\n",
       "    .dataframe thead th {\n",
       "        text-align: right;\n",
       "    }\n",
       "</style>\n",
       "<table border=\"1\" class=\"dataframe\">\n",
       "  <thead>\n",
       "    <tr style=\"text-align: right;\">\n",
       "      <th></th>\n",
       "      <th>name</th>\n",
       "      <th>file_name</th>\n",
       "      <th>cores</th>\n",
       "      <th>procedure</th>\n",
       "      <th>procedure_id</th>\n",
       "      <th>timestamp</th>\n",
       "      <th>description</th>\n",
       "      <th>status</th>\n",
       "    </tr>\n",
       "  </thead>\n",
       "  <tbody>\n",
       "    <tr>\n",
       "      <th>0</th>\n",
       "      <td>demand_aem</td>\n",
       "      <td>demand.aem</td>\n",
       "      <td>1</td>\n",
       "      <td>None</td>\n",
       "      <td>None</td>\n",
       "      <td>2020-11-24 08:46:42</td>\n",
       "      <td>Original data imported to AEM format\\n</td>\n",
       "      <td></td>\n",
       "    </tr>\n",
       "    <tr>\n",
       "      <th>1</th>\n",
       "      <td>demand_omx</td>\n",
       "      <td>demand.omx</td>\n",
       "      <td>1</td>\n",
       "      <td>None</td>\n",
       "      <td>None</td>\n",
       "      <td>2020-11-24 08:47:18</td>\n",
       "      <td>Original data imported to OMX format</td>\n",
       "      <td></td>\n",
       "    </tr>\n",
       "  </tbody>\n",
       "</table>\n",
       "</div>"
      ],
      "text/plain": [
       "         name   file_name  cores procedure procedure_id            timestamp  \\\n",
       "0  demand_aem  demand.aem      1      None         None  2020-11-24 08:46:42   \n",
       "1  demand_omx  demand.omx      1      None         None  2020-11-24 08:47:18   \n",
       "\n",
       "                              description status  \n",
       "0  Original data imported to AEM format\\n         \n",
       "1    Original data imported to OMX format         "
      ]
     },
     "execution_count": 12,
     "metadata": {},
     "output_type": "execute_result"
    }
   ],
   "source": [
    "# We can get a matrix like this\n",
    "demand_the_old_way = AequilibraeMatrix()\n",
    "demand_the_old_way.load(join(fldr, new_proj_folder, 'matrices', 'demand.omx'))\n",
    "demand_the_old_way.computational_view(['matrix']) # We will only assign one user class stored as 'matrix' inside the OMX file\n",
    "\n",
    "# or directly from the project record\n",
    "# so let's inspect what we have in the project\n",
    "proj_matrices = project.matrices\n",
    "proj_matrices.list()"
   ]
  },
  {
   "cell_type": "code",
   "execution_count": 13,
   "metadata": {},
   "outputs": [],
   "source": [
    "# Let's get it in this better way\n",
    "demand = proj_matrices.get_matrix('demand_omx')\n",
    "demand.computational_view(['matrix'])"
   ]
  },
  {
   "cell_type": "code",
   "execution_count": 14,
   "metadata": {
    "scrolled": true
   },
   "outputs": [
    {
     "name": "stdout",
     "output_type": "stream",
     "text": [
      "2020-11-24 22:29:16,812;aequilibrae;INFO ; bfw Assignment STATS\n",
      "2020-11-24 22:29:16,812;aequilibrae;INFO ; Iteration, RelativeGap, stepsize\n",
      "2020-11-24 22:29:16,925;aequilibrae;INFO ; 1,inf,1.0\n",
      "2020-11-24 22:29:17,036;aequilibrae;INFO ; 2,0.8485503509703024,0.36497345609427145\n",
      "2020-11-24 22:29:17,160;aequilibrae;INFO ; 3,0.3813926225800203,0.2298356924660528\n",
      "2020-11-24 22:29:17,283;aequilibrae;INFO ; 4,0.19621277462606984,0.18591312145268074\n",
      "2020-11-24 22:29:17,393;aequilibrae;INFO ; 5,0.09069073200924213,0.7090816523174254\n",
      "2020-11-24 22:29:17,518;aequilibrae;INFO ; 6,0.20600048221061426,0.1229016022154401\n",
      "2020-11-24 22:29:17,644;aequilibrae;INFO ; 7,0.06710568925282254,0.38638656717489844\n",
      "2020-11-24 22:29:17,756;aequilibrae;INFO ; 8,0.10307514154369488,0.1093055036410267\n",
      "2020-11-24 22:29:17,878;aequilibrae;INFO ; 9,0.04222147191362779,0.2487805192125393\n",
      "2020-11-24 22:29:18,004;aequilibrae;INFO ; 10,0.05926435464772421,0.15904810628271004\n",
      "2020-11-24 22:29:18,128;aequilibrae;INFO ; 11,0.03453951151333739,0.5180973804491722\n",
      "2020-11-24 22:29:18,239;aequilibrae;INFO ; 12,0.059426517206032654,0.10197123112986584\n",
      "2020-11-24 22:29:18,361;aequilibrae;INFO ; 13,0.023239895792359067,0.1780595483940025\n",
      "2020-11-24 22:29:18,472;aequilibrae;INFO ; 14,0.017873783562205998,0.9787872930853664\n",
      "2020-11-24 22:29:18,584;aequilibrae;INFO ; 15,0.049661371545771556,0.08320656307451389\n",
      "2020-11-24 22:29:18,706;aequilibrae;INFO ; 16,0.021382882276233087,0.11517403065013918\n",
      "2020-11-24 22:29:18,817;aequilibrae;INFO ; 17,0.013141542820482906,0.10640369388111594\n",
      "2020-11-24 22:29:18,927;aequilibrae;INFO ; 18,0.009902228209039313,0.10710395766777006\n",
      "2020-11-24 22:29:19,052;aequilibrae;INFO ; 19,0.008834657139075773,0.2524678977926848\n",
      "2020-11-24 22:29:19,161;aequilibrae;INFO ; 20,0.01037104162273405,0.672783938935575\n",
      "2020-11-24 22:29:19,274;aequilibrae;INFO ; 21,0.011090096306112919,0.07468060074370476\n",
      "2020-11-24 22:29:19,398;aequilibrae;INFO ; 22,0.006512685266481604,0.1248501762466173\n",
      "2020-11-24 22:29:19,511;aequilibrae;INFO ; 23,0.005238884615251675,0.06316016574610296\n",
      "2020-11-24 22:29:19,635;aequilibrae;INFO ; 24,0.003949529236289729,0.09717896243713699\n",
      "2020-11-24 22:29:19,744;aequilibrae;INFO ; 25,0.003282221301580675,0.15775901718805277\n",
      "2020-11-24 22:29:19,854;aequilibrae;INFO ; 26,0.00579283245286733,0.4524765669952469\n",
      "2020-11-24 22:29:19,963;aequilibrae;INFO ; 27,0.0066823585472093215,0.7851865570320201\n",
      "2020-11-24 22:29:20,076;aequilibrae;INFO ; 28,0.005992619218872507,0.03909810047560597\n",
      "2020-11-24 22:29:20,200;aequilibrae;INFO ; 29,0.004031364688023943,0.04253018777365569\n",
      "2020-11-24 22:29:20,310;aequilibrae;INFO ; 30,0.0027696521195961455,0.022512872266870154\n",
      "2020-11-24 22:29:20,421;aequilibrae;INFO ; 31,0.0024846461521886723,0.045801692933289694\n",
      "2020-11-24 22:29:20,532;aequilibrae;INFO ; 32,0.0016385526468737244,0.03429583308495096\n",
      "2020-11-24 22:29:20,643;aequilibrae;INFO ; 33,0.001495691114378677,0.03539200254744609\n",
      "2020-11-24 22:29:20,767;aequilibrae;INFO ; 34,0.0011355392148559484,0.05358983822739106\n",
      "2020-11-24 22:29:20,878;aequilibrae;INFO ; 35,0.0012151973759488516,0.04757130468757175\n",
      "2020-11-24 22:29:20,989;aequilibrae;INFO ; 36,0.001239365147986654,0.06536473861280115\n",
      "2020-11-24 22:29:21,114;aequilibrae;INFO ; 37,0.0010684962819843323,0.10703952287420007\n",
      "2020-11-24 22:29:21,224;aequilibrae;INFO ; 38,0.0010899690080066334,0.09864062409431697\n",
      "2020-11-24 22:29:21,335;aequilibrae;INFO ; 39,0.0009886948497176082,0.060276239115439986\n",
      "2020-11-24 22:29:21,446;aequilibrae;INFO ; 40,0.001263208691216004,0.22288089471463618\n",
      "2020-11-24 22:29:21,571;aequilibrae;INFO ; 41,0.0011655716534080074,0.19775964941930804\n",
      "2020-11-24 22:29:21,681;aequilibrae;INFO ; 42,0.0012299958308279288,0.3170348486818246\n",
      "2020-11-24 22:29:21,791;aequilibrae;INFO ; 43,0.0012902531663784,0.3422879827724445\n",
      "2020-11-24 22:29:21,901;aequilibrae;INFO ; 44,0.000997953108759,0.733206097427319\n",
      "2020-11-24 22:29:21,903;aequilibrae;INFO ; bfw Assignment finished. 44 iterations and 0.000997953108759 final gap\n"
     ]
    }
   ],
   "source": [
    "assig = TrafficAssignment()\n",
    "\n",
    "# Creates the assignment class\n",
    "assigclass = TrafficClass(graph, demand)\n",
    "\n",
    "# The first thing to do is to add at list of traffic classes to be assigned\n",
    "assig.add_class(assigclass)\n",
    "\n",
    "\n",
    "# We set these parameters only after adding one class to the assignment\n",
    "assig.set_vdf(\"BPR\")  # This is not case-sensitive # Then we set the volume delay function\n",
    "\n",
    "assig.set_vdf_parameters({\"alpha\": \"b\", \"beta\": \"power\"}) # And its parameters\n",
    "\n",
    "assig.set_capacity_field(\"capacity\") # The capacity and free flow travel times as they exist in the graph\n",
    "assig.set_time_field(\"free_flow_time\")\n",
    "\n",
    "# And the algorithm we want to use to assign\n",
    "assig.set_algorithm('bfw')\n",
    "\n",
    "# since I haven't checked the parameters file, let's make sure convergence criteria is good\n",
    "assig.max_iter = 1000\n",
    "assig.rgap_target = 0.001\n",
    "\n",
    "assig.execute() # we then execute the assignment"
   ]
  },
  {
   "cell_type": "markdown",
   "metadata": {},
   "source": [
    "### Outputs"
   ]
  },
  {
   "cell_type": "code",
   "execution_count": 15,
   "metadata": {
    "pycharm": {
     "is_executing": false,
     "name": "#%%\n"
    }
   },
   "outputs": [
    {
     "data": {
      "text/html": [
       "<div>\n",
       "<style scoped>\n",
       "    .dataframe tbody tr th:only-of-type {\n",
       "        vertical-align: middle;\n",
       "    }\n",
       "\n",
       "    .dataframe tbody tr th {\n",
       "        vertical-align: top;\n",
       "    }\n",
       "\n",
       "    .dataframe thead th {\n",
       "        text-align: right;\n",
       "    }\n",
       "</style>\n",
       "<table border=\"1\" class=\"dataframe\">\n",
       "  <thead>\n",
       "    <tr style=\"text-align: right;\">\n",
       "      <th></th>\n",
       "      <th>iteration</th>\n",
       "      <th>rgap</th>\n",
       "      <th>alpha</th>\n",
       "      <th>warnings</th>\n",
       "      <th>beta0</th>\n",
       "      <th>beta1</th>\n",
       "      <th>beta2</th>\n",
       "    </tr>\n",
       "  </thead>\n",
       "  <tbody>\n",
       "    <tr>\n",
       "      <th>0</th>\n",
       "      <td>1</td>\n",
       "      <td>inf</td>\n",
       "      <td>1.000000</td>\n",
       "      <td></td>\n",
       "      <td>1.000000</td>\n",
       "      <td>0.000000</td>\n",
       "      <td>0.000000</td>\n",
       "    </tr>\n",
       "    <tr>\n",
       "      <th>1</th>\n",
       "      <td>2</td>\n",
       "      <td>0.848550</td>\n",
       "      <td>0.364973</td>\n",
       "      <td></td>\n",
       "      <td>1.000000</td>\n",
       "      <td>0.000000</td>\n",
       "      <td>0.000000</td>\n",
       "    </tr>\n",
       "    <tr>\n",
       "      <th>2</th>\n",
       "      <td>3</td>\n",
       "      <td>0.381393</td>\n",
       "      <td>0.229836</td>\n",
       "      <td></td>\n",
       "      <td>1.000000</td>\n",
       "      <td>0.000000</td>\n",
       "      <td>0.000000</td>\n",
       "    </tr>\n",
       "    <tr>\n",
       "      <th>3</th>\n",
       "      <td>4</td>\n",
       "      <td>0.196213</td>\n",
       "      <td>0.185913</td>\n",
       "      <td></td>\n",
       "      <td>0.959771</td>\n",
       "      <td>0.040229</td>\n",
       "      <td>0.000000</td>\n",
       "    </tr>\n",
       "    <tr>\n",
       "      <th>4</th>\n",
       "      <td>5</td>\n",
       "      <td>0.090691</td>\n",
       "      <td>0.709082</td>\n",
       "      <td></td>\n",
       "      <td>0.687640</td>\n",
       "      <td>0.286705</td>\n",
       "      <td>0.025654</td>\n",
       "    </tr>\n",
       "  </tbody>\n",
       "</table>\n",
       "</div>"
      ],
      "text/plain": [
       "   iteration      rgap     alpha warnings     beta0     beta1     beta2\n",
       "0          1       inf  1.000000           1.000000  0.000000  0.000000\n",
       "1          2  0.848550  0.364973           1.000000  0.000000  0.000000\n",
       "2          3  0.381393  0.229836           1.000000  0.000000  0.000000\n",
       "3          4  0.196213  0.185913           0.959771  0.040229  0.000000\n",
       "4          5  0.090691  0.709082           0.687640  0.286705  0.025654"
      ]
     },
     "execution_count": 15,
     "metadata": {},
     "output_type": "execute_result"
    }
   ],
   "source": [
    "# Convergence report is easy to see\n",
    "import pandas as pd\n",
    "convergence_report = assig.report()\n",
    "convergence_report.head()"
   ]
  },
  {
   "cell_type": "code",
   "execution_count": 16,
   "metadata": {},
   "outputs": [
    {
     "data": {
      "text/html": [
       "<div>\n",
       "<style scoped>\n",
       "    .dataframe tbody tr th:only-of-type {\n",
       "        vertical-align: middle;\n",
       "    }\n",
       "\n",
       "    .dataframe tbody tr th {\n",
       "        vertical-align: top;\n",
       "    }\n",
       "\n",
       "    .dataframe thead th {\n",
       "        text-align: right;\n",
       "    }\n",
       "</style>\n",
       "<table border=\"1\" class=\"dataframe\">\n",
       "  <thead>\n",
       "    <tr style=\"text-align: right;\">\n",
       "      <th></th>\n",
       "      <th>matrix_ab</th>\n",
       "      <th>matrix_ba</th>\n",
       "      <th>matrix_tot</th>\n",
       "      <th>Congested_Time_AB</th>\n",
       "      <th>Congested_Time_BA</th>\n",
       "      <th>Congested_Time_Max</th>\n",
       "      <th>Delay_factor_AB</th>\n",
       "      <th>Delay_factor_BA</th>\n",
       "      <th>Delay_factor_Max</th>\n",
       "      <th>VOC_AB</th>\n",
       "      <th>VOC_BA</th>\n",
       "      <th>VOC_max</th>\n",
       "      <th>PCE_AB</th>\n",
       "      <th>PCE_BA</th>\n",
       "      <th>PCE_tot</th>\n",
       "    </tr>\n",
       "    <tr>\n",
       "      <th>link_id</th>\n",
       "      <th></th>\n",
       "      <th></th>\n",
       "      <th></th>\n",
       "      <th></th>\n",
       "      <th></th>\n",
       "      <th></th>\n",
       "      <th></th>\n",
       "      <th></th>\n",
       "      <th></th>\n",
       "      <th></th>\n",
       "      <th></th>\n",
       "      <th></th>\n",
       "      <th></th>\n",
       "      <th></th>\n",
       "      <th></th>\n",
       "    </tr>\n",
       "  </thead>\n",
       "  <tbody>\n",
       "    <tr>\n",
       "      <th>1</th>\n",
       "      <td>4570.421761</td>\n",
       "      <td>NaN</td>\n",
       "      <td>4570.421761</td>\n",
       "      <td>6.0</td>\n",
       "      <td>NaN</td>\n",
       "      <td>6.0</td>\n",
       "      <td>1.0</td>\n",
       "      <td>NaN</td>\n",
       "      <td>1.0</td>\n",
       "      <td>0.176463</td>\n",
       "      <td>NaN</td>\n",
       "      <td>0.176463</td>\n",
       "      <td>4570.421761</td>\n",
       "      <td>NaN</td>\n",
       "      <td>4570.421761</td>\n",
       "    </tr>\n",
       "    <tr>\n",
       "      <th>2</th>\n",
       "      <td>8275.382482</td>\n",
       "      <td>NaN</td>\n",
       "      <td>8275.382482</td>\n",
       "      <td>4.0</td>\n",
       "      <td>NaN</td>\n",
       "      <td>4.0</td>\n",
       "      <td>1.0</td>\n",
       "      <td>NaN</td>\n",
       "      <td>1.0</td>\n",
       "      <td>0.353596</td>\n",
       "      <td>NaN</td>\n",
       "      <td>0.353596</td>\n",
       "      <td>8275.382482</td>\n",
       "      <td>NaN</td>\n",
       "      <td>8275.382482</td>\n",
       "    </tr>\n",
       "    <tr>\n",
       "      <th>3</th>\n",
       "      <td>4675.373252</td>\n",
       "      <td>NaN</td>\n",
       "      <td>4675.373252</td>\n",
       "      <td>6.0</td>\n",
       "      <td>NaN</td>\n",
       "      <td>6.0</td>\n",
       "      <td>1.0</td>\n",
       "      <td>NaN</td>\n",
       "      <td>1.0</td>\n",
       "      <td>0.180515</td>\n",
       "      <td>NaN</td>\n",
       "      <td>0.180515</td>\n",
       "      <td>4675.373252</td>\n",
       "      <td>NaN</td>\n",
       "      <td>4675.373252</td>\n",
       "    </tr>\n",
       "    <tr>\n",
       "      <th>4</th>\n",
       "      <td>5900.513362</td>\n",
       "      <td>NaN</td>\n",
       "      <td>5900.513362</td>\n",
       "      <td>5.0</td>\n",
       "      <td>NaN</td>\n",
       "      <td>5.0</td>\n",
       "      <td>1.0</td>\n",
       "      <td>NaN</td>\n",
       "      <td>1.0</td>\n",
       "      <td>1.190056</td>\n",
       "      <td>NaN</td>\n",
       "      <td>1.190056</td>\n",
       "      <td>5900.513362</td>\n",
       "      <td>NaN</td>\n",
       "      <td>5900.513362</td>\n",
       "    </tr>\n",
       "    <tr>\n",
       "      <th>5</th>\n",
       "      <td>8170.430991</td>\n",
       "      <td>NaN</td>\n",
       "      <td>8170.430991</td>\n",
       "      <td>4.0</td>\n",
       "      <td>NaN</td>\n",
       "      <td>4.0</td>\n",
       "      <td>1.0</td>\n",
       "      <td>NaN</td>\n",
       "      <td>1.0</td>\n",
       "      <td>0.349112</td>\n",
       "      <td>NaN</td>\n",
       "      <td>0.349112</td>\n",
       "      <td>8170.430991</td>\n",
       "      <td>NaN</td>\n",
       "      <td>8170.430991</td>\n",
       "    </tr>\n",
       "  </tbody>\n",
       "</table>\n",
       "</div>"
      ],
      "text/plain": [
       "           matrix_ab  matrix_ba   matrix_tot  Congested_Time_AB  \\\n",
       "link_id                                                           \n",
       "1        4570.421761        NaN  4570.421761                6.0   \n",
       "2        8275.382482        NaN  8275.382482                4.0   \n",
       "3        4675.373252        NaN  4675.373252                6.0   \n",
       "4        5900.513362        NaN  5900.513362                5.0   \n",
       "5        8170.430991        NaN  8170.430991                4.0   \n",
       "\n",
       "         Congested_Time_BA  Congested_Time_Max  Delay_factor_AB  \\\n",
       "link_id                                                           \n",
       "1                      NaN                 6.0              1.0   \n",
       "2                      NaN                 4.0              1.0   \n",
       "3                      NaN                 6.0              1.0   \n",
       "4                      NaN                 5.0              1.0   \n",
       "5                      NaN                 4.0              1.0   \n",
       "\n",
       "         Delay_factor_BA  Delay_factor_Max    VOC_AB  VOC_BA   VOC_max  \\\n",
       "link_id                                                                  \n",
       "1                    NaN               1.0  0.176463     NaN  0.176463   \n",
       "2                    NaN               1.0  0.353596     NaN  0.353596   \n",
       "3                    NaN               1.0  0.180515     NaN  0.180515   \n",
       "4                    NaN               1.0  1.190056     NaN  1.190056   \n",
       "5                    NaN               1.0  0.349112     NaN  0.349112   \n",
       "\n",
       "              PCE_AB  PCE_BA      PCE_tot  \n",
       "link_id                                    \n",
       "1        4570.421761     NaN  4570.421761  \n",
       "2        8275.382482     NaN  8275.382482  \n",
       "3        4675.373252     NaN  4675.373252  \n",
       "4        5900.513362     NaN  5900.513362  \n",
       "5        8170.430991     NaN  8170.430991  "
      ]
     },
     "execution_count": 16,
     "metadata": {},
     "output_type": "execute_result"
    }
   ],
   "source": [
    "volumes = assig.results()\n",
    "volumes.head()"
   ]
  },
  {
   "cell_type": "code",
   "execution_count": 17,
   "metadata": {
    "pycharm": {
     "is_executing": false
    }
   },
   "outputs": [],
   "source": [
    "# We could export it to CSV or AequilibraE data, but let's put it directly into the results database\n",
    "assig.save_results('base_year_assignment')"
   ]
  },
  {
   "cell_type": "code",
   "execution_count": 18,
   "metadata": {
    "pycharm": {
     "is_executing": false
    }
   },
   "outputs": [
    {
     "name": "stdout",
     "output_type": "stream",
     "text": [
      "2020-11-24 22:29:29,104;aequilibrae;WARNING ; Matrix Record has been saved to the database\n"
     ]
    }
   ],
   "source": [
    "# And save the skims\n",
    "assig.save_skims('base_year_assignment_skims', which_ones='all', format='omx')"
   ]
  },
  {
   "cell_type": "markdown",
   "metadata": {},
   "source": [
    "# Trip distribution"
   ]
  },
  {
   "cell_type": "markdown",
   "metadata": {},
   "source": [
    "### Calibration\n",
    "\n",
    "We will calibrate synthetic gravity models using the skims for TIME that we just generated"
   ]
  },
  {
   "cell_type": "code",
   "execution_count": null,
   "metadata": {
    "pycharm": {
     "is_executing": false
    }
   },
   "outputs": [],
   "source": [
    "import numpy as np\n",
    "from aequilibrae.distribution import GravityCalibration\n",
    "from aequilibrae.matrix import AequilibraeMatrix"
   ]
  },
  {
   "cell_type": "code",
   "execution_count": null,
   "metadata": {
    "pycharm": {
     "is_executing": false
    }
   },
   "outputs": [],
   "source": [
    "# We need the demand\n",
    "demand = AequilibraeMatrix()\n",
    "demand.load(join(fldr, dt_fldr, 'demand.omx'))\n",
    "\n",
    "# And the skims\n",
    "imped = AequilibraeMatrix()\n",
    "imped.load(join(fldr,assg_fldr, 'skims.aem'))"
   ]
  },
  {
   "cell_type": "code",
   "execution_count": null,
   "metadata": {
    "pycharm": {
     "is_executing": false
    }
   },
   "outputs": [],
   "source": [
    "# But before using the data, let's get some impedance for the intrazonals\n",
    "# Let's assume it is 75% of the closest zone\n",
    "\n",
    "# If we run the code below more than once, we will be overwriting the diagonal values with non-sensical data\n",
    "# so let's zero it first\n",
    "np.fill_diagonal(imped.matrix['time_final'], 0)\n",
    "\n",
    "# We compute it with a little bit of NumPy magic\n",
    "intrazonals = np.amin(imped.matrix['time_final'], where=imped.matrix['time_final']>0, initial=imped.matrix['time_final'].max(), axis=1)\n",
    "intrazonals *= 0.75\n",
    "\n",
    "# Then we fill in the impedance matrix\n",
    "np.fill_diagonal(imped.matrix['time_final'], intrazonals)\n"
   ]
  },
  {
   "cell_type": "code",
   "execution_count": null,
   "metadata": {
    "pycharm": {
     "is_executing": false
    }
   },
   "outputs": [],
   "source": [
    "# We set the matrices forbeing used in computation\n",
    "imped.computational_view(['time_final'])\n",
    "demand.computational_view(['matrix'])"
   ]
  },
  {
   "cell_type": "code",
   "execution_count": null,
   "metadata": {
    "pycharm": {
     "is_executing": false
    }
   },
   "outputs": [],
   "source": [
    "from math import log10, floor\n",
    "def plot_tlfd(demand, skim, name):\n",
    "    import matplotlib.pyplot as plt\n",
    "    b = floor(log10(skim.shape[0]) * 10)\n",
    "    n, bins, patches = plt.hist(np.nan_to_num(skim.flatten(),0), bins = b, weights=np.nan_to_num(demand.flatten()), density=False, facecolor='g', alpha=0.75)\n",
    "\n",
    "    plt.xlabel('Trip length')\n",
    "    plt.ylabel('Probability')\n",
    "    plt.title('Trip-length frequency distribution')\n",
    "    plt.savefig(name, format=\"png\")\n",
    "    plt.clf()"
   ]
  },
  {
   "cell_type": "code",
   "execution_count": null,
   "metadata": {
    "pycharm": {
     "is_executing": false
    },
    "scrolled": true
   },
   "outputs": [],
   "source": [
    "for function in ['power', 'expo']:\n",
    "    model = GravityCalibration(matrix=demand, impedance=imped, function=function, nan_as_zero=True)\n",
    "    model.calibrate()\n",
    "    \n",
    "    # we save the model\n",
    "    model.model.save(join(fldr, dstr_fldr, f'{function}_model.mod'))\n",
    "    \n",
    "    # We save a trip length frequency distribution image\n",
    "    plot_tlfd(model.result_matrix.matrix_view, imped.matrix_view,join(fldr, dstr_fldr, f'{function}_tfld.png') )\n",
    "    \n",
    "    # We can save the result of applying the model as well\n",
    "    # we can also save the calibration report\n",
    "    with open(join(fldr, dstr_fldr, f'{function}_convergence.log'), 'w') as otp:\n",
    "        for r in  model.report:\n",
    "            otp.write(r+'\\n')"
   ]
  },
  {
   "cell_type": "code",
   "execution_count": null,
   "metadata": {
    "pycharm": {
     "is_executing": false
    }
   },
   "outputs": [],
   "source": [
    "# We save a trip length frequency distribution image\n",
    "plot_tlfd(demand.matrix_view, imped.matrix_view,join(fldr, dstr_fldr, 'demand_tfld.png') )"
   ]
  },
  {
   "cell_type": "markdown",
   "metadata": {},
   "source": [
    "# Forecast\n",
    "\n",
    "* We create a set of *'future'* vectors using some random growth factors\n",
    "* We apply the model for inverse power, as the TFLD seems to be a better fit for the actual one"
   ]
  },
  {
   "cell_type": "code",
   "execution_count": null,
   "metadata": {
    "pycharm": {
     "is_executing": false
    }
   },
   "outputs": [],
   "source": [
    "from aequilibrae.distribution import Ipf, GravityApplication, SyntheticGravityModel, Ipf\n",
    "from aequilibrae.matrix import AequilibraeData, AequilibraeMatrix\n",
    "import numpy as np"
   ]
  },
  {
   "cell_type": "code",
   "execution_count": null,
   "metadata": {
    "pycharm": {
     "is_executing": false
    }
   },
   "outputs": [],
   "source": [
    "# We compute the vectors from our matrix\n",
    "mat = AequilibraeMatrix()\n",
    "\n",
    "mat.load(join(fldr, dt_fldr, 'demand.omx'))\n",
    "mat.computational_view()\n",
    "origins = np.sum(mat.matrix_view, axis=1)\n",
    "destinations = np.sum(mat.matrix_view, axis=0)\n",
    "\n",
    "args = {'file_path':join(fldr,  frcst_fldr, 'synthetic_future_vector.aed'),\n",
    "        \"entries\": mat.zones, \n",
    "        \"field_names\": [\"origins\", \"destinations\"],\n",
    "    \"data_types\": [np.float64, np.float64], \n",
    "        \"memory_mode\": False}\n",
    "\n",
    "vectors = AequilibraeData()\n",
    "vectors.create_empty(**args)\n",
    "\n",
    "vectors.index[:] =mat.index[:]\n",
    "\n",
    "# Then grow them with some random growth between 0 and 10% - Plus balance them\n",
    "vectors.origins[:] = origins * (1+ np.random.rand(vectors.entries)/10)\n",
    "vectors.destinations[:] = destinations * (1+ np.random.rand(vectors.entries)/10)\n",
    "vectors.destinations *= vectors.origins.sum()/vectors.destinations.sum()"
   ]
  },
  {
   "cell_type": "code",
   "execution_count": null,
   "metadata": {
    "pycharm": {
     "is_executing": false
    }
   },
   "outputs": [],
   "source": [
    "# Impedance \n",
    "imped = AequilibraeMatrix()\n",
    "imped.load(join(fldr,assg_fldr, 'skims.aem'))\n",
    "imped.computational_view(['time_final'])\n",
    "\n",
    "# We want the main diagonal to be zero\n",
    "np.fill_diagonal(imped.matrix_view, np.nan)"
   ]
  },
  {
   "cell_type": "code",
   "execution_count": null,
   "metadata": {
    "pycharm": {
     "is_executing": false
    }
   },
   "outputs": [],
   "source": [
    "for function in ['power', 'expo']:\n",
    "    model = SyntheticGravityModel()\n",
    "    model.load(join(fldr, dstr_fldr, f'{function}_model.mod'))\n",
    "\n",
    "    outmatrix = join(fldr,frcst_fldr, f'demand_{function}_model.aem') \n",
    "    apply = GravityApplication()\n",
    "    args = {\"impedance\": imped,\n",
    "            \"rows\": vectors,\n",
    "            \"row_field\": \"origins\",\n",
    "            \"model\": model,\n",
    "            \"columns\": vectors,\n",
    "            \"column_field\": \"destinations\",\n",
    "            \"output\": outmatrix,\n",
    "            \"nan_as_zero\":True\n",
    "            }\n",
    "\n",
    "    gravity = GravityApplication(**args)\n",
    "    gravity.apply()\n",
    "\n",
    "    #We get the output matrix and save it to OMX too\n",
    "    resm = AequilibraeMatrix()\n",
    "    resm.load(outmatrix)\n",
    "    resm.export(join(fldr,frcst_fldr, f'demand_{function}_model.omx'))"
   ]
  },
  {
   "cell_type": "markdown",
   "metadata": {},
   "source": [
    "### We now run IPF for the future vectors"
   ]
  },
  {
   "cell_type": "code",
   "execution_count": null,
   "metadata": {
    "pycharm": {
     "is_executing": false
    }
   },
   "outputs": [],
   "source": [
    "demand = AequilibraeMatrix()\n",
    "demand.load(join(fldr, dt_fldr, 'demand.omx'))\n",
    "demand.computational_view()\n",
    "\n",
    "args = {'matrix': demand,\n",
    "        'rows': vectors,\n",
    "        'columns': vectors,\n",
    "        'column_field': \"destinations\",\n",
    "        'row_field': \"origins\",\n",
    "        'nan_as_zero': True}\n",
    "\n",
    "ipf = Ipf(**args)\n",
    "ipf.fit()\n",
    "\n",
    "output = AequilibraeMatrix()\n",
    "output.load(ipf.output.file_path)\n",
    "\n",
    "output.export(join(fldr,frcst_fldr, 'demand_ipf.aem'))\n",
    "output.export(join(fldr,frcst_fldr, 'demand_ipf.omx'))\n"
   ]
  },
  {
   "cell_type": "markdown",
   "metadata": {},
   "source": [
    "# Future traffic assignment"
   ]
  },
  {
   "cell_type": "code",
   "execution_count": null,
   "metadata": {
    "pycharm": {
     "is_executing": false
    }
   },
   "outputs": [],
   "source": [
    "from aequilibrae.matrix import AequilibraeMatrix\n",
    "from aequilibrae.paths import TrafficAssignment, TrafficClass\n",
    "from aequilibrae import logger\n",
    "import logging"
   ]
  },
  {
   "cell_type": "code",
   "execution_count": null,
   "metadata": {
    "pycharm": {
     "is_executing": false
    }
   },
   "outputs": [],
   "source": [
    "logger.info('\\n\\n\\n TRAFFIC ASSIGNMENT FOR FUTURE YEAR')"
   ]
  },
  {
   "cell_type": "code",
   "execution_count": null,
   "metadata": {
    "pycharm": {
     "is_executing": false
    }
   },
   "outputs": [],
   "source": [
    "# from before\n",
    "graph = project.network.graphs['c'] # we grab the graph for cars\n",
    "graph.set_graph('free_flow_time') # let's say we want to minimize time\n",
    "graph.set_skimming(['free_flow_time', 'distance']) # And will skim time and distance\n",
    "graph.set_blocked_centroid_flows(False)"
   ]
  },
  {
   "cell_type": "code",
   "execution_count": null,
   "metadata": {
    "pycharm": {
     "is_executing": false
    },
    "scrolled": true
   },
   "outputs": [],
   "source": [
    "# Let's use the IPF matrix\n",
    "demand = AequilibraeMatrix()\n",
    "demand.load(join(fldr, frcst_fldr, 'demand_ipf.omx'))\n",
    "demand.computational_view() # There is only one matrix there, so don;t even worry about its core name\n",
    "\n",
    "assig = TrafficAssignment()\n",
    "\n",
    "# Creates the assignment class\n",
    "assigclass = TrafficClass(graph, demand)\n",
    "\n",
    "# The first thing to do is to add at list of traffic classes to be assigned\n",
    "assig.add_class(assigclass)\n",
    "\n",
    "assig.set_vdf(\"BPR\")  # This is not case-sensitive # Then we set the volume delay function\n",
    "\n",
    "assig.set_vdf_parameters({\"alpha\": \"b\", \"beta\": \"power\"}) # And its parameters\n",
    "\n",
    "assig.set_capacity_field(\"capacity\") # The capacity and free flow travel times as they exist in the graph\n",
    "assig.set_time_field(\"free_flow_time\")\n",
    "\n",
    "# And the algorithm we want to use to assign\n",
    "assig.set_algorithm('bfw')\n",
    "\n",
    "# since I haven't checked the parameters file, let's make sure convergence criteria is good\n",
    "assig.max_iter = 1000\n",
    "assig.rgap_target = 0.001\n",
    "\n",
    "assig.execute() # we then execute the assignment"
   ]
  },
  {
   "cell_type": "code",
   "execution_count": null,
   "metadata": {
    "pycharm": {
     "is_executing": false
    }
   },
   "outputs": [],
   "source": [
    "\n",
    "# The link flows are easy to export.\n",
    "# we do so for csv and AequilibraEData\n",
    "assig.save_results('tutorial_ime_futuro')\n",
    "\n",
    "# the skims are easy to get.\n",
    "\n",
    "# The blended one are here\n",
    "avg_skims = assigclass.results.skims\n",
    "\n",
    "# The ones for the last iteration are here\n",
    "last_skims = assigclass._aon_results.skims\n",
    "\n",
    "# Assembling a single final skim file can be done like this\n",
    "# We will want only the time for the last iteration and the distance averaged out for all iterations\n",
    "kwargs = {'file_name': join(fldr,ftr_fldr, 'future_skims.aem'),\n",
    "          'zones': graph.num_zones,\n",
    "          'matrix_names': ['time_final', 'distance_blended']}\n",
    "\n",
    "# Create the matrix file\n",
    "out_skims = AequilibraeMatrix()\n",
    "out_skims.create_empty(**kwargs)\n",
    "out_skims.index[:] = avg_skims.index[:]\n",
    "\n",
    "# Transfer the data\n",
    " # The names of the skims are the name of the fields\n",
    "out_skims.matrix['time_final'][:,:] = last_skims.matrix['free_flow_time'][:,:]\n",
    "# It is CRITICAL to assign the matrix values using the [:,:]\n",
    "out_skims.matrix['distance_blended'][:,:] = avg_skims.matrix['distance'][:,:]\n",
    "\n",
    "out_skims.matrices.flush() # Make sure that all data went to the disk\n",
    "\n",
    "# Export to OMX as well\n",
    "out_skims.export(join(fldr,ftr_fldr, 'future_skims.omx'))\n"
   ]
  },
  {
   "cell_type": "markdown",
   "metadata": {},
   "source": [
    "## Close the project"
   ]
  },
  {
   "cell_type": "code",
   "execution_count": null,
   "metadata": {},
   "outputs": [],
   "source": [
    "project.close()"
   ]
  },
  {
   "cell_type": "code",
   "execution_count": null,
   "metadata": {},
   "outputs": [],
   "source": [
    "a = ''\n",
    "if a:\n",
    "    print(1)"
   ]
  },
  {
   "cell_type": "code",
   "execution_count": null,
   "metadata": {},
   "outputs": [],
   "source": [
    "volumes.reset_index(drop=True)"
   ]
  },
  {
   "cell_type": "code",
   "execution_count": null,
   "metadata": {},
   "outputs": [],
   "source": [
    "volumes[~(volumes.Congested_Time_AB>5) & ~(volumes.Congested_Time_Max<8)]"
   ]
  }
 ],
 "metadata": {
  "kernelspec": {
   "display_name": "Python 3",
   "language": "python",
   "name": "python3"
  },
  "language_info": {
   "codemirror_mode": {
    "name": "ipython",
    "version": 3
   },
   "file_extension": ".py",
   "mimetype": "text/x-python",
   "name": "python",
   "nbconvert_exporter": "python",
   "pygments_lexer": "ipython3",
   "version": "3.7.4"
  },
  "pycharm": {
   "stem_cell": {
    "cell_type": "raw",
    "metadata": {
     "collapsed": false
    },
    "source": []
   }
  }
 },
 "nbformat": 4,
 "nbformat_minor": 4
}
