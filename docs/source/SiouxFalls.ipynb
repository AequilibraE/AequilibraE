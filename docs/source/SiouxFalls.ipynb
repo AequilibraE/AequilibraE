{
 "cells": [
  {
   "cell_type": "markdown",
   "metadata": {},
   "source": [
    "# Sioux Falls example"
   ]
  },
  {
   "cell_type": "code",
   "execution_count": 1,
   "metadata": {},
   "outputs": [],
   "source": [
    "import sys\n",
    "sys.path.append('../..')"
   ]
  },
  {
   "cell_type": "markdown",
   "metadata": {},
   "source": [
    "## File paths"
   ]
  },
  {
   "cell_type": "code",
   "execution_count": 2,
   "metadata": {
    "pycharm": {
     "is_executing": false
    }
   },
   "outputs": [],
   "source": [
    "fldr = 'D:/release/Sample models/sioux_falls_2020_02_15'\n",
    "\n",
    "# remove the comments for the lines below to run the Chicago model example instead\n",
    "# fldr = 'D:/release/Sample models/Chicago_2020_02_15'\n",
    "# proj_name = 'chicagomodel.sqlite'\n",
    "\n",
    "dt_fldr = '0_tntp_data'\n",
    "prj_fldr = '1_project'\n",
    "new_proj_folder = '1_project_temp'\n",
    "\n",
    "# skm_fldr = '2_skim_results'\n",
    "# assg_fldr = '4_assignment_results'\n",
    "# dstr_fldr = '5_distribution_results'\n",
    "# frcst_fldr = '6_forecast'\n",
    "# ftr_fldr = '7_future_year_assignment'"
   ]
  },
  {
   "cell_type": "markdown",
   "metadata": {},
   "source": [
    "## We copy the project to a different folder so we don't overwrite things like the matrix table"
   ]
  },
  {
   "cell_type": "code",
   "execution_count": 3,
   "metadata": {},
   "outputs": [
    {
     "data": {
      "text/plain": [
       "'D:/release/Sample models/sioux_falls_2020_02_15\\\\1_project_temp'"
      ]
     },
     "execution_count": 3,
     "metadata": {},
     "output_type": "execute_result"
    }
   ],
   "source": [
    "from shutil import copytree, rmtree\n",
    "from os.path import isfile, isdir, join\n",
    "\n",
    "if isdir(join(fldr, new_proj_folder)):\n",
    "    rmtree(join(fldr, new_proj_folder))\n",
    "\n",
    "copytree(join(fldr, prj_fldr), join(fldr, new_proj_folder))"
   ]
  },
  {
   "cell_type": "markdown",
   "metadata": {},
   "source": [
    "## Opening the project"
   ]
  },
  {
   "cell_type": "code",
   "execution_count": 4,
   "metadata": {
    "pycharm": {
     "is_executing": false
    }
   },
   "outputs": [],
   "source": [
    "# Imports\n",
    "from aequilibrae.project import Project\n",
    "from os.path import join\n",
    "from aequilibrae import logger\n",
    "import logging"
   ]
  },
  {
   "cell_type": "code",
   "execution_count": 5,
   "metadata": {
    "pycharm": {
     "is_executing": false
    }
   },
   "outputs": [],
   "source": [
    "project = Project()\n",
    "project.load(join(fldr, new_proj_folder))"
   ]
  },
  {
   "cell_type": "markdown",
   "metadata": {},
   "source": [
    "#### We will make sure log comes to the terminal as well"
   ]
  },
  {
   "cell_type": "code",
   "execution_count": 6,
   "metadata": {
    "pycharm": {
     "is_executing": false
    }
   },
   "outputs": [],
   "source": [
    "import sys\n",
    "# Because assignment takes a long time, we want the log to be shown here\n",
    "stdout_handler = logging.StreamHandler(sys.stdout)\n",
    "formatter = logging.Formatter(\"%(asctime)s;%(name)s;%(levelname)s ; %(message)s\")\n",
    "stdout_handler.setFormatter(formatter)\n",
    "logger.addHandler(stdout_handler)"
   ]
  },
  {
   "cell_type": "markdown",
   "metadata": {},
   "source": [
    "## Path computation"
   ]
  },
  {
   "cell_type": "code",
   "execution_count": 7,
   "metadata": {
    "pycharm": {
     "is_executing": false
    }
   },
   "outputs": [],
   "source": [
    "# imports\n",
    "from aequilibrae.paths import PathResults, path_computation"
   ]
  },
  {
   "cell_type": "code",
   "execution_count": 8,
   "metadata": {
    "pycharm": {
     "is_executing": false
    }
   },
   "outputs": [
    {
     "name": "stdout",
     "output_type": "stream",
     "text": [
      "2020-12-03 20:19:19,973;aequilibrae;WARNING ; Fields were removed from Graph for being non-numeric: modes,link_type\n",
      "2020-12-03 20:19:19,979;aequilibrae;WARNING ; Field(s) name,lanes has(ve) at least one NaN value. Check your computations\n",
      "2020-12-03 20:19:19,983;aequilibrae;WARNING ; Field(s) name,lanes has(ve) at least one NaN value. Check your computations\n",
      "2020-12-03 20:19:19,986;aequilibrae;WARNING ; Field(s) name,lanes has(ve) at least one NaN value. Check your computations\n",
      "2020-12-03 20:19:19,990;aequilibrae;WARNING ; Field(s) name,lanes has(ve) at least one NaN value. Check your computations\n"
     ]
    }
   ],
   "source": [
    "# we build all graphs\n",
    "project.network.build_graphs()\n",
    "# We get warnings that several fields in the project are filled with NaNs.  Which is true, but we won't use those fields"
   ]
  },
  {
   "cell_type": "code",
   "execution_count": 9,
   "metadata": {
    "pycharm": {
     "is_executing": false
    }
   },
   "outputs": [],
   "source": [
    "# we grab the graph for cars\n",
    "graph = project.network.graphs['c']\n",
    "\n",
    "# let's say we want to minimize distance\n",
    "graph.set_graph('distance')\n",
    "\n",
    "# And will skim time and distance while we are at it\n",
    "graph.set_skimming(['free_flow_time', 'distance'])\n",
    "\n",
    "# And we will allow paths to be compute going through other centroids/centroid connectors\n",
    "# required for the Sioux Falls network, as all nodes are centroids\n",
    "graph.set_blocked_centroid_flows(False)\n",
    "\n",
    "# instantiate a path results object and prepare it to work with the graph\n",
    "res = PathResults()\n",
    "res.prepare(graph)\n",
    "\n",
    "# compute a path from node 2 to 13\n",
    "path_computation(2, 13, graph, res)"
   ]
  },
  {
   "cell_type": "code",
   "execution_count": 10,
   "metadata": {
    "pycharm": {
     "is_executing": false
    }
   },
   "outputs": [
    {
     "data": {
      "text/plain": [
       "array([ 2,  1,  3, 12, 13], dtype=int64)"
      ]
     },
     "execution_count": 10,
     "metadata": {},
     "output_type": "execute_result"
    }
   ],
   "source": [
    "# We can get the sequence of nodes we traverse\n",
    "res.path_nodes"
   ]
  },
  {
   "cell_type": "code",
   "execution_count": 11,
   "metadata": {
    "pycharm": {
     "is_executing": false
    }
   },
   "outputs": [
    {
     "data": {
      "text/plain": [
       "array([ 3,  2,  7, 37], dtype=int64)"
      ]
     },
     "execution_count": 11,
     "metadata": {},
     "output_type": "execute_result"
    }
   ],
   "source": [
    "# We can get the link sequence we traverse\n",
    "res.path"
   ]
  },
  {
   "cell_type": "code",
   "execution_count": 12,
   "metadata": {
    "pycharm": {
     "is_executing": false
    }
   },
   "outputs": [
    {
     "data": {
      "text/plain": [
       "array([ 0.,  6., 10., 14., 17.])"
      ]
     },
     "execution_count": 12,
     "metadata": {},
     "output_type": "execute_result"
    }
   ],
   "source": [
    "# We can get the mileposts for our sequence of nodes\n",
    "res.milepost"
   ]
  },
  {
   "cell_type": "code",
   "execution_count": 13,
   "metadata": {
    "pycharm": {
     "is_executing": false
    }
   },
   "outputs": [],
   "source": [
    "# If we want to compute the path for a different destination and same origin, we can just do this\n",
    "# It is way faster when you have large networks\n",
    "res.update_trace(4)"
   ]
  },
  {
   "cell_type": "code",
   "execution_count": 14,
   "metadata": {
    "pycharm": {
     "is_executing": false
    }
   },
   "outputs": [
    {
     "data": {
      "text/plain": [
       "array([2, 6, 5, 4], dtype=int64)"
      ]
     },
     "execution_count": 14,
     "metadata": {},
     "output_type": "execute_result"
    }
   ],
   "source": [
    "res.path_nodes"
   ]
  },
  {
   "cell_type": "markdown",
   "metadata": {},
   "source": [
    "## Skimming"
   ]
  },
  {
   "cell_type": "code",
   "execution_count": 15,
   "metadata": {
    "pycharm": {
     "is_executing": false
    }
   },
   "outputs": [],
   "source": [
    "from aequilibrae.matrix import AequilibraeData, AequilibraeMatrix\n",
    "from aequilibrae.paths import NetworkSkimming, SkimResults"
   ]
  },
  {
   "cell_type": "code",
   "execution_count": 16,
   "metadata": {
    "pycharm": {
     "is_executing": false
    }
   },
   "outputs": [],
   "source": [
    "# from before\n",
    "graph = project.network.graphs['c'] # we grab the graph for cars\n",
    "graph.set_graph('free_flow_time') # let's say we want to minimize time\n",
    "graph.set_skimming(['free_flow_time', 'distance']) # And will skim time and distance\n",
    "graph = project.network.graphs['c'] # we grab the graph for cars\n",
    "graph.set_blocked_centroid_flows(False)"
   ]
  },
  {
   "cell_type": "code",
   "execution_count": 17,
   "metadata": {
    "pycharm": {
     "is_executing": false
    }
   },
   "outputs": [],
   "source": [
    "# And run the skimming\n",
    "skm = NetworkSkimming(graph)\n",
    "skm.execute()"
   ]
  },
  {
   "cell_type": "code",
   "execution_count": 18,
   "metadata": {
    "pycharm": {
     "is_executing": false
    },
    "scrolled": true
   },
   "outputs": [
    {
     "data": {
      "text/plain": [
       "memmap([[[ 0.,  0.],\n",
       "         [ 6.,  6.],\n",
       "         [ 4.,  4.],\n",
       "         ...,\n",
       "         [20., 20.],\n",
       "         [17., 17.],\n",
       "         [15., 15.]],\n",
       "\n",
       "        [[ 6.,  6.],\n",
       "         [ 0.,  0.],\n",
       "         [10., 10.],\n",
       "         ...,\n",
       "         [21., 21.],\n",
       "         [23., 23.],\n",
       "         [21., 21.]],\n",
       "\n",
       "        [[ 4.,  4.],\n",
       "         [10., 10.],\n",
       "         [ 0.,  0.],\n",
       "         ...,\n",
       "         [16., 16.],\n",
       "         [13., 13.],\n",
       "         [11., 11.]],\n",
       "\n",
       "        ...,\n",
       "\n",
       "        [[20., 20.],\n",
       "         [21., 21.],\n",
       "         [16., 16.],\n",
       "         ...,\n",
       "         [ 0.,  0.],\n",
       "         [ 4.,  4.],\n",
       "         [ 5.,  5.]],\n",
       "\n",
       "        [[17., 17.],\n",
       "         [23., 23.],\n",
       "         [13., 13.],\n",
       "         ...,\n",
       "         [ 4.,  4.],\n",
       "         [ 0.,  0.],\n",
       "         [ 2.,  2.]],\n",
       "\n",
       "        [[15., 15.],\n",
       "         [21., 21.],\n",
       "         [11., 11.],\n",
       "         ...,\n",
       "         [ 5.,  5.],\n",
       "         [ 2.,  2.],\n",
       "         [ 0.,  0.]]])"
      ]
     },
     "execution_count": 18,
     "metadata": {},
     "output_type": "execute_result"
    }
   ],
   "source": [
    "# The result is an AequilibraEMatrix object\n",
    "skims = skm.results.skims\n",
    "\n",
    "# Which we can manipute directly from its temp file, if we wish\n",
    "skims.matrices"
   ]
  },
  {
   "cell_type": "code",
   "execution_count": 19,
   "metadata": {
    "scrolled": true
   },
   "outputs": [
    {
     "data": {
      "text/plain": [
       "memmap([[ 0.,  6.,  4.,  8., 10., 11., 16., 13., 15., 18., 14.,  8., 11.,\n",
       "         18., 23., 18., 20., 18., 22., 22., 18., 20., 17., 15.],\n",
       "        [ 6.,  0., 10., 11.,  9.,  5., 10.,  7., 14., 16., 17., 14., 17.,\n",
       "         21., 19., 12., 14., 12., 16., 16., 22., 21., 23., 21.],\n",
       "        [ 4., 10.,  0.,  4.,  6., 10., 15., 12., 11., 14., 10.,  4.,  7.,\n",
       "         14., 19., 17., 19., 17., 21., 20., 14., 16., 13., 11.],\n",
       "        [ 8., 11.,  4.,  0.,  2.,  6., 11.,  8.,  7., 10.,  6.,  8., 11.,\n",
       "         10., 15., 13., 15., 13., 17., 17., 18., 18., 14., 15.],\n",
       "        [10.,  9.,  6.,  2.,  0.,  4.,  9.,  6.,  5.,  8.,  8., 10., 13.,\n",
       "         12., 14., 11., 13., 11., 15., 15., 19., 17., 16., 17.],\n",
       "        [11.,  5., 10.,  6.,  4.,  0.,  5.,  2.,  9., 11., 12., 14., 17.,\n",
       "         16., 14.,  7.,  9.,  7., 11., 11., 17., 16., 20., 20.],\n",
       "        [16., 10., 15., 11.,  9.,  5.,  0.,  3., 12.,  9., 14., 19., 19.,\n",
       "         17., 12.,  5.,  7.,  2.,  9.,  6., 12., 11., 15., 15.],\n",
       "        [13.,  7., 12.,  8.,  6.,  2.,  3.,  0., 10.,  9., 14., 16., 19.,\n",
       "         17., 12.,  5.,  7.,  5.,  9.,  9., 15., 14., 18., 18.],\n",
       "        [15., 14., 11.,  7.,  5.,  9., 12., 10.,  0.,  3.,  8., 14., 17.,\n",
       "         12.,  9.,  7.,  9., 10., 11., 14., 14., 12., 16., 17.],\n",
       "        [18., 16., 14., 10.,  8., 11.,  9.,  9.,  3.,  0.,  5., 11., 14.,\n",
       "          9.,  6.,  4.,  6.,  7.,  8., 11., 11.,  9., 13., 14.],\n",
       "        [14., 17., 10.,  6.,  8., 12., 14., 14.,  8.,  5.,  0.,  6.,  9.,\n",
       "          4.,  9.,  9., 11., 12., 12., 16., 13., 12.,  8., 10.],\n",
       "        [ 8., 14.,  4.,  8., 10., 14., 19., 16., 14., 11.,  6.,  0.,  3.,\n",
       "         10., 15., 15., 17., 18., 18., 16., 10., 12.,  9.,  7.],\n",
       "        [11., 17.,  7., 11., 13., 17., 19., 19., 17., 14.,  9.,  3.,  0.,\n",
       "         10., 12., 18., 17., 17., 15., 13.,  7.,  9.,  6.,  4.],\n",
       "        [18., 21., 14., 10., 12., 16., 17., 17., 12.,  9.,  4., 10., 10.,\n",
       "          0.,  5., 12., 10., 15.,  8., 12.,  9.,  8.,  4.,  6.],\n",
       "        [23., 19., 19., 15., 14., 14., 12., 12.,  9.,  6.,  9., 15., 12.,\n",
       "          5.,  0.,  7.,  5., 10.,  3.,  7.,  5.,  3.,  7.,  8.],\n",
       "        [18., 12., 17., 13., 11.,  7.,  5.,  5.,  7.,  4.,  9., 15., 18.,\n",
       "         12.,  7.,  0.,  2.,  3.,  4.,  7., 12., 10., 14., 15.],\n",
       "        [20., 14., 19., 15., 13.,  9.,  7.,  7.,  9.,  6., 11., 17., 17.,\n",
       "         10.,  5.,  2.,  0.,  5.,  2.,  6., 10.,  8., 12., 13.],\n",
       "        [18., 12., 17., 13., 11.,  7.,  2.,  5., 10.,  7., 12., 18., 17.,\n",
       "         15., 10.,  3.,  5.,  0.,  7.,  4., 10.,  9., 13., 13.],\n",
       "        [22., 16., 21., 17., 15., 11.,  9.,  9., 11.,  8., 12., 18., 15.,\n",
       "          8.,  3.,  4.,  2.,  7.,  0.,  4.,  8.,  6., 10., 11.],\n",
       "        [22., 16., 20., 17., 15., 11.,  6.,  9., 14., 11., 16., 16., 13.,\n",
       "         12.,  7.,  7.,  6.,  4.,  4.,  0.,  6.,  5.,  9.,  9.],\n",
       "        [18., 22., 14., 18., 19., 17., 12., 15., 14., 11., 13., 10.,  7.,\n",
       "          9.,  5., 12., 10., 10.,  8.,  6.,  0.,  2.,  5.,  3.],\n",
       "        [20., 21., 16., 18., 17., 16., 11., 14., 12.,  9., 12., 12.,  9.,\n",
       "          8.,  3., 10.,  8.,  9.,  6.,  5.,  2.,  0.,  4.,  5.],\n",
       "        [17., 23., 13., 14., 16., 20., 15., 18., 16., 13.,  8.,  9.,  6.,\n",
       "          4.,  7., 14., 12., 13., 10.,  9.,  5.,  4.,  0.,  2.],\n",
       "        [15., 21., 11., 15., 17., 20., 15., 18., 17., 14., 10.,  7.,  4.,\n",
       "          6.,  8., 15., 13., 13., 11.,  9.,  3.,  5.,  2.,  0.]])"
      ]
     },
     "execution_count": 19,
     "metadata": {},
     "output_type": "execute_result"
    }
   ],
   "source": [
    "# Ore access each matrix\n",
    "skims.free_flow_time"
   ]
  },
  {
   "cell_type": "code",
   "execution_count": 20,
   "metadata": {},
   "outputs": [
    {
     "name": "stdout",
     "output_type": "stream",
     "text": [
      "2020-12-03 20:19:20,543;aequilibrae;WARNING ; Matrix Record has been saved to the database\n"
     ]
    }
   ],
   "source": [
    "# We can save it to the project if we want\n",
    "skm.save_to_project('base_skims')\n",
    "\n",
    "# We can also retrieve this skim record to write something to its description\n",
    "matrices = project.matrices\n",
    "mat_record = matrices.get_record('base_skims')\n",
    "mat_record.description = 'minimized FF travel time while also skimming distance'\n",
    "mat_record.save()"
   ]
  },
  {
   "cell_type": "markdown",
   "metadata": {},
   "source": [
    "# Traffic assignment with skimming"
   ]
  },
  {
   "cell_type": "code",
   "execution_count": 21,
   "metadata": {
    "pycharm": {
     "is_executing": false
    }
   },
   "outputs": [],
   "source": [
    "from aequilibrae.matrix import AequilibraeMatrix\n",
    "from aequilibrae.paths import TrafficAssignment, TrafficClass"
   ]
  },
  {
   "cell_type": "code",
   "execution_count": 22,
   "metadata": {
    "pycharm": {
     "is_executing": false
    }
   },
   "outputs": [],
   "source": [
    "# We use the exact same graph we had above"
   ]
  },
  {
   "cell_type": "code",
   "execution_count": 23,
   "metadata": {
    "pycharm": {
     "is_executing": false
    },
    "scrolled": true
   },
   "outputs": [
    {
     "data": {
      "text/html": [
       "<div>\n",
       "<style scoped>\n",
       "    .dataframe tbody tr th:only-of-type {\n",
       "        vertical-align: middle;\n",
       "    }\n",
       "\n",
       "    .dataframe tbody tr th {\n",
       "        vertical-align: top;\n",
       "    }\n",
       "\n",
       "    .dataframe thead th {\n",
       "        text-align: right;\n",
       "    }\n",
       "</style>\n",
       "<table border=\"1\" class=\"dataframe\">\n",
       "  <thead>\n",
       "    <tr style=\"text-align: right;\">\n",
       "      <th></th>\n",
       "      <th>name</th>\n",
       "      <th>file_name</th>\n",
       "      <th>cores</th>\n",
       "      <th>procedure</th>\n",
       "      <th>procedure_id</th>\n",
       "      <th>timestamp</th>\n",
       "      <th>description</th>\n",
       "      <th>status</th>\n",
       "    </tr>\n",
       "  </thead>\n",
       "  <tbody>\n",
       "    <tr>\n",
       "      <th>0</th>\n",
       "      <td>demand_aem</td>\n",
       "      <td>demand.aem</td>\n",
       "      <td>1</td>\n",
       "      <td>None</td>\n",
       "      <td>None</td>\n",
       "      <td>2020-11-24 08:46:42</td>\n",
       "      <td>Original data imported to AEM format\\n</td>\n",
       "      <td></td>\n",
       "    </tr>\n",
       "    <tr>\n",
       "      <th>1</th>\n",
       "      <td>demand_omx</td>\n",
       "      <td>demand.omx</td>\n",
       "      <td>1</td>\n",
       "      <td>None</td>\n",
       "      <td>None</td>\n",
       "      <td>2020-11-24 08:47:18</td>\n",
       "      <td>Original data imported to OMX format</td>\n",
       "      <td></td>\n",
       "    </tr>\n",
       "    <tr>\n",
       "      <th>2</th>\n",
       "      <td>base_skims</td>\n",
       "      <td>base_skims.omx</td>\n",
       "      <td>2</td>\n",
       "      <td>Network skimming</td>\n",
       "      <td>5ed488a806404261baceb4ed86ff1637</td>\n",
       "      <td>2020-12-03 20:19:20.260987</td>\n",
       "      <td>minimized FF travel time while also skimming d...</td>\n",
       "      <td></td>\n",
       "    </tr>\n",
       "  </tbody>\n",
       "</table>\n",
       "</div>"
      ],
      "text/plain": [
       "         name       file_name  cores         procedure  \\\n",
       "0  demand_aem      demand.aem      1              None   \n",
       "1  demand_omx      demand.omx      1              None   \n",
       "2  base_skims  base_skims.omx      2  Network skimming   \n",
       "\n",
       "                       procedure_id                   timestamp  \\\n",
       "0                              None         2020-11-24 08:46:42   \n",
       "1                              None         2020-11-24 08:47:18   \n",
       "2  5ed488a806404261baceb4ed86ff1637  2020-12-03 20:19:20.260987   \n",
       "\n",
       "                                         description status  \n",
       "0             Original data imported to AEM format\\n         \n",
       "1               Original data imported to OMX format         \n",
       "2  minimized FF travel time while also skimming d...         "
      ]
     },
     "execution_count": 23,
     "metadata": {},
     "output_type": "execute_result"
    }
   ],
   "source": [
    "# We can get a matrix like this\n",
    "demand_the_old_way = AequilibraeMatrix()\n",
    "demand_the_old_way.load(join(fldr, new_proj_folder, 'matrices', 'demand.omx'))\n",
    "demand_the_old_way.computational_view(['matrix']) # We will only assign one user class stored as 'matrix' inside the OMX file\n",
    "\n",
    "# or directly from the project record\n",
    "# so let's inspect what we have in the project\n",
    "proj_matrices = project.matrices\n",
    "proj_matrices.list()"
   ]
  },
  {
   "cell_type": "code",
   "execution_count": 24,
   "metadata": {},
   "outputs": [],
   "source": [
    "# Let's get it in this better way\n",
    "demand = proj_matrices.get_matrix('demand_omx')\n",
    "demand.computational_view(['matrix'])"
   ]
  },
  {
   "cell_type": "code",
   "execution_count": 25,
   "metadata": {
    "scrolled": true
   },
   "outputs": [
    {
     "name": "stdout",
     "output_type": "stream",
     "text": [
      "2020-12-03 20:19:21,422;aequilibrae;INFO ; bfw Assignment STATS\n",
      "2020-12-03 20:19:21,424;aequilibrae;INFO ; Iteration, RelativeGap, stepsize\n",
      "2020-12-03 20:19:21,544;aequilibrae;INFO ; 1,inf,1.0\n",
      "2020-12-03 20:19:21,672;aequilibrae;INFO ; 2,0.8485503509703024,0.36497345609427145\n",
      "2020-12-03 20:19:21,796;aequilibrae;INFO ; 3,0.3813926225800203,0.2298356924660528\n",
      "2020-12-03 20:19:21,920;aequilibrae;INFO ; 4,0.19621277462606984,0.18591312145268074\n",
      "2020-12-03 20:19:22,044;aequilibrae;INFO ; 5,0.09069073200924213,0.7090816523174254\n",
      "2020-12-03 20:19:22,169;aequilibrae;INFO ; 6,0.20600048221061426,0.1229016022154401\n",
      "2020-12-03 20:19:22,293;aequilibrae;INFO ; 7,0.06710568925282254,0.38638656717489844\n",
      "2020-12-03 20:19:22,420;aequilibrae;INFO ; 8,0.10307514154369488,0.1093055036410267\n",
      "2020-12-03 20:19:22,542;aequilibrae;INFO ; 9,0.04222147191362779,0.2487805192125393\n",
      "2020-12-03 20:19:22,665;aequilibrae;INFO ; 10,0.05926435464772421,0.15904810628271004\n",
      "2020-12-03 20:19:22,786;aequilibrae;INFO ; 11,0.03453951151333739,0.5180973804491722\n",
      "2020-12-03 20:19:22,916;aequilibrae;INFO ; 12,0.059426517206032654,0.10197123112986584\n",
      "2020-12-03 20:19:23,039;aequilibrae;INFO ; 13,0.023239895792359067,0.1780595483940025\n",
      "2020-12-03 20:19:23,168;aequilibrae;INFO ; 14,0.017873783562205998,0.9787872930853664\n",
      "2020-12-03 20:19:23,295;aequilibrae;INFO ; 15,0.049661371545771556,0.08320656307451389\n",
      "2020-12-03 20:19:23,420;aequilibrae;INFO ; 16,0.021382882276233087,0.11517403065013918\n",
      "2020-12-03 20:19:23,545;aequilibrae;INFO ; 17,0.013141542820482906,0.10640369388111594\n",
      "2020-12-03 20:19:23,675;aequilibrae;INFO ; 18,0.009902228209039313,0.10710395766777006\n",
      "2020-12-03 20:19:23,796;aequilibrae;INFO ; 19,0.008834657139075773,0.2524678977926848\n",
      "2020-12-03 20:19:23,921;aequilibrae;INFO ; 20,0.01037104162273405,0.672783938935575\n",
      "2020-12-03 20:19:24,057;aequilibrae;INFO ; 21,0.011090096306112919,0.07468060074370476\n",
      "2020-12-03 20:19:24,184;aequilibrae;INFO ; 22,0.006512685266481604,0.1248501762466173\n",
      "2020-12-03 20:19:24,310;aequilibrae;INFO ; 23,0.005238884615251675,0.06316016574610296\n",
      "2020-12-03 20:19:24,442;aequilibrae;INFO ; 24,0.003949529236289729,0.09717896243713699\n",
      "2020-12-03 20:19:24,561;aequilibrae;INFO ; 25,0.003282221301580675,0.15775901718805277\n",
      "2020-12-03 20:19:24,692;aequilibrae;INFO ; 26,0.00579283245286733,0.4524765669952469\n",
      "2020-12-03 20:19:24,814;aequilibrae;INFO ; 27,0.0066823585472093215,0.7851865570320201\n",
      "2020-12-03 20:19:24,940;aequilibrae;INFO ; 28,0.005992619218872507,0.03909810047560597\n",
      "2020-12-03 20:19:25,059;aequilibrae;INFO ; 29,0.004031364688023943,0.04253018777365569\n",
      "2020-12-03 20:19:25,184;aequilibrae;INFO ; 30,0.0027696521195961455,0.022512872266870154\n",
      "2020-12-03 20:19:25,309;aequilibrae;INFO ; 31,0.0024846461521886723,0.045801692933289694\n",
      "2020-12-03 20:19:25,433;aequilibrae;INFO ; 32,0.0016385526468737244,0.03429583308495096\n",
      "2020-12-03 20:19:25,558;aequilibrae;INFO ; 33,0.001495691114378677,0.03539200254744609\n",
      "2020-12-03 20:19:25,682;aequilibrae;INFO ; 34,0.0011355392148559484,0.05358983822739106\n",
      "2020-12-03 20:19:25,809;aequilibrae;INFO ; 35,0.0012151973759488516,0.04757130468757175\n",
      "2020-12-03 20:19:25,935;aequilibrae;INFO ; 36,0.001239365147986654,0.06536473861280115\n",
      "2020-12-03 20:19:26,060;aequilibrae;INFO ; 37,0.0010684962819843323,0.10703952287420007\n",
      "2020-12-03 20:19:26,186;aequilibrae;INFO ; 38,0.0010899690080066334,0.09864062409431697\n",
      "2020-12-03 20:19:26,310;aequilibrae;INFO ; 39,0.0009886948497176082,0.060276239115439986\n",
      "2020-12-03 20:19:26,436;aequilibrae;INFO ; 40,0.001263208691216004,0.22288089471463618\n",
      "2020-12-03 20:19:26,561;aequilibrae;INFO ; 41,0.0011655716534080074,0.19775964941930804\n",
      "2020-12-03 20:19:26,687;aequilibrae;INFO ; 42,0.0012299958308279288,0.3170348486818246\n",
      "2020-12-03 20:19:26,811;aequilibrae;INFO ; 43,0.0012902531663784,0.3422879827724445\n",
      "2020-12-03 20:19:26,936;aequilibrae;INFO ; 44,0.000997953108759,0.733206097427319\n",
      "2020-12-03 20:19:26,938;aequilibrae;INFO ; bfw Assignment finished. 44 iterations and 0.000997953108759 final gap\n"
     ]
    }
   ],
   "source": [
    "assig = TrafficAssignment()\n",
    "\n",
    "# Creates the assignment class\n",
    "assigclass = TrafficClass(graph, demand)\n",
    "\n",
    "# The first thing to do is to add at list of traffic classes to be assigned\n",
    "assig.add_class(assigclass)\n",
    "\n",
    "\n",
    "# We set these parameters only after adding one class to the assignment\n",
    "assig.set_vdf(\"BPR\")  # This is not case-sensitive # Then we set the volume delay function\n",
    "\n",
    "assig.set_vdf_parameters({\"alpha\": \"b\", \"beta\": \"power\"}) # And its parameters\n",
    "\n",
    "assig.set_capacity_field(\"capacity\") # The capacity and free flow travel times as they exist in the graph\n",
    "assig.set_time_field(\"free_flow_time\")\n",
    "\n",
    "# And the algorithm we want to use to assign\n",
    "assig.set_algorithm('bfw')\n",
    "\n",
    "# since I haven't checked the parameters file, let's make sure convergence criteria is good\n",
    "assig.max_iter = 1000\n",
    "assig.rgap_target = 0.001\n",
    "\n",
    "assig.execute() # we then execute the assignment"
   ]
  },
  {
   "cell_type": "markdown",
   "metadata": {},
   "source": [
    "### Outputs"
   ]
  },
  {
   "cell_type": "code",
   "execution_count": 26,
   "metadata": {
    "pycharm": {
     "is_executing": false,
     "name": "#%%\n"
    }
   },
   "outputs": [
    {
     "data": {
      "text/html": [
       "<div>\n",
       "<style scoped>\n",
       "    .dataframe tbody tr th:only-of-type {\n",
       "        vertical-align: middle;\n",
       "    }\n",
       "\n",
       "    .dataframe tbody tr th {\n",
       "        vertical-align: top;\n",
       "    }\n",
       "\n",
       "    .dataframe thead th {\n",
       "        text-align: right;\n",
       "    }\n",
       "</style>\n",
       "<table border=\"1\" class=\"dataframe\">\n",
       "  <thead>\n",
       "    <tr style=\"text-align: right;\">\n",
       "      <th></th>\n",
       "      <th>iteration</th>\n",
       "      <th>rgap</th>\n",
       "      <th>alpha</th>\n",
       "      <th>warnings</th>\n",
       "      <th>beta0</th>\n",
       "      <th>beta1</th>\n",
       "      <th>beta2</th>\n",
       "    </tr>\n",
       "  </thead>\n",
       "  <tbody>\n",
       "    <tr>\n",
       "      <th>0</th>\n",
       "      <td>1</td>\n",
       "      <td>inf</td>\n",
       "      <td>1.000000</td>\n",
       "      <td></td>\n",
       "      <td>1.000000</td>\n",
       "      <td>0.000000</td>\n",
       "      <td>0.000000</td>\n",
       "    </tr>\n",
       "    <tr>\n",
       "      <th>1</th>\n",
       "      <td>2</td>\n",
       "      <td>0.848550</td>\n",
       "      <td>0.364973</td>\n",
       "      <td></td>\n",
       "      <td>1.000000</td>\n",
       "      <td>0.000000</td>\n",
       "      <td>0.000000</td>\n",
       "    </tr>\n",
       "    <tr>\n",
       "      <th>2</th>\n",
       "      <td>3</td>\n",
       "      <td>0.381393</td>\n",
       "      <td>0.229836</td>\n",
       "      <td></td>\n",
       "      <td>1.000000</td>\n",
       "      <td>0.000000</td>\n",
       "      <td>0.000000</td>\n",
       "    </tr>\n",
       "    <tr>\n",
       "      <th>3</th>\n",
       "      <td>4</td>\n",
       "      <td>0.196213</td>\n",
       "      <td>0.185913</td>\n",
       "      <td></td>\n",
       "      <td>0.959771</td>\n",
       "      <td>0.040229</td>\n",
       "      <td>0.000000</td>\n",
       "    </tr>\n",
       "    <tr>\n",
       "      <th>4</th>\n",
       "      <td>5</td>\n",
       "      <td>0.090691</td>\n",
       "      <td>0.709082</td>\n",
       "      <td></td>\n",
       "      <td>0.687640</td>\n",
       "      <td>0.286705</td>\n",
       "      <td>0.025654</td>\n",
       "    </tr>\n",
       "  </tbody>\n",
       "</table>\n",
       "</div>"
      ],
      "text/plain": [
       "   iteration      rgap     alpha warnings     beta0     beta1     beta2\n",
       "0          1       inf  1.000000           1.000000  0.000000  0.000000\n",
       "1          2  0.848550  0.364973           1.000000  0.000000  0.000000\n",
       "2          3  0.381393  0.229836           1.000000  0.000000  0.000000\n",
       "3          4  0.196213  0.185913           0.959771  0.040229  0.000000\n",
       "4          5  0.090691  0.709082           0.687640  0.286705  0.025654"
      ]
     },
     "execution_count": 26,
     "metadata": {},
     "output_type": "execute_result"
    }
   ],
   "source": [
    "# Convergence report is easy to see\n",
    "import pandas as pd\n",
    "convergence_report = assig.report()\n",
    "convergence_report.head()"
   ]
  },
  {
   "cell_type": "code",
   "execution_count": 27,
   "metadata": {},
   "outputs": [
    {
     "data": {
      "text/html": [
       "<div>\n",
       "<style scoped>\n",
       "    .dataframe tbody tr th:only-of-type {\n",
       "        vertical-align: middle;\n",
       "    }\n",
       "\n",
       "    .dataframe tbody tr th {\n",
       "        vertical-align: top;\n",
       "    }\n",
       "\n",
       "    .dataframe thead th {\n",
       "        text-align: right;\n",
       "    }\n",
       "</style>\n",
       "<table border=\"1\" class=\"dataframe\">\n",
       "  <thead>\n",
       "    <tr style=\"text-align: right;\">\n",
       "      <th></th>\n",
       "      <th>matrix_ab</th>\n",
       "      <th>matrix_ba</th>\n",
       "      <th>matrix_tot</th>\n",
       "      <th>Congested_Time_AB</th>\n",
       "      <th>Congested_Time_BA</th>\n",
       "      <th>Congested_Time_Max</th>\n",
       "      <th>Delay_factor_AB</th>\n",
       "      <th>Delay_factor_BA</th>\n",
       "      <th>Delay_factor_Max</th>\n",
       "      <th>VOC_AB</th>\n",
       "      <th>VOC_BA</th>\n",
       "      <th>VOC_max</th>\n",
       "      <th>PCE_AB</th>\n",
       "      <th>PCE_BA</th>\n",
       "      <th>PCE_tot</th>\n",
       "    </tr>\n",
       "    <tr>\n",
       "      <th>link_id</th>\n",
       "      <th></th>\n",
       "      <th></th>\n",
       "      <th></th>\n",
       "      <th></th>\n",
       "      <th></th>\n",
       "      <th></th>\n",
       "      <th></th>\n",
       "      <th></th>\n",
       "      <th></th>\n",
       "      <th></th>\n",
       "      <th></th>\n",
       "      <th></th>\n",
       "      <th></th>\n",
       "      <th></th>\n",
       "      <th></th>\n",
       "    </tr>\n",
       "  </thead>\n",
       "  <tbody>\n",
       "    <tr>\n",
       "      <th>1</th>\n",
       "      <td>4570.421761</td>\n",
       "      <td>NaN</td>\n",
       "      <td>4570.421761</td>\n",
       "      <td>6.0</td>\n",
       "      <td>NaN</td>\n",
       "      <td>6.0</td>\n",
       "      <td>1.0</td>\n",
       "      <td>NaN</td>\n",
       "      <td>1.0</td>\n",
       "      <td>0.176463</td>\n",
       "      <td>NaN</td>\n",
       "      <td>0.176463</td>\n",
       "      <td>4570.421761</td>\n",
       "      <td>NaN</td>\n",
       "      <td>4570.421761</td>\n",
       "    </tr>\n",
       "    <tr>\n",
       "      <th>2</th>\n",
       "      <td>8275.382482</td>\n",
       "      <td>NaN</td>\n",
       "      <td>8275.382482</td>\n",
       "      <td>4.0</td>\n",
       "      <td>NaN</td>\n",
       "      <td>4.0</td>\n",
       "      <td>1.0</td>\n",
       "      <td>NaN</td>\n",
       "      <td>1.0</td>\n",
       "      <td>0.353596</td>\n",
       "      <td>NaN</td>\n",
       "      <td>0.353596</td>\n",
       "      <td>8275.382482</td>\n",
       "      <td>NaN</td>\n",
       "      <td>8275.382482</td>\n",
       "    </tr>\n",
       "    <tr>\n",
       "      <th>3</th>\n",
       "      <td>4675.373252</td>\n",
       "      <td>NaN</td>\n",
       "      <td>4675.373252</td>\n",
       "      <td>6.0</td>\n",
       "      <td>NaN</td>\n",
       "      <td>6.0</td>\n",
       "      <td>1.0</td>\n",
       "      <td>NaN</td>\n",
       "      <td>1.0</td>\n",
       "      <td>0.180515</td>\n",
       "      <td>NaN</td>\n",
       "      <td>0.180515</td>\n",
       "      <td>4675.373252</td>\n",
       "      <td>NaN</td>\n",
       "      <td>4675.373252</td>\n",
       "    </tr>\n",
       "    <tr>\n",
       "      <th>4</th>\n",
       "      <td>5900.513362</td>\n",
       "      <td>NaN</td>\n",
       "      <td>5900.513362</td>\n",
       "      <td>5.0</td>\n",
       "      <td>NaN</td>\n",
       "      <td>5.0</td>\n",
       "      <td>1.0</td>\n",
       "      <td>NaN</td>\n",
       "      <td>1.0</td>\n",
       "      <td>1.190056</td>\n",
       "      <td>NaN</td>\n",
       "      <td>1.190056</td>\n",
       "      <td>5900.513362</td>\n",
       "      <td>NaN</td>\n",
       "      <td>5900.513362</td>\n",
       "    </tr>\n",
       "    <tr>\n",
       "      <th>5</th>\n",
       "      <td>8170.430991</td>\n",
       "      <td>NaN</td>\n",
       "      <td>8170.430991</td>\n",
       "      <td>4.0</td>\n",
       "      <td>NaN</td>\n",
       "      <td>4.0</td>\n",
       "      <td>1.0</td>\n",
       "      <td>NaN</td>\n",
       "      <td>1.0</td>\n",
       "      <td>0.349112</td>\n",
       "      <td>NaN</td>\n",
       "      <td>0.349112</td>\n",
       "      <td>8170.430991</td>\n",
       "      <td>NaN</td>\n",
       "      <td>8170.430991</td>\n",
       "    </tr>\n",
       "  </tbody>\n",
       "</table>\n",
       "</div>"
      ],
      "text/plain": [
       "           matrix_ab  matrix_ba   matrix_tot  Congested_Time_AB  \\\n",
       "link_id                                                           \n",
       "1        4570.421761        NaN  4570.421761                6.0   \n",
       "2        8275.382482        NaN  8275.382482                4.0   \n",
       "3        4675.373252        NaN  4675.373252                6.0   \n",
       "4        5900.513362        NaN  5900.513362                5.0   \n",
       "5        8170.430991        NaN  8170.430991                4.0   \n",
       "\n",
       "         Congested_Time_BA  Congested_Time_Max  Delay_factor_AB  \\\n",
       "link_id                                                           \n",
       "1                      NaN                 6.0              1.0   \n",
       "2                      NaN                 4.0              1.0   \n",
       "3                      NaN                 6.0              1.0   \n",
       "4                      NaN                 5.0              1.0   \n",
       "5                      NaN                 4.0              1.0   \n",
       "\n",
       "         Delay_factor_BA  Delay_factor_Max    VOC_AB  VOC_BA   VOC_max  \\\n",
       "link_id                                                                  \n",
       "1                    NaN               1.0  0.176463     NaN  0.176463   \n",
       "2                    NaN               1.0  0.353596     NaN  0.353596   \n",
       "3                    NaN               1.0  0.180515     NaN  0.180515   \n",
       "4                    NaN               1.0  1.190056     NaN  1.190056   \n",
       "5                    NaN               1.0  0.349112     NaN  0.349112   \n",
       "\n",
       "              PCE_AB  PCE_BA      PCE_tot  \n",
       "link_id                                    \n",
       "1        4570.421761     NaN  4570.421761  \n",
       "2        8275.382482     NaN  8275.382482  \n",
       "3        4675.373252     NaN  4675.373252  \n",
       "4        5900.513362     NaN  5900.513362  \n",
       "5        8170.430991     NaN  8170.430991  "
      ]
     },
     "execution_count": 27,
     "metadata": {},
     "output_type": "execute_result"
    }
   ],
   "source": [
    "volumes = assig.results()\n",
    "volumes.head()"
   ]
  },
  {
   "cell_type": "code",
   "execution_count": 28,
   "metadata": {
    "pycharm": {
     "is_executing": false
    }
   },
   "outputs": [],
   "source": [
    "# We could export it to CSV or AequilibraE data, but let's put it directly into the results database\n",
    "assig.save_results('base_year_assignment')"
   ]
  },
  {
   "cell_type": "code",
   "execution_count": 29,
   "metadata": {
    "pycharm": {
     "is_executing": false
    }
   },
   "outputs": [
    {
     "name": "stdout",
     "output_type": "stream",
     "text": [
      "2020-12-03 20:19:27,413;aequilibrae;WARNING ; Matrix Record has been saved to the database\n"
     ]
    }
   ],
   "source": [
    "# And save the skims\n",
    "assig.save_skims('base_year_assignment_skims', which_ones='all', format='omx')"
   ]
  },
  {
   "cell_type": "markdown",
   "metadata": {},
   "source": [
    "# Trip distribution"
   ]
  },
  {
   "cell_type": "markdown",
   "metadata": {},
   "source": [
    "### Calibration\n",
    "\n",
    "We will calibrate synthetic gravity models using the skims for TIME that we just generated"
   ]
  },
  {
   "cell_type": "code",
   "execution_count": 30,
   "metadata": {
    "pycharm": {
     "is_executing": false
    }
   },
   "outputs": [],
   "source": [
    "import numpy as np\n",
    "from aequilibrae.distribution import GravityCalibration\n",
    "from aequilibrae.matrix import AequilibraeMatrix"
   ]
  },
  {
   "cell_type": "code",
   "execution_count": 31,
   "metadata": {},
   "outputs": [
    {
     "data": {
      "text/html": [
       "<div>\n",
       "<style scoped>\n",
       "    .dataframe tbody tr th:only-of-type {\n",
       "        vertical-align: middle;\n",
       "    }\n",
       "\n",
       "    .dataframe tbody tr th {\n",
       "        vertical-align: top;\n",
       "    }\n",
       "\n",
       "    .dataframe thead th {\n",
       "        text-align: right;\n",
       "    }\n",
       "</style>\n",
       "<table border=\"1\" class=\"dataframe\">\n",
       "  <thead>\n",
       "    <tr style=\"text-align: right;\">\n",
       "      <th></th>\n",
       "      <th>name</th>\n",
       "      <th>file_name</th>\n",
       "      <th>cores</th>\n",
       "      <th>procedure</th>\n",
       "      <th>procedure_id</th>\n",
       "      <th>timestamp</th>\n",
       "      <th>description</th>\n",
       "      <th>status</th>\n",
       "    </tr>\n",
       "  </thead>\n",
       "  <tbody>\n",
       "    <tr>\n",
       "      <th>0</th>\n",
       "      <td>demand_aem</td>\n",
       "      <td>demand.aem</td>\n",
       "      <td>1</td>\n",
       "      <td>None</td>\n",
       "      <td>None</td>\n",
       "      <td>2020-11-24 08:46:42</td>\n",
       "      <td>Original data imported to AEM format\\n</td>\n",
       "      <td></td>\n",
       "    </tr>\n",
       "    <tr>\n",
       "      <th>1</th>\n",
       "      <td>demand_omx</td>\n",
       "      <td>demand.omx</td>\n",
       "      <td>1</td>\n",
       "      <td>None</td>\n",
       "      <td>None</td>\n",
       "      <td>2020-11-24 08:47:18</td>\n",
       "      <td>Original data imported to OMX format</td>\n",
       "      <td></td>\n",
       "    </tr>\n",
       "    <tr>\n",
       "      <th>2</th>\n",
       "      <td>base_skims</td>\n",
       "      <td>base_skims.omx</td>\n",
       "      <td>2</td>\n",
       "      <td>Network skimming</td>\n",
       "      <td>5ed488a806404261baceb4ed86ff1637</td>\n",
       "      <td>2020-12-03 20:19:20.260987</td>\n",
       "      <td>minimized FF travel time while also skimming d...</td>\n",
       "      <td></td>\n",
       "    </tr>\n",
       "    <tr>\n",
       "      <th>3</th>\n",
       "      <td>base_year_assignment_skims</td>\n",
       "      <td>base_year_assignment_skims.omx</td>\n",
       "      <td>4</td>\n",
       "      <td>Traffic Assignment</td>\n",
       "      <td>0fdd7d3b1d7d41f1b4b785230dbf73b4</td>\n",
       "      <td>2020-12-03 20:19:20.883219</td>\n",
       "      <td>Skimming for assignment procedure</td>\n",
       "      <td></td>\n",
       "    </tr>\n",
       "  </tbody>\n",
       "</table>\n",
       "</div>"
      ],
      "text/plain": [
       "                         name                       file_name  cores  \\\n",
       "0                  demand_aem                      demand.aem      1   \n",
       "1                  demand_omx                      demand.omx      1   \n",
       "2                  base_skims                  base_skims.omx      2   \n",
       "3  base_year_assignment_skims  base_year_assignment_skims.omx      4   \n",
       "\n",
       "            procedure                      procedure_id  \\\n",
       "0                None                              None   \n",
       "1                None                              None   \n",
       "2    Network skimming  5ed488a806404261baceb4ed86ff1637   \n",
       "3  Traffic Assignment  0fdd7d3b1d7d41f1b4b785230dbf73b4   \n",
       "\n",
       "                    timestamp  \\\n",
       "0         2020-11-24 08:46:42   \n",
       "1         2020-11-24 08:47:18   \n",
       "2  2020-12-03 20:19:20.260987   \n",
       "3  2020-12-03 20:19:20.883219   \n",
       "\n",
       "                                         description status  \n",
       "0             Original data imported to AEM format\\n         \n",
       "1               Original data imported to OMX format         \n",
       "2  minimized FF travel time while also skimming d...         \n",
       "3                  Skimming for assignment procedure         "
      ]
     },
     "execution_count": 31,
     "metadata": {},
     "output_type": "execute_result"
    }
   ],
   "source": [
    "# Let's take another look at what we have in terms of matrices in the model\n",
    "proj_matrices.list()"
   ]
  },
  {
   "cell_type": "code",
   "execution_count": 32,
   "metadata": {
    "pycharm": {
     "is_executing": false
    }
   },
   "outputs": [],
   "source": [
    "# We need the demand\n",
    "demand = proj_matrices.get_matrix('demand_aem')\n",
    "\n",
    "# And the skims\n",
    "imped = proj_matrices.get_matrix('base_year_assignment_skims')"
   ]
  },
  {
   "cell_type": "code",
   "execution_count": 33,
   "metadata": {},
   "outputs": [
    {
     "data": {
      "text/plain": [
       "['distance_blended',\n",
       " 'distance_final',\n",
       " 'free_flow_time_blended',\n",
       " 'free_flow_time_final']"
      ]
     },
     "execution_count": 33,
     "metadata": {},
     "output_type": "execute_result"
    }
   ],
   "source": [
    "# We can check which matrix cores were created for our skims to decide which one to use\n",
    "imped.names\n",
    "\n",
    "#Where free_flow_time_final is actually the congested time for the last iteration"
   ]
  },
  {
   "cell_type": "code",
   "execution_count": 34,
   "metadata": {
    "pycharm": {
     "is_executing": false
    }
   },
   "outputs": [],
   "source": [
    "# But before using the data, let's get some impedance for the intrazonals\n",
    "# Let's assume it is 75% of the closest zone\n",
    "\n",
    "imped_core = 'free_flow_time_final'\n",
    "imped.computational_view([imped_core])\n",
    "\n",
    "# If we run the code below more than once, we will be overwriting the diagonal values with non-sensical data\n",
    "# so let's zero it first\n",
    "np.fill_diagonal(imped.matrix_view, 0)\n",
    "\n",
    "# We compute it with a little bit of NumPy magic\n",
    "intrazonals = np.amin(imped.matrix_view, where=imped.matrix_view>0, initial=imped.matrix_view.max(), axis=1)\n",
    "intrazonals *= 0.75\n",
    "\n",
    "# Then we fill in the impedance matrix\n",
    "np.fill_diagonal(imped.matrix_view, intrazonals)\n"
   ]
  },
  {
   "cell_type": "code",
   "execution_count": 35,
   "metadata": {},
   "outputs": [],
   "source": [
    "# Since we are working with an OMX file, we cannot overwrite a matrix on disk\n",
    "# So we give a new name to save it\n",
    "imped.save(names=['final_time_with_intrazonals'])"
   ]
  },
  {
   "cell_type": "code",
   "execution_count": 36,
   "metadata": {},
   "outputs": [
    {
     "data": {
      "text/plain": [
       "['final_time_with_intrazonals']"
      ]
     },
     "execution_count": 36,
     "metadata": {},
     "output_type": "execute_result"
    }
   ],
   "source": [
    "# This also updates these new matrices as those being used for computation\n",
    "# As one can verify below\n",
    "imped.view_names"
   ]
  },
  {
   "cell_type": "code",
   "execution_count": 37,
   "metadata": {
    "pycharm": {
     "is_executing": false
    }
   },
   "outputs": [],
   "source": [
    "# We set the matrices for being used in computation\n",
    "demand.computational_view(['matrix'])"
   ]
  },
  {
   "cell_type": "code",
   "execution_count": 38,
   "metadata": {
    "pycharm": {
     "is_executing": false
    }
   },
   "outputs": [],
   "source": [
    "from math import log10, floor\n",
    "def plot_tlfd(demand, skim, name):\n",
    "    import matplotlib.pyplot as plt\n",
    "    b = floor(log10(skim.shape[0]) * 10)\n",
    "    n, bins, patches = plt.hist(np.nan_to_num(skim.flatten(),0), bins = b, weights=np.nan_to_num(demand.flatten()), density=False, facecolor='g', alpha=0.75)\n",
    "\n",
    "    plt.xlabel('Trip length')\n",
    "    plt.ylabel('Probability')\n",
    "    plt.title('Trip-length frequency distribution')\n",
    "    plt.savefig(name, format=\"png\")\n",
    "    plt.clf()"
   ]
  },
  {
   "cell_type": "code",
   "execution_count": 39,
   "metadata": {
    "pycharm": {
     "is_executing": false
    },
    "scrolled": true
   },
   "outputs": [
    {
     "name": "stderr",
     "output_type": "stream",
     "text": [
      "../..\\aequilibrae\\distribution\\gravity_application.py:319: RuntimeWarning: divide by zero encountered in power\n",
      "  * a)[:]\n",
      "../..\\aequilibrae\\distribution\\gravity_application.py:329: RuntimeWarning: invalid value encountered in multiply\n",
      "  self.output.matrix_view[:, :] = self.output.matrix_view[:, :] * non_inf\n"
     ]
    },
    {
     "data": {
      "text/plain": [
       "<Figure size 432x288 with 0 Axes>"
      ]
     },
     "metadata": {},
     "output_type": "display_data"
    }
   ],
   "source": [
    "for function in ['power', 'expo']:\n",
    "    model = GravityCalibration(matrix=demand, impedance=imped, function=function, nan_as_zero=True)\n",
    "    model.calibrate()\n",
    "    \n",
    "    # we save the model\n",
    "    model.model.save(join(fldr, new_proj_folder, f'{function}_model.mod'))\n",
    "    \n",
    "    # We save a trip length frequency distribution image\n",
    "    plot_tlfd(model.result_matrix.matrix_view, imped.matrix_view, join(fldr, new_proj_folder, f'{function}_tfld.png') )\n",
    "    \n",
    "    # We can save the result of applying the model as well\n",
    "    # we can also save the calibration report\n",
    "    with open(join(fldr, new_proj_folder, f'{function}_convergence.log'), 'w') as otp:\n",
    "        for r in  model.report:\n",
    "            otp.write(r+'\\n')"
   ]
  },
  {
   "cell_type": "code",
   "execution_count": 40,
   "metadata": {
    "pycharm": {
     "is_executing": false
    }
   },
   "outputs": [
    {
     "data": {
      "text/plain": [
       "<Figure size 432x288 with 0 Axes>"
      ]
     },
     "metadata": {},
     "output_type": "display_data"
    }
   ],
   "source": [
    "# We save a trip length frequency distribution image\n",
    "plot_tlfd(demand.matrix_view, imped.matrix_view,join(fldr, new_proj_folder, 'demand_tfld.png') )"
   ]
  },
  {
   "cell_type": "markdown",
   "metadata": {},
   "source": [
    "# Forecast\n",
    "\n",
    "* We create a set of *'future'* vectors using some random growth factors\n",
    "* We apply the model for inverse power, as the TFLD seems to be a better fit for the actual one"
   ]
  },
  {
   "cell_type": "code",
   "execution_count": 41,
   "metadata": {
    "pycharm": {
     "is_executing": false
    }
   },
   "outputs": [],
   "source": [
    "from aequilibrae.distribution import Ipf, GravityApplication, SyntheticGravityModel, Ipf\n",
    "from aequilibrae.matrix import AequilibraeData, AequilibraeMatrix\n",
    "import numpy as np"
   ]
  },
  {
   "cell_type": "code",
   "execution_count": 42,
   "metadata": {
    "pycharm": {
     "is_executing": false
    }
   },
   "outputs": [],
   "source": [
    "# We compute the vectors from our matrix\n",
    "mat = AequilibraeMatrix()\n",
    "\n",
    "mat.load(join(fldr, dt_fldr, 'demand.omx'))\n",
    "mat.computational_view()\n",
    "origins = np.sum(mat.matrix_view, axis=1)\n",
    "destinations = np.sum(mat.matrix_view, axis=0)\n",
    "\n",
    "args = {'file_path':join(fldr,  new_proj_folder, 'synthetic_future_vector.aed'),\n",
    "        \"entries\": mat.zones, \n",
    "        \"field_names\": [\"origins\", \"destinations\"],\n",
    "    \"data_types\": [np.float64, np.float64], \n",
    "        \"memory_mode\": False}\n",
    "\n",
    "vectors = AequilibraeData()\n",
    "vectors.create_empty(**args)\n",
    "\n",
    "vectors.index[:] =mat.index[:]\n",
    "\n",
    "# Then grow them with some random growth between 0 and 10% - Plus balance them\n",
    "vectors.origins[:] = origins * (1+ np.random.rand(vectors.entries)/10)\n",
    "vectors.destinations[:] = destinations * (1+ np.random.rand(vectors.entries)/10)\n",
    "vectors.destinations *= vectors.origins.sum()/vectors.destinations.sum()"
   ]
  },
  {
   "cell_type": "code",
   "execution_count": 43,
   "metadata": {
    "pycharm": {
     "is_executing": false
    }
   },
   "outputs": [],
   "source": [
    "# Impedance \n",
    "imped = proj_matrices.get_matrix('base_year_assignment_skims')\n",
    "imped.computational_view(['final_time_with_intrazonals'])\n",
    "\n",
    "# If we wanted the main diagonal to not be considered...\n",
    "# np.fill_diagonal(imped.matrix_view, np.nan)"
   ]
  },
  {
   "cell_type": "code",
   "execution_count": 44,
   "metadata": {
    "pycharm": {
     "is_executing": false
    }
   },
   "outputs": [
    {
     "name": "stdout",
     "output_type": "stream",
     "text": [
      "2020-12-03 20:19:30,227;aequilibrae;WARNING ; Matrix Record has been saved to the database\n",
      "2020-12-03 20:19:30,504;aequilibrae;WARNING ; Matrix Record has been saved to the database\n",
      "2020-12-03 20:19:31,047;aequilibrae;WARNING ; Matrix Record has been saved to the database\n",
      "2020-12-03 20:19:31,360;aequilibrae;WARNING ; Matrix Record has been saved to the database\n"
     ]
    }
   ],
   "source": [
    "for function in ['power', 'expo']:\n",
    "    model = SyntheticGravityModel()\n",
    "    model.load(join(fldr, new_proj_folder, f'{function}_model.mod'))\n",
    "\n",
    "    outmatrix = join(proj_matrices.fldr, f'demand_{function}_model.aem') \n",
    "    apply = GravityApplication()\n",
    "    args = {\"impedance\": imped,\n",
    "            \"rows\": vectors,\n",
    "            \"row_field\": \"origins\",\n",
    "            \"model\": model,\n",
    "            \"columns\": vectors,\n",
    "            \"column_field\": \"destinations\",\n",
    "            \"nan_as_zero\":True\n",
    "            }\n",
    "\n",
    "    gravity = GravityApplication(**args)\n",
    "    gravity.apply()\n",
    "\n",
    "    gravity.save_to_project(name=f'demand_{function}_model', file_name=f'demand_{function}_model.aem')\n",
    "    \n",
    "    # We get the output matrix and save it to OMX too,\n",
    "    gravity.save_to_project(name=f'demand_{function}_model_omx', file_name=f'demand_{function}_model.omx')"
   ]
  },
  {
   "cell_type": "code",
   "execution_count": 45,
   "metadata": {},
   "outputs": [
    {
     "data": {
      "text/html": [
       "<div>\n",
       "<style scoped>\n",
       "    .dataframe tbody tr th:only-of-type {\n",
       "        vertical-align: middle;\n",
       "    }\n",
       "\n",
       "    .dataframe tbody tr th {\n",
       "        vertical-align: top;\n",
       "    }\n",
       "\n",
       "    .dataframe thead th {\n",
       "        text-align: right;\n",
       "    }\n",
       "</style>\n",
       "<table border=\"1\" class=\"dataframe\">\n",
       "  <thead>\n",
       "    <tr style=\"text-align: right;\">\n",
       "      <th></th>\n",
       "      <th>name</th>\n",
       "      <th>file_name</th>\n",
       "      <th>cores</th>\n",
       "      <th>procedure</th>\n",
       "      <th>procedure_id</th>\n",
       "      <th>timestamp</th>\n",
       "      <th>description</th>\n",
       "      <th>status</th>\n",
       "    </tr>\n",
       "  </thead>\n",
       "  <tbody>\n",
       "    <tr>\n",
       "      <th>0</th>\n",
       "      <td>demand_aem</td>\n",
       "      <td>demand.aem</td>\n",
       "      <td>1</td>\n",
       "      <td>None</td>\n",
       "      <td>None</td>\n",
       "      <td>2020-11-24 08:46:42</td>\n",
       "      <td>Original data imported to AEM format\\n</td>\n",
       "      <td></td>\n",
       "    </tr>\n",
       "    <tr>\n",
       "      <th>1</th>\n",
       "      <td>demand_omx</td>\n",
       "      <td>demand.omx</td>\n",
       "      <td>1</td>\n",
       "      <td>None</td>\n",
       "      <td>None</td>\n",
       "      <td>2020-11-24 08:47:18</td>\n",
       "      <td>Original data imported to OMX format</td>\n",
       "      <td></td>\n",
       "    </tr>\n",
       "    <tr>\n",
       "      <th>2</th>\n",
       "      <td>base_skims</td>\n",
       "      <td>base_skims.omx</td>\n",
       "      <td>2</td>\n",
       "      <td>Network skimming</td>\n",
       "      <td>5ed488a806404261baceb4ed86ff1637</td>\n",
       "      <td>2020-12-03 20:19:20.260987</td>\n",
       "      <td>minimized FF travel time while also skimming d...</td>\n",
       "      <td></td>\n",
       "    </tr>\n",
       "    <tr>\n",
       "      <th>3</th>\n",
       "      <td>base_year_assignment_skims</td>\n",
       "      <td>base_year_assignment_skims.omx</td>\n",
       "      <td>4</td>\n",
       "      <td>Traffic Assignment</td>\n",
       "      <td>0fdd7d3b1d7d41f1b4b785230dbf73b4</td>\n",
       "      <td>2020-12-03 20:19:20.883219</td>\n",
       "      <td>Skimming for assignment procedure</td>\n",
       "      <td></td>\n",
       "    </tr>\n",
       "    <tr>\n",
       "      <th>4</th>\n",
       "      <td>demand_power_model</td>\n",
       "      <td>demand_power_model.aem</td>\n",
       "      <td>1</td>\n",
       "      <td>Synthetic trip distribution</td>\n",
       "      <td>1aaceb989bc7406580aff54d861862fa</td>\n",
       "      <td>2020-12-03 20:19:30.021451</td>\n",
       "      <td>Synthetic trip distribution. POWER</td>\n",
       "      <td></td>\n",
       "    </tr>\n",
       "    <tr>\n",
       "      <th>5</th>\n",
       "      <td>demand_power_model_omx</td>\n",
       "      <td>demand_power_model.omx</td>\n",
       "      <td>1</td>\n",
       "      <td>Synthetic trip distribution</td>\n",
       "      <td>1aaceb989bc7406580aff54d861862fa</td>\n",
       "      <td>2020-12-03 20:19:30.021451</td>\n",
       "      <td>Synthetic trip distribution. POWER</td>\n",
       "      <td></td>\n",
       "    </tr>\n",
       "    <tr>\n",
       "      <th>6</th>\n",
       "      <td>demand_expo_model</td>\n",
       "      <td>demand_expo_model.aem</td>\n",
       "      <td>1</td>\n",
       "      <td>Synthetic trip distribution</td>\n",
       "      <td>6e9b40919aec442e8475fb978a247e86</td>\n",
       "      <td>2020-12-03 20:19:30.849071</td>\n",
       "      <td>Synthetic trip distribution. EXPO</td>\n",
       "      <td></td>\n",
       "    </tr>\n",
       "    <tr>\n",
       "      <th>7</th>\n",
       "      <td>demand_expo_model_omx</td>\n",
       "      <td>demand_expo_model.omx</td>\n",
       "      <td>1</td>\n",
       "      <td>Synthetic trip distribution</td>\n",
       "      <td>6e9b40919aec442e8475fb978a247e86</td>\n",
       "      <td>2020-12-03 20:19:30.849071</td>\n",
       "      <td>Synthetic trip distribution. EXPO</td>\n",
       "      <td></td>\n",
       "    </tr>\n",
       "  </tbody>\n",
       "</table>\n",
       "</div>"
      ],
      "text/plain": [
       "                         name                       file_name  cores  \\\n",
       "0                  demand_aem                      demand.aem      1   \n",
       "1                  demand_omx                      demand.omx      1   \n",
       "2                  base_skims                  base_skims.omx      2   \n",
       "3  base_year_assignment_skims  base_year_assignment_skims.omx      4   \n",
       "4          demand_power_model          demand_power_model.aem      1   \n",
       "5      demand_power_model_omx          demand_power_model.omx      1   \n",
       "6           demand_expo_model           demand_expo_model.aem      1   \n",
       "7       demand_expo_model_omx           demand_expo_model.omx      1   \n",
       "\n",
       "                     procedure                      procedure_id  \\\n",
       "0                         None                              None   \n",
       "1                         None                              None   \n",
       "2             Network skimming  5ed488a806404261baceb4ed86ff1637   \n",
       "3           Traffic Assignment  0fdd7d3b1d7d41f1b4b785230dbf73b4   \n",
       "4  Synthetic trip distribution  1aaceb989bc7406580aff54d861862fa   \n",
       "5  Synthetic trip distribution  1aaceb989bc7406580aff54d861862fa   \n",
       "6  Synthetic trip distribution  6e9b40919aec442e8475fb978a247e86   \n",
       "7  Synthetic trip distribution  6e9b40919aec442e8475fb978a247e86   \n",
       "\n",
       "                    timestamp  \\\n",
       "0         2020-11-24 08:46:42   \n",
       "1         2020-11-24 08:47:18   \n",
       "2  2020-12-03 20:19:20.260987   \n",
       "3  2020-12-03 20:19:20.883219   \n",
       "4  2020-12-03 20:19:30.021451   \n",
       "5  2020-12-03 20:19:30.021451   \n",
       "6  2020-12-03 20:19:30.849071   \n",
       "7  2020-12-03 20:19:30.849071   \n",
       "\n",
       "                                         description status  \n",
       "0             Original data imported to AEM format\\n         \n",
       "1               Original data imported to OMX format         \n",
       "2  minimized FF travel time while also skimming d...         \n",
       "3                  Skimming for assignment procedure         \n",
       "4                 Synthetic trip distribution. POWER         \n",
       "5                 Synthetic trip distribution. POWER         \n",
       "6                  Synthetic trip distribution. EXPO         \n",
       "7                  Synthetic trip distribution. EXPO         "
      ]
     },
     "execution_count": 45,
     "metadata": {},
     "output_type": "execute_result"
    }
   ],
   "source": [
    "# We update the matrices table/records and verify that the new matrices are indeed there\n",
    "proj_matrices.update_database()\n",
    "proj_matrices.list()"
   ]
  },
  {
   "cell_type": "markdown",
   "metadata": {},
   "source": [
    "### We now run IPF for the future vectors"
   ]
  },
  {
   "cell_type": "code",
   "execution_count": 46,
   "metadata": {
    "pycharm": {
     "is_executing": false
    }
   },
   "outputs": [
    {
     "name": "stdout",
     "output_type": "stream",
     "text": [
      "2020-12-03 20:19:31,774;aequilibrae;WARNING ; Matrix Record has been saved to the database\n",
      "2020-12-03 20:19:32,025;aequilibrae;WARNING ; Matrix Record has been saved to the database\n"
     ]
    },
    {
     "data": {
      "text/plain": [
       "<aequilibrae.project.data.matrix_record.MatrixRecord at 0x2205c51bdc8>"
      ]
     },
     "execution_count": 46,
     "metadata": {},
     "output_type": "execute_result"
    }
   ],
   "source": [
    "demand = AequilibraeMatrix()\n",
    "demand.load(join(fldr, dt_fldr, 'demand.omx'))\n",
    "demand.computational_view()\n",
    "\n",
    "args = {'matrix': demand,\n",
    "        'rows': vectors,\n",
    "        'columns': vectors,\n",
    "        'column_field': \"destinations\",\n",
    "        'row_field': \"origins\",\n",
    "        'nan_as_zero': True}\n",
    "\n",
    "ipf = Ipf(**args)\n",
    "ipf.fit()\n",
    "\n",
    "\n",
    "ipf.save_to_project(name='demand_ipf', file_name='demand_ipf.aem')\n",
    "ipf.save_to_project(name='demand_ipf_omx', file_name='demand_ipf.omx')"
   ]
  },
  {
   "cell_type": "code",
   "execution_count": 47,
   "metadata": {},
   "outputs": [
    {
     "data": {
      "text/html": [
       "<div>\n",
       "<style scoped>\n",
       "    .dataframe tbody tr th:only-of-type {\n",
       "        vertical-align: middle;\n",
       "    }\n",
       "\n",
       "    .dataframe tbody tr th {\n",
       "        vertical-align: top;\n",
       "    }\n",
       "\n",
       "    .dataframe thead th {\n",
       "        text-align: right;\n",
       "    }\n",
       "</style>\n",
       "<table border=\"1\" class=\"dataframe\">\n",
       "  <thead>\n",
       "    <tr style=\"text-align: right;\">\n",
       "      <th></th>\n",
       "      <th>name</th>\n",
       "      <th>file_name</th>\n",
       "      <th>cores</th>\n",
       "      <th>procedure</th>\n",
       "      <th>procedure_id</th>\n",
       "      <th>timestamp</th>\n",
       "      <th>description</th>\n",
       "      <th>status</th>\n",
       "    </tr>\n",
       "  </thead>\n",
       "  <tbody>\n",
       "    <tr>\n",
       "      <th>0</th>\n",
       "      <td>demand_aem</td>\n",
       "      <td>demand.aem</td>\n",
       "      <td>1</td>\n",
       "      <td>None</td>\n",
       "      <td>None</td>\n",
       "      <td>2020-11-24 08:46:42</td>\n",
       "      <td>Original data imported to AEM format\\n</td>\n",
       "      <td></td>\n",
       "    </tr>\n",
       "    <tr>\n",
       "      <th>1</th>\n",
       "      <td>demand_omx</td>\n",
       "      <td>demand.omx</td>\n",
       "      <td>1</td>\n",
       "      <td>None</td>\n",
       "      <td>None</td>\n",
       "      <td>2020-11-24 08:47:18</td>\n",
       "      <td>Original data imported to OMX format</td>\n",
       "      <td></td>\n",
       "    </tr>\n",
       "    <tr>\n",
       "      <th>2</th>\n",
       "      <td>base_skims</td>\n",
       "      <td>base_skims.omx</td>\n",
       "      <td>2</td>\n",
       "      <td>Network skimming</td>\n",
       "      <td>5ed488a806404261baceb4ed86ff1637</td>\n",
       "      <td>2020-12-03 20:19:20.260987</td>\n",
       "      <td>minimized FF travel time while also skimming d...</td>\n",
       "      <td></td>\n",
       "    </tr>\n",
       "    <tr>\n",
       "      <th>3</th>\n",
       "      <td>base_year_assignment_skims</td>\n",
       "      <td>base_year_assignment_skims.omx</td>\n",
       "      <td>4</td>\n",
       "      <td>Traffic Assignment</td>\n",
       "      <td>0fdd7d3b1d7d41f1b4b785230dbf73b4</td>\n",
       "      <td>2020-12-03 20:19:20.883219</td>\n",
       "      <td>Skimming for assignment procedure</td>\n",
       "      <td></td>\n",
       "    </tr>\n",
       "    <tr>\n",
       "      <th>4</th>\n",
       "      <td>demand_power_model</td>\n",
       "      <td>demand_power_model.aem</td>\n",
       "      <td>1</td>\n",
       "      <td>Synthetic trip distribution</td>\n",
       "      <td>1aaceb989bc7406580aff54d861862fa</td>\n",
       "      <td>2020-12-03 20:19:30.021451</td>\n",
       "      <td>Synthetic trip distribution. POWER</td>\n",
       "      <td></td>\n",
       "    </tr>\n",
       "    <tr>\n",
       "      <th>5</th>\n",
       "      <td>demand_power_model_omx</td>\n",
       "      <td>demand_power_model.omx</td>\n",
       "      <td>1</td>\n",
       "      <td>Synthetic trip distribution</td>\n",
       "      <td>1aaceb989bc7406580aff54d861862fa</td>\n",
       "      <td>2020-12-03 20:19:30.021451</td>\n",
       "      <td>Synthetic trip distribution. POWER</td>\n",
       "      <td></td>\n",
       "    </tr>\n",
       "    <tr>\n",
       "      <th>6</th>\n",
       "      <td>demand_expo_model</td>\n",
       "      <td>demand_expo_model.aem</td>\n",
       "      <td>1</td>\n",
       "      <td>Synthetic trip distribution</td>\n",
       "      <td>6e9b40919aec442e8475fb978a247e86</td>\n",
       "      <td>2020-12-03 20:19:30.849071</td>\n",
       "      <td>Synthetic trip distribution. EXPO</td>\n",
       "      <td></td>\n",
       "    </tr>\n",
       "    <tr>\n",
       "      <th>7</th>\n",
       "      <td>demand_expo_model_omx</td>\n",
       "      <td>demand_expo_model.omx</td>\n",
       "      <td>1</td>\n",
       "      <td>Synthetic trip distribution</td>\n",
       "      <td>6e9b40919aec442e8475fb978a247e86</td>\n",
       "      <td>2020-12-03 20:19:30.849071</td>\n",
       "      <td>Synthetic trip distribution. EXPO</td>\n",
       "      <td></td>\n",
       "    </tr>\n",
       "    <tr>\n",
       "      <th>8</th>\n",
       "      <td>demand_ipf</td>\n",
       "      <td>demand_ipf.aem</td>\n",
       "      <td>1</td>\n",
       "      <td>Iterative Proportional fitting</td>\n",
       "      <td>56b2cf39dcdc408baa5980baf21fc36a</td>\n",
       "      <td>2020-12-03 20:19:31.592597</td>\n",
       "      <td>None</td>\n",
       "      <td></td>\n",
       "    </tr>\n",
       "    <tr>\n",
       "      <th>9</th>\n",
       "      <td>demand_ipf_omx</td>\n",
       "      <td>demand_ipf.omx</td>\n",
       "      <td>1</td>\n",
       "      <td>Iterative Proportional fitting</td>\n",
       "      <td>56b2cf39dcdc408baa5980baf21fc36a</td>\n",
       "      <td>2020-12-03 20:19:31.592597</td>\n",
       "      <td>None</td>\n",
       "      <td></td>\n",
       "    </tr>\n",
       "  </tbody>\n",
       "</table>\n",
       "</div>"
      ],
      "text/plain": [
       "                         name                       file_name  cores  \\\n",
       "0                  demand_aem                      demand.aem      1   \n",
       "1                  demand_omx                      demand.omx      1   \n",
       "2                  base_skims                  base_skims.omx      2   \n",
       "3  base_year_assignment_skims  base_year_assignment_skims.omx      4   \n",
       "4          demand_power_model          demand_power_model.aem      1   \n",
       "5      demand_power_model_omx          demand_power_model.omx      1   \n",
       "6           demand_expo_model           demand_expo_model.aem      1   \n",
       "7       demand_expo_model_omx           demand_expo_model.omx      1   \n",
       "8                  demand_ipf                  demand_ipf.aem      1   \n",
       "9              demand_ipf_omx                  demand_ipf.omx      1   \n",
       "\n",
       "                        procedure                      procedure_id  \\\n",
       "0                            None                              None   \n",
       "1                            None                              None   \n",
       "2                Network skimming  5ed488a806404261baceb4ed86ff1637   \n",
       "3              Traffic Assignment  0fdd7d3b1d7d41f1b4b785230dbf73b4   \n",
       "4     Synthetic trip distribution  1aaceb989bc7406580aff54d861862fa   \n",
       "5     Synthetic trip distribution  1aaceb989bc7406580aff54d861862fa   \n",
       "6     Synthetic trip distribution  6e9b40919aec442e8475fb978a247e86   \n",
       "7     Synthetic trip distribution  6e9b40919aec442e8475fb978a247e86   \n",
       "8  Iterative Proportional fitting  56b2cf39dcdc408baa5980baf21fc36a   \n",
       "9  Iterative Proportional fitting  56b2cf39dcdc408baa5980baf21fc36a   \n",
       "\n",
       "                    timestamp  \\\n",
       "0         2020-11-24 08:46:42   \n",
       "1         2020-11-24 08:47:18   \n",
       "2  2020-12-03 20:19:20.260987   \n",
       "3  2020-12-03 20:19:20.883219   \n",
       "4  2020-12-03 20:19:30.021451   \n",
       "5  2020-12-03 20:19:30.021451   \n",
       "6  2020-12-03 20:19:30.849071   \n",
       "7  2020-12-03 20:19:30.849071   \n",
       "8  2020-12-03 20:19:31.592597   \n",
       "9  2020-12-03 20:19:31.592597   \n",
       "\n",
       "                                         description status  \n",
       "0             Original data imported to AEM format\\n         \n",
       "1               Original data imported to OMX format         \n",
       "2  minimized FF travel time while also skimming d...         \n",
       "3                  Skimming for assignment procedure         \n",
       "4                 Synthetic trip distribution. POWER         \n",
       "5                 Synthetic trip distribution. POWER         \n",
       "6                  Synthetic trip distribution. EXPO         \n",
       "7                  Synthetic trip distribution. EXPO         \n",
       "8                                               None         \n",
       "9                                               None         "
      ]
     },
     "execution_count": 47,
     "metadata": {},
     "output_type": "execute_result"
    }
   ],
   "source": [
    "proj_matrices.list()"
   ]
  },
  {
   "cell_type": "markdown",
   "metadata": {},
   "source": [
    "# Future traffic assignment"
   ]
  },
  {
   "cell_type": "code",
   "execution_count": 48,
   "metadata": {
    "pycharm": {
     "is_executing": false
    }
   },
   "outputs": [],
   "source": [
    "from aequilibrae.matrix import AequilibraeMatrix\n",
    "from aequilibrae.paths import TrafficAssignment, TrafficClass\n",
    "from aequilibrae import logger\n",
    "import logging"
   ]
  },
  {
   "cell_type": "code",
   "execution_count": 49,
   "metadata": {
    "pycharm": {
     "is_executing": false
    }
   },
   "outputs": [
    {
     "name": "stdout",
     "output_type": "stream",
     "text": [
      "2020-12-03 20:19:32,154;aequilibrae;INFO ; \n",
      "\n",
      "\n",
      " TRAFFIC ASSIGNMENT FOR FUTURE YEAR\n"
     ]
    }
   ],
   "source": [
    "logger.info('\\n\\n\\n TRAFFIC ASSIGNMENT FOR FUTURE YEAR')"
   ]
  },
  {
   "cell_type": "code",
   "execution_count": 50,
   "metadata": {
    "pycharm": {
     "is_executing": false
    }
   },
   "outputs": [
    {
     "data": {
      "text/plain": [
       "['gravity']"
      ]
     },
     "execution_count": 50,
     "metadata": {},
     "output_type": "execute_result"
    }
   ],
   "source": [
    "demand = proj_matrices.get_matrix('demand_power_model')\n",
    "\n",
    "# let's see what is the core we ended up getting. It should be 'gravity'\n",
    "demand.names"
   ]
  },
  {
   "cell_type": "code",
   "execution_count": 51,
   "metadata": {
    "pycharm": {
     "is_executing": false
    },
    "scrolled": true
   },
   "outputs": [
    {
     "name": "stdout",
     "output_type": "stream",
     "text": [
      "2020-12-03 20:19:32,802;aequilibrae;INFO ; bfw Assignment STATS\n",
      "2020-12-03 20:19:32,803;aequilibrae;INFO ; Iteration, RelativeGap, stepsize\n",
      "2020-12-03 20:19:32,919;aequilibrae;INFO ; 1,inf,1.0\n",
      "2020-12-03 20:19:33,045;aequilibrae;INFO ; 2,0.8712771889493577,0.30517056128802644\n",
      "2020-12-03 20:19:33,173;aequilibrae;INFO ; 3,0.5503383654539055,0.1852809469254281\n",
      "2020-12-03 20:19:33,298;aequilibrae;INFO ; 4,0.27029380895164345,0.20354817419136667\n",
      "2020-12-03 20:19:33,419;aequilibrae;INFO ; 5,0.15396219080543105,0.47462987209525753\n",
      "2020-12-03 20:19:33,550;aequilibrae;INFO ; 6,0.18912987666125858,0.15194208768256764\n",
      "2020-12-03 20:19:33,668;aequilibrae;INFO ; 7,0.09634170923159564,0.33614706969234115\n",
      "2020-12-03 20:19:33,792;aequilibrae;INFO ; 8,0.10208084520953109,0.9658737536794567\n",
      "2020-12-03 20:19:33,923;aequilibrae;INFO ; 9,0.16759321645675332,0.11509190278139968\n",
      "2020-12-03 20:19:34,045;aequilibrae;INFO ; 10,0.05735912832263536,0.14947048187646675\n",
      "2020-12-03 20:19:34,175;aequilibrae;INFO ; 11,0.03865680370618991,0.4225396573007182\n",
      "2020-12-03 20:19:34,294;aequilibrae;INFO ; 12,0.04966500273300343,0.9744462838355564\n",
      "2020-12-03 20:19:34,422;aequilibrae;INFO ; 13,0.05725273491906169,0.06838263873430932\n",
      "2020-12-03 20:19:34,542;aequilibrae;INFO ; 14,0.026810986579339467,0.20598387186022737\n",
      "2020-12-03 20:19:34,665;aequilibrae;INFO ; 15,0.031163891444470442,0.534832899443194\n",
      "2020-12-03 20:19:34,794;aequilibrae;INFO ; 16,0.03781843631933893,0.0603578446750566\n",
      "2020-12-03 20:19:34,914;aequilibrae;INFO ; 17,0.01733910993828281,0.1287863302239023\n",
      "2020-12-03 20:19:35,044;aequilibrae;INFO ; 18,0.018254404907910693,0.19180305438167916\n",
      "2020-12-03 20:19:35,169;aequilibrae;INFO ; 19,0.012006725211527618,0.5713143994499511\n",
      "2020-12-03 20:19:35,295;aequilibrae;INFO ; 20,0.028956527556312926,0.049916772886957325\n",
      "2020-12-03 20:19:35,416;aequilibrae;INFO ; 21,0.011351519076273481,0.07321438027288711\n",
      "2020-12-03 20:19:35,540;aequilibrae;INFO ; 22,0.012148667637791303,0.10898992800655465\n",
      "2020-12-03 20:19:35,662;aequilibrae;INFO ; 23,0.009404761696908926,0.40429052283083894\n",
      "2020-12-03 20:19:35,786;aequilibrae;INFO ; 24,0.018217767394974497,0.8571456330038658\n",
      "2020-12-03 20:19:35,911;aequilibrae;INFO ; 25,0.016551319967874442,0.03802636733958501\n",
      "2020-12-03 20:19:36,036;aequilibrae;INFO ; 26,0.007761112636086772,0.10485654211890715\n",
      "2020-12-03 20:19:36,160;aequilibrae;INFO ; 27,0.0077320742989941986,0.09270848695939563\n",
      "2020-12-03 20:19:36,283;aequilibrae;INFO ; 28,0.005814200445076645,0.12619020200116987\n",
      "2020-12-03 20:19:36,410;aequilibrae;INFO ; 29,0.006035740630972816,0.17360886361556835\n",
      "2020-12-03 20:19:36,536;aequilibrae;INFO ; 30,0.005137955722155764,0.23505525857612328\n",
      "2020-12-03 20:19:36,658;aequilibrae;INFO ; 31,0.006167695148190231,0.3405239565795272\n",
      "2020-12-03 20:19:36,781;aequilibrae;INFO ; 32,0.005271586744631561,0.6192585219592653\n",
      "2020-12-03 20:19:36,908;aequilibrae;INFO ; 33,0.0060348567205705675,0.02484341784020428\n",
      "2020-12-03 20:19:37,031;aequilibrae;INFO ; 34,0.0031794049416591186,0.04032701103825997\n",
      "2020-12-03 20:19:37,158;aequilibrae;INFO ; 35,0.003198615992907019,0.031090532991924553\n",
      "2020-12-03 20:19:37,365;aequilibrae;INFO ; 36,0.002732735630052375,0.042506121621349806\n",
      "2020-12-03 20:19:37,484;aequilibrae;INFO ; 37,0.002288304248406269,0.038912346277904276\n",
      "2020-12-03 20:19:37,611;aequilibrae;INFO ; 38,0.0022444715390569393,0.13940088477192286\n",
      "2020-12-03 20:19:37,734;aequilibrae;INFO ; 39,0.003589875268871774,0.3062728177485592\n",
      "2020-12-03 20:19:37,863;aequilibrae;INFO ; 40,0.0034987985043387682,0.31015681803995365\n",
      "2020-12-03 20:19:37,987;aequilibrae;INFO ; 41,0.003437553643648493,0.19775574321975223\n",
      "2020-12-03 20:19:38,111;aequilibrae;INFO ; 42,0.003273847102114911,0.2237048194625516\n",
      "2020-12-03 20:19:38,235;aequilibrae;INFO ; 43,0.0026938740363940694,0.22654383097207298\n",
      "2020-12-03 20:19:38,361;aequilibrae;INFO ; 44,0.002764989954396211,0.26974643310958935\n",
      "2020-12-03 20:19:38,484;aequilibrae;INFO ; 45,0.0016483058476837338,0.15555593946610732\n",
      "2020-12-03 20:19:38,607;aequilibrae;INFO ; 46,0.0017057587215456983,0.16655949258667133\n",
      "2020-12-03 20:19:38,730;aequilibrae;INFO ; 47,0.0014635391317221718,0.09804681986711676\n",
      "2020-12-03 20:19:38,853;aequilibrae;INFO ; 48,0.0014173987527969474,0.16865218365805082\n",
      "2020-12-03 20:19:38,983;aequilibrae;INFO ; 49,0.0014745385866060101,0.189207078348211\n",
      "2020-12-03 20:19:39,105;aequilibrae;INFO ; 50,0.0012200011847431937,0.20988843026376874\n",
      "2020-12-03 20:19:39,230;aequilibrae;INFO ; 51,0.0013991528172533634,0.17554687728103596\n",
      "2020-12-03 20:19:39,354;aequilibrae;INFO ; 52,0.0012574252528580311,0.350205031976282\n",
      "2020-12-03 20:19:39,479;aequilibrae;INFO ; 53,0.0009521349449078048,0.18352945306050966\n",
      "2020-12-03 20:19:39,605;aequilibrae;INFO ; 54,0.0007887086234208381,0.1892535218974615\n",
      "2020-12-03 20:19:39,606;aequilibrae;INFO ; bfw Assignment finished. 54 iterations and 0.0007887086234208381 final gap\n"
     ]
    }
   ],
   "source": [
    "# Let's use the IPF matrix\n",
    "demand.computational_view('gravity')\n",
    "\n",
    "assig = TrafficAssignment()\n",
    "\n",
    "# Creates the assignment class\n",
    "assigclass = TrafficClass(graph, demand)\n",
    "\n",
    "# The first thing to do is to add at list of traffic classes to be assigned\n",
    "assig.add_class(assigclass)\n",
    "\n",
    "assig.set_vdf(\"BPR\")  # This is not case-sensitive # Then we set the volume delay function\n",
    "\n",
    "assig.set_vdf_parameters({\"alpha\": \"b\", \"beta\": \"power\"}) # And its parameters\n",
    "\n",
    "assig.set_capacity_field(\"capacity\") # The capacity and free flow travel times as they exist in the graph\n",
    "assig.set_time_field(\"free_flow_time\")\n",
    "\n",
    "# And the algorithm we want to use to assign\n",
    "assig.set_algorithm('bfw')\n",
    "\n",
    "# since I haven't checked the parameters file, let's make sure convergence criteria is good\n",
    "assig.max_iter = 1000\n",
    "assig.rgap_target = 0.001\n",
    "\n",
    "assig.execute() # we then execute the assignment"
   ]
  },
  {
   "cell_type": "code",
   "execution_count": 52,
   "metadata": {
    "pycharm": {
     "is_executing": false
    }
   },
   "outputs": [
    {
     "name": "stdout",
     "output_type": "stream",
     "text": [
      "2020-12-03 20:19:39,966;aequilibrae;WARNING ; Matrix Record has been saved to the database\n"
     ]
    }
   ],
   "source": [
    "# We could export it to CSV or AequilibraE data, but let's put it directly into the results database\n",
    "assig.save_results('future_year_assignment')\n",
    "\n",
    "# And save the skims\n",
    "assig.save_skims('future_year_assignment_skims', which_ones='all', format='omx')"
   ]
  },
  {
   "cell_type": "markdown",
   "metadata": {},
   "source": [
    "## Close the project"
   ]
  },
  {
   "cell_type": "code",
   "execution_count": 53,
   "metadata": {},
   "outputs": [
    {
     "name": "stdout",
     "output_type": "stream",
     "text": [
      "2020-12-03 20:19:40,057;aequilibrae;INFO ; Closed project on D:/release/Sample models/sioux_falls_2020_02_15\\1_project_temp\n"
     ]
    }
   ],
   "source": [
    "project.close()"
   ]
  }
 ],
 "metadata": {
  "kernelspec": {
   "display_name": "Python 3",
   "language": "python",
   "name": "python3"
  },
  "language_info": {
   "codemirror_mode": {
    "name": "ipython",
    "version": 3
   },
   "file_extension": ".py",
   "mimetype": "text/x-python",
   "name": "python",
   "nbconvert_exporter": "python",
   "pygments_lexer": "ipython3",
   "version": "3.7.4"
  },
  "pycharm": {
   "stem_cell": {
    "cell_type": "raw",
    "metadata": {
     "collapsed": false
    },
    "source": []
   }
  }
 },
 "nbformat": 4,
 "nbformat_minor": 4
}
