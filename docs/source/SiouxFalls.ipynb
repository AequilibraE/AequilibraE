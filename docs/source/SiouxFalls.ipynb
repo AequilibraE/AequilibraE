{
 "cells": [
  {
   "cell_type": "markdown",
   "metadata": {},
   "source": [
    "# Sioux Falls example"
   ]
  },
  {
   "cell_type": "code",
   "execution_count": 1,
   "metadata": {},
   "outputs": [],
   "source": [
    "import sys\n",
    "sys.path.append('../..')"
   ]
  },
  {
   "cell_type": "markdown",
   "metadata": {},
   "source": [
    "## File paths"
   ]
  },
  {
   "cell_type": "code",
   "execution_count": 2,
   "metadata": {
    "pycharm": {
     "is_executing": false
    }
   },
   "outputs": [],
   "source": [
    "fldr = 'D:/release/Sample models/sioux_falls_2020_02_15'\n",
    "\n",
    "# remove the comments for the lines below to run the Chicago model example instead\n",
    "# fldr = 'D:/release/Sample models/Chicago_2020_02_15'\n",
    "# proj_name = 'chicagomodel.sqlite'\n",
    "\n",
    "dt_fldr = '0_tntp_data'\n",
    "prj_fldr = '1_project'\n",
    "skm_fldr = '2_skim_results'\n",
    "assg_fldr = '4_assignment_results'\n",
    "dstr_fldr = '5_distribution_results'\n",
    "frcst_fldr = '6_forecast'\n",
    "ftr_fldr = '7_future_year_assignment'"
   ]
  },
  {
   "cell_type": "markdown",
   "metadata": {},
   "source": [
    "## Some logging"
   ]
  },
  {
   "cell_type": "markdown",
   "metadata": {},
   "source": [
    "## Opening the project"
   ]
  },
  {
   "cell_type": "code",
   "execution_count": 3,
   "metadata": {
    "pycharm": {
     "is_executing": false
    }
   },
   "outputs": [],
   "source": [
    "# Imports\n",
    "from aequilibrae.project import Project\n",
    "from os.path import join"
   ]
  },
  {
   "cell_type": "code",
   "execution_count": 4,
   "metadata": {
    "pycharm": {
     "is_executing": false
    }
   },
   "outputs": [],
   "source": [
    "project = Project()\n",
    "project.load(join(fldr, prj_fldr))"
   ]
  },
  {
   "cell_type": "markdown",
   "metadata": {},
   "source": [
    "## Path computation"
   ]
  },
  {
   "cell_type": "code",
   "execution_count": 5,
   "metadata": {
    "pycharm": {
     "is_executing": false
    }
   },
   "outputs": [],
   "source": [
    "# imports\n",
    "from aequilibrae.paths import PathResults, path_computation"
   ]
  },
  {
   "cell_type": "code",
   "execution_count": 6,
   "metadata": {
    "pycharm": {
     "is_executing": false
    }
   },
   "outputs": [
    {
     "name": "stderr",
     "output_type": "stream",
     "text": [
      "../..\\aequilibrae\\project\\network\\network.py:257: UserWarning: Fields were removed from Graph for being non-numeric: modes,link_type\n",
      "  warn(f'Fields were removed from Graph for being non-numeric: {\",\".join(removed_fields)}')\n",
      "../..\\aequilibrae\\paths\\graph.py:360: UserWarning: Field name has at least one NaN value.  Your computation may be compromised\n",
      "  warn(f'Field {i} has at least one NaN value.  Your computation may be compromised')\n",
      "../..\\aequilibrae\\paths\\graph.py:360: UserWarning: Field lanes has at least one NaN value.  Your computation may be compromised\n",
      "  warn(f'Field {i} has at least one NaN value.  Your computation may be compromised')\n"
     ]
    }
   ],
   "source": [
    "# we build all graphs\n",
    "project.network.build_graphs()\n",
    "# We get warnings that several fields in the project are filled with NaNs.  Which is true, but we won't use those fields"
   ]
  },
  {
   "cell_type": "code",
   "execution_count": 7,
   "metadata": {
    "pycharm": {
     "is_executing": false
    }
   },
   "outputs": [],
   "source": [
    "# we grab the graph for cars\n",
    "graph = project.network.graphs['c']\n",
    "\n",
    "# let's say we want to minimize distance\n",
    "graph.set_graph('distance')\n",
    "\n",
    "# And will skim time and distance while we are at it\n",
    "graph.set_skimming(['free_flow_time', 'distance'])\n",
    "\n",
    "# And we will allow paths to be compute going through other centroids/centroid connectors\n",
    "# required for the Sioux Falls network, as all nodes are centroids\n",
    "graph.set_blocked_centroid_flows(False)\n",
    "\n",
    "# instantiate a path results object and prepare it to work with the graph\n",
    "res = PathResults()\n",
    "res.prepare(graph)\n",
    "\n",
    "# compute a path from node 2 to 13\n",
    "path_computation(2, 13, graph, res)"
   ]
  },
  {
   "cell_type": "code",
   "execution_count": 8,
   "metadata": {
    "pycharm": {
     "is_executing": false
    }
   },
   "outputs": [
    {
     "data": {
      "text/plain": [
       "array([ 2,  1,  3, 12, 13], dtype=int64)"
      ]
     },
     "execution_count": 8,
     "metadata": {},
     "output_type": "execute_result"
    }
   ],
   "source": [
    "# We can get the sequence of nodes we traverse\n",
    "res.path_nodes"
   ]
  },
  {
   "cell_type": "code",
   "execution_count": 9,
   "metadata": {
    "pycharm": {
     "is_executing": false
    }
   },
   "outputs": [
    {
     "data": {
      "text/plain": [
       "array([ 3,  2,  7, 37], dtype=int64)"
      ]
     },
     "execution_count": 9,
     "metadata": {},
     "output_type": "execute_result"
    }
   ],
   "source": [
    "# We can get the link sequence we traverse\n",
    "res.path"
   ]
  },
  {
   "cell_type": "code",
   "execution_count": 10,
   "metadata": {
    "pycharm": {
     "is_executing": false
    }
   },
   "outputs": [
    {
     "data": {
      "text/plain": [
       "array([ 0.,  6., 10., 14., 17.])"
      ]
     },
     "execution_count": 10,
     "metadata": {},
     "output_type": "execute_result"
    }
   ],
   "source": [
    "# We can get the mileposts for our sequence of nodes\n",
    "res.milepost"
   ]
  },
  {
   "cell_type": "code",
   "execution_count": 11,
   "metadata": {
    "pycharm": {
     "is_executing": false
    }
   },
   "outputs": [],
   "source": [
    "# If we want to compute the path for a different destination and same origin, we can just do this\n",
    "# It is way faster when you have large networks\n",
    "res.update_trace(4)"
   ]
  },
  {
   "cell_type": "code",
   "execution_count": 12,
   "metadata": {
    "pycharm": {
     "is_executing": false
    }
   },
   "outputs": [
    {
     "data": {
      "text/plain": [
       "array([2, 6, 5, 4], dtype=int64)"
      ]
     },
     "execution_count": 12,
     "metadata": {},
     "output_type": "execute_result"
    }
   ],
   "source": [
    "res.path_nodes"
   ]
  },
  {
   "cell_type": "markdown",
   "metadata": {},
   "source": [
    "## Skimming"
   ]
  },
  {
   "cell_type": "code",
   "execution_count": 13,
   "metadata": {
    "pycharm": {
     "is_executing": false
    }
   },
   "outputs": [],
   "source": [
    "from aequilibrae.matrix import AequilibraeData, AequilibraeMatrix\n",
    "from aequilibrae.paths import NetworkSkimming, SkimResults"
   ]
  },
  {
   "cell_type": "code",
   "execution_count": 14,
   "metadata": {
    "pycharm": {
     "is_executing": false
    }
   },
   "outputs": [],
   "source": [
    "# from before\n",
    "graph = project.network.graphs['c'] # we grab the graph for cars\n",
    "graph.set_graph('free_flow_time') # let's say we want to minimize time\n",
    "graph.set_skimming(['free_flow_time', 'distance']) # And will skim time and distance\n",
    "graph = project.network.graphs['c'] # we grab the graph for cars\n",
    "graph.set_blocked_centroid_flows(False)"
   ]
  },
  {
   "cell_type": "code",
   "execution_count": 15,
   "metadata": {
    "pycharm": {
     "is_executing": false
    }
   },
   "outputs": [],
   "source": [
    "# setup the object result\n",
    "res = SkimResults()\n",
    "res.prepare(graph)"
   ]
  },
  {
   "cell_type": "code",
   "execution_count": 16,
   "metadata": {
    "pycharm": {
     "is_executing": false
    }
   },
   "outputs": [],
   "source": [
    "# And run the skimming\n",
    "skm = NetworkSkimming(graph, res)\n",
    "skm.execute()"
   ]
  },
  {
   "cell_type": "code",
   "execution_count": 17,
   "metadata": {
    "pycharm": {
     "is_executing": false
    }
   },
   "outputs": [],
   "source": [
    "# The result is an AequilibraEMatrix object\n",
    "skims = res.skims\n",
    "\n",
    "# We can export to AEM and OMX\n",
    "skims.export(join(fldr, skm_fldr, 'skimming_on_time.aem'))\n",
    "skims.export(join(fldr, skm_fldr, 'skimming_on_time.omx'))"
   ]
  },
  {
   "cell_type": "code",
   "execution_count": 18,
   "metadata": {},
   "outputs": [
    {
     "data": {
      "text/plain": [
       "memmap([[ 0.,  6.,  4.,  8., 10., 11., 16., 13., 15., 18., 14.,  8., 11.,\n",
       "         18., 23., 18., 20., 18., 22., 22., 18., 20., 17., 15.],\n",
       "        [ 6.,  0., 10., 11.,  9.,  5., 10.,  7., 14., 16., 17., 14., 17.,\n",
       "         21., 19., 12., 14., 12., 16., 16., 22., 21., 23., 21.],\n",
       "        [ 4., 10.,  0.,  4.,  6., 10., 15., 12., 11., 14., 10.,  4.,  7.,\n",
       "         14., 19., 17., 19., 17., 21., 20., 14., 16., 13., 11.],\n",
       "        [ 8., 11.,  4.,  0.,  2.,  6., 11.,  8.,  7., 10.,  6.,  8., 11.,\n",
       "         10., 15., 13., 15., 13., 17., 17., 18., 18., 14., 15.],\n",
       "        [10.,  9.,  6.,  2.,  0.,  4.,  9.,  6.,  5.,  8.,  8., 10., 13.,\n",
       "         12., 14., 11., 13., 11., 15., 15., 19., 17., 16., 17.],\n",
       "        [11.,  5., 10.,  6.,  4.,  0.,  5.,  2.,  9., 11., 12., 14., 17.,\n",
       "         16., 14.,  7.,  9.,  7., 11., 11., 17., 16., 20., 20.],\n",
       "        [16., 10., 15., 11.,  9.,  5.,  0.,  3., 12.,  9., 14., 19., 19.,\n",
       "         17., 12.,  5.,  7.,  2.,  9.,  6., 12., 11., 15., 15.],\n",
       "        [13.,  7., 12.,  8.,  6.,  2.,  3.,  0., 10.,  9., 14., 16., 19.,\n",
       "         17., 12.,  5.,  7.,  5.,  9.,  9., 15., 14., 18., 18.],\n",
       "        [15., 14., 11.,  7.,  5.,  9., 12., 10.,  0.,  3.,  8., 14., 17.,\n",
       "         12.,  9.,  7.,  9., 10., 11., 14., 14., 12., 16., 17.],\n",
       "        [18., 16., 14., 10.,  8., 11.,  9.,  9.,  3.,  0.,  5., 11., 14.,\n",
       "          9.,  6.,  4.,  6.,  7.,  8., 11., 11.,  9., 13., 14.],\n",
       "        [14., 17., 10.,  6.,  8., 12., 14., 14.,  8.,  5.,  0.,  6.,  9.,\n",
       "          4.,  9.,  9., 11., 12., 12., 16., 13., 12.,  8., 10.],\n",
       "        [ 8., 14.,  4.,  8., 10., 14., 19., 16., 14., 11.,  6.,  0.,  3.,\n",
       "         10., 15., 15., 17., 18., 18., 16., 10., 12.,  9.,  7.],\n",
       "        [11., 17.,  7., 11., 13., 17., 19., 19., 17., 14.,  9.,  3.,  0.,\n",
       "         10., 12., 18., 17., 17., 15., 13.,  7.,  9.,  6.,  4.],\n",
       "        [18., 21., 14., 10., 12., 16., 17., 17., 12.,  9.,  4., 10., 10.,\n",
       "          0.,  5., 12., 10., 15.,  8., 12.,  9.,  8.,  4.,  6.],\n",
       "        [23., 19., 19., 15., 14., 14., 12., 12.,  9.,  6.,  9., 15., 12.,\n",
       "          5.,  0.,  7.,  5., 10.,  3.,  7.,  5.,  3.,  7.,  8.],\n",
       "        [18., 12., 17., 13., 11.,  7.,  5.,  5.,  7.,  4.,  9., 15., 18.,\n",
       "         12.,  7.,  0.,  2.,  3.,  4.,  7., 12., 10., 14., 15.],\n",
       "        [20., 14., 19., 15., 13.,  9.,  7.,  7.,  9.,  6., 11., 17., 17.,\n",
       "         10.,  5.,  2.,  0.,  5.,  2.,  6., 10.,  8., 12., 13.],\n",
       "        [18., 12., 17., 13., 11.,  7.,  2.,  5., 10.,  7., 12., 18., 17.,\n",
       "         15., 10.,  3.,  5.,  0.,  7.,  4., 10.,  9., 13., 13.],\n",
       "        [22., 16., 21., 17., 15., 11.,  9.,  9., 11.,  8., 12., 18., 15.,\n",
       "          8.,  3.,  4.,  2.,  7.,  0.,  4.,  8.,  6., 10., 11.],\n",
       "        [22., 16., 20., 17., 15., 11.,  6.,  9., 14., 11., 16., 16., 13.,\n",
       "         12.,  7.,  7.,  6.,  4.,  4.,  0.,  6.,  5.,  9.,  9.],\n",
       "        [18., 22., 14., 18., 19., 17., 12., 15., 14., 11., 13., 10.,  7.,\n",
       "          9.,  5., 12., 10., 10.,  8.,  6.,  0.,  2.,  5.,  3.],\n",
       "        [20., 21., 16., 18., 17., 16., 11., 14., 12.,  9., 12., 12.,  9.,\n",
       "          8.,  3., 10.,  8.,  9.,  6.,  5.,  2.,  0.,  4.,  5.],\n",
       "        [17., 23., 13., 14., 16., 20., 15., 18., 16., 13.,  8.,  9.,  6.,\n",
       "          4.,  7., 14., 12., 13., 10.,  9.,  5.,  4.,  0.,  2.],\n",
       "        [15., 21., 11., 15., 17., 20., 15., 18., 17., 14., 10.,  7.,  4.,\n",
       "          6.,  8., 15., 13., 13., 11.,  9.,  3.,  5.,  2.,  0.]])"
      ]
     },
     "execution_count": 18,
     "metadata": {},
     "output_type": "execute_result"
    }
   ],
   "source": [
    "# We can access each matrix\n",
    "skims.free_flow_time"
   ]
  },
  {
   "cell_type": "markdown",
   "metadata": {},
   "source": [
    "# Traffic assignment with skimming"
   ]
  },
  {
   "cell_type": "code",
   "execution_count": 19,
   "metadata": {
    "pycharm": {
     "is_executing": false
    }
   },
   "outputs": [],
   "source": [
    "from aequilibrae.matrix import AequilibraeMatrix\n",
    "from aequilibrae.paths import TrafficAssignment, TrafficClass\n",
    "from aequilibrae import logger\n",
    "import logging"
   ]
  },
  {
   "cell_type": "code",
   "execution_count": 20,
   "metadata": {
    "pycharm": {
     "is_executing": false
    }
   },
   "outputs": [],
   "source": [
    "# from before\n",
    "graph = project.network.graphs['c'] # we grab the graph for cars\n",
    "graph.set_graph('free_flow_time') # let's say we want to minimize time\n",
    "graph.set_skimming(['free_flow_time', 'distance']) # And will skim time and distance\n",
    "graph.set_blocked_centroid_flows(False)"
   ]
  },
  {
   "cell_type": "code",
   "execution_count": 21,
   "metadata": {
    "pycharm": {
     "is_executing": false
    }
   },
   "outputs": [],
   "source": [
    "import sys\n",
    "# Because assignment takes a long time, we want the log to be shown here\n",
    "stdout_handler = logging.StreamHandler(sys.stdout)\n",
    "formatter = logging.Formatter(\"%(asctime)s;%(name)s;%(levelname)s ; %(message)s\")\n",
    "stdout_handler.setFormatter(formatter)\n",
    "logger.addHandler(stdout_handler)"
   ]
  },
  {
   "cell_type": "code",
   "execution_count": 22,
   "metadata": {
    "pycharm": {
     "is_executing": false
    },
    "scrolled": true
   },
   "outputs": [
    {
     "name": "stdout",
     "output_type": "stream",
     "text": [
      "2020-11-05 13:24:31,582;aequilibrae;INFO ; bfw Assignment STATS\n",
      "2020-11-05 13:24:31,582;aequilibrae;INFO ; Iteration, RelativeGap, stepsize\n",
      "2020-11-05 13:24:31,707;aequilibrae;INFO ; 1,inf,1.0\n",
      "2020-11-05 13:24:31,819;aequilibrae;INFO ; 2,0.8485503509703024,0.36497345609427145\n",
      "2020-11-05 13:24:31,937;aequilibrae;INFO ; 3,0.3813926225800203,0.2298356924660528\n",
      "2020-11-05 13:24:32,064;aequilibrae;INFO ; 4,0.19621277462606984,0.18591312145268074\n",
      "2020-11-05 13:24:32,188;aequilibrae;INFO ; 5,0.09069073200924213,0.7090816523174254\n",
      "2020-11-05 13:24:32,308;aequilibrae;INFO ; 6,0.20600048221061426,0.1229016022154401\n",
      "2020-11-05 13:24:32,438;aequilibrae;INFO ; 7,0.06710568925282254,0.38638656717489844\n",
      "2020-11-05 13:24:32,567;aequilibrae;INFO ; 8,0.10307514154369488,0.1093055036410267\n",
      "2020-11-05 13:24:32,713;aequilibrae;INFO ; 9,0.04222147191362779,0.2487805192125393\n",
      "2020-11-05 13:24:32,851;aequilibrae;INFO ; 10,0.05926435464772421,0.15904810628271004\n",
      "2020-11-05 13:24:32,982;aequilibrae;INFO ; 11,0.03453951151333739,0.5180973804491722\n",
      "2020-11-05 13:24:33,156;aequilibrae;INFO ; 12,0.059426517206032654,0.10197123112986584\n",
      "2020-11-05 13:24:33,311;aequilibrae;INFO ; 13,0.023239895792359067,0.1780595483940025\n",
      "2020-11-05 13:24:33,440;aequilibrae;INFO ; 14,0.017873783562205998,0.9787872930853664\n",
      "2020-11-05 13:24:33,580;aequilibrae;INFO ; 15,0.049661371545771556,0.08320656307451389\n",
      "2020-11-05 13:24:33,708;aequilibrae;INFO ; 16,0.021382882276233087,0.11517403065013918\n",
      "2020-11-05 13:24:33,829;aequilibrae;INFO ; 17,0.013141542820482906,0.10640369388111594\n",
      "2020-11-05 13:24:33,954;aequilibrae;INFO ; 18,0.009902228209039313,0.10710395766777006\n",
      "2020-11-05 13:24:34,066;aequilibrae;INFO ; 19,0.008834657139075773,0.2524678977926848\n",
      "2020-11-05 13:24:34,198;aequilibrae;INFO ; 20,0.01037104162273405,0.672783938935575\n",
      "2020-11-05 13:24:34,320;aequilibrae;INFO ; 21,0.011090096306112919,0.07468060074370476\n",
      "2020-11-05 13:24:34,446;aequilibrae;INFO ; 22,0.006512685266481604,0.1248501762466173\n",
      "2020-11-05 13:24:34,571;aequilibrae;INFO ; 23,0.005238884615251675,0.06316016574610296\n",
      "2020-11-05 13:24:34,714;aequilibrae;INFO ; 24,0.003949529236289729,0.09717896243713699\n",
      "2020-11-05 13:24:34,834;aequilibrae;INFO ; 25,0.003282221301580675,0.15775901718805277\n",
      "2020-11-05 13:24:34,960;aequilibrae;INFO ; 26,0.00579283245286733,0.4524765669952469\n",
      "2020-11-05 13:24:35,093;aequilibrae;INFO ; 27,0.0066823585472093215,0.7851865570320201\n",
      "2020-11-05 13:24:35,213;aequilibrae;INFO ; 28,0.005992619218872507,0.03909810047560597\n",
      "2020-11-05 13:24:35,336;aequilibrae;INFO ; 29,0.004031364688023943,0.04253018777365569\n",
      "2020-11-05 13:24:35,468;aequilibrae;INFO ; 30,0.0027696521195961455,0.022512872266870154\n",
      "2020-11-05 13:24:35,586;aequilibrae;INFO ; 31,0.0024846461521886723,0.045801692933289694\n",
      "2020-11-05 13:24:35,715;aequilibrae;INFO ; 32,0.0016385526468737244,0.03429583308495096\n",
      "2020-11-05 13:24:35,852;aequilibrae;INFO ; 33,0.001495691114378677,0.03539200254744609\n",
      "2020-11-05 13:24:35,989;aequilibrae;INFO ; 34,0.0011355392148559484,0.05358983822739106\n",
      "2020-11-05 13:24:36,112;aequilibrae;INFO ; 35,0.0012151973759488516,0.04757130468757175\n",
      "2020-11-05 13:24:36,242;aequilibrae;INFO ; 36,0.001239365147986654,0.06536473861280115\n",
      "2020-11-05 13:24:36,367;aequilibrae;INFO ; 37,0.0010684962819843323,0.10703952287420007\n",
      "2020-11-05 13:24:36,486;aequilibrae;INFO ; 38,0.0010899690080066334,0.09864062409431697\n",
      "2020-11-05 13:24:36,598;aequilibrae;INFO ; 39,0.0009886948497176082,0.060276239115439986\n",
      "2020-11-05 13:24:36,722;aequilibrae;INFO ; 40,0.001263208691216004,0.22288089471463618\n",
      "2020-11-05 13:24:36,834;aequilibrae;INFO ; 41,0.0011655716534080074,0.19775964941930804\n",
      "2020-11-05 13:24:36,959;aequilibrae;INFO ; 42,0.0012299958308279288,0.3170348486818246\n",
      "2020-11-05 13:24:37,085;aequilibrae;INFO ; 43,0.0012902531663784,0.3422879827724445\n",
      "2020-11-05 13:24:37,210;aequilibrae;INFO ; 44,0.000997953108759,0.733206097427319\n",
      "2020-11-05 13:24:37,212;aequilibrae;INFO ; bfw Assignment finished. 44 iterations and 0.000997953108759 final gap\n"
     ]
    }
   ],
   "source": [
    "demand = AequilibraeMatrix()\n",
    "demand.load(join(fldr, dt_fldr, 'demand.omx'))\n",
    "demand.computational_view(['matrix']) # We will only assign one user class stored as 'matrix' inside the OMX file\n",
    "\n",
    "assig = TrafficAssignment()\n",
    "\n",
    "# Creates the assignment class\n",
    "assigclass = TrafficClass(graph, demand)\n",
    "\n",
    "\n",
    "# The first thing to do is to add at list of traffic classes to be assigned\n",
    "assig.set_classes([assigclass])\n",
    "\n",
    "assig.set_vdf(\"BPR\")  # This is not case-sensitive # Then we set the volume delay function\n",
    "\n",
    "assig.set_vdf_parameters({\"alpha\": \"b\", \"beta\": \"power\"}) # And its parameters\n",
    "\n",
    "assig.set_capacity_field(\"capacity\") # The capacity and free flow travel times as they exist in the graph\n",
    "assig.set_time_field(\"free_flow_time\")\n",
    "\n",
    "# And the algorithm we want to use to assign\n",
    "assig.set_algorithm('bfw')\n",
    "\n",
    "# since I haven't checked the parameters file, let's make sure convergence criteria is good\n",
    "assig.max_iter = 1000\n",
    "assig.rgap_target = 0.001\n",
    "\n",
    "assig.execute() # we then execute the assignment"
   ]
  },
  {
   "cell_type": "markdown",
   "metadata": {},
   "source": [
    "### Outputs\n"
   ]
  },
  {
   "cell_type": "code",
   "execution_count": 23,
   "metadata": {
    "pycharm": {
     "is_executing": false,
     "name": "#%%\n"
    }
   },
   "outputs": [
    {
     "data": {
      "text/html": [
       "<div>\n",
       "<style scoped>\n",
       "    .dataframe tbody tr th:only-of-type {\n",
       "        vertical-align: middle;\n",
       "    }\n",
       "\n",
       "    .dataframe tbody tr th {\n",
       "        vertical-align: top;\n",
       "    }\n",
       "\n",
       "    .dataframe thead th {\n",
       "        text-align: right;\n",
       "    }\n",
       "</style>\n",
       "<table border=\"1\" class=\"dataframe\">\n",
       "  <thead>\n",
       "    <tr style=\"text-align: right;\">\n",
       "      <th></th>\n",
       "      <th>iteration</th>\n",
       "      <th>rgap</th>\n",
       "      <th>alpha</th>\n",
       "      <th>warnings</th>\n",
       "      <th>beta0</th>\n",
       "      <th>beta1</th>\n",
       "      <th>beta2</th>\n",
       "    </tr>\n",
       "  </thead>\n",
       "  <tbody>\n",
       "    <tr>\n",
       "      <th>0</th>\n",
       "      <td>1</td>\n",
       "      <td>inf</td>\n",
       "      <td>1.000000</td>\n",
       "      <td></td>\n",
       "      <td>1.000000</td>\n",
       "      <td>0.000000</td>\n",
       "      <td>0.000000</td>\n",
       "    </tr>\n",
       "    <tr>\n",
       "      <th>1</th>\n",
       "      <td>2</td>\n",
       "      <td>0.848550</td>\n",
       "      <td>0.364973</td>\n",
       "      <td></td>\n",
       "      <td>1.000000</td>\n",
       "      <td>0.000000</td>\n",
       "      <td>0.000000</td>\n",
       "    </tr>\n",
       "    <tr>\n",
       "      <th>2</th>\n",
       "      <td>3</td>\n",
       "      <td>0.381393</td>\n",
       "      <td>0.229836</td>\n",
       "      <td></td>\n",
       "      <td>1.000000</td>\n",
       "      <td>0.000000</td>\n",
       "      <td>0.000000</td>\n",
       "    </tr>\n",
       "    <tr>\n",
       "      <th>3</th>\n",
       "      <td>4</td>\n",
       "      <td>0.196213</td>\n",
       "      <td>0.185913</td>\n",
       "      <td></td>\n",
       "      <td>0.959771</td>\n",
       "      <td>0.040229</td>\n",
       "      <td>0.000000</td>\n",
       "    </tr>\n",
       "    <tr>\n",
       "      <th>4</th>\n",
       "      <td>5</td>\n",
       "      <td>0.090691</td>\n",
       "      <td>0.709082</td>\n",
       "      <td></td>\n",
       "      <td>0.687640</td>\n",
       "      <td>0.286705</td>\n",
       "      <td>0.025654</td>\n",
       "    </tr>\n",
       "  </tbody>\n",
       "</table>\n",
       "</div>"
      ],
      "text/plain": [
       "   iteration      rgap     alpha warnings     beta0     beta1     beta2\n",
       "0          1       inf  1.000000           1.000000  0.000000  0.000000\n",
       "1          2  0.848550  0.364973           1.000000  0.000000  0.000000\n",
       "2          3  0.381393  0.229836           1.000000  0.000000  0.000000\n",
       "3          4  0.196213  0.185913           0.959771  0.040229  0.000000\n",
       "4          5  0.090691  0.709082           0.687640  0.286705  0.025654"
      ]
     },
     "execution_count": 23,
     "metadata": {},
     "output_type": "execute_result"
    }
   ],
   "source": [
    "# Convergence report is easy to see\n",
    "import pandas as pd\n",
    "convergence_report = assig.report()\n",
    "convergence_report.head()"
   ]
  },
  {
   "cell_type": "code",
   "execution_count": 24,
   "metadata": {},
   "outputs": [
    {
     "data": {
      "text/html": [
       "<div>\n",
       "<style scoped>\n",
       "    .dataframe tbody tr th:only-of-type {\n",
       "        vertical-align: middle;\n",
       "    }\n",
       "\n",
       "    .dataframe tbody tr th {\n",
       "        vertical-align: top;\n",
       "    }\n",
       "\n",
       "    .dataframe thead th {\n",
       "        text-align: right;\n",
       "    }\n",
       "</style>\n",
       "<table border=\"1\" class=\"dataframe\">\n",
       "  <thead>\n",
       "    <tr style=\"text-align: right;\">\n",
       "      <th></th>\n",
       "      <th>matrix_ab</th>\n",
       "      <th>matrix_ba</th>\n",
       "      <th>matrix_tot</th>\n",
       "      <th>Congested_Time_AB</th>\n",
       "      <th>Congested_Time_BA</th>\n",
       "      <th>Congested_Time_Max</th>\n",
       "      <th>Delay_factor_AB</th>\n",
       "      <th>Delay_factor_BA</th>\n",
       "      <th>Delay_factor_Max</th>\n",
       "      <th>VOC_AB</th>\n",
       "      <th>VOC_BA</th>\n",
       "      <th>VOC_max</th>\n",
       "      <th>PCE_AB</th>\n",
       "      <th>PCE_BA</th>\n",
       "      <th>PCE_tot</th>\n",
       "    </tr>\n",
       "    <tr>\n",
       "      <th>link_id</th>\n",
       "      <th></th>\n",
       "      <th></th>\n",
       "      <th></th>\n",
       "      <th></th>\n",
       "      <th></th>\n",
       "      <th></th>\n",
       "      <th></th>\n",
       "      <th></th>\n",
       "      <th></th>\n",
       "      <th></th>\n",
       "      <th></th>\n",
       "      <th></th>\n",
       "      <th></th>\n",
       "      <th></th>\n",
       "      <th></th>\n",
       "    </tr>\n",
       "  </thead>\n",
       "  <tbody>\n",
       "    <tr>\n",
       "      <th>1</th>\n",
       "      <td>4570.421761</td>\n",
       "      <td>NaN</td>\n",
       "      <td>4570.421761</td>\n",
       "      <td>6.0</td>\n",
       "      <td>NaN</td>\n",
       "      <td>6.0</td>\n",
       "      <td>1.0</td>\n",
       "      <td>NaN</td>\n",
       "      <td>1.0</td>\n",
       "      <td>0.176463</td>\n",
       "      <td>NaN</td>\n",
       "      <td>0.176463</td>\n",
       "      <td>4570.421761</td>\n",
       "      <td>NaN</td>\n",
       "      <td>4570.421761</td>\n",
       "    </tr>\n",
       "    <tr>\n",
       "      <th>2</th>\n",
       "      <td>8275.382482</td>\n",
       "      <td>NaN</td>\n",
       "      <td>8275.382482</td>\n",
       "      <td>4.0</td>\n",
       "      <td>NaN</td>\n",
       "      <td>4.0</td>\n",
       "      <td>1.0</td>\n",
       "      <td>NaN</td>\n",
       "      <td>1.0</td>\n",
       "      <td>0.353596</td>\n",
       "      <td>NaN</td>\n",
       "      <td>0.353596</td>\n",
       "      <td>8275.382482</td>\n",
       "      <td>NaN</td>\n",
       "      <td>8275.382482</td>\n",
       "    </tr>\n",
       "    <tr>\n",
       "      <th>3</th>\n",
       "      <td>4675.373252</td>\n",
       "      <td>NaN</td>\n",
       "      <td>4675.373252</td>\n",
       "      <td>6.0</td>\n",
       "      <td>NaN</td>\n",
       "      <td>6.0</td>\n",
       "      <td>1.0</td>\n",
       "      <td>NaN</td>\n",
       "      <td>1.0</td>\n",
       "      <td>0.180515</td>\n",
       "      <td>NaN</td>\n",
       "      <td>0.180515</td>\n",
       "      <td>4675.373252</td>\n",
       "      <td>NaN</td>\n",
       "      <td>4675.373252</td>\n",
       "    </tr>\n",
       "    <tr>\n",
       "      <th>4</th>\n",
       "      <td>5900.513362</td>\n",
       "      <td>NaN</td>\n",
       "      <td>5900.513362</td>\n",
       "      <td>5.0</td>\n",
       "      <td>NaN</td>\n",
       "      <td>5.0</td>\n",
       "      <td>1.0</td>\n",
       "      <td>NaN</td>\n",
       "      <td>1.0</td>\n",
       "      <td>1.190056</td>\n",
       "      <td>NaN</td>\n",
       "      <td>1.190056</td>\n",
       "      <td>5900.513362</td>\n",
       "      <td>NaN</td>\n",
       "      <td>5900.513362</td>\n",
       "    </tr>\n",
       "    <tr>\n",
       "      <th>5</th>\n",
       "      <td>8170.430991</td>\n",
       "      <td>NaN</td>\n",
       "      <td>8170.430991</td>\n",
       "      <td>4.0</td>\n",
       "      <td>NaN</td>\n",
       "      <td>4.0</td>\n",
       "      <td>1.0</td>\n",
       "      <td>NaN</td>\n",
       "      <td>1.0</td>\n",
       "      <td>0.349112</td>\n",
       "      <td>NaN</td>\n",
       "      <td>0.349112</td>\n",
       "      <td>8170.430991</td>\n",
       "      <td>NaN</td>\n",
       "      <td>8170.430991</td>\n",
       "    </tr>\n",
       "  </tbody>\n",
       "</table>\n",
       "</div>"
      ],
      "text/plain": [
       "           matrix_ab  matrix_ba   matrix_tot  Congested_Time_AB  \\\n",
       "link_id                                                           \n",
       "1        4570.421761        NaN  4570.421761                6.0   \n",
       "2        8275.382482        NaN  8275.382482                4.0   \n",
       "3        4675.373252        NaN  4675.373252                6.0   \n",
       "4        5900.513362        NaN  5900.513362                5.0   \n",
       "5        8170.430991        NaN  8170.430991                4.0   \n",
       "\n",
       "         Congested_Time_BA  Congested_Time_Max  Delay_factor_AB  \\\n",
       "link_id                                                           \n",
       "1                      NaN                 6.0              1.0   \n",
       "2                      NaN                 4.0              1.0   \n",
       "3                      NaN                 6.0              1.0   \n",
       "4                      NaN                 5.0              1.0   \n",
       "5                      NaN                 4.0              1.0   \n",
       "\n",
       "         Delay_factor_BA  Delay_factor_Max    VOC_AB  VOC_BA   VOC_max  \\\n",
       "link_id                                                                  \n",
       "1                    NaN               1.0  0.176463     NaN  0.176463   \n",
       "2                    NaN               1.0  0.353596     NaN  0.353596   \n",
       "3                    NaN               1.0  0.180515     NaN  0.180515   \n",
       "4                    NaN               1.0  1.190056     NaN  1.190056   \n",
       "5                    NaN               1.0  0.349112     NaN  0.349112   \n",
       "\n",
       "              PCE_AB  PCE_BA      PCE_tot  \n",
       "link_id                                    \n",
       "1        4570.421761     NaN  4570.421761  \n",
       "2        8275.382482     NaN  8275.382482  \n",
       "3        4675.373252     NaN  4675.373252  \n",
       "4        5900.513362     NaN  5900.513362  \n",
       "5        8170.430991     NaN  8170.430991  "
      ]
     },
     "execution_count": 24,
     "metadata": {},
     "output_type": "execute_result"
    }
   ],
   "source": [
    "volumes = assig.results()\n",
    "volumes.head()"
   ]
  },
  {
   "cell_type": "code",
   "execution_count": 25,
   "metadata": {
    "pycharm": {
     "is_executing": false
    }
   },
   "outputs": [],
   "source": [
    "# The link flows are easy to export.\n",
    "# we do so for csv and AequilibraEData\n",
    "assigclass.results.save_to_disk(join(fldr, assg_fldr, 'link_flows_c.csv'), output=\"loads\")\n",
    "assigclass.results.save_to_disk(join(fldr, assg_fldr, 'link_flows_c.aed'), output=\"loads\")"
   ]
  },
  {
   "cell_type": "code",
   "execution_count": 26,
   "metadata": {
    "pycharm": {
     "is_executing": false
    }
   },
   "outputs": [],
   "source": [
    "# the skims are easy to get.\n",
    "\n",
    "# The blended one are here\n",
    "avg_skims = assigclass.results.skims\n",
    "\n",
    "# The ones for the last iteration are here\n",
    "last_skims = assigclass._aon_results.skims\n",
    "\n",
    "# Assembling a single final skim file can be done like this\n",
    "# We will want only the time for the last iteration and the distance averaged out for all iterations\n",
    "kwargs = {'file_name': join(fldr,assg_fldr, 'skims.aem'),\n",
    "          'zones': graph.num_zones,\n",
    "          'matrix_names': ['time_final', 'distance_blended']}\n",
    "\n",
    "# Create the matrix file\n",
    "out_skims = AequilibraeMatrix()\n",
    "out_skims.create_empty(**kwargs)\n",
    "out_skims.index[:] = avg_skims.index[:]\n",
    "\n",
    "# Transfer the data\n",
    " # The names of the skims are the name of the fields\n",
    "out_skims.matrix['time_final'][:,:] = last_skims.matrix['free_flow_time'][:,:]\n",
    "# It is CRITICAL to assign the matrix values using the [:,:]\n",
    "out_skims.matrix['distance_blended'][:,:] = avg_skims.matrix['distance'][:,:]\n",
    "\n",
    "out_skims.matrices.flush() # Make sure that all data went to the disk\n",
    "\n",
    "# Export to OMX as well\n",
    "out_skims.export(join(fldr,assg_fldr, 'skims.omx'))\n",
    "\n",
    "    "
   ]
  },
  {
   "cell_type": "markdown",
   "metadata": {},
   "source": [
    "# Trip distribution"
   ]
  },
  {
   "cell_type": "markdown",
   "metadata": {},
   "source": [
    "### Calibration\n",
    "\n",
    "We will calibrate synthetic gravity models using the skims for TIME that we just generated"
   ]
  },
  {
   "cell_type": "code",
   "execution_count": 27,
   "metadata": {
    "pycharm": {
     "is_executing": false
    }
   },
   "outputs": [],
   "source": [
    "import numpy as np\n",
    "from aequilibrae.distribution import GravityCalibration\n",
    "from aequilibrae.matrix import AequilibraeMatrix"
   ]
  },
  {
   "cell_type": "code",
   "execution_count": 28,
   "metadata": {
    "pycharm": {
     "is_executing": false
    }
   },
   "outputs": [],
   "source": [
    "# We need the demand\n",
    "demand = AequilibraeMatrix()\n",
    "demand.load(join(fldr, dt_fldr, 'demand.omx'))\n",
    "\n",
    "# And the skims\n",
    "imped = AequilibraeMatrix()\n",
    "imped.load(join(fldr,assg_fldr, 'skims.aem'))"
   ]
  },
  {
   "cell_type": "code",
   "execution_count": 29,
   "metadata": {
    "pycharm": {
     "is_executing": false
    }
   },
   "outputs": [],
   "source": [
    "# But before using the data, let's get some impedance for the intrazonals\n",
    "# Let's assume it is 75% of the closest zone\n",
    "\n",
    "# If we run the code below more than once, we will be overwriting the diagonal values with non-sensical data\n",
    "# so let's zero it first\n",
    "np.fill_diagonal(imped.matrix['time_final'], 0)\n",
    "\n",
    "# We compute it with a little bit of NumPy magic\n",
    "intrazonals = np.amin(imped.matrix['time_final'], where=imped.matrix['time_final']>0, initial=imped.matrix['time_final'].max(), axis=1)\n",
    "intrazonals *= 0.75\n",
    "\n",
    "# Then we fill in the impedance matrix\n",
    "np.fill_diagonal(imped.matrix['time_final'], intrazonals)\n"
   ]
  },
  {
   "cell_type": "code",
   "execution_count": 30,
   "metadata": {
    "pycharm": {
     "is_executing": false
    }
   },
   "outputs": [],
   "source": [
    "# We set the matrices forbeing used in computation\n",
    "imped.computational_view(['time_final'])\n",
    "demand.computational_view(['matrix'])"
   ]
  },
  {
   "cell_type": "code",
   "execution_count": 31,
   "metadata": {
    "pycharm": {
     "is_executing": false
    }
   },
   "outputs": [],
   "source": [
    "from math import log10, floor\n",
    "def plot_tlfd(demand, skim, name):\n",
    "    import matplotlib.pyplot as plt\n",
    "    b = floor(log10(skim.shape[0]) * 10)\n",
    "    n, bins, patches = plt.hist(np.nan_to_num(skim.flatten(),0), bins = b, weights=np.nan_to_num(demand.flatten()), density=False, facecolor='g', alpha=0.75)\n",
    "\n",
    "    plt.xlabel('Trip length')\n",
    "    plt.ylabel('Probability')\n",
    "    plt.title('Trip-length frequency distribution')\n",
    "    plt.savefig(name, format=\"png\")\n",
    "    plt.clf()"
   ]
  },
  {
   "cell_type": "code",
   "execution_count": 32,
   "metadata": {
    "pycharm": {
     "is_executing": false
    },
    "scrolled": true
   },
   "outputs": [
    {
     "data": {
      "text/plain": [
       "<Figure size 432x288 with 0 Axes>"
      ]
     },
     "metadata": {},
     "output_type": "display_data"
    }
   ],
   "source": [
    "for function in ['power', 'expo']:\n",
    "    model = GravityCalibration(matrix=demand, impedance=imped, function=function, nan_as_zero=True)\n",
    "    model.calibrate()\n",
    "    \n",
    "    # we save the model\n",
    "    model.model.save(join(fldr, dstr_fldr, f'{function}_model.mod'))\n",
    "    \n",
    "    # We save a trip length frequency distribution image\n",
    "    plot_tlfd(model.result_matrix.matrix_view, imped.matrix_view,join(fldr, dstr_fldr, f'{function}_tfld.png') )\n",
    "    \n",
    "    # We can save the result of applying the model as well\n",
    "    # we can also save the calibration report\n",
    "    with open(join(fldr, dstr_fldr, f'{function}_convergence.log'), 'w') as otp:\n",
    "        for r in  model.report:\n",
    "            otp.write(r+'\\n')"
   ]
  },
  {
   "cell_type": "code",
   "execution_count": 33,
   "metadata": {
    "pycharm": {
     "is_executing": false
    }
   },
   "outputs": [
    {
     "data": {
      "text/plain": [
       "<Figure size 432x288 with 0 Axes>"
      ]
     },
     "metadata": {},
     "output_type": "display_data"
    }
   ],
   "source": [
    "# We save a trip length frequency distribution image\n",
    "plot_tlfd(demand.matrix_view, imped.matrix_view,join(fldr, dstr_fldr, 'demand_tfld.png') )"
   ]
  },
  {
   "cell_type": "markdown",
   "metadata": {},
   "source": [
    "# Forecast\n",
    "\n",
    "* We create a set of *'future'* vectors using some random growth factors\n",
    "* We apply the model for inverse power, as the TFLD seems to be a better fit for the actual one"
   ]
  },
  {
   "cell_type": "code",
   "execution_count": 34,
   "metadata": {
    "pycharm": {
     "is_executing": false
    }
   },
   "outputs": [],
   "source": [
    "from aequilibrae.distribution import Ipf, GravityApplication, SyntheticGravityModel, Ipf\n",
    "from aequilibrae.matrix import AequilibraeData, AequilibraeMatrix\n",
    "import numpy as np"
   ]
  },
  {
   "cell_type": "code",
   "execution_count": 35,
   "metadata": {
    "pycharm": {
     "is_executing": false
    }
   },
   "outputs": [],
   "source": [
    "# We compute the vectors from our matrix\n",
    "mat = AequilibraeMatrix()\n",
    "\n",
    "mat.load(join(fldr, dt_fldr, 'demand.omx'))\n",
    "mat.computational_view()\n",
    "origins = np.sum(mat.matrix_view, axis=1)\n",
    "destinations = np.sum(mat.matrix_view, axis=0)\n",
    "\n",
    "args = {'file_path':join(fldr,  frcst_fldr, 'synthetic_future_vector.aed'),\n",
    "        \"entries\": mat.zones, \n",
    "        \"field_names\": [\"origins\", \"destinations\"],\n",
    "    \"data_types\": [np.float64, np.float64], \n",
    "        \"memory_mode\": False}\n",
    "\n",
    "vectors = AequilibraeData()\n",
    "vectors.create_empty(**args)\n",
    "\n",
    "vectors.index[:] =mat.index[:]\n",
    "\n",
    "# Then grow them with some random growth between 0 and 10% - Plus balance them\n",
    "vectors.origins[:] = origins * (1+ np.random.rand(vectors.entries)/10)\n",
    "vectors.destinations[:] = destinations * (1+ np.random.rand(vectors.entries)/10)\n",
    "vectors.destinations *= vectors.origins.sum()/vectors.destinations.sum()"
   ]
  },
  {
   "cell_type": "code",
   "execution_count": 36,
   "metadata": {
    "pycharm": {
     "is_executing": false
    }
   },
   "outputs": [],
   "source": [
    "# Impedance \n",
    "imped = AequilibraeMatrix()\n",
    "imped.load(join(fldr,assg_fldr, 'skims.aem'))\n",
    "imped.computational_view(['time_final'])\n",
    "\n",
    "# We want the main diagonal to be zero\n",
    "np.fill_diagonal(imped.matrix_view, np.nan)"
   ]
  },
  {
   "cell_type": "code",
   "execution_count": 37,
   "metadata": {
    "pycharm": {
     "is_executing": false
    }
   },
   "outputs": [],
   "source": [
    "for function in ['power', 'expo']:\n",
    "    model = SyntheticGravityModel()\n",
    "    model.load(join(fldr, dstr_fldr, f'{function}_model.mod'))\n",
    "\n",
    "    outmatrix = join(fldr,frcst_fldr, f'demand_{function}_model.aem') \n",
    "    apply = GravityApplication()\n",
    "    args = {\"impedance\": imped,\n",
    "            \"rows\": vectors,\n",
    "            \"row_field\": \"origins\",\n",
    "            \"model\": model,\n",
    "            \"columns\": vectors,\n",
    "            \"column_field\": \"destinations\",\n",
    "            \"output\": outmatrix,\n",
    "            \"nan_as_zero\":True\n",
    "            }\n",
    "\n",
    "    gravity = GravityApplication(**args)\n",
    "    gravity.apply()\n",
    "\n",
    "    #We get the output matrix and save it to OMX too\n",
    "    resm = AequilibraeMatrix()\n",
    "    resm.load(outmatrix)\n",
    "    resm.export(join(fldr,frcst_fldr, f'demand_{function}_model.omx'))"
   ]
  },
  {
   "cell_type": "markdown",
   "metadata": {},
   "source": [
    "### We now run IPF for the future vectors"
   ]
  },
  {
   "cell_type": "code",
   "execution_count": 38,
   "metadata": {
    "pycharm": {
     "is_executing": false
    }
   },
   "outputs": [],
   "source": [
    "demand = AequilibraeMatrix()\n",
    "demand.load(join(fldr, dt_fldr, 'demand.omx'))\n",
    "demand.computational_view()\n",
    "\n",
    "args = {'matrix': demand,\n",
    "        'rows': vectors,\n",
    "        'columns': vectors,\n",
    "        'column_field': \"destinations\",\n",
    "        'row_field': \"origins\",\n",
    "        'nan_as_zero': True}\n",
    "\n",
    "ipf = Ipf(**args)\n",
    "ipf.fit()\n",
    "\n",
    "output = AequilibraeMatrix()\n",
    "output.load(ipf.output.file_path)\n",
    "\n",
    "output.export(join(fldr,frcst_fldr, 'demand_ipf.aem'))\n",
    "output.export(join(fldr,frcst_fldr, 'demand_ipf.omx'))\n"
   ]
  },
  {
   "cell_type": "markdown",
   "metadata": {},
   "source": [
    "# Future traffic assignment"
   ]
  },
  {
   "cell_type": "code",
   "execution_count": 39,
   "metadata": {
    "pycharm": {
     "is_executing": false
    }
   },
   "outputs": [],
   "source": [
    "from aequilibrae.matrix import AequilibraeMatrix\n",
    "from aequilibrae.paths import TrafficAssignment, TrafficClass\n",
    "from aequilibrae import logger\n",
    "import logging"
   ]
  },
  {
   "cell_type": "code",
   "execution_count": 40,
   "metadata": {
    "pycharm": {
     "is_executing": false
    }
   },
   "outputs": [
    {
     "name": "stdout",
     "output_type": "stream",
     "text": [
      "2020-11-05 13:24:39,246;aequilibrae;INFO ; \n",
      "\n",
      "\n",
      " TRAFFIC ASSIGNMENT FOR FUTURE YEAR\n"
     ]
    }
   ],
   "source": [
    "logger.info('\\n\\n\\n TRAFFIC ASSIGNMENT FOR FUTURE YEAR')"
   ]
  },
  {
   "cell_type": "code",
   "execution_count": 41,
   "metadata": {
    "pycharm": {
     "is_executing": false
    }
   },
   "outputs": [],
   "source": [
    "# from before\n",
    "graph = project.network.graphs['c'] # we grab the graph for cars\n",
    "graph.set_graph('free_flow_time') # let's say we want to minimize time\n",
    "graph.set_skimming(['free_flow_time', 'distance']) # And will skim time and distance\n",
    "graph.set_blocked_centroid_flows(False)"
   ]
  },
  {
   "cell_type": "code",
   "execution_count": 42,
   "metadata": {
    "pycharm": {
     "is_executing": false
    },
    "scrolled": true
   },
   "outputs": [
    {
     "name": "stdout",
     "output_type": "stream",
     "text": [
      "2020-11-05 13:24:39,677;aequilibrae;INFO ; bfw Assignment STATS\n",
      "2020-11-05 13:24:39,677;aequilibrae;INFO ; Iteration, RelativeGap, stepsize\n",
      "2020-11-05 13:24:39,790;aequilibrae;INFO ; 1,inf,1.0\n",
      "2020-11-05 13:24:39,910;aequilibrae;INFO ; 2,0.8802711249340913,0.3383782509024761\n",
      "2020-11-05 13:24:40,034;aequilibrae;INFO ; 3,0.480289682785832,0.2227580391025405\n",
      "2020-11-05 13:24:40,155;aequilibrae;INFO ; 4,0.2518851824049047,0.17297427780976923\n",
      "2020-11-05 13:24:40,281;aequilibrae;INFO ; 5,0.12360171808243732,0.4900586029613198\n",
      "2020-11-05 13:24:40,416;aequilibrae;INFO ; 6,0.18679595660091808,0.140147469362504\n",
      "2020-11-05 13:24:40,539;aequilibrae;INFO ; 7,0.09086142722249475,0.35770324266429077\n",
      "2020-11-05 13:24:40,670;aequilibrae;INFO ; 8,0.10497094366609536,0.8480798469896671\n",
      "2020-11-05 13:24:40,815;aequilibrae;INFO ; 9,0.1371010902267951,0.14152271182437456\n",
      "2020-11-05 13:24:40,947;aequilibrae;INFO ; 10,0.06860667962998532,0.16343971341248112\n",
      "2020-11-05 13:24:41,083;aequilibrae;INFO ; 11,0.03647031093329362,0.7583476547797342\n",
      "2020-11-05 13:24:41,215;aequilibrae;INFO ; 12,0.0686236576087151,0.09738295421566787\n",
      "2020-11-05 13:24:41,350;aequilibrae;INFO ; 13,0.021277483205951336,0.3262235271783968\n",
      "2020-11-05 13:24:41,499;aequilibrae;INFO ; 14,0.05222722956904916,0.07642116741414541\n",
      "2020-11-05 13:24:41,632;aequilibrae;INFO ; 15,0.020517146844820443,0.0952678784026387\n",
      "2020-11-05 13:24:41,760;aequilibrae;INFO ; 16,0.011962451292376315,0.7006053888814544\n",
      "2020-11-05 13:24:41,880;aequilibrae;INFO ; 17,0.050570118116059694,0.06519340547275136\n",
      "2020-11-05 13:24:42,015;aequilibrae;INFO ; 18,0.018089715844512674,0.06343915099481451\n",
      "2020-11-05 13:24:42,152;aequilibrae;INFO ; 19,0.012118969049433508,0.12013126401924656\n",
      "2020-11-05 13:24:42,283;aequilibrae;INFO ; 20,0.010642699420795487,0.1522822636855921\n",
      "2020-11-05 13:24:42,421;aequilibrae;INFO ; 21,0.010062820604927369,0.408693436975931\n",
      "2020-11-05 13:24:42,547;aequilibrae;INFO ; 22,0.012440970223977074,0.791061405495526\n",
      "2020-11-05 13:24:42,677;aequilibrae;INFO ; 23,0.013547297503065672,0.053408426604942535\n",
      "2020-11-05 13:24:42,798;aequilibrae;INFO ; 24,0.007401475975675247,0.1125215024976395\n",
      "2020-11-05 13:24:42,920;aequilibrae;INFO ; 25,0.007623126777829842,0.21908350581134067\n",
      "2020-11-05 13:24:43,046;aequilibrae;INFO ; 26,0.0076550034972979655,0.27983639747058897\n",
      "2020-11-05 13:24:43,178;aequilibrae;INFO ; 27,0.006456785555950785,0.1726702775059242\n",
      "2020-11-05 13:24:43,323;aequilibrae;INFO ; 28,0.004335146595401077,0.32191061330568393\n",
      "2020-11-05 13:24:43,445;aequilibrae;INFO ; 29,0.004583275534789521,0.3347915938220624\n",
      "2020-11-05 13:24:43,563;aequilibrae;INFO ; 30,0.003819107967032863,0.5479048527266239\n",
      "2020-11-05 13:24:43,691;aequilibrae;INFO ; 31,0.004020381503009045,0.028809822340308718\n",
      "2020-11-05 13:24:43,814;aequilibrae;INFO ; 32,0.0033120151458071617,0.04306537803644091\n",
      "2020-11-05 13:24:43,950;aequilibrae;INFO ; 33,0.002790577575394705,0.07170226790900809\n",
      "2020-11-05 13:24:44,066;aequilibrae;INFO ; 34,0.002985405745071881,0.08238081022390333\n",
      "2020-11-05 13:24:44,199;aequilibrae;INFO ; 35,0.0030138578692173595,0.10221930419058216\n",
      "2020-11-05 13:24:44,322;aequilibrae;INFO ; 36,0.0028463685414250573,0.27056993629658216\n",
      "2020-11-05 13:24:44,452;aequilibrae;INFO ; 37,0.0033177431590502033,0.4883546013187572\n",
      "2020-11-05 13:24:44,572;aequilibrae;INFO ; 38,0.0035739521676599207,0.027088589260376515\n",
      "2020-11-05 13:24:44,696;aequilibrae;INFO ; 39,0.002074391746453232,0.022300728111076674\n",
      "2020-11-05 13:24:44,835;aequilibrae;INFO ; 40,0.0022071624583725664,0.038658039008967096\n",
      "2020-11-05 13:24:44,972;aequilibrae;INFO ; 41,0.0016676065526648517,0.06926991136484928\n",
      "2020-11-05 13:24:45,090;aequilibrae;INFO ; 42,0.001930205748128113,0.07053858974448605\n",
      "2020-11-05 13:24:45,217;aequilibrae;INFO ; 43,0.0016991970971139267,0.08442468437886708\n",
      "2020-11-05 13:24:45,340;aequilibrae;INFO ; 44,0.001632774759094216,0.0992048421948637\n",
      "2020-11-05 13:24:45,466;aequilibrae;INFO ; 45,0.0018044894880092973,0.20085900149404157\n",
      "2020-11-05 13:24:45,597;aequilibrae;INFO ; 46,0.0017054997711425577,0.25109246718105654\n",
      "2020-11-05 13:24:45,716;aequilibrae;INFO ; 47,0.0015317126918135936,0.23327377720773484\n",
      "2020-11-05 13:24:45,828;aequilibrae;INFO ; 48,0.001493453821925848,0.4383515729373507\n",
      "2020-11-05 13:24:45,962;aequilibrae;INFO ; 49,0.0014007076539549002,0.6574737920219188\n",
      "2020-11-05 13:24:46,088;aequilibrae;INFO ; 50,0.0014404666194511757,0.010042207407738285\n",
      "2020-11-05 13:24:46,217;aequilibrae;INFO ; 51,0.0011568141872760446,0.011754112579756192\n",
      "2020-11-05 13:24:46,345;aequilibrae;INFO ; 52,0.0008585529214220423,0.012609375329283436\n",
      "2020-11-05 13:24:46,463;aequilibrae;INFO ; 53,0.0008771981590551356,0.0244922800568456\n",
      "2020-11-05 13:24:46,583;aequilibrae;INFO ; 54,0.0009164548418415428,0.02664230975647249\n",
      "2020-11-05 13:24:46,701;aequilibrae;INFO ; 55,0.0009276933067153831,0.03146228351585631\n",
      "2020-11-05 13:24:46,826;aequilibrae;INFO ; 56,0.000705776540031566,0.014030575085347068\n",
      "2020-11-05 13:24:46,950;aequilibrae;INFO ; 57,0.0004352785481619673,0.01828904973744071\n",
      "2020-11-05 13:24:47,083;aequilibrae;INFO ; 58,0.00045300461744807955,0.027413616870999143\n",
      "2020-11-05 13:24:47,209;aequilibrae;INFO ; 59,0.00038098023015245954,0.027943931019833963\n",
      "2020-11-05 13:24:47,327;aequilibrae;INFO ; 60,0.0003798582843773023,0.021040671940061446\n",
      "2020-11-05 13:24:47,457;aequilibrae;INFO ; 61,0.00041243891076743076,0.04343021975270827\n",
      "2020-11-05 13:24:47,586;aequilibrae;INFO ; 62,0.00039762760213202843,0.042600305872988437\n",
      "2020-11-05 13:24:47,717;aequilibrae;INFO ; 63,0.0004414429699215073,0.06566569084436068\n",
      "2020-11-05 13:24:47,833;aequilibrae;INFO ; 64,0.00028795171459111176,0.019623580109115177\n",
      "2020-11-05 13:24:47,945;aequilibrae;INFO ; 65,0.00022567047708529423,0.024574350201243562\n",
      "2020-11-05 13:24:48,076;aequilibrae;INFO ; 66,0.00023478304413925314,0.028062172538715884\n",
      "2020-11-05 13:24:48,202;aequilibrae;INFO ; 67,0.00022798050162051308,0.02424942594001465\n",
      "2020-11-05 13:24:48,328;aequilibrae;INFO ; 68,0.0002185462486517504,0.020168580963172686\n",
      "2020-11-05 13:24:48,450;aequilibrae;INFO ; 69,0.000196499399331673,0.04120745435192931\n",
      "2020-11-05 13:24:48,582;aequilibrae;INFO ; 70,0.00022188527235616592,0.03793050673625639\n",
      "2020-11-05 13:24:48,713;aequilibrae;INFO ; 71,0.00021499744510933798,0.038453707958002015\n",
      "2020-11-05 13:24:48,858;aequilibrae;INFO ; 72,0.00021426926728413705,0.03741210546768828\n",
      "2020-11-05 13:24:48,990;aequilibrae;INFO ; 73,0.00025558885355923567,0.036643292778087484\n",
      "2020-11-05 13:24:49,122;aequilibrae;INFO ; 74,0.0002456718577522724,0.059968615351771504\n",
      "2020-11-05 13:24:49,241;aequilibrae;INFO ; 75,0.00025091243331567945,0.0418067141007204\n",
      "2020-11-05 13:24:49,366;aequilibrae;INFO ; 76,0.000244900708564596,0.04955299398048254\n",
      "2020-11-05 13:24:49,479;aequilibrae;INFO ; 77,0.0002325651938114964,0.06394564748121732\n",
      "2020-11-05 13:24:49,603;aequilibrae;INFO ; 78,0.00018650910919941078,0.04762836367938534\n",
      "2020-11-05 13:24:49,716;aequilibrae;INFO ; 79,0.0001706356330182618,0.06592957933047688\n",
      "2020-11-05 13:24:49,841;aequilibrae;INFO ; 80,0.00019606478963643382,0.07047389585612558\n",
      "2020-11-05 13:24:49,966;aequilibrae;INFO ; 81,0.00021397053065445155,0.08095574006900709\n",
      "2020-11-05 13:24:50,079;aequilibrae;INFO ; 82,0.00020111371960202152,0.06733413320140882\n",
      "2020-11-05 13:24:50,203;aequilibrae;INFO ; 83,0.0002557983046333099,0.06218494413975105\n",
      "2020-11-05 13:24:50,337;aequilibrae;INFO ; 84,0.0001978762553754665,0.0440570804176383\n",
      "2020-11-05 13:24:50,460;aequilibrae;INFO ; 85,0.00020337665361258288,0.08587324239904262\n",
      "2020-11-05 13:24:50,589;aequilibrae;INFO ; 86,0.00020122752836471144,0.07241274701555787\n",
      "2020-11-05 13:24:50,711;aequilibrae;INFO ; 87,0.00018622274599324512,0.03294772821181014\n",
      "2020-11-05 13:24:50,828;aequilibrae;INFO ; 88,0.00015926514408418337,0.029056957377151176\n",
      "2020-11-05 13:24:50,956;aequilibrae;INFO ; 89,0.00012621303628192264,0.01577868352162068\n",
      "2020-11-05 13:24:51,085;aequilibrae;INFO ; 90,0.00010304641489124632,0.011054577492551515\n",
      "2020-11-05 13:24:51,212;aequilibrae;INFO ; 91,8.011957832211384e-05,0.0049407452897609555\n",
      "2020-11-05 13:24:51,337;aequilibrae;INFO ; 92,0.00010649229855175935,0.01490679418230658\n",
      "2020-11-05 13:24:51,459;aequilibrae;INFO ; 93,0.00010317016990397429,0.014324794395798106\n"
     ]
    },
    {
     "name": "stdout",
     "output_type": "stream",
     "text": [
      "2020-11-05 13:24:51,594;aequilibrae;INFO ; 94,0.00010236968709981051,0.017458477307306253\n",
      "2020-11-05 13:24:51,713;aequilibrae;INFO ; 95,9.825221202534195e-05,0.016737138294739766\n",
      "2020-11-05 13:24:51,849;aequilibrae;INFO ; 96,8.553885077103601e-05,0.008695327593620888\n",
      "2020-11-05 13:24:51,991;aequilibrae;INFO ; 97,8.769449795741627e-05,0.010925525647240697\n",
      "2020-11-05 13:24:52,129;aequilibrae;INFO ; 98,9.871569875441917e-05,0.008015220188558164\n",
      "2020-11-05 13:24:52,246;aequilibrae;INFO ; 99,7.822592439841203e-05,0.006772101579543307\n",
      "2020-11-05 13:24:52,382;aequilibrae;INFO ; 100,8.274145859998298e-05,0.0070637960387709125\n",
      "2020-11-05 13:24:52,526;aequilibrae;INFO ; 101,7.790842946105245e-05,0.0065180147902365645\n",
      "2020-11-05 13:24:52,654;aequilibrae;INFO ; 102,7.947846838072463e-05,0.01329953430005701\n",
      "2020-11-05 13:24:52,787;aequilibrae;INFO ; 103,7.509578969852205e-05,0.013193345301932297\n",
      "2020-11-05 13:24:52,911;aequilibrae;INFO ; 104,7.953264404553255e-05,0.010376585109088034\n",
      "2020-11-05 13:24:53,035;aequilibrae;INFO ; 105,9.75219589857149e-05,0.02044744971173945\n",
      "2020-11-05 13:24:53,162;aequilibrae;INFO ; 106,7.752432329997361e-05,0.012465843575867212\n",
      "2020-11-05 13:24:53,289;aequilibrae;INFO ; 107,7.476230040940758e-05,0.017507750691916645\n",
      "2020-11-05 13:24:53,417;aequilibrae;INFO ; 108,7.402182567065025e-05,0.009025086973934941\n",
      "2020-11-05 13:24:53,555;aequilibrae;INFO ; 109,7.67111398517336e-05,0.016027742274442938\n",
      "2020-11-05 13:24:53,676;aequilibrae;INFO ; 110,0.00010502820351081046,0.011945214201113597\n",
      "2020-11-05 13:24:53,801;aequilibrae;INFO ; 111,0.0001056143255637145,0.029571938181991702\n",
      "2020-11-05 13:24:53,932;aequilibrae;INFO ; 112,0.00012200538924585871,0.020671422630880818\n",
      "2020-11-05 13:24:54,060;aequilibrae;INFO ; 113,9.305173559775361e-05,0.02091229493441972\n",
      "2020-11-05 13:24:54,183;aequilibrae;INFO ; 114,9.043136085988793e-05,0.020187643412656997\n",
      "2020-11-05 13:24:54,313;aequilibrae;INFO ; 115,0.00010053340331527446,0.01744982078545048\n",
      "2020-11-05 13:24:54,440;aequilibrae;INFO ; 116,7.931879005594836e-05,0.013737691488349333\n",
      "2020-11-05 13:24:54,558;aequilibrae;INFO ; 117,8.341449402593438e-05,0.006470335602958485\n",
      "2020-11-05 13:24:54,694;aequilibrae;INFO ; 118,6.050042744070072e-05,0.008686213198372364\n",
      "2020-11-05 13:24:54,841;aequilibrae;INFO ; 119,4.82083475724579e-05,0.0017745593931727211\n",
      "2020-11-05 13:24:54,970;aequilibrae;INFO ; 120,3.97631696015639e-05,0.0034583833124641936\n",
      "2020-11-05 13:24:55,096;aequilibrae;INFO ; 121,4.9083319014155984e-05,0.003338639066370292\n",
      "2020-11-05 13:24:55,226;aequilibrae;INFO ; 122,4.094330455699104e-05,0.0048497959873187975\n",
      "2020-11-05 13:24:55,356;aequilibrae;INFO ; 123,4.7282743408005564e-05,0.007223892248232608\n",
      "2020-11-05 13:24:55,475;aequilibrae;INFO ; 124,5.20214336720122e-05,0.00523404924564729\n",
      "2020-11-05 13:24:55,606;aequilibrae;INFO ; 125,3.396936470374231e-05,0.004945950930174306\n",
      "2020-11-05 13:24:55,728;aequilibrae;INFO ; 126,3.216682819828097e-05,0.004936256383255907\n",
      "2020-11-05 13:24:55,844;aequilibrae;INFO ; 127,3.9339701992494926e-05,0.003578752796587488\n",
      "2020-11-05 13:24:55,966;aequilibrae;INFO ; 128,3.445246263851976e-05,0.003458290768259326\n",
      "2020-11-05 13:24:56,098;aequilibrae;INFO ; 129,3.122881930980032e-05,0.0015668561618101561\n",
      "2020-11-05 13:24:56,216;aequilibrae;INFO ; 130,2.6518802884958407e-05,0.00196196741231952\n",
      "2020-11-05 13:24:56,346;aequilibrae;INFO ; 131,3.02020482186165e-05,0.004117034838256068\n",
      "2020-11-05 13:24:56,477;aequilibrae;INFO ; 132,3.7890428854164465e-05,0.005491481135269834\n",
      "2020-11-05 13:24:56,594;aequilibrae;INFO ; 133,2.6514477264457264e-05,0.0015504099469223944\n",
      "2020-11-05 13:24:56,726;aequilibrae;INFO ; 134,2.1517779783132953e-05,0.004063879414346614\n",
      "2020-11-05 13:24:56,854;aequilibrae;INFO ; 135,2.7192560470831553e-05,0.004122697782451999\n",
      "2020-11-05 13:24:56,977;aequilibrae;INFO ; 136,3.151288484158697e-05,0.005113979671099964\n",
      "2020-11-05 13:24:57,106;aequilibrae;INFO ; 137,3.556275308907508e-05,0.005032447732973488\n",
      "2020-11-05 13:24:57,228;aequilibrae;INFO ; 138,3.9110509488244565e-05,0.0077460105118897435\n",
      "2020-11-05 13:24:57,355;aequilibrae;INFO ; 139,3.51866934774334e-05,0.00387137259666135\n",
      "2020-11-05 13:24:57,477;aequilibrae;INFO ; 140,3.473358740630346e-05,0.00899479477586626\n",
      "2020-11-05 13:24:57,612;aequilibrae;INFO ; 141,3.4290333308624846e-05,0.010676832732976253\n",
      "2020-11-05 13:24:57,732;aequilibrae;INFO ; 142,5.660574362898526e-05,0.01562399539992388\n",
      "2020-11-05 13:24:57,844;aequilibrae;INFO ; 143,4.3096206394566194e-05,0.012329614437484187\n",
      "2020-11-05 13:24:57,971;aequilibrae;INFO ; 144,5.331843345044018e-05,0.009687199371371451\n",
      "2020-11-05 13:24:58,092;aequilibrae;INFO ; 145,5.667308172525517e-05,0.01575934613395612\n",
      "2020-11-05 13:24:58,210;aequilibrae;INFO ; 146,6.006626151364161e-05,0.011396519042719138\n",
      "2020-11-05 13:24:58,343;aequilibrae;INFO ; 147,5.62633233505515e-05,0.00717954105285151\n",
      "2020-11-05 13:24:58,464;aequilibrae;INFO ; 148,5.2525983049386254e-05,0.011284499063426223\n",
      "2020-11-05 13:24:58,591;aequilibrae;INFO ; 149,5.592612469636272e-05,0.012433816628087705\n",
      "2020-11-05 13:24:58,724;aequilibrae;INFO ; 150,6.612552886271299e-05,0.010547794635901487\n",
      "2020-11-05 13:24:58,847;aequilibrae;INFO ; 151,5.863951816280823e-05,0.01261286168996194\n",
      "2020-11-05 13:24:58,976;aequilibrae;INFO ; 152,5.1975550733372965e-05,0.00901212340429922\n",
      "2020-11-05 13:24:59,096;aequilibrae;INFO ; 153,5.57251237331947e-05,0.013587190584776808\n",
      "2020-11-05 13:24:59,209;aequilibrae;INFO ; 154,4.206304855985317e-05,0.00523922236429599\n",
      "2020-11-05 13:24:59,332;aequilibrae;INFO ; 155,3.5467535431068383e-05,0.0076209202677234985\n",
      "2020-11-05 13:24:59,444;aequilibrae;INFO ; 156,4.438151420841002e-05,0.010560362039245114\n",
      "2020-11-05 13:24:59,574;aequilibrae;INFO ; 157,4.302174789329002e-05,0.011428229600045258\n",
      "2020-11-05 13:24:59,705;aequilibrae;INFO ; 158,4.398437939996431e-05,0.008441888630960797\n",
      "2020-11-05 13:24:59,829;aequilibrae;INFO ; 159,4.043681477425546e-05,0.009476609743789822\n",
      "2020-11-05 13:24:59,950;aequilibrae;INFO ; 160,3.361520168800519e-05,0.012429620031379627\n",
      "2020-11-05 13:25:00,084;aequilibrae;INFO ; 161,4.1878140278966565e-05,0.01696185959442798\n",
      "2020-11-05 13:25:00,209;aequilibrae;INFO ; 162,4.5171945945247214e-05,0.014334413813663087\n",
      "2020-11-05 13:25:00,330;aequilibrae;INFO ; 163,4.365062530445946e-05,0.010671740509070908\n",
      "2020-11-05 13:25:00,461;aequilibrae;INFO ; 164,4.254927361378468e-05,0.012274621893832483\n",
      "2020-11-05 13:25:00,590;aequilibrae;INFO ; 165,4.717544398235703e-05,0.012067909829919007\n",
      "2020-11-05 13:25:00,723;aequilibrae;INFO ; 166,4.189287385176796e-05,0.01791573071785543\n",
      "2020-11-05 13:25:00,864;aequilibrae;INFO ; 167,5.5979566141773226e-05,0.014797321923466403\n",
      "2020-11-05 13:25:00,998;aequilibrae;INFO ; 168,5.107311875454956e-05,0.013673078633915215\n",
      "2020-11-05 13:25:01,118;aequilibrae;INFO ; 169,5.212321659801327e-05,0.008963705709119947\n",
      "2020-11-05 13:25:01,248;aequilibrae;INFO ; 170,4.598600393140385e-05,0.015996915273575947\n",
      "2020-11-05 13:25:01,371;aequilibrae;INFO ; 171,5.805653220885066e-05,0.010694660822013924\n",
      "2020-11-05 13:25:01,499;aequilibrae;INFO ; 172,5.366875276119635e-05,0.008508125807707186\n",
      "2020-11-05 13:25:01,621;aequilibrae;INFO ; 173,5.092836427008237e-05,0.007614450811841104\n",
      "2020-11-05 13:25:01,745;aequilibrae;INFO ; 174,4.8833083431640026e-05,0.00837846214392576\n",
      "2020-11-05 13:25:01,871;aequilibrae;INFO ; 175,4.8984647718217485e-05,0.010555546811930385\n",
      "2020-11-05 13:25:01,991;aequilibrae;INFO ; 176,4.593221244651406e-05,0.011534689552627448\n",
      "2020-11-05 13:25:02,114;aequilibrae;INFO ; 177,4.876482011603874e-05,0.00985858368365453\n",
      "2020-11-05 13:25:02,239;aequilibrae;INFO ; 178,4.936841286621267e-05,0.008249052422780203\n",
      "2020-11-05 13:25:02,366;aequilibrae;INFO ; 179,4.2132972263819526e-05,0.009217372203307225\n",
      "2020-11-05 13:25:02,494;aequilibrae;INFO ; 180,5.056101181736264e-05,0.009698710853907238\n",
      "2020-11-05 13:25:02,617;aequilibrae;INFO ; 181,4.458129078786828e-05,0.005202453623771373\n",
      "2020-11-05 13:25:02,752;aequilibrae;INFO ; 182,3.556731522253019e-05,0.003200485935107315\n",
      "2020-11-05 13:25:02,898;aequilibrae;INFO ; 183,3.804322619052613e-05,0.005967671164412564\n",
      "2020-11-05 13:25:03,029;aequilibrae;INFO ; 184,3.79390918868061e-05,0.00814849325402501\n",
      "2020-11-05 13:25:03,191;aequilibrae;INFO ; 185,4.358768832169105e-05,0.004135723397880271\n"
     ]
    },
    {
     "name": "stdout",
     "output_type": "stream",
     "text": [
      "2020-11-05 13:25:03,332;aequilibrae;INFO ; 186,3.1818721055404206e-05,0.0046773675541063485\n",
      "2020-11-05 13:25:03,487;aequilibrae;INFO ; 187,4.01648831743481e-05,0.006935403054193095\n",
      "2020-11-05 13:25:03,627;aequilibrae;INFO ; 188,2.7034503526302145e-05,0.0020971790852228555\n",
      "2020-11-05 13:25:03,777;aequilibrae;INFO ; 189,2.2435319105336875e-05,0.004209650079521295\n",
      "2020-11-05 13:25:03,901;aequilibrae;INFO ; 190,2.811729766924176e-05,0.0033926048797328127\n",
      "2020-11-05 13:25:04,034;aequilibrae;INFO ; 191,2.6353456568977493e-05,0.00441516159365563\n",
      "2020-11-05 13:25:04,162;aequilibrae;INFO ; 192,2.060410240027124e-05,0.0027365523598458924\n",
      "2020-11-05 13:25:04,279;aequilibrae;INFO ; 193,1.9156927955395665e-05,0.0026805936007122874\n",
      "2020-11-05 13:25:04,399;aequilibrae;INFO ; 194,2.0548465470603766e-05,0.0030207870863191108\n",
      "2020-11-05 13:25:04,517;aequilibrae;INFO ; 195,2.5239283434470908e-05,0.0028544757426833323\n",
      "2020-11-05 13:25:04,635;aequilibrae;INFO ; 196,1.9860048822402067e-05,0.0026107433588293785\n",
      "2020-11-05 13:25:04,773;aequilibrae;INFO ; 197,1.9239763163282515e-05,0.0017339499468622683\n",
      "2020-11-05 13:25:04,908;aequilibrae;INFO ; 198,2.045126523399283e-05,0.001416878604725244\n",
      "2020-11-05 13:25:05,029;aequilibrae;INFO ; 199,2.1555019283842846e-05,0.0021108312448055644\n",
      "2020-11-05 13:25:05,168;aequilibrae;INFO ; 200,1.802954391106169e-05,0.0020580847115225145\n",
      "2020-11-05 13:25:05,301;aequilibrae;INFO ; 201,1.9418133610278534e-05,0.0019215259606557944\n",
      "2020-11-05 13:25:05,429;aequilibrae;INFO ; 202,1.4577544559395999e-05,0.0012180392566649488\n",
      "2020-11-05 13:25:05,553;aequilibrae;INFO ; 203,1.6544203916449877e-05,0.0011950397939726163\n",
      "2020-11-05 13:25:05,675;aequilibrae;INFO ; 204,1.5191727820130857e-05,0.0016951599703825912\n",
      "2020-11-05 13:25:05,805;aequilibrae;INFO ; 205,1.6038112116977945e-05,0.0022051131914887826\n",
      "2020-11-05 13:25:05,937;aequilibrae;INFO ; 206,1.921910670306997e-05,0.0025338171784261556\n",
      "2020-11-05 13:25:06,069;aequilibrae;INFO ; 207,1.894647210474396e-05,0.0033607844768723956\n",
      "2020-11-05 13:25:06,193;aequilibrae;INFO ; 208,1.912194169391511e-05,0.004703633814594018\n",
      "2020-11-05 13:25:06,326;aequilibrae;INFO ; 209,2.4602469259838197e-05,0.004201081802919707\n",
      "2020-11-05 13:25:06,444;aequilibrae;INFO ; 210,2.048068524969201e-05,0.002221867357671966\n",
      "2020-11-05 13:25:06,570;aequilibrae;INFO ; 211,2.4356465282146777e-05,0.002177093575212865\n",
      "2020-11-05 13:25:06,688;aequilibrae;INFO ; 212,2.3099568030878424e-05,0.0024224466219809155\n",
      "2020-11-05 13:25:06,816;aequilibrae;INFO ; 213,1.946886523134968e-05,0.0015226240385272684\n",
      "2020-11-05 13:25:06,935;aequilibrae;INFO ; 214,2.0079376880808664e-05,0.0018330608352723214\n",
      "2020-11-05 13:25:07,048;aequilibrae;INFO ; 215,1.5969208231835152e-05,0.000595987497458949\n",
      "2020-11-05 13:25:07,180;aequilibrae;INFO ; 216,1.2595509373726027e-05,0.0015625646072488807\n",
      "2020-11-05 13:25:07,298;aequilibrae;INFO ; 217,1.4811848518998612e-05,0.0007551064969334643\n",
      "2020-11-05 13:25:07,410;aequilibrae;INFO ; 218,1.4091521259661998e-05,0.0010225287342495051\n",
      "2020-11-05 13:25:07,537;aequilibrae;INFO ; 219,1.250610132891745e-05,0.0008866672341896787\n",
      "2020-11-05 13:25:07,669;aequilibrae;INFO ; 220,1.3809138156742322e-05,0.0011727144709096728\n",
      "2020-11-05 13:25:07,785;aequilibrae;INFO ; 221,1.3566482738389376e-05,0.0011413865646315768\n",
      "2020-11-05 13:25:07,915;aequilibrae;INFO ; 222,1.2473942290527679e-05,0.0017443439072858482\n",
      "2020-11-05 13:25:08,037;aequilibrae;INFO ; 223,1.8662246345813643e-05,0.0020350511012834694\n",
      "2020-11-05 13:25:08,172;aequilibrae;INFO ; 224,2.194522602599328e-05,0.0037933942785975745\n",
      "2020-11-05 13:25:08,297;aequilibrae;INFO ; 225,2.0726296803687582e-05,0.0041242449216903265\n",
      "2020-11-05 13:25:08,423;aequilibrae;INFO ; 226,2.4180482552318666e-05,0.004013367998893284\n",
      "2020-11-05 13:25:08,542;aequilibrae;INFO ; 227,2.0705539116798834e-05,0.004301550096656371\n",
      "2020-11-05 13:25:08,661;aequilibrae;INFO ; 228,1.5803946890397563e-05,0.0027020211835222956\n",
      "2020-11-05 13:25:08,785;aequilibrae;INFO ; 229,1.9785783328780653e-05,0.006021563787393316\n",
      "2020-11-05 13:25:08,904;aequilibrae;INFO ; 230,2.0996296390865244e-05,0.005061776927518221\n",
      "2020-11-05 13:25:09,030;aequilibrae;INFO ; 231,2.4069626419561082e-05,0.002772721020296487\n",
      "2020-11-05 13:25:09,142;aequilibrae;INFO ; 232,2.3512013592291055e-05,0.00614140045434045\n",
      "2020-11-05 13:25:09,264;aequilibrae;INFO ; 233,3.185103198362651e-05,0.01904810001916895\n",
      "2020-11-05 13:25:09,398;aequilibrae;INFO ; 234,4.701205119270163e-05,0.017810202487627838\n",
      "2020-11-05 13:25:09,522;aequilibrae;INFO ; 235,4.2211505600157166e-05,0.010525588896755936\n",
      "2020-11-05 13:25:09,644;aequilibrae;INFO ; 236,3.781902717998239e-05,0.027731592098895787\n",
      "2020-11-05 13:25:09,769;aequilibrae;INFO ; 237,5.101929849490015e-05,0.023271013681801556\n",
      "2020-11-05 13:25:09,902;aequilibrae;INFO ; 238,3.707166449466228e-05,0.006949940744125813\n",
      "2020-11-05 13:25:10,022;aequilibrae;INFO ; 239,3.205949752807869e-05,0.016172380918264576\n",
      "2020-11-05 13:25:10,134;aequilibrae;INFO ; 240,3.971591485544267e-05,0.017327218855088627\n",
      "2020-11-05 13:25:10,251;aequilibrae;INFO ; 241,4.7877313622859124e-05,0.013306018188573932\n",
      "2020-11-05 13:25:10,372;aequilibrae;INFO ; 242,4.3557178595507425e-05,0.030743363029893687\n",
      "2020-11-05 13:25:10,488;aequilibrae;INFO ; 243,5.323236229953982e-05,0.018554046728322535\n",
      "2020-11-05 13:25:10,616;aequilibrae;INFO ; 244,4.556727440947367e-05,0.015457289695457661\n",
      "2020-11-05 13:25:10,741;aequilibrae;INFO ; 245,4.59839461247651e-05,0.021728205175834167\n",
      "2020-11-05 13:25:10,872;aequilibrae;INFO ; 246,5.708348217454535e-05,0.02357854456386549\n",
      "2020-11-05 13:25:10,990;aequilibrae;INFO ; 247,5.01100842456559e-05,0.012180318469737479\n",
      "2020-11-05 13:25:11,121;aequilibrae;INFO ; 248,3.4507794363420854e-05,0.015760295214957323\n",
      "2020-11-05 13:25:11,245;aequilibrae;INFO ; 249,3.657172818720299e-05,0.022820540950192758\n",
      "2020-11-05 13:25:11,373;aequilibrae;INFO ; 250,4.477314156615975e-05,0.030209686708052096\n",
      "2020-11-05 13:25:11,494;aequilibrae;INFO ; 251,4.1431298116391894e-05,0.038086427825243026\n",
      "2020-11-05 13:25:11,646;aequilibrae;INFO ; 252,6.418774513116598e-05,0.10486714748377345\n",
      "2020-11-05 13:25:11,778;aequilibrae;INFO ; 253,5.331842532763197e-05,0.07367355081957297\n",
      "2020-11-05 13:25:11,901;aequilibrae;INFO ; 254,7.13492630059791e-05,0.04231708713014339\n",
      "2020-11-05 13:25:12,037;aequilibrae;INFO ; 255,5.26813766483336e-05,0.03637896369637311\n",
      "2020-11-05 13:25:12,170;aequilibrae;INFO ; 256,5.0541702303846625e-05,0.02075586700643153\n",
      "2020-11-05 13:25:12,292;aequilibrae;INFO ; 257,6.0984341235020245e-05,0.03613584327076779\n",
      "2020-11-05 13:25:12,406;aequilibrae;INFO ; 258,6.321383086716647e-05,0.047225281203960454\n",
      "2020-11-05 13:25:12,533;aequilibrae;INFO ; 259,6.188647351864448e-05,0.034222827693092935\n",
      "2020-11-05 13:25:12,657;aequilibrae;INFO ; 260,5.0948192315041646e-05,0.03209638319949746\n",
      "2020-11-05 13:25:12,788;aequilibrae;INFO ; 261,4.911994145512217e-05,0.09697236678651126\n",
      "2020-11-05 13:25:12,912;aequilibrae;INFO ; 262,6.946002854802968e-05,0.09229527725407838\n",
      "2020-11-05 13:25:13,037;aequilibrae;INFO ; 263,6.302044932352475e-05,0.06262171461721272\n",
      "2020-11-05 13:25:13,163;aequilibrae;INFO ; 264,5.6367011879867686e-05,0.05729044451642175\n",
      "2020-11-05 13:25:13,351;aequilibrae;INFO ; 265,4.886656149764523e-05,0.04692833966147859\n",
      "2020-11-05 13:25:13,473;aequilibrae;INFO ; 266,4.186983903508306e-05,0.036618430880191365\n",
      "2020-11-05 13:25:13,636;aequilibrae;INFO ; 267,4.4100379247998634e-05,0.023697838326319595\n",
      "2020-11-05 13:25:13,747;aequilibrae;INFO ; 268,4.167571146166895e-05,0.02087921448044725\n",
      "2020-11-05 13:25:13,880;aequilibrae;INFO ; 269,5.443153493744652e-05,0.05710626160741918\n",
      "2020-11-05 13:25:14,000;aequilibrae;INFO ; 270,4.92970473886204e-05,0.049235291635959876\n",
      "2020-11-05 13:25:14,126;aequilibrae;INFO ; 271,5.3665908422658435e-05,0.07692528049646266\n",
      "2020-11-05 13:25:14,266;aequilibrae;INFO ; 272,5.228831823149902e-05,0.05423831578161879\n",
      "2020-11-05 13:25:14,408;aequilibrae;INFO ; 273,4.790041606953035e-05,0.04764691425592691\n",
      "2020-11-05 13:25:14,539;aequilibrae;INFO ; 274,4.022393375011476e-05,0.02202874741265062\n",
      "2020-11-05 13:25:14,649;aequilibrae;INFO ; 275,3.717412926497076e-05,0.01925806122983038\n",
      "2020-11-05 13:25:14,776;aequilibrae;INFO ; 276,3.841767041093586e-05,0.016525473855634392\n"
     ]
    },
    {
     "name": "stdout",
     "output_type": "stream",
     "text": [
      "2020-11-05 13:25:14,914;aequilibrae;INFO ; 277,2.9966875872385603e-05,0.021002210019704655\n",
      "2020-11-05 13:25:15,043;aequilibrae;INFO ; 278,3.24499043975059e-05,0.018909127931611078\n",
      "2020-11-05 13:25:15,173;aequilibrae;INFO ; 279,2.8050845749102548e-05,0.017710297185284513\n",
      "2020-11-05 13:25:15,298;aequilibrae;INFO ; 280,2.4196857249724538e-05,0.0188922172321996\n",
      "2020-11-05 13:25:15,426;aequilibrae;INFO ; 281,2.307059317034514e-05,0.01564388823299164\n",
      "2020-11-05 13:25:15,546;aequilibrae;INFO ; 282,2.2653998539414784e-05,0.011255192001970726\n",
      "2020-11-05 13:25:15,672;aequilibrae;INFO ; 283,1.7973505705490174e-05,0.01252550489226385\n",
      "2020-11-05 13:25:15,806;aequilibrae;INFO ; 284,2.1714898982816563e-05,0.0069181137671650425\n",
      "2020-11-05 13:25:15,926;aequilibrae;INFO ; 285,1.8952015353933952e-05,0.010148948817191134\n",
      "2020-11-05 13:25:16,050;aequilibrae;INFO ; 286,2.2654157539284674e-05,0.010247931539508384\n",
      "2020-11-05 13:25:16,174;aequilibrae;INFO ; 287,1.7310364969216597e-05,0.005539647000988024\n",
      "2020-11-05 13:25:16,311;aequilibrae;INFO ; 288,1.100964466880067e-05,0.004150398455851508\n",
      "2020-11-05 13:25:16,427;aequilibrae;INFO ; 289,1.3892064128829708e-05,0.005768875580029753\n",
      "2020-11-05 13:25:16,557;aequilibrae;INFO ; 290,1.5015496210685591e-05,0.005898113868360652\n",
      "2020-11-05 13:25:16,679;aequilibrae;INFO ; 291,1.885937404445766e-05,0.006263402654607307\n",
      "2020-11-05 13:25:16,811;aequilibrae;INFO ; 292,1.7431554422995696e-05,0.004287676838174564\n",
      "2020-11-05 13:25:16,938;aequilibrae;INFO ; 293,1.3772755034623366e-05,0.006996423850289289\n",
      "2020-11-05 13:25:17,055;aequilibrae;INFO ; 294,1.848003224642377e-05,0.004750826222165653\n",
      "2020-11-05 13:25:17,173;aequilibrae;INFO ; 295,1.4447354505967161e-05,0.0030790301385997336\n",
      "2020-11-05 13:25:17,290;aequilibrae;INFO ; 296,1.1039979148186668e-05,0.0033305466031185353\n",
      "2020-11-05 13:25:17,402;aequilibrae;INFO ; 297,1.1168213756582146e-05,0.0013884764692054144\n",
      "2020-11-05 13:25:17,519;aequilibrae;INFO ; 298,9.29467755822513e-06,0.0026941420883833454\n",
      "2020-11-05 13:25:17,639;aequilibrae;INFO ; 299,1.2160115986137753e-05,0.0038913009508499226\n",
      "2020-11-05 13:25:17,750;aequilibrae;INFO ; 300,1.3009268729450043e-05,0.006416317897176248\n",
      "2020-11-05 13:25:17,877;aequilibrae;INFO ; 301,1.6218628729330744e-05,0.005022186336759215\n",
      "2020-11-05 13:25:18,006;aequilibrae;INFO ; 302,1.2989910294902362e-05,0.00519157919891107\n",
      "2020-11-05 13:25:18,128;aequilibrae;INFO ; 303,1.2029630205907309e-05,0.0025734234757317253\n",
      "2020-11-05 13:25:18,250;aequilibrae;INFO ; 304,1.0041513310464905e-05,0.0031963349669823144\n",
      "2020-11-05 13:25:18,362;aequilibrae;INFO ; 305,1.1174616296226316e-05,0.004263484795459655\n",
      "2020-11-05 13:25:18,495;aequilibrae;INFO ; 306,8.742849516901906e-06,0.002549015867616693\n",
      "2020-11-05 13:25:18,498;aequilibrae;INFO ; bfw Assignment finished. 306 iterations and 8.742849516901906e-06 final gap\n"
     ]
    }
   ],
   "source": [
    "# Let's use the IPF matrix\n",
    "demand = AequilibraeMatrix()\n",
    "demand.load(join(fldr, frcst_fldr, 'demand_ipf.omx'))\n",
    "demand.computational_view() # There is only one matrix there, so don;t even worry about its core name\n",
    "\n",
    "assig = TrafficAssignment()\n",
    "\n",
    "# Creates the assignment class\n",
    "assigclass = TrafficClass(graph, demand)\n",
    "\n",
    "# The first thing to do is to add at list of traffic classes to be assigned\n",
    "assig.set_classes([assigclass])\n",
    "\n",
    "assig.set_vdf(\"BPR\")  # This is not case-sensitive # Then we set the volume delay function\n",
    "\n",
    "assig.set_vdf_parameters({\"alpha\": \"b\", \"beta\": \"power\"}) # And its parameters\n",
    "\n",
    "assig.set_capacity_field(\"capacity\") # The capacity and free flow travel times as they exist in the graph\n",
    "assig.set_time_field(\"free_flow_time\")\n",
    "\n",
    "# And the algorithm we want to use to assign\n",
    "assig.set_algorithm('bfw')\n",
    "\n",
    "# since I haven't checked the parameters file, let's make sure convergence criteria is good\n",
    "assig.max_iter = 1000\n",
    "assig.rgap_target = 0.001\n",
    "\n",
    "assig.execute() # we then execute the assignment"
   ]
  },
  {
   "cell_type": "code",
   "execution_count": 43,
   "metadata": {
    "pycharm": {
     "is_executing": false
    }
   },
   "outputs": [],
   "source": [
    "\n",
    "# The link flows are easy to export.\n",
    "# we do so for csv and AequilibraEData\n",
    "assigclass.results.save_to_disk(join(fldr, ftr_fldr, 'future_link_flows_c.csv'), output=\"loads\")\n",
    "assigclass.results.save_to_disk(join(fldr, ftr_fldr, 'future_link_flows_c.aed'), output=\"loads\")\n",
    "\n",
    "# the skims are easy to get.\n",
    "\n",
    "# The blended one are here\n",
    "avg_skims = assigclass.results.skims\n",
    "\n",
    "# The ones for the last iteration are here\n",
    "last_skims = assigclass._aon_results.skims\n",
    "\n",
    "# Assembling a single final skim file can be done like this\n",
    "# We will want only the time for the last iteration and the distance averaged out for all iterations\n",
    "kwargs = {'file_name': join(fldr,ftr_fldr, 'future_skims.aem'),\n",
    "          'zones': graph.num_zones,\n",
    "          'matrix_names': ['time_final', 'distance_blended']}\n",
    "\n",
    "# Create the matrix file\n",
    "out_skims = AequilibraeMatrix()\n",
    "out_skims.create_empty(**kwargs)\n",
    "out_skims.index[:] = avg_skims.index[:]\n",
    "\n",
    "# Transfer the data\n",
    " # The names of the skims are the name of the fields\n",
    "out_skims.matrix['time_final'][:,:] = last_skims.matrix['free_flow_time'][:,:]\n",
    "# It is CRITICAL to assign the matrix values using the [:,:]\n",
    "out_skims.matrix['distance_blended'][:,:] = avg_skims.matrix['distance'][:,:]\n",
    "\n",
    "out_skims.matrices.flush() # Make sure that all data went to the disk\n",
    "\n",
    "# Export to OMX as well\n",
    "out_skims.export(join(fldr,ftr_fldr, 'future_skims.omx'))\n"
   ]
  }
 ],
 "metadata": {
  "kernelspec": {
   "display_name": "Python 3",
   "language": "python",
   "name": "python3"
  },
  "language_info": {
   "codemirror_mode": {
    "name": "ipython",
    "version": 3
   },
   "file_extension": ".py",
   "mimetype": "text/x-python",
   "name": "python",
   "nbconvert_exporter": "python",
   "pygments_lexer": "ipython3",
   "version": "3.7.4"
  },
  "pycharm": {
   "stem_cell": {
    "cell_type": "raw",
    "metadata": {
     "collapsed": false
    },
    "source": []
   }
  }
 },
 "nbformat": 4,
 "nbformat_minor": 4
}
